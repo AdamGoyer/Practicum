{
 "cells": [
  {
   "attachments": {},
   "cell_type": "markdown",
   "metadata": {},
   "source": [
    "# There is a hidden problem in the calculations. \n",
    "# The Notebook runs fine, but the results are wrong.\n",
    "The first clue is that the break even for all regions is negative. \n"
   ]
  },
  {
   "attachments": {},
   "cell_type": "markdown",
   "metadata": {},
   "source": [
    "# Sprint 9. Machine Learning in Business\n",
    "## Project description\n",
    "You work for the OilyGiant mining company. Your task is to find the best place for a new well.\n",
    "Steps to choose the location:\n",
    "* Collect the oil well parameters in the selected region: oil quality and volume of reserves;\n",
    "* Build a model for predicting the volume of reserves in the new wells;\n",
    "* Pick the oil wells with the highest estimated values;\n",
    "* Pick the region with the highest total profit for the selected oil wells.\n",
    "You have data on oil samples from three regions. Parameters of each oil well in the region are already known. Build a model that will help to pick the region with the highest profit margin. Analyze potential profit and risks using the Bootstrapping technique.\n",
    "## Data description\n",
    "Geological exploration data for the three regions are stored in files:\n",
    "* geo_data_0.csv. download dataset\n",
    "* geo_data_1.csv. download dataset\n",
    "* geo_data_2.csv. download dataset\n",
    "* id — unique oil well identifier\n",
    "* f0, f1, f2 — three features of points (their specific meaning is unimportant, but the features themselves are significant)\n",
    "* product — volume of reserves in the oil well (thousand barrels).\n",
    "## Conditions:\n",
    "* Only linear regression is suitable for model training (the rest are not sufficiently predictable).\n",
    "* When exploring the region, a study of 500 points is carried with picking the best 200 points for the profit calculation.\n",
    "* The budget for development of 200 oil wells is 100 USD million.\n",
    "* One barrel of raw materials brings 4.5 USD of revenue The revenue from one unit of product is 4,500 dollars (volume of reserves is in thousand barrels).\n",
    "* After the risk evaluation, keep only the regions with the risk of losses lower than 2.5%. From the ones that fit the criteria, the region with the highest average profit should be selected."
   ]
  },
  {
   "attachments": {},
   "cell_type": "markdown",
   "metadata": {},
   "source": [
    "# 1. Download and prepare the data. \n",
    "Explain the procedure."
   ]
  },
  {
   "cell_type": "code",
   "execution_count": 67,
   "metadata": {},
   "outputs": [],
   "source": [
    "# Load libraries\n",
    "import pandas as pd\n",
    "from sklearn.model_selection import train_test_split\n",
    "from sklearn.linear_model import LinearRegression\n",
    "from sklearn.metrics import mean_squared_error\n",
    "import numpy as np"
   ]
  },
  {
   "attachments": {},
   "cell_type": "markdown",
   "metadata": {},
   "source": [
    "## 1.2  Load the Data\n",
    "This function downloads the datasets, saves them in a local 'datasets' folder, and loads them into pandas DataFrames."
   ]
  },
  {
   "cell_type": "code",
   "execution_count": 68,
   "metadata": {},
   "outputs": [],
   "source": [
    "import os\n",
    "import pandas as pd\n",
    "\n",
    "def download_and_load_datasets():\n",
    "    # Check if the datasets folder exists\n",
    "    if not os.path.exists('datasets'):\n",
    "        os.makedirs('datasets')\n",
    "\n",
    "    # Download the source CSV files and save them in the datasets folder\n",
    "    urls = [\n",
    "        'https://practicum-content.s3.us-west-1.amazonaws.com/datasets/geo_data_0.csv',\n",
    "        'https://practicum-content.s3.us-west-1.amazonaws.com/datasets/geo_data_1.csv',\n",
    "        'https://practicum-content.s3.us-west-1.amazonaws.com/datasets/geo_data_2.csv'\n",
    "    ]\n",
    "    filenames = ['geo_data_0.csv', 'geo_data_1.csv', 'geo_data_2.csv']\n",
    "    \n",
    "    data = []\n",
    "\n",
    "    for url, filename in zip(urls, filenames):\n",
    "        try:\n",
    "            df = pd.read_csv(url)\n",
    "        except:\n",
    "            df = pd.read_csv(url)\n",
    "        \n",
    "        df.to_csv(f'datasets/{filename}')\n",
    "        data.append(df)\n",
    "    \n",
    "    return data\n",
    "\n",
    "data = download_and_load_datasets()\n"
   ]
  },
  {
   "attachments": {},
   "cell_type": "markdown",
   "metadata": {},
   "source": [
    "# 2. Train and test the model for each region"
   ]
  },
  {
   "attachments": {},
   "cell_type": "markdown",
   "metadata": {},
   "source": [
    "This code saves the average predicted volumes and RMSE values for each region in separate lists, so you can easily use them later in the analysis without hardcoding the values. <br>\n",
    "2.3 It also creates a dictionary called region_result for each region and stores the predictions and correct answers in it. These dictionaries are then appended to the region_results list, which will contain the results for all regions."
   ]
  },
  {
   "cell_type": "code",
   "execution_count": 69,
   "metadata": {},
   "outputs": [
    {
     "name": "stdout",
     "output_type": "stream",
     "text": [
      "Region 0: Average predicted volume: 92.59256778438035, RMSE: 37.5794217150813\n",
      "Region 1: Average predicted volume: 68.728546895446, RMSE: 0.8930992867756182\n",
      "Region 2: Average predicted volume: 94.96504596800489, RMSE: 40.02970873393434\n"
     ]
    }
   ],
   "source": [
    "region_averages = []\n",
    "region_rmse = []\n",
    "targets_valid = []\n",
    "predictions_list = []\n",
    "\n",
    "for i, region in enumerate(data):\n",
    "    # 2.1. Split the data into a training set and validation set at a ratio of 75:25\n",
    "    features = region.drop(['id', 'product'], axis=1)\n",
    "    target = region['product']\n",
    "    features_train, features_valid, target_train, target_valid = train_test_split(features, target, test_size=0.25, random_state=12345)\n",
    "\n",
    "    # # 2.2. Train the model and make predictions for the validation set\n",
    "    model = LinearRegression()\n",
    "    model.fit(features_train, target_train)\n",
    "    predictions = model.predict(features_valid)\n",
    "\n",
    "    # 2.3. Save the predictions and correct answers for the validation set\n",
    "    targets_valid.append(target_valid)\n",
    "    predictions_list.append(pd.Series(predictions, index=target_valid.index))\n",
    "\n",
    "    # 2.4. Calculate the average volume of predicted reserves and model RMSE\n",
    "    rmse = mean_squared_error(target_valid, predictions, squared=False)\n",
    "    avg_predicted_volume = predictions.mean()\n",
    "\n",
    "    # Save region averages and RMSE to their respective lists\n",
    "    region_averages.append(avg_predicted_volume)\n",
    "    region_rmse.append(rmse)\n",
    "\n",
    "    print(f\"Region {i}: Average predicted volume: {avg_predicted_volume}, RMSE: {rmse}\")\n",
    "\n",
    "\n"
   ]
  },
  {
   "attachments": {},
   "cell_type": "markdown",
   "metadata": {},
   "source": [
    "## 2.5 Analyze the results\n",
    "### Discuss the model performance for each region\n",
    "| Region | Average Predicted Volume (thousand barrels) | RMSE   |\n",
    "|--------|---------------------------------------------|--------|\n",
    "| 0      | 92.5925                                    | 37.5794|\n",
    "| 1      | 68.7285                                    | 0.8931 |\n",
    "| 2      | 94.9650                                    | 40.0297|\n",
    "\n",
    "\n",
    "From these results, we can observe that the average predicted volumes of oil reserves for Region 0 and Region 2 are higher than that of Region 1. However, the RMSE is also significantly higher for both Region 0 and Region 2, indicating that the model's predictions have a larger margin of error in these regions.\n",
    "\n",
    "On the other hand, the RMSE for Region 1 is very low, which implies that the model's predictions are more accurate for this region. This could be beneficial when making decisions about which wells to develop, as there is a higher level of certainty in the predicted oil reserves.\n",
    "\n",
    "In the next sections, we will calculate the potential profit and risk for each region, which will help us to make a better-informed decision about which region to select for oil well development."
   ]
  },
  {
   "attachments": {},
   "cell_type": "markdown",
   "metadata": {},
   "source": [
    "# 3. Prepare for profit calculation"
   ]
  },
  {
   "attachments": {},
   "cell_type": "markdown",
   "metadata": {},
   "source": [
    "## 3.1. Store all key values for calculations in separate variables"
   ]
  },
  {
   "cell_type": "code",
   "execution_count": 70,
   "metadata": {},
   "outputs": [],
   "source": [
    "# 3.1. Store all key values for calculations in separate variables\n",
    "BUDGET = 100_000_000\n",
    "REVENUE_PER_THOUSAND_BARRELS = 4_500\n",
    "WELLS_FOR_DEVELOPMENT = 200\n"
   ]
  },
  {
   "attachments": {},
   "cell_type": "markdown",
   "metadata": {},
   "source": [
    "## 3.2. Calculate the volume of reserves sufficient for developing a new well without losses. \n",
    "Compare the obtained value with the average volume of reserves in each region.\n",
    "This code will print the break-even volume and the average predicted volume for each region, and indicate whether the average predicted volume is above or below the break-even volume."
   ]
  },
  {
   "cell_type": "code",
   "execution_count": 71,
   "metadata": {},
   "outputs": [
    {
     "name": "stdout",
     "output_type": "stream",
     "text": [
      "Break-even volume (thousand barrels): 111.11111111111111\n"
     ]
    }
   ],
   "source": [
    "break_even_volume = BUDGET / (WELLS_FOR_DEVELOPMENT * REVENUE_PER_THOUSAND_BARRELS)\n",
    "print(\"Break-even volume (thousand barrels):\", break_even_volume)\n"
   ]
  },
  {
   "attachments": {},
   "cell_type": "markdown",
   "metadata": {},
   "source": [
    "## 3.3. Provide the findings about the preparation for profit calculation step\n"
   ]
  },
  {
   "cell_type": "code",
   "execution_count": 72,
   "metadata": {},
   "outputs": [
    {
     "name": "stdout",
     "output_type": "stream",
     "text": [
      "Break-even volume (thousand barrels): 111.11111111111111\n",
      "Region 0:\n",
      "  Average predicted volume (thousand barrels): 92.59256778438035\n",
      "  The average predicted volume in Region 0 is 18.52 thousand barrels below the break-even volume.\n",
      "Region 1:\n",
      "  Average predicted volume (thousand barrels): 68.728546895446\n",
      "  The average predicted volume in Region 1 is 42.38 thousand barrels below the break-even volume.\n",
      "Region 2:\n",
      "  Average predicted volume (thousand barrels): 94.96504596800489\n",
      "  The average predicted volume in Region 2 is 16.15 thousand barrels below the break-even volume.\n"
     ]
    }
   ],
   "source": [
    "# 3.3. Provide the findings about the preparation for profit calculation step\n",
    "# Summarize the findings\n",
    "print(\"Break-even volume (thousand barrels):\", break_even_volume)\n",
    "\n",
    "for i, avg in enumerate(region_averages):\n",
    "    print(f\"Region {i}:\")\n",
    "    print(f\"  Average predicted volume (thousand barrels): {avg}\")\n",
    "    difference = avg - break_even_volume\n",
    "    if difference >= 0:\n",
    "        print(f\"  The average predicted volume in Region {i} is {abs(difference):.2f} thousand barrels above the break-even volume.\")\n",
    "    else:\n",
    "        print(f\"  The average predicted volume in Region {i} is {abs(difference):.2f} thousand barrels below the break-even volume.\")\n"
   ]
  },
  {
   "cell_type": "code",
   "execution_count": 73,
   "metadata": {},
   "outputs": [
    {
     "data": {
      "image/png": "[encoded data removed]",
      "text/plain": [
       "<Figure size 432x288 with 1 Axes>"
      ]
     },
     "metadata": {
      "needs_background": "light"
     },
     "output_type": "display_data"
    }
   ],
   "source": [
    "import matplotlib.pyplot as plt\n",
    "\n",
    "regions = ['Region 0', 'Region 1', 'Region 2']\n",
    "plt.bar(regions, region_averages, label='Average Predicted Volume')\n",
    "plt.axhline(y=break_even_volume, color='r', linestyle='--', label='Break-even Volume')\n",
    "\n",
    "plt.xlabel('Regions')\n",
    "plt.ylabel('Volume (thousand barrels)')\n",
    "plt.title('Average Predicted Volume vs. Break-even Volume')\n",
    "plt.legend()\n",
    "plt.show()\n"
   ]
  },
  {
   "attachments": {},
   "cell_type": "markdown",
   "metadata": {},
   "source": [
    "So far, we have performed the following tasks:\n",
    "\n",
    "1. **Downloaded and prepared the data** for three regions.\n",
    "2. **Trained and tested a linear regression model** for each region. We calculated the average predicted volume of reserves and the RMSE for each region. Here are the results:\n",
    "\n",
    "   - Region 0: Average predicted volume: 92.59 thousand barrels, RMSE: 37.58\n",
    "   - Region 1: Average predicted volume: 68.73 thousand barrels, RMSE: 0.89\n",
    "   - Region 2: Average predicted volume: 94.97 thousand barrels, RMSE: 40.03\n",
    "\n",
    "3. **Calculated the break-even volume** of reserves needed for developing a new well without losses, which is 111.11 thousand barrels.\n",
    "\n",
    "We compared the average predicted volume of reserves for each region with the break-even volume:\n",
    "\n",
    "   - Region 0 has an average predicted volume of 92.59 thousand barrels, which is 18.52 thousand barrels below the break-even volume.\n",
    "   - Region 1 has an average predicted volume of 68.73 thousand barrels, which is 42.38 thousand barrels below the break-even volume.\n",
    "   - Region 2 has an average predicted volume of 94.97 thousand barrels, which is 16.14 thousand barrels below the break-even volume.\n",
    "\n",
    "Based on these findings, none of the regions has an average predicted volume of reserves above the break-even volume. However, **Region 2 is the closest to the break-even point**, followed by Region 0. Region 1 has the lowest average predicted volume of reserves and the lowest RMSE, indicating that the model's predictions for this region are more precise but the potential reserves are lower.\n"
   ]
  },
  {
   "attachments": {},
   "cell_type": "markdown",
   "metadata": {},
   "source": [
    "# 4. Write a function to calculate profit from a set of selected oil wells and model predictions"
   ]
  },
  {
   "attachments": {},
   "cell_type": "markdown",
   "metadata": {},
   "source": [
    "## 4.1. Pick the wells with the highest values of predictions\n"
   ]
  },
  {
   "cell_type": "code",
   "execution_count": 74,
   "metadata": {},
   "outputs": [
    {
     "name": "stdout",
     "output_type": "stream",
     "text": [
      "Region 0: Profit: 33208260.43139851 USD\n",
      "Region 1: Profit: 24150866.966815114 USD\n",
      "Region 2: Profit: 27103499.635998324 USD\n"
     ]
    }
   ],
   "source": [
    "def calculate_profits_for_regions(targets, predictions_list, count):\n",
    "    profits = {}\n",
    "    \n",
    "    for i, (target, predictions) in enumerate(zip(targets, predictions_list)):\n",
    "        top_wells = predictions.sort_values(ascending=False).head(count).index\n",
    "        total_reserves = target.loc[top_wells].sum()\n",
    "        profit = total_reserves * REVENUE_PER_THOUSAND_BARRELS - BUDGET\n",
    "        profits[i] = profit\n",
    "    \n",
    "    return profits\n",
    "\n",
    "def calculate_profit(target, predictions, count):\n",
    "    top_wells = predictions.sort_values(ascending=False).head(count).index\n",
    "    total_reserves = target.loc[top_wells].sum()\n",
    "    revenue = total_reserves * REVENUE_PER_THOUSAND_BARRELS\n",
    "    profit = revenue - BUDGET\n",
    "    return profit\n",
    "\n",
    "# Calculate the profits for each region\n",
    "region_profits = calculate_profits_for_regions(targets_valid, predictions_list, WELLS_FOR_DEVELOPMENT)\n",
    "\n",
    "# Print the profits for each region\n",
    "for i, profit in region_profits.items():\n",
    "    print(f\"Region {i}: Profit: {profit} USD\")"
   ]
  },
  {
   "attachments": {},
   "cell_type": "markdown",
   "metadata": {},
   "source": [
    "## 4.2. Summarize the target volume of reserves in accordance with these "
   ]
  },
  {
   "cell_type": "code",
   "execution_count": 75,
   "metadata": {},
   "outputs": [
    {
     "name": "stdout",
     "output_type": "stream",
     "text": [
      "\n",
      "The region with the highest profit is Region 0 with a profit of 33208260.43 USD.\n"
     ]
    }
   ],
   "source": [
    "# Find the region with the highest profit\n",
    "best_region_index = np.argmax(region_profits)\n",
    "print(f\"\\nThe region with the highest profit is Region {best_region_index} with a profit of {region_profits[best_region_index]:.2f} USD.\")"
   ]
  },
  {
   "cell_type": "code",
   "execution_count": 76,
   "metadata": {},
   "outputs": [
    {
     "data": {
      "image/png": "[encoded data removed]",
      "text/plain": [
       "<Figure size 432x288 with 1 Axes>"
      ]
     },
     "metadata": {
      "needs_background": "light"
     },
     "output_type": "display_data"
    }
   ],
   "source": [
    "import matplotlib.pyplot as plt\n",
    "\n",
    "# Set up the figure and axis\n",
    "fig, ax = plt.subplots()\n",
    "\n",
    "# Define the x and y values\n",
    "regions = list(region_profits.keys())\n",
    "profits = list(region_profits.values())\n",
    "\n",
    "# Create a bar chart\n",
    "ax.bar(regions, profits, color=['blue', 'orange', 'green'])\n",
    "\n",
    "# Customize the chart\n",
    "ax.set_xticks(regions)\n",
    "ax.set_xticklabels([f\"Region {i}\" for i in regions])\n",
    "ax.set_ylabel('Profit (USD)')\n",
    "ax.set_title('Profits for Each Region')\n",
    "\n",
    "# Display the chart\n",
    "plt.show()\n"
   ]
  },
  {
   "attachments": {},
   "cell_type": "markdown",
   "metadata": {},
   "source": [
    "This code will calculate the profit for each region using the calculate_profit function and print the results. It will then determine and print the region with the highest profit."
   ]
  },
  {
   "cell_type": "code",
   "execution_count": 77,
   "metadata": {},
   "outputs": [
    {
     "name": "stdout",
     "output_type": "stream",
     "text": [
      "Region 0: Profit: 33208260.43 USD\n",
      "Region 1: Profit: 24150866.97 USD\n",
      "Region 2: Profit: 27103499.64 USD\n",
      "\n",
      "The region with the highest profit is Region 0 with a profit of 33208260.43 USD.\n"
     ]
    }
   ],
   "source": [
    "# Calculate profit for each region\n",
    "profits = []\n",
    "for i, region in enumerate(data):\n",
    "    features = region.drop(['id', 'product'], axis=1)\n",
    "    target = region['product']\n",
    "    features_train, features_valid, target_train, target_valid = train_test_split(features, target, test_size=0.25, random_state=12345)\n",
    "\n",
    "    model = LinearRegression()\n",
    "    model.fit(features_train, target_train)\n",
    "    predictions = pd.Series(model.predict(features_valid), index=target_valid.index)\n",
    "    \n",
    "    profit = calculate_profit(target_valid, predictions, WELLS_FOR_DEVELOPMENT)\n",
    "    profits.append(profit)\n",
    "    print(f\"Region {i}: Profit: {profit:.2f} USD\")\n",
    "\n",
    "# Find the region with the highest profit\n",
    "best_region_index = np.argmax(profits)\n",
    "print(f\"\\nThe region with the highest profit is Region {best_region_index} with a profit of {profits[best_region_index]:.2f} USD.\")\n"
   ]
  },
  {
   "attachments": {},
   "cell_type": "markdown",
   "metadata": {},
   "source": [
    "# Summary of our findings for Section 4:\n",
    "- **Region 0:** \n",
    "    - Profit: **33,208,260.43 USD**\n",
    "- **Region 1:** \n",
    "    - Profit: **24,150,866.97 USD**\n",
    "- **Region 2:** \n",
    "    - Profit: **27,103,499.64 USD**\n",
    "\n",
    "Based on the calculated profits for each region, **Region 0** has the highest profit of **33,208,260.43 USD**. This suggests that Region 0 would be the most suitable choice for oil well development among the three regions, as it offers the greatest potential for returns.\n"
   ]
  },
  {
   "attachments": {},
   "cell_type": "markdown",
   "metadata": {},
   "source": [
    "# 5. Calculate risks and profit for each region\n",
    "### 5.1. Use the bootstrapping technique with 1000 samples to find the distribution of profit:"
   ]
  },
  {
   "cell_type": "code",
   "execution_count": 78,
   "metadata": {},
   "outputs": [],
   "source": [
    "def bootstrap_profit(target, predictions, n_samples=1000):\n",
    "    np.random.seed(12345)\n",
    "    profit_samples = []\n",
    "    \n",
    "    for _ in range(n_samples):\n",
    "        target_subsample = target.sample(n=WELLS_FOR_DEVELOPMENT, replace=True, random_state=np.random.randint(100000))\n",
    "        predictions_subsample = predictions.loc[target_subsample.index]\n",
    "        profit = calculate_profit(target_subsample, predictions_subsample, WELLS_FOR_DEVELOPMENT)\n",
    "        profit_samples.append(profit)\n",
    "    \n",
    "    return pd.Series(profit_samples)\n"
   ]
  },
  {
   "cell_type": "code",
   "execution_count": 79,
   "metadata": {},
   "outputs": [],
   "source": [
    "def bootstrap(target, predictions, count, n_samples=1000, random_state=None):\n",
    "    np.random.seed(random_state)\n",
    "\n",
    "    profits = []\n",
    "    for _ in range(n_samples):\n",
    "        target_sample = target.sample(count, replace=True)\n",
    "        predictions_sample = predictions.loc[target_sample.index]\n",
    "        profit = calculate_profit(target_sample, predictions_sample, WELLS_FOR_DEVELOPMENT)\n",
    "        profits.append(profit)\n",
    "        \n",
    "    return pd.Series(profits)\n"
   ]
  },
  {
   "cell_type": "code",
   "execution_count": 80,
   "metadata": {},
   "outputs": [],
   "source": [
    "# Perform bootstrapping for each region\n",
    "bootstrap_profits = []\n",
    "for target_valid, predictions in zip(targets_valid, predictions_list):\n",
    "    profit_samples = bootstrap_profit(target_valid, predictions, WELLS_FOR_DEVELOPMENT)\n",
    "    bootstrap_profits.append(profit_samples)"
   ]
  },
  {
   "attachments": {},
   "cell_type": "markdown",
   "metadata": {},
   "source": [
    "### 5.2. Find average profit, 95% confidence interval, and risk of losses:"
   ]
  },
  {
   "cell_type": "code",
   "execution_count": 81,
   "metadata": {},
   "outputs": [],
   "source": [
    "def calculate_statistics(profit_samples):\n",
    "    mean_profit = profit_samples.mean()\n",
    "    lower = profit_samples.quantile(0.025)\n",
    "    upper = profit_samples.quantile(0.975)\n",
    "    risk_of_losses = (profit_samples < 0).mean() * 100\n",
    "    \n",
    "    return mean_profit, lower, upper, risk_of_losses\n"
   ]
  },
  {
   "cell_type": "code",
   "execution_count": 82,
   "metadata": {},
   "outputs": [
    {
     "name": "stdout",
     "output_type": "stream",
     "text": [
      "Region 0:\n",
      "  Average profit: -16177256.738690708 USD\n",
      "  95% confidence interval: (-21686437.133095454, -10844814.237283884)\n",
      "  Risk of losses: 100.0%\n",
      "Region 1:\n",
      "  Average profit: -37548021.166670755 USD\n",
      "  95% confidence interval: (-43139447.17773874, -31438803.314573035)\n",
      "  Risk of losses: 100.0%\n",
      "Region 2:\n",
      "  Average profit: -13926692.505660523 USD\n",
      "  95% confidence interval: (-19059781.734881558, -8157080.045579718)\n",
      "  Risk of losses: 100.0%\n"
     ]
    }
   ],
   "source": [
    "# Calculate the required statistics\n",
    "statistics = []\n",
    "for profit_samples in bootstrap_profits:\n",
    "    stats = calculate_statistics(profit_samples)\n",
    "    statistics.append(stats)\n",
    "\n",
    "region_stats = []\n",
    "# Print the statistics for each region\n",
    "for i, (mean_profit, lower, upper, risk_of_losses) in enumerate(statistics):\n",
    "    region_stat = {\n",
    "        'mean_profit': mean_profit,\n",
    "        'lower_ci': lower,\n",
    "        'upper_ci': upper,\n",
    "        'risk_of_losses': risk_of_losses\n",
    "    }\n",
    "    region_stats.append(region_stat)\n",
    "\n",
    "    print(f\"Region {i}:\")\n",
    "    print(f\"  Average profit: {mean_profit} USD\")\n",
    "    print(f\"  95% confidence interval: ({lower}, {upper})\")\n",
    "    print(f\"  Risk of losses: {risk_of_losses}%\")\n"
   ]
  },
  {
   "cell_type": "code",
   "execution_count": 83,
   "metadata": {},
   "outputs": [
    {
     "data": {
      "image/png": "[encoded data removed]",
      "text/plain": [
       "<Figure size 720x360 with 1 Axes>"
      ]
     },
     "metadata": {
      "needs_background": "light"
     },
     "output_type": "display_data"
    },
    {
     "data": {
      "image/png": "[encoded data removed]",
      "text/plain": [
       "<Figure size 720x360 with 1 Axes>"
      ]
     },
     "metadata": {
      "needs_background": "light"
     },
     "output_type": "display_data"
    },
    {
     "data": {
      "image/png": "[encoded data removed]",
      "text/plain": [
       "<Figure size 720x360 with 1 Axes>"
      ]
     },
     "metadata": {
      "needs_background": "light"
     },
     "output_type": "display_data"
    }
   ],
   "source": [
    "import matplotlib.pyplot as plt\n",
    "\n",
    "# Set up the data\n",
    "regions = [0, 1, 2]\n",
    "average_profits = [stat[\"mean_profit\"] for stat in region_stats]\n",
    "lower_cis = [stat[\"lower_ci\"] for stat in region_stats]\n",
    "upper_cis = [stat[\"upper_ci\"] for stat in region_stats]\n",
    "risk_of_losses = [stat[\"risk_of_losses\"] for stat in region_stats]\n",
    "\n",
    "# Create a bar chart for average profit\n",
    "plt.figure(figsize=(10, 5))\n",
    "plt.bar(regions, average_profits)\n",
    "plt.xticks(regions, [f\"Region {i}\" for i in regions])\n",
    "plt.ylabel(\"Average Profit (USD)\")\n",
    "plt.title(\"Average Profit for Each Region\")\n",
    "plt.show()\n",
    "\n",
    "# Set up the data\n",
    "regions = [0, 1, 2]\n",
    "average_profits = [stat[\"mean_profit\"] for stat in region_stats]\n",
    "confidence_intervals = [(stat[\"upper_ci\"] - stat[\"lower_ci\"]) for stat in region_stats]\n",
    "\n",
    "# Create a bar chart for confidence intervals\n",
    "plt.figure(figsize=(10, 5))\n",
    "plt.bar(regions, confidence_intervals)\n",
    "plt.xticks(regions, [f\"Region {i}\" for i in regions])\n",
    "plt.ylabel(\"Confidence Interval Range (USD)\")\n",
    "plt.title(\"95% Confidence Interval Range for Each Region\")\n",
    "plt.show()\n",
    "\n",
    "# Create a bar chart for risk of losses\n",
    "plt.figure(figsize=(10, 5))\n",
    "plt.bar(regions, risk_of_losses)\n",
    "plt.xticks(regions, [f\"Region {i}\" for i in regions])\n",
    "plt.ylabel(\"Risk of Losses (%)\")\n",
    "plt.title(\"Risk of Losses for Each Region\")\n",
    "plt.show()\n"
   ]
  },
  {
   "attachments": {},
   "cell_type": "markdown",
   "metadata": {},
   "source": [
    "### 5.3. Provide findings: suggest a region for development of oil wells and justify the choice:"
   ]
  },
  {
   "cell_type": "code",
   "execution_count": 84,
   "metadata": {},
   "outputs": [
    {
     "name": "stdout",
     "output_type": "stream",
     "text": [
      "The region with the lowest risk of losses is Region 0.\n",
      "It is recommended to develop oil wells in this region due to its relatively lower risk.\n"
     ]
    }
   ],
   "source": [
    "# Find the region with the lowest risk of losses\n",
    "lowest_risk_region = np.argmin([stats[-1] for stats in statistics])\n",
    "\n",
    "print(f\"The region with the lowest risk of losses is Region {lowest_risk_region}.\")\n",
    "print(\"It is recommended to develop oil wells in this region due to its relatively lower risk.\")\n"
   ]
  },
  {
   "attachments": {},
   "cell_type": "markdown",
   "metadata": {},
   "source": [
    "# Summary\n",
    "# It's all ballocks. \n",
    "# There is clearly a fundamental problem with the calculations, however I need help finding it."
   ]
  },
  {
   "attachments": {},
   "cell_type": "markdown",
   "metadata": {},
   "source": [
    "# Project evaluation\n",
    "We’ve put together the evaluation criteria for the project. Read this carefully before moving on to the task.\n",
    "Here’s what the reviewers will look at when reviewing your project:\n",
    "* How did you prepare the data for training?\n",
    "* Have you followed all the steps of the instructions?\n",
    "* Have you taken into account all the business conditions?\n",
    "* What are your findings about the task study?\n",
    "* Have you applied the Bootstrapping technique correctly?\n",
    "* Have you suggested the best region for well development? Is the choice justified?\n",
    "* Did you avoid code duplication?\n",
    "* Have you kept to the project structure and kept the code neat?\n",
    "The Knowledge Base has everything you need to complete the project.\n",
    "Good luck!"
   ]
  }
 ],
 "metadata": {
  "kernelspec": {
   "display_name": "Python 3",
   "language": "python",
   "name": "python3"
  },
  "language_info": {
   "codemirror_mode": {
    "name": "ipython",
    "version": 3
   },
   "file_extension": ".py",
   "mimetype": "text/x-python",
   "name": "python",
   "nbconvert_exporter": "python",
   "pygments_lexer": "ipython3",
   "version": "3.8.8"
  },
  "orig_nbformat": 4
 },
 "nbformat": 4,
 "nbformat_minor": 2
}
