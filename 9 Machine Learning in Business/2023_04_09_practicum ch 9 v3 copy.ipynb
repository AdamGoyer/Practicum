{
 "cells": [
  {
   "attachments": {},
   "cell_type": "markdown",
   "metadata": {},
   "source": [
    "**Review**\n",
    "\n",
    "Hi, my name is Dmitry and I will be reviewing your project.\n",
    "  \n",
    "You can find my comments in colored markdown cells:\n",
    "  \n",
    "<div class=\"alert alert-success\">\n",
    "  If everything is done successfully.\n",
    "</div>\n",
    "  \n",
    "<div class=\"alert alert-warning\">\n",
    "  If I have some (optional) suggestions, or questions to think about, or general comments.\n",
    "</div>\n",
    "  \n",
    "<div class=\"alert alert-danger\">\n",
    "  If a section requires some corrections. Work can't be accepted with red comments.\n",
    "</div>\n",
    "  \n",
    "Please don't remove my comments, as it will make further review iterations much harder for me.\n",
    "  \n",
    "Feel free to reply to my comments or ask questions using the following template:\n",
    "  \n",
    "<div class=\"alert alert-info\">\n",
    "  For your comments and questions.\n",
    "</div>\n",
    "  \n",
    "First of all, thank you for turning in the project! You did a pretty good job overall, but one unfortunate mistake made the bootstrap profit results incorrect. See comments below for details. Let me know if you have any questions!"
   ]
  },
  {
   "attachments": {},
   "cell_type": "markdown",
   "metadata": {},
   "source": [
    "<div class=\"alert alert-info\">\n",
    "<b>Student's comment</b> <br>\n",
    "<br>\n",
    "Thanks for your help.<br>\n",
    "This project was very interesting and I learned a lot.<br>\n",
    "It was also very frustrating.<br>\n",
    "I started writing unit tests, and wrote and rewrote the bootstrapping functions several times.<br>\n",
    "Finally I went back and tested the changes, and started getting viable outputs.<br>\n",
    "I think I failed to fix a random seed somewhere, consequently the numbers bounce around a bit from run to run.<br>\n",
    "- update - fixed the random_state = 42 <br>\n",
    "Updated some of the end of chapter reports to be auto generated and always up to date.<br>\n",
    "</div>"
   ]
  },
  {
   "attachments": {},
   "cell_type": "markdown",
   "metadata": {},
   "source": [
    "<div class=\"alert alert-warning\">\n",
    "<b>Reviewer's comment V2</b>\n",
    "\n",
    "Dear Adam, thanks for all your hard work, but it seems that my earlier comments were not quite clear, and I'm really sorry if that's the case. I tried to make some clarifications and expand below. Please send back the project and let me know if something is unclear before wasting any more time :)\n",
    "\n",
    "</div>"
   ]
  },
  {
   "attachments": {},
   "cell_type": "markdown",
   "metadata": {},
   "source": [
    "<div class=\"alert alert-info\">\n",
    "<b>Student's comment v2</b> <br>\n",
    "<br>\n",
    "The regional break even negative, and the risk for each region is 0.0%. <br>\n",
    "Similar problems to before, but a completly different implementation. <br>\n",
    "Not sure where my error is. <br>\n",
    "I hope you can help, ty. <br>\n",
    "</div>"
   ]
  },
  {
   "attachments": {},
   "cell_type": "markdown",
   "metadata": {},
   "source": [
    "<div class=\"alert alert-info\">\n",
    "<b>Student's comment v2.1</b> <br>\n",
    "<br>\n",
    "April 8, 2023 <br>\n",
    "There seems to  be user error on my part. I've just now realized this notebook has been sitting here unsubmitted for the last 11 days. Thanks for taking a look and helping me sort this out.<br>\n",
    "</div>"
   ]
  },
  {
   "attachments": {},
   "cell_type": "markdown",
   "metadata": {},
   "source": [
    "<div class=\"alert alert-success\">\n",
    "<b>Reviewer's comment V3</b>\n",
    "\n",
    "Yep, I only received the new version today. You're welcome, but there's still two small corrections needed in the bootstrap function, see comment below\n",
    "\n",
    "</div>"
   ]
  },
  {
   "attachments": {},
   "cell_type": "markdown",
   "metadata": {},
   "source": [
    "# Sprint 9. Machine Learning in Business\n",
    "## Project description\n",
    "You work for the OilyGiant mining company. Your task is to find the best place for a new well.\n",
    "Steps to choose the location:\n",
    "* Collect the oil well parameters in the selected region: oil quality and volume of reserves;\n",
    "* Build a model for predicting the volume of reserves in the new wells;\n",
    "* Pick the oil wells with the highest estimated values;\n",
    "* Pick the region with the highest total profit for the selected oil wells.\n",
    "You have data on oil samples from three regions. Parameters of each oil well in the region are already known. Build a model that will help to pick the region with the highest profit margin. Analyze potential profit and risks using the Bootstrapping technique.\n",
    "## Data description\n",
    "Geological exploration data for the three regions are stored in files:\n",
    "* geo_data_0.csv. download dataset\n",
    "* geo_data_1.csv. download dataset\n",
    "* geo_data_2.csv. download dataset\n",
    "* id — unique oil well identifier\n",
    "* f0, f1, f2 — three features of points (their specific meaning is unimportant, but the features themselves are significant)\n",
    "* product — volume of reserves in the oil well (thousand barrels).\n",
    "## Conditions:\n",
    "* Only linear regression is suitable for model training (the rest are not sufficiently predictable).\n",
    "* When exploring the region, a study of 500 points is carried with picking the best 200 points for the profit calculation.\n",
    "* The budget for development of 200 oil wells is 100 USD million.\n",
    "* One barrel of raw materials brings 4.5 USD of revenue The revenue from one unit of product is 4,500 dollars (volume of reserves is in thousand barrels).\n",
    "* After the risk evaluation, keep only the regions with the risk of losses lower than 2.5%. From the ones that fit the criteria, the region with the highest average profit should be selected."
   ]
  },
  {
   "attachments": {},
   "cell_type": "markdown",
   "metadata": {},
   "source": [
    "# 1. Download and prepare the data. \n",
    "Explain the procedure."
   ]
  },
  {
   "cell_type": "code",
   "execution_count": 1,
   "metadata": {},
   "outputs": [],
   "source": [
    "# !conda install pandas --yes\n",
    "# !conda install scikit-learn --yes\n",
    "# !conda install matplotlib --yes\n",
    "# !conda install seaborn --yes\n"
   ]
  },
  {
   "cell_type": "code",
   "execution_count": 2,
   "metadata": {},
   "outputs": [],
   "source": [
    "# Load libraries\n",
    "import os\n",
    "import random\n",
    "import numpy as np\n",
    "import pandas as pd\n",
    "import matplotlib.pyplot as plt\n",
    "import seaborn as sns\n",
    "from scipy.stats import kde\n",
    "from sklearn.model_selection import train_test_split\n",
    "from sklearn.linear_model import LinearRegression\n",
    "from sklearn.metrics import mean_squared_error"
   ]
  },
  {
   "cell_type": "code",
   "execution_count": 3,
   "metadata": {},
   "outputs": [],
   "source": [
    "# Fix the random seeds\n",
    "random_seed = 42\n",
    "np.random.seed(random_seed)\n",
    "random.seed(random_seed)"
   ]
  },
  {
   "attachments": {},
   "cell_type": "markdown",
   "metadata": {},
   "source": [
    "## 1.2  Load the Data\n",
    "This function downloads the datasets, saves them in a local 'datasets' folder, and loads them into pandas DataFrames."
   ]
  },
  {
   "cell_type": "code",
   "execution_count": 4,
   "metadata": {},
   "outputs": [
    {
     "ename": "KeyboardInterrupt",
     "evalue": "",
     "output_type": "error",
     "traceback": [
      "\u001b[0;31m---------------------------------------------------------------------------\u001b[0m",
      "\u001b[0;31mKeyboardInterrupt\u001b[0m                         Traceback (most recent call last)",
      "Cell \u001b[0;32mIn[4], line 24\u001b[0m\n\u001b[1;32m     20\u001b[0m         data\u001b[39m.\u001b[39mappend(df)\n\u001b[1;32m     22\u001b[0m     \u001b[39mreturn\u001b[39;00m data\n\u001b[0;32m---> 24\u001b[0m data \u001b[39m=\u001b[39m download_and_load_datasets()\n",
      "Cell \u001b[0;32mIn[4], line 17\u001b[0m, in \u001b[0;36mdownload_and_load_datasets\u001b[0;34m()\u001b[0m\n\u001b[1;32m     14\u001b[0m data \u001b[39m=\u001b[39m []\n\u001b[1;32m     16\u001b[0m \u001b[39mfor\u001b[39;00m url, filename \u001b[39min\u001b[39;00m \u001b[39mzip\u001b[39m(urls, filenames):\n\u001b[0;32m---> 17\u001b[0m     df \u001b[39m=\u001b[39m pd\u001b[39m.\u001b[39;49mread_csv(url)\n\u001b[1;32m     18\u001b[0m     file_path \u001b[39m=\u001b[39m os\u001b[39m.\u001b[39mpath\u001b[39m.\u001b[39mjoin(\u001b[39m'\u001b[39m\u001b[39mdatasets\u001b[39m\u001b[39m'\u001b[39m, filename)\n\u001b[1;32m     19\u001b[0m     df\u001b[39m.\u001b[39mto_csv(file_path)\n",
      "File \u001b[0;32m~/Documents/Practicum/.conda/lib/python3.10/site-packages/pandas/util/_decorators.py:211\u001b[0m, in \u001b[0;36mdeprecate_kwarg.<locals>._deprecate_kwarg.<locals>.wrapper\u001b[0;34m(*args, **kwargs)\u001b[0m\n\u001b[1;32m    209\u001b[0m     \u001b[39melse\u001b[39;00m:\n\u001b[1;32m    210\u001b[0m         kwargs[new_arg_name] \u001b[39m=\u001b[39m new_arg_value\n\u001b[0;32m--> 211\u001b[0m \u001b[39mreturn\u001b[39;00m func(\u001b[39m*\u001b[39;49margs, \u001b[39m*\u001b[39;49m\u001b[39m*\u001b[39;49mkwargs)\n",
      "File \u001b[0;32m~/Documents/Practicum/.conda/lib/python3.10/site-packages/pandas/util/_decorators.py:331\u001b[0m, in \u001b[0;36mdeprecate_nonkeyword_arguments.<locals>.decorate.<locals>.wrapper\u001b[0;34m(*args, **kwargs)\u001b[0m\n\u001b[1;32m    325\u001b[0m \u001b[39mif\u001b[39;00m \u001b[39mlen\u001b[39m(args) \u001b[39m>\u001b[39m num_allow_args:\n\u001b[1;32m    326\u001b[0m     warnings\u001b[39m.\u001b[39mwarn(\n\u001b[1;32m    327\u001b[0m         msg\u001b[39m.\u001b[39mformat(arguments\u001b[39m=\u001b[39m_format_argument_list(allow_args)),\n\u001b[1;32m    328\u001b[0m         \u001b[39mFutureWarning\u001b[39;00m,\n\u001b[1;32m    329\u001b[0m         stacklevel\u001b[39m=\u001b[39mfind_stack_level(),\n\u001b[1;32m    330\u001b[0m     )\n\u001b[0;32m--> 331\u001b[0m \u001b[39mreturn\u001b[39;00m func(\u001b[39m*\u001b[39;49margs, \u001b[39m*\u001b[39;49m\u001b[39m*\u001b[39;49mkwargs)\n",
      "File \u001b[0;32m~/Documents/Practicum/.conda/lib/python3.10/site-packages/pandas/io/parsers/readers.py:950\u001b[0m, in \u001b[0;36mread_csv\u001b[0;34m(filepath_or_buffer, sep, delimiter, header, names, index_col, usecols, squeeze, prefix, mangle_dupe_cols, dtype, engine, converters, true_values, false_values, skipinitialspace, skiprows, skipfooter, nrows, na_values, keep_default_na, na_filter, verbose, skip_blank_lines, parse_dates, infer_datetime_format, keep_date_col, date_parser, dayfirst, cache_dates, iterator, chunksize, compression, thousands, decimal, lineterminator, quotechar, quoting, doublequote, escapechar, comment, encoding, encoding_errors, dialect, error_bad_lines, warn_bad_lines, on_bad_lines, delim_whitespace, low_memory, memory_map, float_precision, storage_options)\u001b[0m\n\u001b[1;32m    935\u001b[0m kwds_defaults \u001b[39m=\u001b[39m _refine_defaults_read(\n\u001b[1;32m    936\u001b[0m     dialect,\n\u001b[1;32m    937\u001b[0m     delimiter,\n\u001b[0;32m   (...)\u001b[0m\n\u001b[1;32m    946\u001b[0m     defaults\u001b[39m=\u001b[39m{\u001b[39m\"\u001b[39m\u001b[39mdelimiter\u001b[39m\u001b[39m\"\u001b[39m: \u001b[39m\"\u001b[39m\u001b[39m,\u001b[39m\u001b[39m\"\u001b[39m},\n\u001b[1;32m    947\u001b[0m )\n\u001b[1;32m    948\u001b[0m kwds\u001b[39m.\u001b[39mupdate(kwds_defaults)\n\u001b[0;32m--> 950\u001b[0m \u001b[39mreturn\u001b[39;00m _read(filepath_or_buffer, kwds)\n",
      "File \u001b[0;32m~/Documents/Practicum/.conda/lib/python3.10/site-packages/pandas/io/parsers/readers.py:605\u001b[0m, in \u001b[0;36m_read\u001b[0;34m(filepath_or_buffer, kwds)\u001b[0m\n\u001b[1;32m    602\u001b[0m _validate_names(kwds\u001b[39m.\u001b[39mget(\u001b[39m\"\u001b[39m\u001b[39mnames\u001b[39m\u001b[39m\"\u001b[39m, \u001b[39mNone\u001b[39;00m))\n\u001b[1;32m    604\u001b[0m \u001b[39m# Create the parser.\u001b[39;00m\n\u001b[0;32m--> 605\u001b[0m parser \u001b[39m=\u001b[39m TextFileReader(filepath_or_buffer, \u001b[39m*\u001b[39;49m\u001b[39m*\u001b[39;49mkwds)\n\u001b[1;32m    607\u001b[0m \u001b[39mif\u001b[39;00m chunksize \u001b[39mor\u001b[39;00m iterator:\n\u001b[1;32m    608\u001b[0m     \u001b[39mreturn\u001b[39;00m parser\n",
      "File \u001b[0;32m~/Documents/Practicum/.conda/lib/python3.10/site-packages/pandas/io/parsers/readers.py:1442\u001b[0m, in \u001b[0;36mTextFileReader.__init__\u001b[0;34m(self, f, engine, **kwds)\u001b[0m\n\u001b[1;32m   1439\u001b[0m     \u001b[39mself\u001b[39m\u001b[39m.\u001b[39moptions[\u001b[39m\"\u001b[39m\u001b[39mhas_index_names\u001b[39m\u001b[39m\"\u001b[39m] \u001b[39m=\u001b[39m kwds[\u001b[39m\"\u001b[39m\u001b[39mhas_index_names\u001b[39m\u001b[39m\"\u001b[39m]\n\u001b[1;32m   1441\u001b[0m \u001b[39mself\u001b[39m\u001b[39m.\u001b[39mhandles: IOHandles \u001b[39m|\u001b[39m \u001b[39mNone\u001b[39;00m \u001b[39m=\u001b[39m \u001b[39mNone\u001b[39;00m\n\u001b[0;32m-> 1442\u001b[0m \u001b[39mself\u001b[39m\u001b[39m.\u001b[39m_engine \u001b[39m=\u001b[39m \u001b[39mself\u001b[39;49m\u001b[39m.\u001b[39;49m_make_engine(f, \u001b[39mself\u001b[39;49m\u001b[39m.\u001b[39;49mengine)\n",
      "File \u001b[0;32m~/Documents/Practicum/.conda/lib/python3.10/site-packages/pandas/io/parsers/readers.py:1735\u001b[0m, in \u001b[0;36mTextFileReader._make_engine\u001b[0;34m(self, f, engine)\u001b[0m\n\u001b[1;32m   1733\u001b[0m     \u001b[39mif\u001b[39;00m \u001b[39m\"\u001b[39m\u001b[39mb\u001b[39m\u001b[39m\"\u001b[39m \u001b[39mnot\u001b[39;00m \u001b[39min\u001b[39;00m mode:\n\u001b[1;32m   1734\u001b[0m         mode \u001b[39m+\u001b[39m\u001b[39m=\u001b[39m \u001b[39m\"\u001b[39m\u001b[39mb\u001b[39m\u001b[39m\"\u001b[39m\n\u001b[0;32m-> 1735\u001b[0m \u001b[39mself\u001b[39m\u001b[39m.\u001b[39mhandles \u001b[39m=\u001b[39m get_handle(\n\u001b[1;32m   1736\u001b[0m     f,\n\u001b[1;32m   1737\u001b[0m     mode,\n\u001b[1;32m   1738\u001b[0m     encoding\u001b[39m=\u001b[39;49m\u001b[39mself\u001b[39;49m\u001b[39m.\u001b[39;49moptions\u001b[39m.\u001b[39;49mget(\u001b[39m\"\u001b[39;49m\u001b[39mencoding\u001b[39;49m\u001b[39m\"\u001b[39;49m, \u001b[39mNone\u001b[39;49;00m),\n\u001b[1;32m   1739\u001b[0m     compression\u001b[39m=\u001b[39;49m\u001b[39mself\u001b[39;49m\u001b[39m.\u001b[39;49moptions\u001b[39m.\u001b[39;49mget(\u001b[39m\"\u001b[39;49m\u001b[39mcompression\u001b[39;49m\u001b[39m\"\u001b[39;49m, \u001b[39mNone\u001b[39;49;00m),\n\u001b[1;32m   1740\u001b[0m     memory_map\u001b[39m=\u001b[39;49m\u001b[39mself\u001b[39;49m\u001b[39m.\u001b[39;49moptions\u001b[39m.\u001b[39;49mget(\u001b[39m\"\u001b[39;49m\u001b[39mmemory_map\u001b[39;49m\u001b[39m\"\u001b[39;49m, \u001b[39mFalse\u001b[39;49;00m),\n\u001b[1;32m   1741\u001b[0m     is_text\u001b[39m=\u001b[39;49mis_text,\n\u001b[1;32m   1742\u001b[0m     errors\u001b[39m=\u001b[39;49m\u001b[39mself\u001b[39;49m\u001b[39m.\u001b[39;49moptions\u001b[39m.\u001b[39;49mget(\u001b[39m\"\u001b[39;49m\u001b[39mencoding_errors\u001b[39;49m\u001b[39m\"\u001b[39;49m, \u001b[39m\"\u001b[39;49m\u001b[39mstrict\u001b[39;49m\u001b[39m\"\u001b[39;49m),\n\u001b[1;32m   1743\u001b[0m     storage_options\u001b[39m=\u001b[39;49m\u001b[39mself\u001b[39;49m\u001b[39m.\u001b[39;49moptions\u001b[39m.\u001b[39;49mget(\u001b[39m\"\u001b[39;49m\u001b[39mstorage_options\u001b[39;49m\u001b[39m\"\u001b[39;49m, \u001b[39mNone\u001b[39;49;00m),\n\u001b[1;32m   1744\u001b[0m )\n\u001b[1;32m   1745\u001b[0m \u001b[39massert\u001b[39;00m \u001b[39mself\u001b[39m\u001b[39m.\u001b[39mhandles \u001b[39mis\u001b[39;00m \u001b[39mnot\u001b[39;00m \u001b[39mNone\u001b[39;00m\n\u001b[1;32m   1746\u001b[0m f \u001b[39m=\u001b[39m \u001b[39mself\u001b[39m\u001b[39m.\u001b[39mhandles\u001b[39m.\u001b[39mhandle\n",
      "File \u001b[0;32m~/Documents/Practicum/.conda/lib/python3.10/site-packages/pandas/io/common.py:713\u001b[0m, in \u001b[0;36mget_handle\u001b[0;34m(path_or_buf, mode, encoding, compression, memory_map, is_text, errors, storage_options)\u001b[0m\n\u001b[1;32m    710\u001b[0m     codecs\u001b[39m.\u001b[39mlookup_error(errors)\n\u001b[1;32m    712\u001b[0m \u001b[39m# open URLs\u001b[39;00m\n\u001b[0;32m--> 713\u001b[0m ioargs \u001b[39m=\u001b[39m _get_filepath_or_buffer(\n\u001b[1;32m    714\u001b[0m     path_or_buf,\n\u001b[1;32m    715\u001b[0m     encoding\u001b[39m=\u001b[39;49mencoding,\n\u001b[1;32m    716\u001b[0m     compression\u001b[39m=\u001b[39;49mcompression,\n\u001b[1;32m    717\u001b[0m     mode\u001b[39m=\u001b[39;49mmode,\n\u001b[1;32m    718\u001b[0m     storage_options\u001b[39m=\u001b[39;49mstorage_options,\n\u001b[1;32m    719\u001b[0m )\n\u001b[1;32m    721\u001b[0m handle \u001b[39m=\u001b[39m ioargs\u001b[39m.\u001b[39mfilepath_or_buffer\n\u001b[1;32m    722\u001b[0m handles: \u001b[39mlist\u001b[39m[BaseBuffer]\n",
      "File \u001b[0;32m~/Documents/Practicum/.conda/lib/python3.10/site-packages/pandas/io/common.py:368\u001b[0m, in \u001b[0;36m_get_filepath_or_buffer\u001b[0;34m(filepath_or_buffer, encoding, compression, mode, storage_options)\u001b[0m\n\u001b[1;32m    365\u001b[0m         \u001b[39mif\u001b[39;00m content_encoding \u001b[39m==\u001b[39m \u001b[39m\"\u001b[39m\u001b[39mgzip\u001b[39m\u001b[39m\"\u001b[39m:\n\u001b[1;32m    366\u001b[0m             \u001b[39m# Override compression based on Content-Encoding header\u001b[39;00m\n\u001b[1;32m    367\u001b[0m             compression \u001b[39m=\u001b[39m {\u001b[39m\"\u001b[39m\u001b[39mmethod\u001b[39m\u001b[39m\"\u001b[39m: \u001b[39m\"\u001b[39m\u001b[39mgzip\u001b[39m\u001b[39m\"\u001b[39m}\n\u001b[0;32m--> 368\u001b[0m         reader \u001b[39m=\u001b[39m BytesIO(req\u001b[39m.\u001b[39;49mread())\n\u001b[1;32m    369\u001b[0m     \u001b[39mreturn\u001b[39;00m IOArgs(\n\u001b[1;32m    370\u001b[0m         filepath_or_buffer\u001b[39m=\u001b[39mreader,\n\u001b[1;32m    371\u001b[0m         encoding\u001b[39m=\u001b[39mencoding,\n\u001b[0;32m   (...)\u001b[0m\n\u001b[1;32m    374\u001b[0m         mode\u001b[39m=\u001b[39mfsspec_mode,\n\u001b[1;32m    375\u001b[0m     )\n\u001b[1;32m    377\u001b[0m \u001b[39mif\u001b[39;00m is_fsspec_url(filepath_or_buffer):\n",
      "File \u001b[0;32m~/Documents/Practicum/.conda/lib/python3.10/http/client.py:481\u001b[0m, in \u001b[0;36mHTTPResponse.read\u001b[0;34m(self, amt)\u001b[0m\n\u001b[1;32m    479\u001b[0m \u001b[39melse\u001b[39;00m:\n\u001b[1;32m    480\u001b[0m     \u001b[39mtry\u001b[39;00m:\n\u001b[0;32m--> 481\u001b[0m         s \u001b[39m=\u001b[39m \u001b[39mself\u001b[39;49m\u001b[39m.\u001b[39;49m_safe_read(\u001b[39mself\u001b[39;49m\u001b[39m.\u001b[39;49mlength)\n\u001b[1;32m    482\u001b[0m     \u001b[39mexcept\u001b[39;00m IncompleteRead:\n\u001b[1;32m    483\u001b[0m         \u001b[39mself\u001b[39m\u001b[39m.\u001b[39m_close_conn()\n",
      "File \u001b[0;32m~/Documents/Practicum/.conda/lib/python3.10/http/client.py:630\u001b[0m, in \u001b[0;36mHTTPResponse._safe_read\u001b[0;34m(self, amt)\u001b[0m\n\u001b[1;32m    623\u001b[0m \u001b[39mdef\u001b[39;00m \u001b[39m_safe_read\u001b[39m(\u001b[39mself\u001b[39m, amt):\n\u001b[1;32m    624\u001b[0m \u001b[39m    \u001b[39m\u001b[39m\"\"\"Read the number of bytes requested.\u001b[39;00m\n\u001b[1;32m    625\u001b[0m \n\u001b[1;32m    626\u001b[0m \u001b[39m    This function should be used when <amt> bytes \"should\" be present for\u001b[39;00m\n\u001b[1;32m    627\u001b[0m \u001b[39m    reading. If the bytes are truly not available (due to EOF), then the\u001b[39;00m\n\u001b[1;32m    628\u001b[0m \u001b[39m    IncompleteRead exception can be used to detect the problem.\u001b[39;00m\n\u001b[1;32m    629\u001b[0m \u001b[39m    \"\"\"\u001b[39;00m\n\u001b[0;32m--> 630\u001b[0m     data \u001b[39m=\u001b[39m \u001b[39mself\u001b[39;49m\u001b[39m.\u001b[39;49mfp\u001b[39m.\u001b[39;49mread(amt)\n\u001b[1;32m    631\u001b[0m     \u001b[39mif\u001b[39;00m \u001b[39mlen\u001b[39m(data) \u001b[39m<\u001b[39m amt:\n\u001b[1;32m    632\u001b[0m         \u001b[39mraise\u001b[39;00m IncompleteRead(data, amt\u001b[39m-\u001b[39m\u001b[39mlen\u001b[39m(data))\n",
      "File \u001b[0;32m~/Documents/Practicum/.conda/lib/python3.10/socket.py:705\u001b[0m, in \u001b[0;36mSocketIO.readinto\u001b[0;34m(self, b)\u001b[0m\n\u001b[1;32m    703\u001b[0m \u001b[39mwhile\u001b[39;00m \u001b[39mTrue\u001b[39;00m:\n\u001b[1;32m    704\u001b[0m     \u001b[39mtry\u001b[39;00m:\n\u001b[0;32m--> 705\u001b[0m         \u001b[39mreturn\u001b[39;00m \u001b[39mself\u001b[39;49m\u001b[39m.\u001b[39;49m_sock\u001b[39m.\u001b[39;49mrecv_into(b)\n\u001b[1;32m    706\u001b[0m     \u001b[39mexcept\u001b[39;00m timeout:\n\u001b[1;32m    707\u001b[0m         \u001b[39mself\u001b[39m\u001b[39m.\u001b[39m_timeout_occurred \u001b[39m=\u001b[39m \u001b[39mTrue\u001b[39;00m\n",
      "File \u001b[0;32m~/Documents/Practicum/.conda/lib/python3.10/ssl.py:1274\u001b[0m, in \u001b[0;36mSSLSocket.recv_into\u001b[0;34m(self, buffer, nbytes, flags)\u001b[0m\n\u001b[1;32m   1270\u001b[0m     \u001b[39mif\u001b[39;00m flags \u001b[39m!=\u001b[39m \u001b[39m0\u001b[39m:\n\u001b[1;32m   1271\u001b[0m         \u001b[39mraise\u001b[39;00m \u001b[39mValueError\u001b[39;00m(\n\u001b[1;32m   1272\u001b[0m           \u001b[39m\"\u001b[39m\u001b[39mnon-zero flags not allowed in calls to recv_into() on \u001b[39m\u001b[39m%s\u001b[39;00m\u001b[39m\"\u001b[39m \u001b[39m%\u001b[39m\n\u001b[1;32m   1273\u001b[0m           \u001b[39mself\u001b[39m\u001b[39m.\u001b[39m\u001b[39m__class__\u001b[39m)\n\u001b[0;32m-> 1274\u001b[0m     \u001b[39mreturn\u001b[39;00m \u001b[39mself\u001b[39;49m\u001b[39m.\u001b[39;49mread(nbytes, buffer)\n\u001b[1;32m   1275\u001b[0m \u001b[39melse\u001b[39;00m:\n\u001b[1;32m   1276\u001b[0m     \u001b[39mreturn\u001b[39;00m \u001b[39msuper\u001b[39m()\u001b[39m.\u001b[39mrecv_into(buffer, nbytes, flags)\n",
      "File \u001b[0;32m~/Documents/Practicum/.conda/lib/python3.10/ssl.py:1130\u001b[0m, in \u001b[0;36mSSLSocket.read\u001b[0;34m(self, len, buffer)\u001b[0m\n\u001b[1;32m   1128\u001b[0m \u001b[39mtry\u001b[39;00m:\n\u001b[1;32m   1129\u001b[0m     \u001b[39mif\u001b[39;00m buffer \u001b[39mis\u001b[39;00m \u001b[39mnot\u001b[39;00m \u001b[39mNone\u001b[39;00m:\n\u001b[0;32m-> 1130\u001b[0m         \u001b[39mreturn\u001b[39;00m \u001b[39mself\u001b[39;49m\u001b[39m.\u001b[39;49m_sslobj\u001b[39m.\u001b[39;49mread(\u001b[39mlen\u001b[39;49m, buffer)\n\u001b[1;32m   1131\u001b[0m     \u001b[39melse\u001b[39;00m:\n\u001b[1;32m   1132\u001b[0m         \u001b[39mreturn\u001b[39;00m \u001b[39mself\u001b[39m\u001b[39m.\u001b[39m_sslobj\u001b[39m.\u001b[39mread(\u001b[39mlen\u001b[39m)\n",
      "\u001b[0;31mKeyboardInterrupt\u001b[0m: "
     ]
    }
   ],
   "source": [
    "\n",
    "def download_and_load_datasets():\n",
    "    # Check if the datasets folder exists\n",
    "    if not os.path.exists('datasets'):\n",
    "        os.makedirs('datasets')\n",
    "\n",
    "    # Download the source CSV files and save them in the datasets folder\n",
    "    urls = [\n",
    "        'https://practicum-content.s3.us-west-1.amazonaws.com/datasets/geo_data_0.csv',\n",
    "        'https://practicum-content.s3.us-west-1.amazonaws.com/datasets/geo_data_1.csv',\n",
    "        'https://practicum-content.s3.us-west-1.amazonaws.com/datasets/geo_data_2.csv'\n",
    "    ]\n",
    "    filenames = ['geo_data_0.csv', 'geo_data_1.csv', 'geo_data_2.csv']\n",
    "    \n",
    "    data = []\n",
    "\n",
    "    for url, filename in zip(urls, filenames):\n",
    "        df = pd.read_csv(url)\n",
    "        file_path = os.path.join('datasets', filename)\n",
    "        df.to_csv(file_path)\n",
    "        data.append(df)\n",
    "    \n",
    "    return data\n",
    "\n",
    "data = download_and_load_datasets()\n"
   ]
  },
  {
   "attachments": {},
   "cell_type": "markdown",
   "metadata": {},
   "source": [
    "# 2. Train and test the model for each region"
   ]
  },
  {
   "cell_type": "code",
   "execution_count": null,
   "metadata": {},
   "outputs": [
    {
     "name": "stdout",
     "output_type": "stream",
     "text": [
      "Region 0: Average predicted volume: 92.40, RMSE: 37.76, R-squared: 0.27\n"
     ]
    },
    {
     "data": {
      "image/png": "[encoded data removed]",
      "text/plain": [
       "<Figure size 864x432 with 2 Axes>"
      ]
     },
     "metadata": {
      "needs_background": "light"
     },
     "output_type": "display_data"
    },
    {
     "name": "stdout",
     "output_type": "stream",
     "text": [
      "Region 1: Average predicted volume: 68.72, RMSE: 0.89, R-squared: 1.00\n"
     ]
    },
    {
     "data": {
      "image/png": "[encoded data removed]",
      "text/plain": [
       "<Figure size 864x432 with 2 Axes>"
      ]
     },
     "metadata": {
      "needs_background": "light"
     },
     "output_type": "display_data"
    },
    {
     "name": "stdout",
     "output_type": "stream",
     "text": [
      "Region 2: Average predicted volume: 94.77, RMSE: 40.15, R-squared: 0.20\n"
     ]
    },
    {
     "data": {
      "image/png": "[encoded data removed]",
      "text/plain": [
       "<Figure size 864x432 with 2 Axes>"
      ]
     },
     "metadata": {
      "needs_background": "light"
     },
     "output_type": "display_data"
    }
   ],
   "source": [
    "from sklearn.metrics import r2_score\n",
    "\n",
    "region_averages = []\n",
    "region_rmse = []\n",
    "targets_valid = []\n",
    "predictions_list = []\n",
    "\n",
    "# Train and test the model for each region:\n",
    "for i, region in enumerate(data):\n",
    "    # 2.1. Split the data into a training set and validation set at a ratio of 75:25\n",
    "    features = region.drop(['id', 'product'], axis=1)\n",
    "    target = region['product']\n",
    "    features_train, features_valid, target_train, target_valid = train_test_split(features, target, test_size=0.25, random_state=42)\n",
    "\n",
    "    # 2.2. Train the model and make predictions for the validation set\n",
    "    model = LinearRegression()\n",
    "    model.fit(features_train, target_train)\n",
    "    predictions = model.predict(features_valid)\n",
    "\n",
    "    # Replace negative predicted values with zeros\n",
    "    predictions = np.maximum(predictions, 0)\n",
    "\n",
    "\n",
    "    # Calculate R-squared score\n",
    "    r2_score_value = r2_score(target_valid, predictions)\n",
    "\n",
    "    # 2.3. Save the predictions and correct answers for the validation set\n",
    "    targets_valid.append(target_valid)\n",
    "    predictions_list.append(pd.Series(predictions, index=target_valid.index))\n",
    "\n",
    "    # 2.4. Calculate the average volume of predicted reserves and model RMSE\n",
    "    rmse = mean_squared_error(target_valid, predictions, squared=False)\n",
    "    avg_predicted_volume = predictions.mean()\n",
    "\n",
    "    # Save region averages and RMSE to their respective lists\n",
    "    region_averages.append(avg_predicted_volume)\n",
    "    region_rmse.append(rmse)\n",
    "\n",
    "    # 2.5. Analyze the results\n",
    "    print(f\"Region {i}: Average predicted volume: {avg_predicted_volume:.2f}, RMSE: {rmse:.2f}, R-squared: {r2_score_value:.2f}\")\n",
    "\n",
    "    plt.figure(figsize=(12, 6))\n",
    "    plt.subplot(1, 2, 1)\n",
    "    sns.histplot(target, kde=True)\n",
    "    plt.title(f\"Region {i}: Target Distribution\")\n",
    "\n",
    "    plt.subplot(1, 2, 2)\n",
    "    sns.histplot(predictions, kde=True)\n",
    "    plt.title(f\"Region {i}: Predictions Distribution\")\n",
    "\n",
    "    plt.show()"
   ]
  },
  {
   "attachments": {},
   "cell_type": "markdown",
   "metadata": {},
   "source": [
    "<div class=\"alert alert-success\">\n",
    "<b>Reviewer's comment</b>\n",
    "\n",
    "Good, the data for each region was split into train and validation sets, the models were trained and evaluated correctly\n",
    "\n",
    "</div>"
   ]
  },
  {
   "attachments": {},
   "cell_type": "markdown",
   "metadata": {},
   "source": [
    "<div class=\"alert alert-info\">\n",
    "<b>Student's comment</b>\n",
    "\n",
    "updated r2 and added graph while trouble shooting another section.\n",
    "\n",
    "</div>"
   ]
  },
  {
   "attachments": {},
   "cell_type": "markdown",
   "metadata": {},
   "source": [
    "<div class=\"alert alert-success\">\n",
    "<b>Reviewer's comment</b>\n",
    "\n",
    "Conclusions make sense\n",
    "\n",
    "</div>"
   ]
  },
  {
   "attachments": {},
   "cell_type": "markdown",
   "metadata": {},
   "source": [
    "# 3. Prepare for profit calculation"
   ]
  },
  {
   "cell_type": "code",
   "execution_count": null,
   "metadata": {},
   "outputs": [
    {
     "name": "stdout",
     "output_type": "stream",
     "text": [
      "Break-even volume (thousand barrels): 111.11\n"
     ]
    }
   ],
   "source": [
    "\n",
    "# Prepare for profit calculation:\n",
    "# 3.1. Store all key values for calculations in separate variables\n",
    "BUDGET = 100_000_000\n",
    "REVENUE_PER_THOUSAND_BARRELS = 4_500\n",
    "WELLS_FOR_DEVELOPMENT = 200\n",
    "\n",
    "# 3.2. Calculate the volume of reserves sufficient for developing a new well without losses\n",
    "break_even_volume = BUDGET / (WELLS_FOR_DEVELOPMENT * REVENUE_PER_THOUSAND_BARRELS)\n",
    "print(f\"Break-even volume (thousand barrels): {break_even_volume:.2f}\")\n"
   ]
  },
  {
   "cell_type": "code",
   "execution_count": null,
   "metadata": {},
   "outputs": [
    {
     "name": "stdout",
     "output_type": "stream",
     "text": [
      "Region 0:\n",
      "  Average predicted volume (thousand barrels): 92.40\n",
      "  The average predicted volume in Region 0 is 18.71 thousand barrels below the break-even volume.\n",
      "\n",
      "Region 1:\n",
      "  Average predicted volume (thousand barrels): 68.72\n",
      "  The average predicted volume in Region 1 is 42.39 thousand barrels below the break-even volume.\n",
      "\n",
      "Region 2:\n",
      "  Average predicted volume (thousand barrels): 94.77\n",
      "  The average predicted volume in Region 2 is 16.34 thousand barrels below the break-even volume.\n",
      "\n"
     ]
    },
    {
     "data": {
      "image/png": "[encoded data removed]",
      "text/plain": [
       "<Figure size 432x288 with 1 Axes>"
      ]
     },
     "metadata": {
      "needs_background": "light"
     },
     "output_type": "display_data"
    }
   ],
   "source": [
    "# 3.3. Provide the findings about the preparation for profit calculation step\n",
    "for i, (avg, rmse) in enumerate(zip(region_averages, region_rmse)):\n",
    "    print(f\"Region {i}:\")\n",
    "    print(f\"  Average predicted volume (thousand barrels): {avg:.2f}\")\n",
    "    difference = avg - break_even_volume\n",
    "    if difference >= 0:\n",
    "        print(f\"  The average predicted volume in Region {i} is {abs(difference):.2f} thousand barrels above the break-even volume.\")\n",
    "    else:\n",
    "        print(f\"  The average predicted volume in Region {i} is {abs(difference):.2f} thousand barrels below the break-even volume.\")\n",
    "    print()\n",
    "\n",
    "# Plot the average predicted volumes and break-even volume\n",
    "plt.bar(['Region 0', 'Region 1', 'Region 2'], region_averages, label='Average Predicted Volume')\n",
    "plt.axhline(y=break_even_volume, color='r', linestyle='--', label='Break-even Volume')\n",
    "\n",
    "plt.xlabel('Regions')\n",
    "plt.ylabel('Volume (thousand barrels)')\n",
    "plt.title('Average Predicted Volume vs. Break-even Volume')\n",
    "plt.legend()\n",
    "plt.show()\n"
   ]
  },
  {
   "attachments": {},
   "cell_type": "markdown",
   "metadata": {},
   "source": [
    "<div class=\"alert alert-success\">\n",
    "<b>Reviewer's comment</b>\n",
    "\n",
    "Calculation is correct\n",
    "\n",
    "</div>"
   ]
  },
  {
   "attachments": {},
   "cell_type": "markdown",
   "metadata": {},
   "source": [
    "So far, we have performed the following tasks:\n",
    "\n",
    "1. **Downloaded and prepared the data** for three regions.\n",
    "2. **Trained and tested a linear regression model** for each region. We calculated the average predicted volume of reserves and the RMSE for each region. Here are the results:\n",
    "\n",
    "   - Region 0: Average predicted volume: 92.59 thousand barrels, RMSE: 37.58\n",
    "   - Region 1: Average predicted volume: 68.73 thousand barrels, RMSE: 0.89\n",
    "   - Region 2: Average predicted volume: 94.97 thousand barrels, RMSE: 40.03\n",
    "\n",
    "3. **Calculated the break-even volume** of reserves needed for developing a new well without losses, which is 111.11 thousand barrels.\n",
    "\n",
    "We compared the average predicted volume of reserves for each region with the break-even volume:\n",
    "\n",
    "   - Region 0 has an average predicted volume of 92.59 thousand barrels, which is 18.52 thousand barrels below the break-even volume.\n",
    "   - Region 1 has an average predicted volume of 68.73 thousand barrels, which is 42.38 thousand barrels below the break-even volume.\n",
    "   - Region 2 has an average predicted volume of 94.97 thousand barrels, which is 16.14 thousand barrels below the break-even volume.\n",
    "\n",
    "Based on these findings, none of the regions has an average predicted volume of reserves above the break-even volume. However, **Region 2 is the closest to the break-even point**, followed by Region 0. Region 1 has the lowest average predicted volume of reserves and the lowest RMSE, indicating that the model's predictions for this region are more precise but the potential reserves are lower.\n"
   ]
  },
  {
   "attachments": {},
   "cell_type": "markdown",
   "metadata": {},
   "source": [
    "<div class=\"alert alert-success\">\n",
    "<b>Reviewer's comment</b>\n",
    "\n",
    "Well done!\n",
    "\n",
    "</div>"
   ]
  },
  {
   "attachments": {},
   "cell_type": "markdown",
   "metadata": {},
   "source": [
    "# 4. Write a function to calculate profit from a set of selected oil wells and model predictions"
   ]
  },
  {
   "attachments": {},
   "cell_type": "markdown",
   "metadata": {},
   "source": [
    "<div class=\"alert alert-success\">\n",
    "<b>Reviewer's comment V2</b>\n",
    "\n",
    "Function for profit calculation is correct now!\n",
    "\n",
    "</div>"
   ]
  },
  {
   "attachments": {},
   "cell_type": "markdown",
   "metadata": {},
   "source": [
    "<div class=\"alert alert-success\">\n",
    "<b>Reviewer's comment V2</b>\n",
    "\n",
    "Cool idea to add unit tests, though it was not required :)\n",
    "\n",
    "</div>"
   ]
  },
  {
   "attachments": {},
   "cell_type": "markdown",
   "metadata": {},
   "source": [
    "* Implement the calculate_profit function.\n",
    "* Implement the calculate_profits_for_regions function.\n",
    "* Implement the bootstrap_resample function.\n",
    "* Calculate the profits for each region using the implemented functions.\n",
    "* Run the bootstrap resampling for each region.\n",
    "* Calculate and print the statistics for each region."
   ]
  },
  {
   "cell_type": "code",
   "execution_count": null,
   "metadata": {},
   "outputs": [
    {
     "name": "stdout",
     "output_type": "stream",
     "text": [
      "Region 0: Profit: 33591411.14462179 USD\n",
      "Region 1: Profit: 24150866.966815114 USD\n",
      "Region 2: Profit: 25985717.59374112 USD\n",
      "Region 0:\n",
      "  Mean profit: 33719318.41 USD\n",
      " 95% confidence interval: (30437973.79, 37376105.23) USD\n",
      " Risk: 0.00%\n",
      "\n",
      "Region 1:\n",
      "  Mean profit: 24150866.97 USD\n",
      " 95% confidence interval: (24150866.97, 24150866.97) USD\n",
      " Risk: 0.00%\n",
      "\n",
      "Region 2:\n",
      "  Mean profit: 25641761.10 USD\n",
      " 95% confidence interval: (21774873.07, 29199273.87) USD\n",
      " Risk: 0.00%\n",
      "\n"
     ]
    }
   ],
   "source": [
    "import numpy as np\n",
    "import pandas as pd\n",
    "\n",
    "# 4.1. Define constants for profit calculation\n",
    "WELLS_FOR_DEVELOPMENT = 200\n",
    "REVENUE_PER_THOUSAND_BARRELS = 4500\n",
    "BUDGET = 100_000_000\n",
    "\n",
    "# 4.2. Implement the calculate_profit function\n",
    "def calculate_profit(target, predictions, count):\n",
    "    target = target.reset_index(drop=True)\n",
    "    predictions = predictions.reset_index(drop=True)\n",
    "\n",
    "    top_wells = predictions.sort_values(ascending=False).head(count).index\n",
    "    total_reserves = target.loc[top_wells].sum()\n",
    "    revenue = total_reserves * REVENUE_PER_THOUSAND_BARRELS\n",
    "    profit = revenue - BUDGET\n",
    "\n",
    "    return profit\n",
    "\n",
    "# 4.3. Implement the calculate_profits_for_regions function\n",
    "def calculate_profits_for_regions(targets, predictions_list, count):\n",
    "    profits = {}\n",
    "    for i, (target, predictions) in enumerate(zip(targets, predictions_list)):\n",
    "        profit = calculate_profit(target, predictions, count)\n",
    "        profits[i] = profit\n",
    "    return profits\n",
    "\n",
    "# 4.4. Implement the bootstrap_resample function\n",
    "def bootstrap_resample(target, predictions, count, n_iterations=1000):\n",
    "    n_samples = len(target)\n",
    "    profits_list = []\n",
    "\n",
    "    for i in range(n_iterations):\n",
    "        resampled_indices = np.random.choice(target.index, size=n_samples, replace=True)\n",
    "        resampled_target = target.loc[resampled_indices].reset_index(drop=True)\n",
    "        resampled_predictions = predictions.loc[resampled_indices].reset_index(drop=True)\n",
    "\n",
    "        profit = calculate_profit(resampled_target, resampled_predictions, count)\n",
    "        profits_list.append(profit)\n",
    "\n",
    "    return profits_list\n",
    "\n",
    "# 4.5. Calculate the profits for each region\n",
    "region_profits = calculate_profits_for_regions(targets_valid, predictions_list, WELLS_FOR_DEVELOPMENT)\n",
    "\n",
    "# 4.6. Print the profits for each region\n",
    "for i, profit in region_profits.items():\n",
    "    print(f\"Region {i}: Profit: {profit} USD\")\n",
    "\n",
    "# 4.7. Run the bootstrap resampling for each region\n",
    "bootstrap_profits = []\n",
    "for i, (target, predictions) in enumerate(zip(targets_valid, predictions_list)):\n",
    "    profits_list = bootstrap_resample(target, predictions, WELLS_FOR_DEVELOPMENT)\n",
    "    bootstrap_profits.append(profits_list)\n",
    "\n",
    "# 4.8. Calculate and print the statistics for each region\n",
    "statistics = []\n",
    "for i, profits in enumerate(bootstrap_profits):\n",
    "    mean_profit = np.mean(profits)\n",
    "    lower_bound, upper_bound = np.percentile(profits, [2.5, 97.5])\n",
    "    risk = (np.array(profits) < 0).mean() * 100\n",
    "    statistics.append((mean_profit, lower_bound, upper_bound, risk))\n",
    "\n",
    "    print(f\"Region {i}:\")\n",
    "    print(f\"  Mean profit: {mean_profit:.2f} USD\")\n",
    "    print(f\" 95% confidence interval: ({lower_bound:.2f}, {upper_bound:.2f}) USD\")\n",
    "    print(f\" Risk: {risk:.2f}%\\n\")\n"
   ]
  },
  {
   "attachments": {},
   "cell_type": "markdown",
   "metadata": {},
   "source": [
    "# 5. Calculate risks and profit for each region"
   ]
  },
  {
   "cell_type": "code",
   "execution_count": null,
   "metadata": {},
   "outputs": [],
   "source": [
    "import numpy as np\n",
    "import pandas as pd\n",
    "import seaborn as sns\n",
    "import matplotlib.pyplot as plt\n",
    "\n",
    "# Constants\n",
    "WELLS_FOR_DEVELOPMENT = 200\n",
    "REVENUE_PER_THOUSAND_BARRELS = 4500\n",
    "BUDGET = 100_000_000\n",
    "\n",
    "# 5.1. Implement the bootstrap_profit function\n",
    "def bootstrap_profit(target, predictions, count, revenue_per_unit, cost_per_well, n_iterations=1000):\n",
    "    profits = []\n",
    "    for _ in range(n_iterations):\n",
    "        ## In the following line `size` should be 500, not `len(predictions)`\n",
    "        # indices = np.random.choice(predictions.index, size=len(predictions), replace=True)\n",
    "\n",
    "        ## After taking the sample from targets and finding the corresponding predictions, we need to drop their indices to make sure that we can later actually select 200 rows:\n",
    "        # target_sample = target[indices] <-- Drop index here\n",
    "        # predictions_sample = predictions[indices] <-- Drop indix here also\n",
    "\n",
    "        indices = np.random.choice(predictions.index, size=500, replace=True)\n",
    "        predictions_sample = predictions_sample.reset_index(drop=True)\n",
    "        target_sample = target_sample.reset_index(drop=True)\n",
    "\n",
    "        top_wells = predictions_sample.sort_values(ascending=False).head(count).index\n",
    "        revenue = target_sample[top_wells].sum() * revenue_per_unit\n",
    "        cost = cost_per_well * count\n",
    "        profit = revenue - cost\n",
    "        profits.append(profit)\n",
    "\n",
    "    return profits\n",
    "\n",
    "# 5.2. Plot profit distribution function\n",
    "def plot_profit_distribution(profits_list, region_index):\n",
    "    try:\n",
    "        sns.histplot(profits_list, bins=50, kde=True)\n",
    "    except np.linalg.LinAlgError:\n",
    "        sns.histplot(profits_list, bins=50, kde=False)\n",
    "        print(f\"Region {region_index}: KDE plot failed due to singular matrix error. Plotting histogram without KDE.\")\n",
    "    \n",
    "    plt.xlabel(\"Profit (USD)\")\n",
    "    plt.ylabel(\"Frequency\")\n",
    "    plt.title(f\"Profit Distribution for Region {region_index}\")\n",
    "    plt.show()\n",
    "\n",
    "# 5.3. Perform bootstrap resampling for each region, calculate statistics, and plot profit distributions\n",
    "bootstrap_profits = []\n",
    "statistics = []\n",
    "\n",
    "for i, (target, predictions) in enumerate(zip(targets_valid, predictions_list)):\n",
    "    cost_per_well = BUDGET / WELLS_FOR_DEVELOPMENT\n",
    "    profits_list = bootstrap_profit(target, predictions, WELLS_FOR_DEVELOPMENT, REVENUE_PER_THOUSAND_BARRELS, cost_per_well)\n",
    "    bootstrap_profits.append(profits_list)\n",
    "\n",
    "    mean_profit = np.mean(profits_list)\n",
    "    lower_bound, upper_bound = np.percentile(profits_list, [2.5, 97.5])\n",
    "    risk = (np.array(profits_list) < 0).mean() * 100\n",
    "    statistics.append((mean_profit, lower_bound, upper_bound, risk))\n",
    "\n",
    "    print(f\"Region {i}:\")\n",
    "    print(f\"  Mean profit: {mean_profit:.2f} USD\")\n",
    "    print(f\" 95% confidence interval: ({lower_bound:.2f}, {upper_bound:.2f}) USD\")\n",
    "    print(f\" Risk: {risk:.2f}%\\n\")\n",
    "\n",
    "    plot_profit_distribution(profits_list, i)\n",
    "    print()\n"
   ]
  },
  {
   "attachments": {},
   "cell_type": "markdown",
   "metadata": {},
   "source": [
    "<div class=\"alert alert-danger\">\n",
    "<b>Reviewer's comment V3</b>\n",
    "\n",
    "Ok, just two final corrections needed in the bootstrap function:\n",
    "    \n",
    "1. After taking the sample from targets and finding the corresponding predictions, we need to drop their indices to make sure that we can later actually select 200 rows:\n",
    "    \n",
    "    ```python\n",
    "    predictions_sample = predictions_sample.reset_index(drop=True)\n",
    "    target_sample = target_sample.reset_index(drop=True)\n",
    "    ```\n",
    "    \n",
    "2. In the following line `size` should be 500, not `len(predictions)`\n",
    "    \n",
    "    ```python\n",
    "    indices = np.random.choice(predictions.index, size=len(predictions), replace=True)\n",
    "    ```\n",
    "\n",
    "</div>"
   ]
  },
  {
   "attachments": {},
   "cell_type": "markdown",
   "metadata": {},
   "source": [
    "<div class=\"alert alert-danger\">\n",
    "<s><b>Reviewer's comment</b>\n",
    "\n",
    "Function for profit calculation is almost correct, but there is a subtle problem: after sampling with replacement in the bootstrap loop we can end up with repeating indices in targets/predictions, and `target.loc[top_wells]` may not produce a series with exactly `count` rows (check this!). One way to fix this problem is to reset and drop the indices of targets and predictions at the beginning of the function.\n",
    "\n",
    "</div>"
   ]
  },
  {
   "attachments": {},
   "cell_type": "markdown",
   "metadata": {},
   "source": [
    "<div class=\"alert alert-warning\">\n",
    "<b>Reviewer's comment</b>\n",
    "\n",
    "Right, but this is more like maximimum possible profit on historical data, assuming we could select just overall top 200 wells. As we're choosing top 200 wells by prediction out of 500 randomly selected locations where initial measurements are made, it is highly unlikely that the overall top 200 wells (even just in the validation set) are in this small sample.\n",
    "\n",
    "</div>"
   ]
  },
  {
   "attachments": {},
   "cell_type": "markdown",
   "metadata": {},
   "source": [
    "<div class=\"alert alert-danger\">\n",
    "<s><b>Reviewer's comment V2</b>\n",
    "\n",
    "It seems that you overthinked my comments a bit. :) Let me try to clarify some points.\n",
    "    \n",
    "1. It is not a problem that there may be less than 200 *unique* wells chosen for development. The repeats are by design of the bootstrap: we're sampling with replacement, the idea is that our dataset is not the whole [statistical population](https://en.wikipedia.org/wiki/Statistical_population), i.e. it does not contain every possible well in each region, so it is entirely possible for there to be wells with similar characterstics to those in the data yet undiscovered. And the concept of the number of unique wells doesn't translate to the real world: of course it's not possible to develop the same well twice.\n",
    "    So while you did some interesting research on how to increase the number of unique wells in the set of wells chosen for development, it is not quite what I was getting at, unfortunately.\n",
    "2. It is a problem however that the total number of wells chosen for development (inluding repeats) may be less than or greater than 200. Under the conditions of the task the budget is calculated for developing exactly 200 wells. So if it turns out that the profit is calculated with the number of wells chosen for development not equal to 200, it is incorrect.\n",
    "    \n",
    "    The good news is that the only thing needed to fix this problem is to reset and drop the indices at the beginning of the profit calculation function, which you already did! :)\n",
    "    \n",
    "3. Now to get a distribution of profits for each region you just need to do the following:\n",
    "    \n",
    "    1. Repeat the following steps for 1000 iterations.\n",
    "    2. Sample 500 rows with replacement from predictions/targets and get the corresponding rows from targets/predictions.\n",
    "    3. Give the sampled predictions and targets to the profit calculation function, append the resulting profit to the list of profits.\n",
    "    \n",
    "    That's it!\n",
    "    \n",
    "4. There's no need to do any sampling from predictions/targets before the boostrap: just use the whole validation set.\n",
    " \n",
    "5. It is not correct to select more or less than 200 wells for development: this is not accounted for in the budget, so the resulting profit value will be incorrect.\n",
    "    \n",
    "6. Here I'll try to justify why the above makes sense. Under the condition of the task, how are we choosing the wells for development? We're first randomly selecting 500 locations, where we make initial measurements (the features of our model, f0, f1, f2). Then we're using our model to predict the amount of product in these wells. Then we select the top 200 wells by prediction for development. How can we best estimate the profit distribution in each region? Well, for example, we could just repeat this experiment 1000 times. But of course it is very expensive, so we're trying to simulate the experiment with the bootstrap. \n",
    "\n",
    "</div>"
   ]
  },
  {
   "attachments": {},
   "cell_type": "markdown",
   "metadata": {},
   "source": [
    "<div class=\"alert alert-danger\">\n",
    "<s><b>Reviewer's comment V2</b>\n",
    "\n",
    "Everything from `calculate_profit` function up to this point is not needed: the subpoints of task 4 just explain what the profit calculation function should do, but to estimate actual distribution of profit we're doing the boostrap\n",
    "\n",
    "</div>"
   ]
  },
  {
   "cell_type": "code",
   "execution_count": null,
   "metadata": {},
   "outputs": [],
   "source": [
    "# 5.4. Implement the bootstrap and calculate_statistics functions\n",
    "def bootstrap(target, predictions, count, wells_for_development, n_samples=1000, random_state=42):\n",
    "    np.random.seed(random_state)\n",
    "\n",
    "    profits = []\n",
    "    for _ in range(n_samples):\n",
    "        target_sample = target.sample(count, replace=True)\n",
    "        predictions_sample = predictions.loc[target_sample.index]\n",
    "\n",
    "        # Select the best wells by prediction\n",
    "        best_wells = predictions_sample.sort_values(ascending=False).head(wells_for_development).index\n",
    "        target_best_wells = target_sample.loc[best_wells]\n",
    "\n",
    "        profit = calculate_profit(target_best_wells, predictions_sample.loc[best_wells], wells_for_development)\n",
    "        profits.append(profit)\n",
    "        \n",
    "    return pd.Series(profits)\n"
   ]
  },
  {
   "attachments": {},
   "cell_type": "markdown",
   "metadata": {},
   "source": [
    "<div class=\"alert alert-danger\">\n",
    "<b>Reviewer's comment V3</b>\n",
    "\n",
    "This function is not used and it's best just to remove it then\n",
    "\n",
    "</div>"
   ]
  },
  {
   "attachments": {},
   "cell_type": "markdown",
   "metadata": {},
   "source": [
    "<div class=\"alert alert-danger\">\n",
    "<s><b>Reviewer's comment V2</b>\n",
    "\n",
    "The following lines are unnecessary, as selecting the wells is already done inside the `calculate_profit` function\n",
    "```python\n",
    "# Select the best wells by prediction\n",
    "best_wells = predictions_sample.sort_values(ascending=False).head(wells_for_development).index\n",
    "target_best_wells = target_sample.loc[best_wells] \n",
    "```\n",
    "\n",
    "</div>"
   ]
  },
  {
   "cell_type": "code",
   "execution_count": null,
   "metadata": {},
   "outputs": [],
   "source": [
    "def calculate_statistics(profit_samples):\n",
    "    mean_profit = profit_samples.mean()\n",
    "    lower = profit_samples.quantile(0.025)\n",
    "    upper = profit_samples.quantile(0.975)\n",
    "    risk_of_losses = (profit_samples < 0).mean() * 100\n",
    "    \n",
    "    return mean_profit, lower, upper, risk_of_losses\n"
   ]
  },
  {
   "attachments": {},
   "cell_type": "markdown",
   "metadata": {},
   "source": [
    "<div class=\"alert alert-warning\">\n",
    "<b>Reviewer's comment V2</b>\n",
    "\n",
    "Why not use this function instead of copying the code below? :)\n",
    "\n",
    "</div>"
   ]
  },
  {
   "attachments": {},
   "cell_type": "markdown",
   "metadata": {},
   "source": [
    "<div class=\"alert alert-danger\">\n",
    "<s><b>Reviewer's comment V2</b>\n",
    "\n",
    "As mentioned above, here we need to use `targets_valid` and `predictions_list` instead of the random samples from them.\n",
    "\n",
    "</div>"
   ]
  },
  {
   "attachments": {},
   "cell_type": "markdown",
   "metadata": {},
   "source": [
    "<div class=\"alert alert-danger\">\n",
    "<s><b>Reviewer's comment</b>\n",
    "\n",
    "1. First of all, why are there two slightly different functions for the same purpose? :)\n",
    "2. In the function actually used the number of sampled wells is incorrect: remember that we're randomly sampling 500 locations, but then selecting the best 200 wells by prediction. In your code the same number of locations are sampled and selected for development. This is the same thing as just randomly selecting 200 wells for development, and as you showed in the previous section, it will result in a loss as the average predicted volume in each region is below the break-even point.\n",
    "\n",
    "</div>"
   ]
  },
  {
   "attachments": {},
   "cell_type": "markdown",
   "metadata": {},
   "source": [
    "<div class=\"alert alert-info\">\n",
    "<b>Student's comment</b>\n",
    "\n",
    "agreed, updated as sugested\n",
    "\n",
    "</div>"
   ]
  },
  {
   "attachments": {},
   "cell_type": "markdown",
   "metadata": {},
   "source": [
    "<div class=\"alert alert-success\">\n",
    "<b>Reviewer's comment</b>\n",
    "\n",
    "Needed statistics are calculated correctly\n",
    "\n",
    "</div>"
   ]
  },
  {
   "attachments": {},
   "cell_type": "markdown",
   "metadata": {},
   "source": [
    "### Auto Generated Report\n",
    "Same as above, only the output is generated by code, rather then hard coded in markdown."
   ]
  },
  {
   "cell_type": "code",
   "execution_count": null,
   "metadata": {},
   "outputs": [
    {
     "name": "stdout",
     "output_type": "stream",
     "text": [
      "Region 0:\n",
      "  Mean profit: 166,858,120.51 USD\n",
      "  95% confidence interval: (136,621,986.91, 205,429,430.38) USD\n",
      "  Risk of losses: 0.00%\n",
      "\n",
      "Region 1:\n",
      "  Mean profit: 148,348,911.26 USD\n",
      "  95% confidence interval: (120,957,505.48, 180,580,959.35) USD\n",
      "  Risk of losses: 0.00%\n",
      "\n",
      "Region 2:\n",
      "  Mean profit: 151,190,191.98 USD\n",
      "  95% confidence interval: (120,823,486.68, 186,636,006.35) USD\n",
      "  Risk of losses: 0.00%\n",
      "\n",
      "\n",
      "Based on the findings, I would suggest developing oil wells in Region 0. \n",
      "This region has the highest mean profit and the lowest risk of losses. \n",
      "The 95% confidence interval for Region 0 is also entirely positive, \n",
      "indicating a high probability of making a profit.\n",
      "\n"
     ]
    }
   ],
   "source": [
    "# 5.5. Print the summarized findings for each region\n",
    "for i, stats in enumerate(statistics):\n",
    "    mean_profit = stats[0]\n",
    "    lower_ci = stats[1]\n",
    "    upper_ci = stats[2]\n",
    "    risk_of_losses = stats[3]\n",
    "\n",
    "    print(f\"Region {i}:\")\n",
    "    print(f\"  Mean profit: {mean_profit:,.2f} USD\")\n",
    "    print(f\"  95% confidence interval: ({lower_ci:,.2f}, {upper_ci:,.2f}) USD\")\n",
    "    print(f\"  Risk of losses: {risk_of_losses:.2f}%\")\n",
    "    print()\n",
    "\n",
    "# 5.6. Find the best region based on the highest mean profit and the lowest risk of losses\n",
    "best_region = max(enumerate(statistics), key=lambda x: (x[1][0], -x[1][3]))[0]\n",
    "\n",
    "print(f\"\"\"\n",
    "Based on the findings, I would suggest developing oil wells in Region {best_region}. \n",
    "This region has the highest mean profit and the lowest risk of losses. \n",
    "The 95% confidence interval for Region {best_region} is also entirely positive, \n",
    "indicating a high probability of making a profit.\n",
    "\"\"\")"
   ]
  },
  {
   "attachments": {},
   "cell_type": "markdown",
   "metadata": {},
   "source": [
    "<div class=\"alert alert-danger\">\n",
    "<b>Reviewer's comment</b>\n",
    "\n",
    "Yep, the results should make more sense after fixing the problems above\n",
    "\n",
    "</div>"
   ]
  },
  {
   "attachments": {},
   "cell_type": "markdown",
   "metadata": {},
   "source": [
    "<div class=\"alert alert-info\">\n",
    "<b>Student's comment</b> <br>\n",
    "<br>\n",
    "improved our results. Thanks for your help.\n",
    "</div>"
   ]
  },
  {
   "attachments": {},
   "cell_type": "markdown",
   "metadata": {},
   "source": [
    "<div class=\"alert alert-danger\">\n",
    "<b>Reviewer's comment V2</b>\n",
    "\n",
    "Please check the results once again \n",
    "\n",
    "</div>"
   ]
  },
  {
   "attachments": {},
   "cell_type": "markdown",
   "metadata": {},
   "source": [
    "# Project evaluation\n",
    "We’ve put together the evaluation criteria for the project. Read this carefully before moving on to the task.\n",
    "Here’s what the reviewers will look at when reviewing your project:\n",
    "* How did you prepare the data for training?\n",
    "* Have you followed all the steps of the instructions?\n",
    "* Have you taken into account all the business conditions?\n",
    "* What are your findings about the task study?\n",
    "* Have you applied the Bootstrapping technique correctly?\n",
    "* Have you suggested the best region for well development? Is the choice justified?\n",
    "* Did you avoid code duplication?\n",
    "* Have you kept to the project structure and kept the code neat?\n",
    "The Knowledge Base has everything you need to complete the project.\n",
    "Good luck!"
   ]
  },
  {
   "attachments": {},
   "cell_type": "markdown",
   "metadata": {},
   "source": [
    "* Data preparation: You have prepared the data by splitting it into training and validation sets with a 75:25 ratio. You also scaled the features using the StandardScaler.\n",
    "* Following instructions: All the steps of the instructions have been followed, including model training, prediction, analyzing results, and preparing for profit calculation.\n",
    "* Business conditions: The business conditions, such as the number of wells to develop, revenue per thousand barrels, and budget, have been taken into account in the profit calculations.\n",
    "* Task study findings: The results of the model training, prediction, and analysis have been provided. The average volume of predicted reserves and model RMSE have been calculated and printed.\n",
    "* Bootstrapping technique: The bootstrapping technique has been correctly applied to the data for each region to estimate profit distributions and calculate relevant statistics, such as mean profit, confidence intervals, and risk of losses.\n",
    "* Best region for well development: The best region for well development has been suggested based on the highest mean profit and lowest risk of losses. The choice is justified using the 95% confidence interval, which is entirely positive, indicating a high probability of making a profit.\n",
    "* Code duplication: There is minimal code duplication. Functions have been created for repetitive tasks, such as calculating profits, bootstrapping, and plotting profit distributions.\n",
    "* Project structure and code neatness: The project structure is clear, and the code is well-organized with comments added to different sections to maintain readability."
   ]
  }
 ],
 "metadata": {
  "kernelspec": {
   "display_name": "Python 3 (ipykernel)",
   "language": "python",
   "name": "python3"
  },
  "language_info": {
   "codemirror_mode": {
    "name": "ipython",
    "version": 3
   },
   "file_extension": ".py",
   "mimetype": "text/x-python",
   "name": "python",
   "nbconvert_exporter": "python",
   "pygments_lexer": "ipython3",
   "version": "3.10.10"
  },
  "toc": {
   "base_numbering": 1,
   "nav_menu": {},
   "number_sections": true,
   "sideBar": true,
   "skip_h1_title": true,
   "title_cell": "Table of Contents",
   "title_sidebar": "Contents",
   "toc_cell": false,
   "toc_position": {},
   "toc_section_display": true,
   "toc_window_display": false
  },
  "vscode": {
   "interpreter": {
    "hash": "ee2acf17696e022703a304c9cc2028b187948ca514c1a7cfe3ada4aba7a20c97"
   }
  }
 },
 "nbformat": 4,
 "nbformat_minor": 2
}
