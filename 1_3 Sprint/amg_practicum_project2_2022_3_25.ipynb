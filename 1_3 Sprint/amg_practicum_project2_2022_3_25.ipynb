{
 "cells": [
  {
   "cell_type": "markdown",
   "metadata": {},
   "source": [
    "Hello, Adam! \n",
    "\n",
    "My name is Maksim Bulatov. I will check your project. I hope my review will be helpful. \n",
    "\n",
    "Below you will find my comments - **please do not move, modify or delete them**.\n",
    "\n",
    "You can find my comments in green, yellow or red boxes like this:\n",
    "\n",
    "<div class=\"alert alert-block alert-success\">\n",
    "<b>Reviewer's comment</b> <a class=\"tocSkip\"></a>\n",
    "\n",
    "Success. Everything is done succesfully.\n",
    "</div>\n",
    "\n",
    "<div class=\"alert alert-block alert-warning\">\n",
    "<b>Reviewer's comment</b> <a class=\"tocSkip\"></a>\n",
    "\n",
    "Remarks. Some recommendations.\n",
    "</div>\n",
    "\n",
    "<div class=\"alert alert-block alert-danger\">\n",
    "\n",
    "<b>Reviewer's comment</b> <a class=\"tocSkip\"></a>\n",
    "\n",
    "Needs fixing. The block requires some corrections. Work can't be accepted with the red comments.\n",
    "</div>\n",
    "\n",
    "You can answer me by using this:\n",
    "\n",
    "<div class=\"alert alert-block alert-info\">\n",
    "<b>Student answer.</b> <a class=\"tocSkip\"></a>\n",
    "\n",
    "Sample text\n",
    "</div>"
   ]
  },
  {
   "cell_type": "markdown",
   "metadata": {},
   "source": [
    "# Analyzing borrowers’ risk of defaulting\n",
    "\n",
    "Your project is to prepare a report for a bank’s loan division. You’ll need to find out if a customer’s marital status and number of children has an impact on whether they will default on a loan. The bank already has some data on customers’ credit worthiness.\n",
    "\n",
    "Your report will be considered when building the **credit score** of a potential customer. The **credit score** is used to evaluate the ability of a potential borrower to repay their loan.\n",
    "\n",
    "[In this notebook you're provided with hints and brief instructions and thinking prompts. Don't ignore them as they are designed to equip you with the structure for the project and will help you analyze what you're doing on a deeper level. Before submitting your project, make sure you remove all hints and descriptions provided to you. Instead, make this report look as if you're sending it to your teammates to demonstrate your findings - they shouldn't know you had some external help from us! To help you out, we've placed the hints you should remove in square brackets.]\n",
    "\n",
    "[Before you dive into analyzing your data, explain the purposes of the project and hypotheses you're going to test.]"
   ]
  },
  {
   "cell_type": "markdown",
   "metadata": {},
   "source": [
    "<div class=\"alert alert-block alert-success\">\n",
    "<b>Reviewer's comment</b> <a class=\"tocSkip\"></a>\n",
    "\n",
    "Great idea to have a description of the project at the beginning!\n",
    "</div>"
   ]
  },
  {
   "cell_type": "markdown",
   "metadata": {},
   "source": [
    "## Open the data file and have a look at the general information. \n",
    "\n",
    "[Start with importing the libraries and loading the data. You may realise that you need additional libraries as you go, which is totally fine - just make sure to update this section when you do.]"
   ]
  },
  {
   "cell_type": "markdown",
   "metadata": {},
   "source": [
    "<div class=\"alert alert-info\"> <b>Good Morning! </b> <br>\n",
    "    It's saturday morning, I'm over a week late on this project. If it's ok with you, I'd like to turn this in as a rough draft. Get feedback and clarification on the work I've done so far, and if I'm on the right track, I'll finish the categorization and conclusions section on the next pass..\n",
    "</div>\n"
   ]
  },
  {
   "cell_type": "markdown",
   "metadata": {},
   "source": [
    "<div class=\"alert alert-block alert-warning\">\n",
    "<b>Reviewer's comment</b> <a class=\"tocSkip\"></a>\n",
    "\n",
    "Do not forget also to ask your teacher in slack if you have questions or not sure how to proceed further:) They can reply faster to you and give you some usefull suggestions. Let us proceed further throught your code.\n",
    "</div>"
   ]
  },
  {
   "cell_type": "code",
   "execution_count": 1,
   "metadata": {},
   "outputs": [],
   "source": [
    "# Load libraries\n",
    "import pandas as pd\n",
    "import numpy as np\n",
    "import matplotlib.pyplot as plt"
   ]
  },
  {
   "cell_type": "code",
   "execution_count": 2,
   "metadata": {},
   "outputs": [
    {
     "data": {
      "text/html": [
       "<div>\n",
       "<style scoped>\n",
       "    .dataframe tbody tr th:only-of-type {\n",
       "        vertical-align: middle;\n",
       "    }\n",
       "\n",
       "    .dataframe tbody tr th {\n",
       "        vertical-align: top;\n",
       "    }\n",
       "\n",
       "    .dataframe thead th {\n",
       "        text-align: right;\n",
       "    }\n",
       "</style>\n",
       "<table border=\"1\" class=\"dataframe\">\n",
       "  <thead>\n",
       "    <tr style=\"text-align: right;\">\n",
       "      <th></th>\n",
       "      <th>children</th>\n",
       "      <th>days_employed</th>\n",
       "      <th>dob_years</th>\n",
       "      <th>education</th>\n",
       "      <th>education_id</th>\n",
       "      <th>family_status</th>\n",
       "      <th>family_status_id</th>\n",
       "      <th>gender</th>\n",
       "      <th>income_type</th>\n",
       "      <th>debt</th>\n",
       "      <th>total_income</th>\n",
       "      <th>purpose</th>\n",
       "    </tr>\n",
       "  </thead>\n",
       "  <tbody>\n",
       "    <tr>\n",
       "      <th>0</th>\n",
       "      <td>1</td>\n",
       "      <td>-8437.673028</td>\n",
       "      <td>42</td>\n",
       "      <td>bachelor's degree</td>\n",
       "      <td>0</td>\n",
       "      <td>married</td>\n",
       "      <td>0</td>\n",
       "      <td>F</td>\n",
       "      <td>employee</td>\n",
       "      <td>0</td>\n",
       "      <td>40620.102</td>\n",
       "      <td>purchase of the house</td>\n",
       "    </tr>\n",
       "    <tr>\n",
       "      <th>1</th>\n",
       "      <td>1</td>\n",
       "      <td>-4024.803754</td>\n",
       "      <td>36</td>\n",
       "      <td>secondary education</td>\n",
       "      <td>1</td>\n",
       "      <td>married</td>\n",
       "      <td>0</td>\n",
       "      <td>F</td>\n",
       "      <td>employee</td>\n",
       "      <td>0</td>\n",
       "      <td>17932.802</td>\n",
       "      <td>car purchase</td>\n",
       "    </tr>\n",
       "    <tr>\n",
       "      <th>2</th>\n",
       "      <td>0</td>\n",
       "      <td>-5623.422610</td>\n",
       "      <td>33</td>\n",
       "      <td>Secondary Education</td>\n",
       "      <td>1</td>\n",
       "      <td>married</td>\n",
       "      <td>0</td>\n",
       "      <td>M</td>\n",
       "      <td>employee</td>\n",
       "      <td>0</td>\n",
       "      <td>23341.752</td>\n",
       "      <td>purchase of the house</td>\n",
       "    </tr>\n",
       "    <tr>\n",
       "      <th>3</th>\n",
       "      <td>3</td>\n",
       "      <td>-4124.747207</td>\n",
       "      <td>32</td>\n",
       "      <td>secondary education</td>\n",
       "      <td>1</td>\n",
       "      <td>married</td>\n",
       "      <td>0</td>\n",
       "      <td>M</td>\n",
       "      <td>employee</td>\n",
       "      <td>0</td>\n",
       "      <td>42820.568</td>\n",
       "      <td>supplementary education</td>\n",
       "    </tr>\n",
       "    <tr>\n",
       "      <th>4</th>\n",
       "      <td>0</td>\n",
       "      <td>340266.072047</td>\n",
       "      <td>53</td>\n",
       "      <td>secondary education</td>\n",
       "      <td>1</td>\n",
       "      <td>civil partnership</td>\n",
       "      <td>1</td>\n",
       "      <td>F</td>\n",
       "      <td>retiree</td>\n",
       "      <td>0</td>\n",
       "      <td>25378.572</td>\n",
       "      <td>to have a wedding</td>\n",
       "    </tr>\n",
       "  </tbody>\n",
       "</table>\n",
       "</div>"
      ],
      "text/plain": [
       "   children  days_employed  dob_years            education  education_id  \\\n",
       "0         1   -8437.673028         42    bachelor's degree             0   \n",
       "1         1   -4024.803754         36  secondary education             1   \n",
       "2         0   -5623.422610         33  Secondary Education             1   \n",
       "3         3   -4124.747207         32  secondary education             1   \n",
       "4         0  340266.072047         53  secondary education             1   \n",
       "\n",
       "       family_status  family_status_id gender income_type  debt  total_income  \\\n",
       "0            married                 0      F    employee     0     40620.102   \n",
       "1            married                 0      F    employee     0     17932.802   \n",
       "2            married                 0      M    employee     0     23341.752   \n",
       "3            married                 0      M    employee     0     42820.568   \n",
       "4  civil partnership                 1      F     retiree     0     25378.572   \n",
       "\n",
       "                   purpose  \n",
       "0    purchase of the house  \n",
       "1             car purchase  \n",
       "2    purchase of the house  \n",
       "3  supplementary education  \n",
       "4        to have a wedding  "
      ]
     },
     "metadata": {},
     "output_type": "display_data"
    }
   ],
   "source": [
    "# Load data\n",
    "try:\n",
    "    df = pd.read_csv('credit_scoring_eng.csv')\n",
    "except:\n",
    "    df = pd.read_csv('/datasets/credit_scoring_eng.csv')\n",
    "\n",
    "#Test if the CSV loaded correctly\n",
    "display(df.head(5))"
   ]
  },
  {
   "cell_type": "markdown",
   "metadata": {},
   "source": [
    "<div class=\"alert alert-block alert-warning\">\n",
    "<b>Reviewer's comment</b> <a class=\"tocSkip\"></a>\n",
    "\n",
    "It is a good habbit to upload all the necessary libraries at the beginning of the project. Well done! \n",
    "Another good habbit is to separte the libraries upload and data upload. So it is better to do it in the separate cells. Also I like your code to load the data.\n",
    "</div>"
   ]
  },
  {
   "cell_type": "markdown",
   "metadata": {},
   "source": [
    "<div class=\"alert alert-info\"> <b>two cells, updated as sugested</b> <br>\n"
   ]
  },
  {
   "cell_type": "markdown",
   "metadata": {},
   "source": [
    "## Task 1. Data exploration\n",
    "\n",
    "**Description of the data**\n",
    "- `children` - the number of children in the family\n",
    "- `days_employed` - work experience in days\n",
    "- `dob_years` - client's age in years\n",
    "- `education` - client's education\n",
    "- `education_id` - education identifier\n",
    "- `family_status` - marital status\n",
    "- `family_status_id` - marital status identifier\n",
    "- `gender` - gender of the client\n",
    "- `income_type` - type of employment\n",
    "- `debt` - was there any debt on loan repayment\n",
    "- `total_income` - monthly income\n",
    "- `purpose` - the purpose of obtaining a loan\n",
    "\n",
    "[Now let's explore our data. You'll want to see how many columns and rows it has, look at a few rows to check for potential issues with the data.]"
   ]
  },
  {
   "cell_type": "markdown",
   "metadata": {},
   "source": [
    "<div class=\"alert alert-info\"> <b>debt - zero to one</b> <br>\n",
    "0 == debt is in good standing <br>\n",
    "1 == default\n",
    "<br>"
   ]
  },
  {
   "cell_type": "markdown",
   "metadata": {},
   "source": [
    "<div class=\"alert alert-block alert-warning\">\n",
    "<s><b>Reviewer's comment</b> <a class=\"tocSkip\"></a>\n",
    "\n",
    "If you are not sure what it means you can always ask your teacher or you can also quickly check how many rows are with 0 and how many with 1. I would say there are more zeros:) More people are managing their finance well, unless it is some market crash. \n",
    "</div>"
   ]
  },
  {
   "cell_type": "code",
   "execution_count": 3,
   "metadata": {},
   "outputs": [
    {
     "name": "stdout",
     "output_type": "stream",
     "text": [
      "0    19784\n",
      "1     1741\n",
      "Name: debt, dtype: int64\n"
     ]
    }
   ],
   "source": [
    "print(df['debt'].value_counts())"
   ]
  },
  {
   "cell_type": "markdown",
   "metadata": {},
   "source": [
    "<div class=\"alert alert-info\"> <b>Confirmed</b> <br>\n",
    "    0 == in good standing <br>\n",
    "    1 == debt delinquent <br>\n"
   ]
  },
  {
   "cell_type": "code",
   "execution_count": 4,
   "metadata": {},
   "outputs": [
    {
     "name": "stdout",
     "output_type": "stream",
     "text": [
      "<class 'pandas.core.frame.DataFrame'>\n",
      "RangeIndex: 21525 entries, 0 to 21524\n",
      "Data columns (total 12 columns):\n",
      " #   Column            Non-Null Count  Dtype  \n",
      "---  ------            --------------  -----  \n",
      " 0   children          21525 non-null  int64  \n",
      " 1   days_employed     19351 non-null  float64\n",
      " 2   dob_years         21525 non-null  int64  \n",
      " 3   education         21525 non-null  object \n",
      " 4   education_id      21525 non-null  int64  \n",
      " 5   family_status     21525 non-null  object \n",
      " 6   family_status_id  21525 non-null  int64  \n",
      " 7   gender            21525 non-null  object \n",
      " 8   income_type       21525 non-null  object \n",
      " 9   debt              21525 non-null  int64  \n",
      " 10  total_income      19351 non-null  float64\n",
      " 11  purpose           21525 non-null  object \n",
      "dtypes: float64(2), int64(5), object(5)\n",
      "memory usage: 2.0+ MB\n"
     ]
    }
   ],
   "source": [
    "# Let's see how many rows and columns our dataset has\n",
    "df.info()\n",
    "\n",
    "#Looks like there is something odd going on with the days_employed and total_Income column. Will look into that."
   ]
  },
  {
   "cell_type": "markdown",
   "metadata": {},
   "source": [
    "<div class=\"alert alert-block alert-warning\">\n",
    "<s><b>Reviewer's comment</b> <a class=\"tocSkip\"></a>\n",
    "\n",
    "```.info()``` is our most popular function and allows you to see a data structure, but also to see the amount of rows. You do not need additional lines of code for this. Could you please correct it?\n",
    "</div>"
   ]
  },
  {
   "cell_type": "markdown",
   "metadata": {},
   "source": [
    "<div class=\"alert alert-info\"> <b>Student Comment</b> <br>\n",
    "Confirmed\n"
   ]
  },
  {
   "cell_type": "code",
   "execution_count": 5,
   "metadata": {
    "scrolled": true
   },
   "outputs": [
    {
     "data": {
      "text/html": [
       "<div>\n",
       "<style scoped>\n",
       "    .dataframe tbody tr th:only-of-type {\n",
       "        vertical-align: middle;\n",
       "    }\n",
       "\n",
       "    .dataframe tbody tr th {\n",
       "        vertical-align: top;\n",
       "    }\n",
       "\n",
       "    .dataframe thead th {\n",
       "        text-align: right;\n",
       "    }\n",
       "</style>\n",
       "<table border=\"1\" class=\"dataframe\">\n",
       "  <thead>\n",
       "    <tr style=\"text-align: right;\">\n",
       "      <th></th>\n",
       "      <th>children</th>\n",
       "      <th>days_employed</th>\n",
       "      <th>dob_years</th>\n",
       "      <th>education</th>\n",
       "      <th>education_id</th>\n",
       "      <th>family_status</th>\n",
       "      <th>family_status_id</th>\n",
       "      <th>gender</th>\n",
       "      <th>income_type</th>\n",
       "      <th>debt</th>\n",
       "      <th>total_income</th>\n",
       "      <th>purpose</th>\n",
       "    </tr>\n",
       "  </thead>\n",
       "  <tbody>\n",
       "    <tr>\n",
       "      <th>0</th>\n",
       "      <td>1</td>\n",
       "      <td>-8437.673028</td>\n",
       "      <td>42</td>\n",
       "      <td>bachelor's degree</td>\n",
       "      <td>0</td>\n",
       "      <td>married</td>\n",
       "      <td>0</td>\n",
       "      <td>F</td>\n",
       "      <td>employee</td>\n",
       "      <td>0</td>\n",
       "      <td>40620.102</td>\n",
       "      <td>purchase of the house</td>\n",
       "    </tr>\n",
       "    <tr>\n",
       "      <th>1</th>\n",
       "      <td>1</td>\n",
       "      <td>-4024.803754</td>\n",
       "      <td>36</td>\n",
       "      <td>secondary education</td>\n",
       "      <td>1</td>\n",
       "      <td>married</td>\n",
       "      <td>0</td>\n",
       "      <td>F</td>\n",
       "      <td>employee</td>\n",
       "      <td>0</td>\n",
       "      <td>17932.802</td>\n",
       "      <td>car purchase</td>\n",
       "    </tr>\n",
       "    <tr>\n",
       "      <th>2</th>\n",
       "      <td>0</td>\n",
       "      <td>-5623.422610</td>\n",
       "      <td>33</td>\n",
       "      <td>Secondary Education</td>\n",
       "      <td>1</td>\n",
       "      <td>married</td>\n",
       "      <td>0</td>\n",
       "      <td>M</td>\n",
       "      <td>employee</td>\n",
       "      <td>0</td>\n",
       "      <td>23341.752</td>\n",
       "      <td>purchase of the house</td>\n",
       "    </tr>\n",
       "    <tr>\n",
       "      <th>3</th>\n",
       "      <td>3</td>\n",
       "      <td>-4124.747207</td>\n",
       "      <td>32</td>\n",
       "      <td>secondary education</td>\n",
       "      <td>1</td>\n",
       "      <td>married</td>\n",
       "      <td>0</td>\n",
       "      <td>M</td>\n",
       "      <td>employee</td>\n",
       "      <td>0</td>\n",
       "      <td>42820.568</td>\n",
       "      <td>supplementary education</td>\n",
       "    </tr>\n",
       "    <tr>\n",
       "      <th>4</th>\n",
       "      <td>0</td>\n",
       "      <td>340266.072047</td>\n",
       "      <td>53</td>\n",
       "      <td>secondary education</td>\n",
       "      <td>1</td>\n",
       "      <td>civil partnership</td>\n",
       "      <td>1</td>\n",
       "      <td>F</td>\n",
       "      <td>retiree</td>\n",
       "      <td>0</td>\n",
       "      <td>25378.572</td>\n",
       "      <td>to have a wedding</td>\n",
       "    </tr>\n",
       "    <tr>\n",
       "      <th>5</th>\n",
       "      <td>0</td>\n",
       "      <td>-926.185831</td>\n",
       "      <td>27</td>\n",
       "      <td>bachelor's degree</td>\n",
       "      <td>0</td>\n",
       "      <td>civil partnership</td>\n",
       "      <td>1</td>\n",
       "      <td>M</td>\n",
       "      <td>business</td>\n",
       "      <td>0</td>\n",
       "      <td>40922.170</td>\n",
       "      <td>purchase of the house</td>\n",
       "    </tr>\n",
       "    <tr>\n",
       "      <th>6</th>\n",
       "      <td>0</td>\n",
       "      <td>-2879.202052</td>\n",
       "      <td>43</td>\n",
       "      <td>bachelor's degree</td>\n",
       "      <td>0</td>\n",
       "      <td>married</td>\n",
       "      <td>0</td>\n",
       "      <td>F</td>\n",
       "      <td>business</td>\n",
       "      <td>0</td>\n",
       "      <td>38484.156</td>\n",
       "      <td>housing transactions</td>\n",
       "    </tr>\n",
       "    <tr>\n",
       "      <th>7</th>\n",
       "      <td>0</td>\n",
       "      <td>-152.779569</td>\n",
       "      <td>50</td>\n",
       "      <td>SECONDARY EDUCATION</td>\n",
       "      <td>1</td>\n",
       "      <td>married</td>\n",
       "      <td>0</td>\n",
       "      <td>M</td>\n",
       "      <td>employee</td>\n",
       "      <td>0</td>\n",
       "      <td>21731.829</td>\n",
       "      <td>education</td>\n",
       "    </tr>\n",
       "    <tr>\n",
       "      <th>8</th>\n",
       "      <td>2</td>\n",
       "      <td>-6929.865299</td>\n",
       "      <td>35</td>\n",
       "      <td>BACHELOR'S DEGREE</td>\n",
       "      <td>0</td>\n",
       "      <td>civil partnership</td>\n",
       "      <td>1</td>\n",
       "      <td>F</td>\n",
       "      <td>employee</td>\n",
       "      <td>0</td>\n",
       "      <td>15337.093</td>\n",
       "      <td>having a wedding</td>\n",
       "    </tr>\n",
       "    <tr>\n",
       "      <th>9</th>\n",
       "      <td>0</td>\n",
       "      <td>-2188.756445</td>\n",
       "      <td>41</td>\n",
       "      <td>secondary education</td>\n",
       "      <td>1</td>\n",
       "      <td>married</td>\n",
       "      <td>0</td>\n",
       "      <td>M</td>\n",
       "      <td>employee</td>\n",
       "      <td>0</td>\n",
       "      <td>23108.150</td>\n",
       "      <td>purchase of the house for my family</td>\n",
       "    </tr>\n",
       "    <tr>\n",
       "      <th>10</th>\n",
       "      <td>2</td>\n",
       "      <td>-4171.483647</td>\n",
       "      <td>36</td>\n",
       "      <td>bachelor's degree</td>\n",
       "      <td>0</td>\n",
       "      <td>married</td>\n",
       "      <td>0</td>\n",
       "      <td>M</td>\n",
       "      <td>business</td>\n",
       "      <td>0</td>\n",
       "      <td>18230.959</td>\n",
       "      <td>buy real estate</td>\n",
       "    </tr>\n",
       "    <tr>\n",
       "      <th>11</th>\n",
       "      <td>0</td>\n",
       "      <td>-792.701887</td>\n",
       "      <td>40</td>\n",
       "      <td>secondary education</td>\n",
       "      <td>1</td>\n",
       "      <td>married</td>\n",
       "      <td>0</td>\n",
       "      <td>F</td>\n",
       "      <td>employee</td>\n",
       "      <td>0</td>\n",
       "      <td>12331.077</td>\n",
       "      <td>buy commercial real estate</td>\n",
       "    </tr>\n",
       "    <tr>\n",
       "      <th>12</th>\n",
       "      <td>0</td>\n",
       "      <td>NaN</td>\n",
       "      <td>65</td>\n",
       "      <td>secondary education</td>\n",
       "      <td>1</td>\n",
       "      <td>civil partnership</td>\n",
       "      <td>1</td>\n",
       "      <td>M</td>\n",
       "      <td>retiree</td>\n",
       "      <td>0</td>\n",
       "      <td>NaN</td>\n",
       "      <td>to have a wedding</td>\n",
       "    </tr>\n",
       "    <tr>\n",
       "      <th>13</th>\n",
       "      <td>0</td>\n",
       "      <td>-1846.641941</td>\n",
       "      <td>54</td>\n",
       "      <td>some college</td>\n",
       "      <td>2</td>\n",
       "      <td>married</td>\n",
       "      <td>0</td>\n",
       "      <td>F</td>\n",
       "      <td>employee</td>\n",
       "      <td>0</td>\n",
       "      <td>20873.317</td>\n",
       "      <td>car purchase</td>\n",
       "    </tr>\n",
       "    <tr>\n",
       "      <th>14</th>\n",
       "      <td>0</td>\n",
       "      <td>-1844.956182</td>\n",
       "      <td>56</td>\n",
       "      <td>bachelor's degree</td>\n",
       "      <td>0</td>\n",
       "      <td>civil partnership</td>\n",
       "      <td>1</td>\n",
       "      <td>F</td>\n",
       "      <td>business</td>\n",
       "      <td>1</td>\n",
       "      <td>26420.466</td>\n",
       "      <td>buy residential real estate</td>\n",
       "    </tr>\n",
       "    <tr>\n",
       "      <th>15</th>\n",
       "      <td>1</td>\n",
       "      <td>-972.364419</td>\n",
       "      <td>26</td>\n",
       "      <td>secondary education</td>\n",
       "      <td>1</td>\n",
       "      <td>married</td>\n",
       "      <td>0</td>\n",
       "      <td>F</td>\n",
       "      <td>employee</td>\n",
       "      <td>0</td>\n",
       "      <td>18691.345</td>\n",
       "      <td>construction of own property</td>\n",
       "    </tr>\n",
       "    <tr>\n",
       "      <th>16</th>\n",
       "      <td>0</td>\n",
       "      <td>-1719.934226</td>\n",
       "      <td>35</td>\n",
       "      <td>secondary education</td>\n",
       "      <td>1</td>\n",
       "      <td>married</td>\n",
       "      <td>0</td>\n",
       "      <td>F</td>\n",
       "      <td>employee</td>\n",
       "      <td>0</td>\n",
       "      <td>46272.433</td>\n",
       "      <td>property</td>\n",
       "    </tr>\n",
       "    <tr>\n",
       "      <th>17</th>\n",
       "      <td>0</td>\n",
       "      <td>-2369.999720</td>\n",
       "      <td>33</td>\n",
       "      <td>bachelor's degree</td>\n",
       "      <td>0</td>\n",
       "      <td>civil partnership</td>\n",
       "      <td>1</td>\n",
       "      <td>M</td>\n",
       "      <td>employee</td>\n",
       "      <td>0</td>\n",
       "      <td>14465.694</td>\n",
       "      <td>building a property</td>\n",
       "    </tr>\n",
       "    <tr>\n",
       "      <th>18</th>\n",
       "      <td>0</td>\n",
       "      <td>400281.136913</td>\n",
       "      <td>53</td>\n",
       "      <td>secondary education</td>\n",
       "      <td>1</td>\n",
       "      <td>widow / widower</td>\n",
       "      <td>2</td>\n",
       "      <td>F</td>\n",
       "      <td>retiree</td>\n",
       "      <td>0</td>\n",
       "      <td>9091.804</td>\n",
       "      <td>buying a second-hand car</td>\n",
       "    </tr>\n",
       "    <tr>\n",
       "      <th>19</th>\n",
       "      <td>0</td>\n",
       "      <td>-10038.818549</td>\n",
       "      <td>48</td>\n",
       "      <td>SECONDARY EDUCATION</td>\n",
       "      <td>1</td>\n",
       "      <td>divorced</td>\n",
       "      <td>3</td>\n",
       "      <td>F</td>\n",
       "      <td>employee</td>\n",
       "      <td>0</td>\n",
       "      <td>38852.977</td>\n",
       "      <td>buying my own car</td>\n",
       "    </tr>\n",
       "  </tbody>\n",
       "</table>\n",
       "</div>"
      ],
      "text/plain": [
       "    children  days_employed  dob_years            education  education_id  \\\n",
       "0          1   -8437.673028         42    bachelor's degree             0   \n",
       "1          1   -4024.803754         36  secondary education             1   \n",
       "2          0   -5623.422610         33  Secondary Education             1   \n",
       "3          3   -4124.747207         32  secondary education             1   \n",
       "4          0  340266.072047         53  secondary education             1   \n",
       "5          0    -926.185831         27    bachelor's degree             0   \n",
       "6          0   -2879.202052         43    bachelor's degree             0   \n",
       "7          0    -152.779569         50  SECONDARY EDUCATION             1   \n",
       "8          2   -6929.865299         35    BACHELOR'S DEGREE             0   \n",
       "9          0   -2188.756445         41  secondary education             1   \n",
       "10         2   -4171.483647         36    bachelor's degree             0   \n",
       "11         0    -792.701887         40  secondary education             1   \n",
       "12         0            NaN         65  secondary education             1   \n",
       "13         0   -1846.641941         54         some college             2   \n",
       "14         0   -1844.956182         56    bachelor's degree             0   \n",
       "15         1    -972.364419         26  secondary education             1   \n",
       "16         0   -1719.934226         35  secondary education             1   \n",
       "17         0   -2369.999720         33    bachelor's degree             0   \n",
       "18         0  400281.136913         53  secondary education             1   \n",
       "19         0  -10038.818549         48  SECONDARY EDUCATION             1   \n",
       "\n",
       "        family_status  family_status_id gender income_type  debt  \\\n",
       "0             married                 0      F    employee     0   \n",
       "1             married                 0      F    employee     0   \n",
       "2             married                 0      M    employee     0   \n",
       "3             married                 0      M    employee     0   \n",
       "4   civil partnership                 1      F     retiree     0   \n",
       "5   civil partnership                 1      M    business     0   \n",
       "6             married                 0      F    business     0   \n",
       "7             married                 0      M    employee     0   \n",
       "8   civil partnership                 1      F    employee     0   \n",
       "9             married                 0      M    employee     0   \n",
       "10            married                 0      M    business     0   \n",
       "11            married                 0      F    employee     0   \n",
       "12  civil partnership                 1      M     retiree     0   \n",
       "13            married                 0      F    employee     0   \n",
       "14  civil partnership                 1      F    business     1   \n",
       "15            married                 0      F    employee     0   \n",
       "16            married                 0      F    employee     0   \n",
       "17  civil partnership                 1      M    employee     0   \n",
       "18    widow / widower                 2      F     retiree     0   \n",
       "19           divorced                 3      F    employee     0   \n",
       "\n",
       "    total_income                              purpose  \n",
       "0      40620.102                purchase of the house  \n",
       "1      17932.802                         car purchase  \n",
       "2      23341.752                purchase of the house  \n",
       "3      42820.568              supplementary education  \n",
       "4      25378.572                    to have a wedding  \n",
       "5      40922.170                purchase of the house  \n",
       "6      38484.156                 housing transactions  \n",
       "7      21731.829                            education  \n",
       "8      15337.093                     having a wedding  \n",
       "9      23108.150  purchase of the house for my family  \n",
       "10     18230.959                      buy real estate  \n",
       "11     12331.077           buy commercial real estate  \n",
       "12           NaN                    to have a wedding  \n",
       "13     20873.317                         car purchase  \n",
       "14     26420.466          buy residential real estate  \n",
       "15     18691.345         construction of own property  \n",
       "16     46272.433                             property  \n",
       "17     14465.694                  building a property  \n",
       "18      9091.804             buying a second-hand car  \n",
       "19     38852.977                    buying my own car  "
      ]
     },
     "metadata": {},
     "output_type": "display_data"
    }
   ],
   "source": [
    "# Display the first 15 rows\n",
    "display(df.head(20))\n"
   ]
  },
  {
   "cell_type": "markdown",
   "metadata": {
    "scrolled": false
   },
   "source": [
    " <div class=\"alert alert-info\"> <b>Notes:</b> <br>\n",
    "Negative Numbers in days employed <br>\n",
    "NaN value in at row 12 for days_employed and total_income. <br>\n",
    "Probable the pattern holds thought the whole dataset. <br>\n",
    "As those are the columns that are out of sync from above <br>\n",
    "Will investigate further <br>\n",
    "\n",
    "</div>"
   ]
  },
  {
   "cell_type": "markdown",
   "metadata": {},
   "source": [
    "<div class=\"alert alert-block alert-success\">\n",
    "<b>Reviewer's comment</b> <a class=\"tocSkip\"></a>\n",
    "    \n",
    "Well done description of the data! Sometimes it is enough to see couple of lines of the data to detect some artifacts.\n",
    "</div>"
   ]
  },
  {
   "cell_type": "markdown",
   "metadata": {},
   "source": [
    " <div class=\"alert alert-info\"> <b>Note:</b> <br>\n",
    "The values count from above suggested there should be 21525 non_null values... but I cound 232212... What am I missing?\") <br>\n",
    "    Oh Size and len are not the same.\n",
    "\n",
    "</div>"
   ]
  },
  {
   "cell_type": "markdown",
   "metadata": {},
   "source": [
    "<div class=\"alert alert-block alert-danger\">\n",
    "<s><b>Reviewer's comment</b> <a class=\"tocSkip\"></a>\n",
    "\n",
    "I think you have confused here ```.shape()``` with ```.size()``` functions. Size gives the size of your dataset, meaning amount of rows multiply by amount of columns. I think also these part of code can be removed. Below you show how many rows are having missing values. Could you please correct it?\n",
    "</div>"
   ]
  },
  {
   "cell_type": "markdown",
   "metadata": {},
   "source": [
    " <div class=\"alert alert-info\"> <b>Student Comment</b> <br>\n",
    "Agreed, I was confusing .shape() and .size(). I knew something wasn't right, I just coun't put my finger on it. thank you. <br>\n",
    "I've cleaned up the code, and moved it all to the cell below.\n",
    "    \n",
    "</div>"
   ]
  },
  {
   "cell_type": "markdown",
   "metadata": {},
   "source": [
    "<div class=\"alert alert-block alert-success\">\n",
    "<b>Reviewer's comment.V.2.</b> <a class=\"tocSkip\"></a>\n",
    "    \n",
    "Great!\n",
    "</div>\n"
   ]
  },
  {
   "cell_type": "markdown",
   "metadata": {},
   "source": [
    " <div class=\"alert alert-info\"> <b>Note:</b> <br>\n",
    "DF_sync is designed to capture all of the rows where ['days_employed'] AND ['total_income'] have NaN values. <br>\n",
    "    This returns 2174 rows. This is the same differene in row counts we expect to see from the values_count() expression earlier. <br>\n",
    "Hypothesis If rows where 'days_employed' == x, AND rows 'total_income' == x, Then if the rows are the same rows, x should equil the number of rows where both Nan values for 'days_employed' and Nan values for 'total_income' are true. <br>\n",
    "    <br>\n",
    "    I'm trying to write a hypothesis. Please advise on a better way to write this out in simple language.\n",
    "\n",
    "</div>"
   ]
  },
  {
   "cell_type": "code",
   "execution_count": 6,
   "metadata": {},
   "outputs": [
    {
     "name": "stdout",
     "output_type": "stream",
     "text": [
      "There are 2174 NaN entries in days employed\n",
      "There are 2174 NaN entries in total_income\n",
      "There are 2174 rows where total_income and days_employed are both NaN\n",
      "Thus, the missing values are in sync, (and not escew) accross the data set.\n"
     ]
    }
   ],
   "source": [
    "#Test to see if the data is symetric or non symetric.\n",
    "\n",
    "# is the number of rows were Nan days_employed and NaN total_income == the rows were NaN is True is both columns.\n",
    "\n",
    "print\n",
    "days_employed_nan = df['days_employed'].isnull().sum()\n",
    "print(f'There are {days_employed_nan} NaN entries in days employed')\n",
    "total_income_nan = df['total_income'].isnull().sum()\n",
    "print(f'There are {total_income_nan} NaN entries in total_income')\n",
    "df_sync = df[(df['days_employed'].isnull()) & (df['total_income'].isnull())]\n",
    "print(f'There are {len(df_sync)} rows where total_income and days_employed are both NaN')\n",
    "print('Thus, the missing values are in sync, (and not escew) accross the data set.')"
   ]
  },
  {
   "cell_type": "markdown",
   "metadata": {},
   "source": [
    " <div class=\"alert alert-info\"> <b>Hypothosis:</b> <br>\n",
    "Unemployed individuals might have NaN values for both days_employed and total_income. <br>\n",
    "    Difficult to imagine another cause with the information we have available.\n",
    "\n",
    "</div>"
   ]
  },
  {
   "cell_type": "markdown",
   "metadata": {},
   "source": [
    "<div class=\"alert alert-block alert-warning\">\n",
    "<s><b>Reviewer's comment</b> <a class=\"tocSkip\"></a>\n",
    "\n",
    "Great idea to check if the missing values in both columns are in the same rows. As we can see it is true, but you can double check by calculating how many rows are missing in the original dataset.\n",
    "\n",
    "Concerning your code: remove the lines which are not related to the results, basically you can write just one line of the code to print the shape without even using ```print()``` function. Remember your code should be clean and if it is possible simple as well. \n",
    "    \n",
    "Description: I like you describe why and what you do. It is really important to do it here. You can write your ideas why we have missing values, at this moment we do not know for sure, we need to investigate more.\n",
    "    \n",
    "Could you please correct it?\n",
    "</div>"
   ]
  },
  {
   "cell_type": "markdown",
   "metadata": {},
   "source": [
    "<div class=\"alert alert-block alert-success\">\n",
    "<b>Reviewer's comment.V.2.</b> <a class=\"tocSkip\"></a>\n",
    "    \n",
    "Good! It is ok to assume something, but it should be always checked.\n",
    "</div>\n"
   ]
  },
  {
   "cell_type": "code",
   "execution_count": 7,
   "metadata": {},
   "outputs": [
    {
     "data": {
      "text/html": [
       "<div>\n",
       "<style scoped>\n",
       "    .dataframe tbody tr th:only-of-type {\n",
       "        vertical-align: middle;\n",
       "    }\n",
       "\n",
       "    .dataframe tbody tr th {\n",
       "        vertical-align: top;\n",
       "    }\n",
       "\n",
       "    .dataframe thead th {\n",
       "        text-align: right;\n",
       "    }\n",
       "</style>\n",
       "<table border=\"1\" class=\"dataframe\">\n",
       "  <thead>\n",
       "    <tr style=\"text-align: right;\">\n",
       "      <th></th>\n",
       "      <th>children</th>\n",
       "      <th>days_employed</th>\n",
       "      <th>dob_years</th>\n",
       "      <th>education</th>\n",
       "      <th>education_id</th>\n",
       "      <th>family_status</th>\n",
       "      <th>family_status_id</th>\n",
       "      <th>gender</th>\n",
       "      <th>income_type</th>\n",
       "      <th>debt</th>\n",
       "      <th>total_income</th>\n",
       "      <th>purpose</th>\n",
       "    </tr>\n",
       "  </thead>\n",
       "  <tbody>\n",
       "    <tr>\n",
       "      <th>12</th>\n",
       "      <td>0</td>\n",
       "      <td>NaN</td>\n",
       "      <td>65</td>\n",
       "      <td>secondary education</td>\n",
       "      <td>1</td>\n",
       "      <td>civil partnership</td>\n",
       "      <td>1</td>\n",
       "      <td>M</td>\n",
       "      <td>retiree</td>\n",
       "      <td>0</td>\n",
       "      <td>NaN</td>\n",
       "      <td>to have a wedding</td>\n",
       "    </tr>\n",
       "    <tr>\n",
       "      <th>26</th>\n",
       "      <td>0</td>\n",
       "      <td>NaN</td>\n",
       "      <td>41</td>\n",
       "      <td>secondary education</td>\n",
       "      <td>1</td>\n",
       "      <td>married</td>\n",
       "      <td>0</td>\n",
       "      <td>M</td>\n",
       "      <td>civil servant</td>\n",
       "      <td>0</td>\n",
       "      <td>NaN</td>\n",
       "      <td>education</td>\n",
       "    </tr>\n",
       "    <tr>\n",
       "      <th>29</th>\n",
       "      <td>0</td>\n",
       "      <td>NaN</td>\n",
       "      <td>63</td>\n",
       "      <td>secondary education</td>\n",
       "      <td>1</td>\n",
       "      <td>unmarried</td>\n",
       "      <td>4</td>\n",
       "      <td>F</td>\n",
       "      <td>retiree</td>\n",
       "      <td>0</td>\n",
       "      <td>NaN</td>\n",
       "      <td>building a real estate</td>\n",
       "    </tr>\n",
       "    <tr>\n",
       "      <th>41</th>\n",
       "      <td>0</td>\n",
       "      <td>NaN</td>\n",
       "      <td>50</td>\n",
       "      <td>secondary education</td>\n",
       "      <td>1</td>\n",
       "      <td>married</td>\n",
       "      <td>0</td>\n",
       "      <td>F</td>\n",
       "      <td>civil servant</td>\n",
       "      <td>0</td>\n",
       "      <td>NaN</td>\n",
       "      <td>second-hand car purchase</td>\n",
       "    </tr>\n",
       "    <tr>\n",
       "      <th>55</th>\n",
       "      <td>0</td>\n",
       "      <td>NaN</td>\n",
       "      <td>54</td>\n",
       "      <td>secondary education</td>\n",
       "      <td>1</td>\n",
       "      <td>civil partnership</td>\n",
       "      <td>1</td>\n",
       "      <td>F</td>\n",
       "      <td>retiree</td>\n",
       "      <td>1</td>\n",
       "      <td>NaN</td>\n",
       "      <td>to have a wedding</td>\n",
       "    </tr>\n",
       "  </tbody>\n",
       "</table>\n",
       "</div>"
      ],
      "text/plain": [
       "    children  days_employed  dob_years            education  education_id  \\\n",
       "12         0            NaN         65  secondary education             1   \n",
       "26         0            NaN         41  secondary education             1   \n",
       "29         0            NaN         63  secondary education             1   \n",
       "41         0            NaN         50  secondary education             1   \n",
       "55         0            NaN         54  secondary education             1   \n",
       "\n",
       "        family_status  family_status_id gender    income_type  debt  \\\n",
       "12  civil partnership                 1      M        retiree     0   \n",
       "26            married                 0      M  civil servant     0   \n",
       "29          unmarried                 4      F        retiree     0   \n",
       "41            married                 0      F  civil servant     0   \n",
       "55  civil partnership                 1      F        retiree     1   \n",
       "\n",
       "    total_income                   purpose  \n",
       "12           NaN         to have a wedding  \n",
       "26           NaN                 education  \n",
       "29           NaN    building a real estate  \n",
       "41           NaN  second-hand car purchase  \n",
       "55           NaN         to have a wedding  "
      ]
     },
     "execution_count": 7,
     "metadata": {},
     "output_type": "execute_result"
    }
   ],
   "source": [
    "#filter a NaN only table\n",
    "df_nan = df[df.isna().any(axis=1)]\n",
    "df_nan.head(5)"
   ]
  },
  {
   "cell_type": "code",
   "execution_count": 8,
   "metadata": {},
   "outputs": [
    {
     "name": "stdout",
     "output_type": "stream",
     "text": [
      "The total data set is (21525, 12) rows long\n",
      "The NaN data set is (2174, 12) rows long\n",
      "Whow! The NaN values are 10.10% of the dataframe. We might have a problem.\n"
     ]
    }
   ],
   "source": [
    "# Let's apply multiple conditions for filtering data and look at the number of rows in the filtered table.\n",
    "\n",
    "\n",
    "\n",
    "print(f'The total data set is {df.shape} rows long')\n",
    "print(f'The NaN data set is {df_nan.shape} rows long')\n",
    "df_nan_percent = df_nan.size / df.size\n",
    "print(f'Whow! The NaN values are {df_nan_percent:.2%} of the dataframe. We might have a problem.')\n",
    "\n",
    "# I wanted to practive a bit with f'strings, as they're still a bit intimidating. \n",
    "# Can re-write if needed for best practices."
   ]
  },
  {
   "cell_type": "markdown",
   "metadata": {},
   "source": [
    " <div class=\"alert alert-info\"> <b>Note:</b> <br>\n",
    "Whow! The NaN rows are 10.10% of the dataframe. We might have a problem. <br>\n",
    "</div>"
   ]
  },
  {
   "cell_type": "markdown",
   "metadata": {},
   "source": [
    "<div class=\"alert alert-block alert-warning\">\n",
    "<s><b>Reviewer's comment</b> <a class=\"tocSkip\"></a>\n",
    "\n",
    "It is better to operate here with ```.shape``` function. Percentage calculated correctly:) \n",
    "\n",
    "</div>"
   ]
  },
  {
   "cell_type": "markdown",
   "metadata": {},
   "source": [
    " <div class=\"alert alert-info\"> <b>Student Note</b> <br>\n",
    "Updated. Please confirm correct now? <br>\n",
    "</div>"
   ]
  },
  {
   "cell_type": "markdown",
   "metadata": {},
   "source": [
    "<div class=\"alert alert-block alert-success\">\n",
    "<b>Reviewer's comment.V.2.</b> <a class=\"tocSkip\"></a>\n",
    "    \n",
    "Correct!\n",
    "</div>\n"
   ]
  },
  {
   "cell_type": "markdown",
   "metadata": {},
   "source": [
    "**Intermediate conclusion**\n",
    "\n",
    "[Does the number of rows in the filtered table match the number of missing values? What conclusion can we make from this?]\n",
    "\n",
    "[Calculate the percentage of the missing values compared to the whole dataset. Is it a considerably large piece of data? If so, you may want to fill the missing values. To do that, firstly we should consider whether the missing data could be due to the specific client characteristic, such as employment type or something else. You will need to decide which characteristic *you* think might be the reason. Secondly, we should check whether there's any dependence missing values have on the value of other indicators with the columns with identified specific client characteristic.]\n",
    "\n",
    "[Explain your next steps and how they correlate with the conclusions you made so far.]"
   ]
  },
  {
   "cell_type": "markdown",
   "metadata": {},
   "source": [
    "<div class=\"alert alert-block alert-warning\">\n",
    "<b>Reviewer's comment</b> <a class=\"tocSkip\"></a>\n",
    "\n",
    "I am not sure what this chapter mean? Do you want to describe here the next steps? Could you please change the chapter title, it is slightly misleading? It would be great if you could separate different parts of data evaluation in different chapters. It would be easier to follow your report. Also imagine this report you would show a bank’s loan division. So my message is to treat this project as a working case, all questions you have to figure out before writing the project. \n",
    "\n",
    "</div>"
   ]
  },
  {
   "cell_type": "code",
   "execution_count": 9,
   "metadata": {
    "scrolled": true
   },
   "outputs": [
    {
     "name": "stdout",
     "output_type": "stream",
     "text": [
      "-Original Data - income_type - \n",
      "employee                       0.516562\n",
      "business                       0.236237\n",
      "retiree                        0.179141\n",
      "civil servant                  0.067782\n",
      "entrepreneur                   0.000093\n",
      "unemployed                     0.000093\n",
      "student                        0.000046\n",
      "paternity / maternity leave    0.000046\n",
      "Name: income_type, dtype: float64\n",
      "\n",
      "-NaN Data - income_type - \n",
      "employee         0.508280\n",
      "business         0.233671\n",
      "retiree          0.189972\n",
      "civil servant    0.067617\n",
      "entrepreneur     0.000460\n",
      "Name: income_type, dtype: float64\n",
      "\n"
     ]
    }
   ],
   "source": [
    "# Checking distribution\n",
    "print('-Original Data - income_type - ')\n",
    "print(df['income_type'].value_counts(normalize=True))\n",
    "print()\n",
    "print('-NaN Data - income_type - ')\n",
    "print(df_nan['income_type'].value_counts(normalize=True))\n",
    "print()"
   ]
  },
  {
   "cell_type": "markdown",
   "metadata": {},
   "source": [
    "<div class=\"alert alert-info\"> <b>Note: income_type</b> <br>\n",
    "We created a dataframe of only the NaN data, and compared it's normalized value_counts to the original data, using income_type as our reference column. Distributions are similar, categories are within 1% of each other. <br>\n",
    "</div>"
   ]
  },
  {
   "cell_type": "markdown",
   "metadata": {},
   "source": [
    "<div class=\"alert alert-block alert-success\">\n",
    "<b>Reviewer's comment</b> <a class=\"tocSkip\"></a>\n",
    "\n",
    "Great idea to check the distribution of the income_type column. \n",
    "\n",
    "</div>"
   ]
  },
  {
   "cell_type": "code",
   "execution_count": 10,
   "metadata": {},
   "outputs": [
    {
     "name": "stdout",
     "output_type": "stream",
     "text": [
      "-Original Data - age\n",
      "0     0.004692\n",
      "19    0.000650\n",
      "20    0.002369\n",
      "21    0.005157\n",
      "22    0.008502\n",
      "23    0.011800\n",
      "24    0.012265\n",
      "25    0.016585\n",
      "26    0.018955\n",
      "27    0.022904\n",
      "28    0.023368\n",
      "29    0.025319\n",
      "30    0.025087\n",
      "31    0.026016\n",
      "32    0.023693\n",
      "33    0.026992\n",
      "34    0.028014\n",
      "35    0.028664\n",
      "36    0.025784\n",
      "37    0.024948\n",
      "38    0.027782\n",
      "39    0.026620\n",
      "40    0.028293\n",
      "41    0.028200\n",
      "42    0.027735\n",
      "43    0.023833\n",
      "44    0.025412\n",
      "45    0.023089\n",
      "46    0.022067\n",
      "47    0.022300\n",
      "48    0.024994\n",
      "49    0.023600\n",
      "50    0.023879\n",
      "51    0.020813\n",
      "52    0.022485\n",
      "53    0.021324\n",
      "54    0.022253\n",
      "55    0.020581\n",
      "56    0.022625\n",
      "57    0.021370\n",
      "58    0.021417\n",
      "59    0.020627\n",
      "60    0.017515\n",
      "61    0.016492\n",
      "62    0.016353\n",
      "63    0.012497\n",
      "64    0.012311\n",
      "65    0.009013\n",
      "66    0.008502\n",
      "67    0.007758\n",
      "68    0.004599\n",
      "69    0.003949\n",
      "70    0.003020\n",
      "71    0.002695\n",
      "72    0.001533\n",
      "73    0.000372\n",
      "74    0.000279\n",
      "75    0.000046\n",
      "Name: dob_years, dtype: float64\n",
      "\n",
      "-NaN Data - age\n",
      "0     0.004600\n",
      "19    0.000460\n",
      "20    0.002300\n",
      "21    0.008280\n",
      "22    0.007820\n",
      "23    0.016559\n",
      "24    0.009660\n",
      "25    0.010580\n",
      "26    0.016099\n",
      "27    0.016559\n",
      "28    0.026219\n",
      "29    0.022999\n",
      "30    0.026679\n",
      "31    0.029899\n",
      "32    0.017019\n",
      "33    0.023459\n",
      "34    0.031739\n",
      "35    0.029439\n",
      "36    0.028979\n",
      "37    0.024379\n",
      "38    0.024839\n",
      "39    0.023459\n",
      "40    0.030359\n",
      "41    0.027139\n",
      "42    0.029899\n",
      "43    0.022999\n",
      "44    0.020239\n",
      "45    0.022999\n",
      "46    0.022079\n",
      "47    0.027139\n",
      "48    0.021159\n",
      "49    0.022999\n",
      "50    0.023459\n",
      "51    0.022999\n",
      "52    0.024379\n",
      "53    0.020239\n",
      "54    0.025299\n",
      "55    0.022079\n",
      "56    0.024839\n",
      "57    0.025759\n",
      "58    0.025759\n",
      "59    0.015639\n",
      "60    0.017939\n",
      "61    0.017479\n",
      "62    0.017479\n",
      "63    0.013339\n",
      "64    0.017019\n",
      "65    0.009200\n",
      "66    0.009200\n",
      "67    0.007360\n",
      "68    0.004140\n",
      "69    0.002300\n",
      "70    0.001380\n",
      "71    0.002300\n",
      "72    0.000920\n",
      "73    0.000460\n",
      "Name: dob_years, dtype: float64\n",
      "\n"
     ]
    }
   ],
   "source": [
    "# Running a similar analysis for age data\n",
    "print('-Original Data - age')\n",
    "print(df['dob_years'].value_counts(normalize=True).sort_index())\n",
    "print()\n",
    "print('-NaN Data - age')\n",
    "print(df_nan['dob_years'].value_counts(normalize=True).sort_index())\n",
    "print()\n"
   ]
  },
  {
   "cell_type": "markdown",
   "metadata": {},
   "source": [
    "<div class=\"alert alert-info\"> <b>Note:</b> <br>\n",
    "I'd love to print the two data frames above side by side for easier comparison <br>\n",
    "    Let's go ahead and do that.\n",
    "</div>"
   ]
  },
  {
   "cell_type": "code",
   "execution_count": 11,
   "metadata": {},
   "outputs": [
    {
     "name": "stdout",
     "output_type": "stream",
     "text": [
      "    dob_years  dob_years_nan  diference\n",
      "0    0.004692       0.004600   0.000092\n",
      "19   0.000650       0.000460   0.000190\n",
      "20   0.002369       0.002300   0.000069\n",
      "21   0.005157       0.008280  -0.003123\n",
      "22   0.008502       0.007820   0.000682\n",
      "23   0.011800       0.016559  -0.004759\n",
      "24   0.012265       0.009660   0.002605\n",
      "25   0.016585       0.010580   0.006006\n",
      "26   0.018955       0.016099   0.002855\n",
      "27   0.022904       0.016559   0.006344\n",
      "28   0.023368       0.026219  -0.002851\n",
      "29   0.025319       0.022999   0.002320\n",
      "30   0.025087       0.026679  -0.001592\n",
      "31   0.026016       0.029899  -0.003883\n",
      "32   0.023693       0.017019   0.006674\n",
      "33   0.026992       0.023459   0.003533\n",
      "34   0.028014       0.031739  -0.003725\n",
      "35   0.028664       0.029439  -0.000774\n",
      "36   0.025784       0.028979  -0.003195\n",
      "37   0.024948       0.024379   0.000569\n",
      "38   0.027782       0.024839   0.002943\n",
      "39   0.026620       0.023459   0.003161\n",
      "40   0.028293       0.030359  -0.002066\n",
      "41   0.028200       0.027139   0.001061\n",
      "42   0.027735       0.029899  -0.002164\n",
      "43   0.023833       0.022999   0.000834\n",
      "44   0.025412       0.020239   0.005173\n",
      "45   0.023089       0.022999   0.000090\n",
      "46   0.022067       0.022079  -0.000012\n",
      "47   0.022300       0.027139  -0.004839\n",
      "48   0.024994       0.021159   0.003835\n",
      "49   0.023600       0.022999   0.000601\n",
      "50   0.023879       0.023459   0.000420\n",
      "51   0.020813       0.022999  -0.002186\n",
      "52   0.022485       0.024379  -0.001894\n",
      "53   0.021324       0.020239   0.001085\n",
      "54   0.022253       0.025299  -0.003046\n",
      "55   0.020581       0.022079  -0.001498\n",
      "56   0.022625       0.024839  -0.002214\n",
      "57   0.021370       0.025759  -0.004388\n",
      "58   0.021417       0.025759  -0.004342\n",
      "59   0.020627       0.015639   0.004988\n",
      "60   0.017515       0.017939  -0.000425\n",
      "61   0.016492       0.017479  -0.000987\n",
      "62   0.016353       0.017479  -0.001126\n",
      "63   0.012497       0.013339  -0.000842\n",
      "64   0.012311       0.017019  -0.004708\n",
      "65   0.009013       0.009200  -0.000187\n",
      "66   0.008502       0.009200  -0.000698\n",
      "67   0.007758       0.007360   0.000399\n",
      "68   0.004599       0.004140   0.000459\n",
      "69   0.003949       0.002300   0.001649\n",
      "70   0.003020       0.001380   0.001640\n",
      "71   0.002695       0.002300   0.000395\n",
      "72   0.001533       0.000920   0.000613\n",
      "73   0.000372       0.000460  -0.000088\n",
      "74   0.000279            NaN        NaN\n",
      "75   0.000046            NaN        NaN\n"
     ]
    }
   ],
   "source": [
    "# We create two new dataframes and concatenate them together, then subtract the difference.\n",
    "# Our anticipation was for a slight difference...\n",
    "\n",
    "dob_years = df['dob_years'].value_counts(normalize=True).sort_index()\n",
    "dob_years_nan = df_nan['dob_years'].value_counts(normalize=True).sort_index()\n",
    "\n",
    "df_nan_age_compare  = pd.concat([dob_years,dob_years_nan], axis=1, keys=['dob_years','dob_years_nan'])\n",
    "df_nan_age_compare['diference'] = df_nan_age_compare['dob_years'] - df_nan_age_compare['dob_years_nan']\n",
    "print(df_nan_age_compare)"
   ]
  },
  {
   "cell_type": "markdown",
   "metadata": {},
   "source": [
    "<div class=\"alert alert-info\"> <b>Note: Age</b> <br>\n",
    "Variance on the age variable is nominal. This supports our hypothisis that the NaN data does not corrilate around the Age Data.\n",
    "</div>"
   ]
  },
  {
   "cell_type": "markdown",
   "metadata": {},
   "source": [
    "<div class=\"alert alert-block alert-success\">\n",
    "<b>Reviewer's comment</b> <a class=\"tocSkip\"></a>\n",
    "\n",
    "Well done! Indeed age also do not correlate with the missing values. \n",
    "\n",
    "</div>"
   ]
  },
  {
   "cell_type": "markdown",
   "metadata": {},
   "source": [
    "<div class=\"alert alert-info\"> <b>Next steps: </b> <br>\n"
   ]
  },
  {
   "cell_type": "markdown",
   "metadata": {},
   "source": [
    "<div class=\"alert alert-info\"> <b>Student Note: Updated </b> <br>\n"
   ]
  },
  {
   "cell_type": "markdown",
   "metadata": {},
   "source": [
    "<div class=\"alert alert-block alert-warning\">\n",
    "<s><b>Reviewer's comment</b> <a class=\"tocSkip\"></a>\n",
    "\n",
    "I like you write the descriptions after analyzing the data, but you should be more specific and write only that can help to follow your report. As I have mentioned previously we try to create here a realy case at your work. Imaging you are writing this report for your team or manager. They would need to read this report, understand it. Some of your ideas can be just implemented with code and with couple of sentences and it will allow the reader to follow your report.\n",
    "\n",
    "</div>"
   ]
  },
  {
   "cell_type": "markdown",
   "metadata": {},
   "source": [
    "<div class=\"alert alert-block alert-danger\">\n",
    "<s><b>Reviewer's comment</b> <a class=\"tocSkip\"></a>\n",
    "\n",
    "I understand, it might be confusing. The best way would be to ask your tacher for an advice, but you wrote some good ideas below, so you are on the right direction. I would delete this cell.\n",
    "\n",
    "</div>"
   ]
  },
  {
   "cell_type": "markdown",
   "metadata": {},
   "source": [
    " <div class=\"alert alert-info\"> <b>Complete</b> <br>\n"
   ]
  },
  {
   "cell_type": "markdown",
   "metadata": {},
   "source": [
    "<div class=\"alert alert-info\"> <b>Intermediate conclusion</b> <br>\n",
    "The rows with NaN data do not seem to corilate against any of the columns we tested for. <br>\n",
    "It seems the data originated when the Data was created. <br>\n",
    "<br>\n",
    "\n",
    "</div>"
   ]
  },
  {
   "cell_type": "markdown",
   "metadata": {},
   "source": [
    "<div class=\"alert alert-block alert-warning\">\n",
    "<s><b>Reviewer's comment</b> <a class=\"tocSkip\"></a>\n",
    "\n",
    "You are right, the missing values do not correlate to any other columns. It seems it is an error when the data were created maybe? I am not 100% agree about the unemployment, as we can see many of them have work title, just the amount of working experience is missing.\n",
    "\n",
    "</div>"
   ]
  },
  {
   "cell_type": "markdown",
   "metadata": {},
   "source": [
    "<div class=\"alert alert-info\"> <b>Next Steps | Data transformation </b> <br>\n",
    "    <b>education:</b> education column needs to be shifted to lowercase, and the data needs to be cleaned up a bit.\n",
    "    <br>\n",
    "<b>days_employed:</b> I suspect days_employed can be shifted to absolute value to make all numbers positive. <br>\n",
    "<b>purpose:</b> The purpose column is going to need a serous reoganization. Default Categories are a mess. <br>\n",
    "Review each column and determine what issues we have, and what repair the data. <br>\n",
    "Duplicates <br>\n",
    "different registers <br>\n",
    "incorrect artifacts <br>\n",
    "missing values <br>\n",
    "\n",
    "</div>"
   ]
  },
  {
   "cell_type": "markdown",
   "metadata": {},
   "source": [
    "<div class=\"alert alert-block alert-warning\">\n",
    "<s><b>Reviewer's comment</b> <a class=\"tocSkip\"></a>\n",
    "\n",
    "Could you please separate the different steps of data evaluation with chapters? it would make to look your report much better.\n",
    "\n",
    "</div>"
   ]
  },
  {
   "cell_type": "code",
   "execution_count": 12,
   "metadata": {
    "scrolled": true
   },
   "outputs": [
    {
     "data": {
      "text/html": [
       "<div>\n",
       "<style scoped>\n",
       "    .dataframe tbody tr th:only-of-type {\n",
       "        vertical-align: middle;\n",
       "    }\n",
       "\n",
       "    .dataframe tbody tr th {\n",
       "        vertical-align: top;\n",
       "    }\n",
       "\n",
       "    .dataframe thead th {\n",
       "        text-align: right;\n",
       "    }\n",
       "</style>\n",
       "<table border=\"1\" class=\"dataframe\">\n",
       "  <thead>\n",
       "    <tr style=\"text-align: right;\">\n",
       "      <th></th>\n",
       "      <th>children</th>\n",
       "      <th>days_employed</th>\n",
       "      <th>age</th>\n",
       "      <th>education</th>\n",
       "      <th>education_id</th>\n",
       "      <th>family_status</th>\n",
       "      <th>family_status_id</th>\n",
       "      <th>gender</th>\n",
       "      <th>income_type</th>\n",
       "      <th>debt</th>\n",
       "      <th>total_income</th>\n",
       "      <th>purpose</th>\n",
       "    </tr>\n",
       "  </thead>\n",
       "  <tbody>\n",
       "    <tr>\n",
       "      <th>0</th>\n",
       "      <td>1</td>\n",
       "      <td>-8437.673028</td>\n",
       "      <td>42</td>\n",
       "      <td>bachelor's degree</td>\n",
       "      <td>0</td>\n",
       "      <td>married</td>\n",
       "      <td>0</td>\n",
       "      <td>F</td>\n",
       "      <td>employee</td>\n",
       "      <td>0</td>\n",
       "      <td>40620.102</td>\n",
       "      <td>purchase of the house</td>\n",
       "    </tr>\n",
       "    <tr>\n",
       "      <th>1</th>\n",
       "      <td>1</td>\n",
       "      <td>-4024.803754</td>\n",
       "      <td>36</td>\n",
       "      <td>secondary education</td>\n",
       "      <td>1</td>\n",
       "      <td>married</td>\n",
       "      <td>0</td>\n",
       "      <td>F</td>\n",
       "      <td>employee</td>\n",
       "      <td>0</td>\n",
       "      <td>17932.802</td>\n",
       "      <td>car purchase</td>\n",
       "    </tr>\n",
       "  </tbody>\n",
       "</table>\n",
       "</div>"
      ],
      "text/plain": [
       "   children  days_employed  age            education  education_id  \\\n",
       "0         1   -8437.673028   42    bachelor's degree             0   \n",
       "1         1   -4024.803754   36  secondary education             1   \n",
       "\n",
       "  family_status  family_status_id gender income_type  debt  total_income  \\\n",
       "0       married                 0      F    employee     0     40620.102   \n",
       "1       married                 0      F    employee     0     17932.802   \n",
       "\n",
       "                 purpose  \n",
       "0  purchase of the house  \n",
       "1           car purchase  "
      ]
     },
     "execution_count": 12,
     "metadata": {},
     "output_type": "execute_result"
    }
   ],
   "source": [
    "# creating a new variable called data, which we'll use for datatransformations.\n",
    "data = df\n",
    "# renaming 'dob_years' to 'age'\n",
    "data = data.rename(columns = {'dob_years' : 'age'})\n",
    "                   \n",
    "#Check it worked\n",
    "data.head(2)"
   ]
  },
  {
   "cell_type": "markdown",
   "metadata": {},
   "source": [
    "<div class=\"alert alert-block alert-success\">\n",
    "<b>Reviewer's comment</b> <a class=\"tocSkip\"></a>\n",
    "\n",
    "Well done! Column is renamed. Write column naming is also important.\n",
    "\n",
    "</div>"
   ]
  },
  {
   "cell_type": "code",
   "execution_count": 13,
   "metadata": {},
   "outputs": [
    {
     "name": "stdout",
     "output_type": "stream",
     "text": [
      "income_type  business  civil servant  employee  entrepreneur  \\\n",
      "age                                                            \n",
      "0                20.0            6.0      55.0           NaN   \n",
      "19                7.0            1.0       6.0           NaN   \n",
      "20               16.0            2.0      33.0           NaN   \n",
      "21               35.0            7.0      69.0           NaN   \n",
      "22               64.0            6.0     111.0           NaN   \n",
      "23               67.0           11.0     176.0           NaN   \n",
      "24               82.0           19.0     162.0           NaN   \n",
      "25              108.0           27.0     222.0           NaN   \n",
      "26              119.0           38.0     249.0           NaN   \n",
      "27              143.0           37.0     309.0           1.0   \n",
      "28              149.0           39.0     314.0           NaN   \n",
      "29              148.0           49.0     348.0           NaN   \n",
      "30              161.0           47.0     332.0           NaN   \n",
      "31              177.0           52.0     329.0           NaN   \n",
      "32              127.0           40.0     340.0           NaN   \n",
      "33              159.0           37.0     383.0           NaN   \n",
      "34              172.0           49.0     379.0           NaN   \n",
      "35              192.0           45.0     379.0           NaN   \n",
      "36              164.0           52.0     334.0           NaN   \n",
      "37              146.0           47.0     339.0           NaN   \n",
      "38              180.0           45.0     364.0           NaN   \n",
      "39              164.0           43.0     360.0           NaN   \n",
      "40              178.0           46.0     377.0           NaN   \n",
      "41              175.0           48.0     377.0           NaN   \n",
      "42              168.0           54.0     362.0           NaN   \n",
      "43              142.0           37.0     325.0           NaN   \n",
      "44              157.0           40.0     340.0           NaN   \n",
      "45              117.0           47.0     319.0           NaN   \n",
      "46              133.0           35.0     293.0           NaN   \n",
      "47              133.0           42.0     292.0           NaN   \n",
      "48              151.0           47.0     317.0           NaN   \n",
      "49              111.0           44.0     321.0           NaN   \n",
      "50              132.0           40.0     276.0           NaN   \n",
      "51              108.0           38.0     219.0           NaN   \n",
      "52              113.0           34.0     231.0           NaN   \n",
      "53              110.0           27.0     202.0           NaN   \n",
      "54               93.0           19.0     204.0           NaN   \n",
      "55               63.0           20.0     183.0           NaN   \n",
      "56               81.0           22.0     175.0           NaN   \n",
      "57               66.0           22.0     123.0           NaN   \n",
      "58               48.0           23.0     149.0           1.0   \n",
      "59               41.0           14.0     113.0           NaN   \n",
      "60               34.0           10.0      63.0           NaN   \n",
      "61               30.0           10.0      73.0           NaN   \n",
      "62               24.0            9.0      56.0           NaN   \n",
      "63               15.0            8.0      36.0           NaN   \n",
      "64               20.0            7.0      30.0           NaN   \n",
      "65               15.0            8.0      18.0           NaN   \n",
      "66                7.0            4.0      15.0           NaN   \n",
      "67                7.0            NaN      13.0           NaN   \n",
      "68                1.0            NaN      11.0           NaN   \n",
      "69                1.0            2.0       5.0           NaN   \n",
      "70                4.0            1.0       4.0           NaN   \n",
      "71                1.0            1.0       3.0           NaN   \n",
      "72                4.0            NaN       NaN           NaN   \n",
      "73                1.0            NaN       NaN           NaN   \n",
      "74                1.0            NaN       1.0           NaN   \n",
      "75                NaN            1.0       NaN           NaN   \n",
      "All            5085.0         1459.0   11119.0           2.0   \n",
      "\n",
      "income_type  paternity / maternity leave  retiree  student  unemployed    All  \n",
      "age                                                                            \n",
      "0                                    NaN     20.0      NaN         NaN    101  \n",
      "19                                   NaN      NaN      NaN         NaN     14  \n",
      "20                                   NaN      NaN      NaN         NaN     51  \n",
      "21                                   NaN      NaN      NaN         NaN    111  \n",
      "22                                   NaN      1.0      1.0         NaN    183  \n",
      "23                                   NaN      NaN      NaN         NaN    254  \n",
      "24                                   NaN      1.0      NaN         NaN    264  \n",
      "25                                   NaN      NaN      NaN         NaN    357  \n",
      "26                                   NaN      2.0      NaN         NaN    408  \n",
      "27                                   NaN      3.0      NaN         NaN    493  \n",
      "28                                   NaN      1.0      NaN         NaN    503  \n",
      "29                                   NaN      NaN      NaN         NaN    545  \n",
      "30                                   NaN      NaN      NaN         NaN    540  \n",
      "31                                   NaN      1.0      NaN         1.0    560  \n",
      "32                                   NaN      3.0      NaN         NaN    510  \n",
      "33                                   NaN      2.0      NaN         NaN    581  \n",
      "34                                   NaN      3.0      NaN         NaN    603  \n",
      "35                                   NaN      1.0      NaN         NaN    617  \n",
      "36                                   NaN      5.0      NaN         NaN    555  \n",
      "37                                   NaN      5.0      NaN         NaN    537  \n",
      "38                                   NaN      9.0      NaN         NaN    598  \n",
      "39                                   1.0      5.0      NaN         NaN    573  \n",
      "40                                   NaN      8.0      NaN         NaN    609  \n",
      "41                                   NaN      7.0      NaN         NaN    607  \n",
      "42                                   NaN     13.0      NaN         NaN    597  \n",
      "43                                   NaN      9.0      NaN         NaN    513  \n",
      "44                                   NaN     10.0      NaN         NaN    547  \n",
      "45                                   NaN     13.0      NaN         1.0    497  \n",
      "46                                   NaN     14.0      NaN         NaN    475  \n",
      "47                                   NaN     13.0      NaN         NaN    480  \n",
      "48                                   NaN     23.0      NaN         NaN    538  \n",
      "49                                   NaN     32.0      NaN         NaN    508  \n",
      "50                                   NaN     66.0      NaN         NaN    514  \n",
      "51                                   NaN     83.0      NaN         NaN    448  \n",
      "52                                   NaN    106.0      NaN         NaN    484  \n",
      "53                                   NaN    120.0      NaN         NaN    459  \n",
      "54                                   NaN    163.0      NaN         NaN    479  \n",
      "55                                   NaN    177.0      NaN         NaN    443  \n",
      "56                                   NaN    209.0      NaN         NaN    487  \n",
      "57                                   NaN    249.0      NaN         NaN    460  \n",
      "58                                   NaN    240.0      NaN         NaN    461  \n",
      "59                                   NaN    276.0      NaN         NaN    444  \n",
      "60                                   NaN    270.0      NaN         NaN    377  \n",
      "61                                   NaN    242.0      NaN         NaN    355  \n",
      "62                                   NaN    263.0      NaN         NaN    352  \n",
      "63                                   NaN    210.0      NaN         NaN    269  \n",
      "64                                   NaN    208.0      NaN         NaN    265  \n",
      "65                                   NaN    153.0      NaN         NaN    194  \n",
      "66                                   NaN    157.0      NaN         NaN    183  \n",
      "67                                   NaN    147.0      NaN         NaN    167  \n",
      "68                                   NaN     87.0      NaN         NaN     99  \n",
      "69                                   NaN     77.0      NaN         NaN     85  \n",
      "70                                   NaN     56.0      NaN         NaN     65  \n",
      "71                                   NaN     53.0      NaN         NaN     58  \n",
      "72                                   NaN     29.0      NaN         NaN     33  \n",
      "73                                   NaN      7.0      NaN         NaN      8  \n",
      "74                                   NaN      4.0      NaN         NaN      6  \n",
      "75                                   NaN      NaN      NaN         NaN      1  \n",
      "All                                  1.0   3856.0      1.0         2.0  21525  \n"
     ]
    }
   ],
   "source": [
    "# age vs income_type\n",
    "print(data.pivot_table(index='age', columns='income_type', values='debt', aggfunc='count', margins=True))"
   ]
  },
  {
   "cell_type": "markdown",
   "metadata": {},
   "source": [
    "<div class=\"alert alert-info\"> <b>Next Steps | Data transformation </b> <br>\n",
    "1 entrepreneur who is 27, and another who is 58 years old. <br>\n",
    "So few business owners? <br>\n",
    "Lots of age zero people as well. That's odd. <br>\n",
    "</div>"
   ]
  },
  {
   "cell_type": "markdown",
   "metadata": {},
   "source": [
    "<div class=\"alert alert-block alert-warning\">\n",
    "<s><b>Reviewer's comment</b> <a class=\"tocSkip\"></a>\n",
    "\n",
    "Great you have checked the correlation between age and income type columns. What else can we see from this comparison? \n",
    "\n",
    "</div>"
   ]
  },
  {
   "cell_type": "markdown",
   "metadata": {},
   "source": [
    "<div class=\"alert alert-info\"> <b>Age zero people </b> <br>\n",
    "updated age zero people above."
   ]
  },
  {
   "cell_type": "markdown",
   "metadata": {},
   "source": [
    "<div class=\"alert alert-block alert-warning\">\n",
    "<b>Reviewer's comment.V.2.</b> <a class=\"tocSkip\"></a>\n",
    "    \n",
    "What should we do with the clients with zero age?\n",
    "</div>\n"
   ]
  },
  {
   "cell_type": "markdown",
   "metadata": {},
   "source": [
    "<div class=\"alert alert-info\"> <b>Drop Zero</b> <br>\n",
    "I drop age zero people latter in the notebook."
   ]
  },
  {
   "cell_type": "code",
   "execution_count": 14,
   "metadata": {},
   "outputs": [
    {
     "name": "stdout",
     "output_type": "stream",
     "text": [
      "[\"bachelor's degree\" 'secondary education' 'Secondary Education'\n",
      " 'SECONDARY EDUCATION' \"BACHELOR'S DEGREE\" 'some college'\n",
      " 'primary education' \"Bachelor's Degree\" 'SOME COLLEGE' 'Some College'\n",
      " 'PRIMARY EDUCATION' 'Primary Education' 'Graduate Degree'\n",
      " 'GRADUATE DEGREE' 'graduate degree']\n"
     ]
    }
   ],
   "source": [
    "# Let's see all values in education column to check if and what spellings will need to be fixed\n",
    "print(data['education'].unique())"
   ]
  },
  {
   "cell_type": "code",
   "execution_count": 15,
   "metadata": {
    "scrolled": false
   },
   "outputs": [
    {
     "name": "stdout",
     "output_type": "stream",
     "text": [
      "[\"bachelor's degree\" 'secondary education' 'some college'\n",
      " 'primary education' 'graduate degree']\n"
     ]
    }
   ],
   "source": [
    "# Fix the registers if required\n",
    "\n",
    "#lets's make everything lowercase to start.\n",
    "data['education'] = data['education'].str.lower()\n",
    "\n",
    "#test\n",
    "print(data['education'].unique())"
   ]
  },
  {
   "cell_type": "markdown",
   "metadata": {},
   "source": [
    "<div class=\"alert alert-block alert-success\">\n",
    "<b>Reviewer's comment</b> <a class=\"tocSkip\"></a>\n",
    "\n",
    "Great! Lowercase in education column is fixed.  \n",
    "\n",
    "</div>"
   ]
  },
  {
   "cell_type": "markdown",
   "metadata": {},
   "source": [
    "<div class=\"alert alert-info\"> <b>Reviewing the Data for the children column </b> <br>"
   ]
  },
  {
   "cell_type": "markdown",
   "metadata": {},
   "source": [
    "<div class=\"alert alert-block alert-danger\">\n",
    "<s><b>Reviewer's comment</b> <a class=\"tocSkip\"></a>\n",
    "\n",
    "Please use the same style for your writing and descriptions. We should be able to separate code from text. It is related to the whole project.\n",
    "\n",
    "</div>"
   ]
  },
  {
   "cell_type": "markdown",
   "metadata": {},
   "source": [
    "<div class=\"alert alert-info\"> <b>Updated </b> <br>"
   ]
  },
  {
   "cell_type": "code",
   "execution_count": 16,
   "metadata": {},
   "outputs": [
    {
     "name": "stdout",
     "output_type": "stream",
     "text": [
      " 0     14149\n",
      " 1      4818\n",
      " 2      2055\n",
      " 3       330\n",
      " 20       76\n",
      "-1        47\n",
      " 4        41\n",
      " 5         9\n",
      "Name: children, dtype: int64\n"
     ]
    }
   ],
   "source": [
    "# Let's see the distribution of values in the `children` column\n",
    "#print(data['children'].unique())\n",
    "print(data['children'].value_counts())"
   ]
  },
  {
   "cell_type": "markdown",
   "metadata": {},
   "source": [
    "<div class=\"alert alert-info\"> <b> Observation and next steps </b> <br>\n",
    "76 people have 20 children - dropping from the data set. <br>    \n",
    "</div>"
   ]
  },
  {
   "cell_type": "code",
   "execution_count": 17,
   "metadata": {},
   "outputs": [
    {
     "name": "stdout",
     "output_type": "stream",
     "text": [
      " 0    14149\n",
      " 1     4818\n",
      " 2     2055\n",
      " 3      330\n",
      "-1       47\n",
      " 4       41\n",
      " 5        9\n",
      "Name: children, dtype: int64\n"
     ]
    }
   ],
   "source": [
    "# drop 20 in ['children']\n",
    "data.drop(data[data['children'] == 20].index, inplace = True)\n",
    "\n",
    "# test\n",
    "print(data['children'].value_counts())"
   ]
  },
  {
   "cell_type": "markdown",
   "metadata": {},
   "source": [
    "<div class=\"alert alert-block alert-danger\">\n",
    "<s><b>Reviewer's comment</b> <a class=\"tocSkip\"></a>\n",
    "\n",
    "Why we have replaced 20 with 2 children? As you are not sure why this have happened, I would also consider if you delete this data, how would this effect our dataset?  \n",
    "\n",
    "</div>"
   ]
  },
  {
   "cell_type": "markdown",
   "metadata": {},
   "source": [
    "<div class=\"alert alert-info\"> <b>Updated as suggested</b> <br>    \n",
    "</div>"
   ]
  },
  {
   "cell_type": "markdown",
   "metadata": {},
   "source": [
    "<div class=\"alert alert-info\"> <b> next step </b> <br>\n",
    "Drop the rows with a -1's in the children's data, as it only represents < .0002 of the total data set.<br>\n",
    "    \n",
    "    \n",
    "</div>"
   ]
  },
  {
   "cell_type": "code",
   "execution_count": 18,
   "metadata": {},
   "outputs": [
    {
     "name": "stdout",
     "output_type": "stream",
     "text": [
      "0    14149\n",
      "1     4818\n",
      "2     2055\n",
      "3      330\n",
      "4       41\n",
      "5        9\n",
      "Name: children, dtype: int64\n"
     ]
    }
   ],
   "source": [
    "# drop -1 in ['children']\n",
    "data.drop(data[data['children'] == -1].index, inplace = True)\n",
    "\n",
    "# test\n",
    "print(data['children'].value_counts())"
   ]
  },
  {
   "cell_type": "markdown",
   "metadata": {},
   "source": [
    "<div class=\"alert alert-block alert-success\">\n",
    "<b>Reviewer's comment</b> <a class=\"tocSkip\"></a>\n",
    "\n",
    "Totally agree! This data seems to be an error and can be deleted since the amount of this rows is significant small in comparison to the whole dataset.\n",
    "\n",
    "</div>"
   ]
  },
  {
   "cell_type": "code",
   "execution_count": 19,
   "metadata": {},
   "outputs": [
    {
     "name": "stdout",
     "output_type": "stream",
     "text": [
      "0     -8437.673028\n",
      "1     -4024.803754\n",
      "2     -5623.422610\n",
      "3     -4124.747207\n",
      "4    340266.072047\n",
      "5      -926.185831\n",
      "6     -2879.202052\n",
      "7      -152.779569\n",
      "8     -6929.865299\n",
      "9     -2188.756445\n",
      "Name: days_employed, dtype: float64\n"
     ]
    }
   ],
   "source": [
    "# Find problematic data in `days_employed`, if they exist, and calculate the percentage\n",
    "print(data['days_employed'].head(10))"
   ]
  },
  {
   "cell_type": "markdown",
   "metadata": {},
   "source": [
    "<div class=\"alert alert-info\"> <b> observation</b> <br>\n",
    "Negative numbers <br>\n",
    "    <br>\n",
    "    Let's converte the negative numbers to their absolute value. <br>\n",
    "    And do some quick math to get a sense for what these numbers look like in years.\n",
    "</div>"
   ]
  },
  {
   "cell_type": "markdown",
   "metadata": {},
   "source": [
    "<div class=\"alert alert-block alert-warning\">\n",
    "<s><b>Reviewer's comment</b> <a class=\"tocSkip\"></a>\n",
    "\n",
    "Here just a look at the table first 10 rows would be enough to see the problem with the column. Could you please correct it?\n",
    "\n",
    "</div>"
   ]
  },
  {
   "cell_type": "code",
   "execution_count": 20,
   "metadata": {},
   "outputs": [],
   "source": [
    "# Address the problematic values, if they exist\n",
    "data['days_employed'] = abs(data['days_employed'])\n"
   ]
  },
  {
   "cell_type": "markdown",
   "metadata": {},
   "source": [
    "<div class=\"alert alert-block alert-warning\">\n",
    "<s><b>Reviewer's comment</b> <a class=\"tocSkip\"></a>\n",
    "\n",
    "Great idea to change the values to positive ones. But again, just to show a table as below would help to see clearly, the problem was fixed.\n",
    "\n",
    "</div>"
   ]
  },
  {
   "cell_type": "markdown",
   "metadata": {},
   "source": [
    "<div class=\"alert alert-info\"> <b> Updated as suggested</b> <br>\n",
    "\n",
    "</div>"
   ]
  },
  {
   "cell_type": "code",
   "execution_count": 21,
   "metadata": {},
   "outputs": [
    {
     "data": {
      "text/html": [
       "<div>\n",
       "<style scoped>\n",
       "    .dataframe tbody tr th:only-of-type {\n",
       "        vertical-align: middle;\n",
       "    }\n",
       "\n",
       "    .dataframe tbody tr th {\n",
       "        vertical-align: top;\n",
       "    }\n",
       "\n",
       "    .dataframe thead th {\n",
       "        text-align: right;\n",
       "    }\n",
       "</style>\n",
       "<table border=\"1\" class=\"dataframe\">\n",
       "  <thead>\n",
       "    <tr style=\"text-align: right;\">\n",
       "      <th></th>\n",
       "      <th>children</th>\n",
       "      <th>days_employed</th>\n",
       "      <th>age</th>\n",
       "      <th>education</th>\n",
       "      <th>education_id</th>\n",
       "      <th>family_status</th>\n",
       "      <th>family_status_id</th>\n",
       "      <th>gender</th>\n",
       "      <th>income_type</th>\n",
       "      <th>debt</th>\n",
       "      <th>total_income</th>\n",
       "      <th>purpose</th>\n",
       "      <th>years_employed</th>\n",
       "    </tr>\n",
       "  </thead>\n",
       "  <tbody>\n",
       "    <tr>\n",
       "      <th>0</th>\n",
       "      <td>1</td>\n",
       "      <td>8437.673028</td>\n",
       "      <td>42</td>\n",
       "      <td>bachelor's degree</td>\n",
       "      <td>0</td>\n",
       "      <td>married</td>\n",
       "      <td>0</td>\n",
       "      <td>F</td>\n",
       "      <td>employee</td>\n",
       "      <td>0</td>\n",
       "      <td>40620.102</td>\n",
       "      <td>purchase of the house</td>\n",
       "      <td>23.116912</td>\n",
       "    </tr>\n",
       "    <tr>\n",
       "      <th>1</th>\n",
       "      <td>1</td>\n",
       "      <td>4024.803754</td>\n",
       "      <td>36</td>\n",
       "      <td>secondary education</td>\n",
       "      <td>1</td>\n",
       "      <td>married</td>\n",
       "      <td>0</td>\n",
       "      <td>F</td>\n",
       "      <td>employee</td>\n",
       "      <td>0</td>\n",
       "      <td>17932.802</td>\n",
       "      <td>car purchase</td>\n",
       "      <td>11.026860</td>\n",
       "    </tr>\n",
       "    <tr>\n",
       "      <th>2</th>\n",
       "      <td>0</td>\n",
       "      <td>5623.422610</td>\n",
       "      <td>33</td>\n",
       "      <td>secondary education</td>\n",
       "      <td>1</td>\n",
       "      <td>married</td>\n",
       "      <td>0</td>\n",
       "      <td>M</td>\n",
       "      <td>employee</td>\n",
       "      <td>0</td>\n",
       "      <td>23341.752</td>\n",
       "      <td>purchase of the house</td>\n",
       "      <td>15.406637</td>\n",
       "    </tr>\n",
       "    <tr>\n",
       "      <th>3</th>\n",
       "      <td>3</td>\n",
       "      <td>4124.747207</td>\n",
       "      <td>32</td>\n",
       "      <td>secondary education</td>\n",
       "      <td>1</td>\n",
       "      <td>married</td>\n",
       "      <td>0</td>\n",
       "      <td>M</td>\n",
       "      <td>employee</td>\n",
       "      <td>0</td>\n",
       "      <td>42820.568</td>\n",
       "      <td>supplementary education</td>\n",
       "      <td>11.300677</td>\n",
       "    </tr>\n",
       "    <tr>\n",
       "      <th>4</th>\n",
       "      <td>0</td>\n",
       "      <td>340266.072047</td>\n",
       "      <td>53</td>\n",
       "      <td>secondary education</td>\n",
       "      <td>1</td>\n",
       "      <td>civil partnership</td>\n",
       "      <td>1</td>\n",
       "      <td>F</td>\n",
       "      <td>retiree</td>\n",
       "      <td>0</td>\n",
       "      <td>25378.572</td>\n",
       "      <td>to have a wedding</td>\n",
       "      <td>932.235814</td>\n",
       "    </tr>\n",
       "    <tr>\n",
       "      <th>5</th>\n",
       "      <td>0</td>\n",
       "      <td>926.185831</td>\n",
       "      <td>27</td>\n",
       "      <td>bachelor's degree</td>\n",
       "      <td>0</td>\n",
       "      <td>civil partnership</td>\n",
       "      <td>1</td>\n",
       "      <td>M</td>\n",
       "      <td>business</td>\n",
       "      <td>0</td>\n",
       "      <td>40922.170</td>\n",
       "      <td>purchase of the house</td>\n",
       "      <td>2.537495</td>\n",
       "    </tr>\n",
       "    <tr>\n",
       "      <th>6</th>\n",
       "      <td>0</td>\n",
       "      <td>2879.202052</td>\n",
       "      <td>43</td>\n",
       "      <td>bachelor's degree</td>\n",
       "      <td>0</td>\n",
       "      <td>married</td>\n",
       "      <td>0</td>\n",
       "      <td>F</td>\n",
       "      <td>business</td>\n",
       "      <td>0</td>\n",
       "      <td>38484.156</td>\n",
       "      <td>housing transactions</td>\n",
       "      <td>7.888225</td>\n",
       "    </tr>\n",
       "    <tr>\n",
       "      <th>7</th>\n",
       "      <td>0</td>\n",
       "      <td>152.779569</td>\n",
       "      <td>50</td>\n",
       "      <td>secondary education</td>\n",
       "      <td>1</td>\n",
       "      <td>married</td>\n",
       "      <td>0</td>\n",
       "      <td>M</td>\n",
       "      <td>employee</td>\n",
       "      <td>0</td>\n",
       "      <td>21731.829</td>\n",
       "      <td>education</td>\n",
       "      <td>0.418574</td>\n",
       "    </tr>\n",
       "    <tr>\n",
       "      <th>8</th>\n",
       "      <td>2</td>\n",
       "      <td>6929.865299</td>\n",
       "      <td>35</td>\n",
       "      <td>bachelor's degree</td>\n",
       "      <td>0</td>\n",
       "      <td>civil partnership</td>\n",
       "      <td>1</td>\n",
       "      <td>F</td>\n",
       "      <td>employee</td>\n",
       "      <td>0</td>\n",
       "      <td>15337.093</td>\n",
       "      <td>having a wedding</td>\n",
       "      <td>18.985932</td>\n",
       "    </tr>\n",
       "    <tr>\n",
       "      <th>9</th>\n",
       "      <td>0</td>\n",
       "      <td>2188.756445</td>\n",
       "      <td>41</td>\n",
       "      <td>secondary education</td>\n",
       "      <td>1</td>\n",
       "      <td>married</td>\n",
       "      <td>0</td>\n",
       "      <td>M</td>\n",
       "      <td>employee</td>\n",
       "      <td>0</td>\n",
       "      <td>23108.150</td>\n",
       "      <td>purchase of the house for my family</td>\n",
       "      <td>5.996593</td>\n",
       "    </tr>\n",
       "    <tr>\n",
       "      <th>10</th>\n",
       "      <td>2</td>\n",
       "      <td>4171.483647</td>\n",
       "      <td>36</td>\n",
       "      <td>bachelor's degree</td>\n",
       "      <td>0</td>\n",
       "      <td>married</td>\n",
       "      <td>0</td>\n",
       "      <td>M</td>\n",
       "      <td>business</td>\n",
       "      <td>0</td>\n",
       "      <td>18230.959</td>\n",
       "      <td>buy real estate</td>\n",
       "      <td>11.428722</td>\n",
       "    </tr>\n",
       "    <tr>\n",
       "      <th>11</th>\n",
       "      <td>0</td>\n",
       "      <td>792.701887</td>\n",
       "      <td>40</td>\n",
       "      <td>secondary education</td>\n",
       "      <td>1</td>\n",
       "      <td>married</td>\n",
       "      <td>0</td>\n",
       "      <td>F</td>\n",
       "      <td>employee</td>\n",
       "      <td>0</td>\n",
       "      <td>12331.077</td>\n",
       "      <td>buy commercial real estate</td>\n",
       "      <td>2.171786</td>\n",
       "    </tr>\n",
       "    <tr>\n",
       "      <th>12</th>\n",
       "      <td>0</td>\n",
       "      <td>NaN</td>\n",
       "      <td>65</td>\n",
       "      <td>secondary education</td>\n",
       "      <td>1</td>\n",
       "      <td>civil partnership</td>\n",
       "      <td>1</td>\n",
       "      <td>M</td>\n",
       "      <td>retiree</td>\n",
       "      <td>0</td>\n",
       "      <td>NaN</td>\n",
       "      <td>to have a wedding</td>\n",
       "      <td>NaN</td>\n",
       "    </tr>\n",
       "    <tr>\n",
       "      <th>13</th>\n",
       "      <td>0</td>\n",
       "      <td>1846.641941</td>\n",
       "      <td>54</td>\n",
       "      <td>some college</td>\n",
       "      <td>2</td>\n",
       "      <td>married</td>\n",
       "      <td>0</td>\n",
       "      <td>F</td>\n",
       "      <td>employee</td>\n",
       "      <td>0</td>\n",
       "      <td>20873.317</td>\n",
       "      <td>car purchase</td>\n",
       "      <td>5.059293</td>\n",
       "    </tr>\n",
       "    <tr>\n",
       "      <th>14</th>\n",
       "      <td>0</td>\n",
       "      <td>1844.956182</td>\n",
       "      <td>56</td>\n",
       "      <td>bachelor's degree</td>\n",
       "      <td>0</td>\n",
       "      <td>civil partnership</td>\n",
       "      <td>1</td>\n",
       "      <td>F</td>\n",
       "      <td>business</td>\n",
       "      <td>1</td>\n",
       "      <td>26420.466</td>\n",
       "      <td>buy residential real estate</td>\n",
       "      <td>5.054674</td>\n",
       "    </tr>\n",
       "  </tbody>\n",
       "</table>\n",
       "</div>"
      ],
      "text/plain": [
       "    children  days_employed  age            education  education_id  \\\n",
       "0          1    8437.673028   42    bachelor's degree             0   \n",
       "1          1    4024.803754   36  secondary education             1   \n",
       "2          0    5623.422610   33  secondary education             1   \n",
       "3          3    4124.747207   32  secondary education             1   \n",
       "4          0  340266.072047   53  secondary education             1   \n",
       "5          0     926.185831   27    bachelor's degree             0   \n",
       "6          0    2879.202052   43    bachelor's degree             0   \n",
       "7          0     152.779569   50  secondary education             1   \n",
       "8          2    6929.865299   35    bachelor's degree             0   \n",
       "9          0    2188.756445   41  secondary education             1   \n",
       "10         2    4171.483647   36    bachelor's degree             0   \n",
       "11         0     792.701887   40  secondary education             1   \n",
       "12         0            NaN   65  secondary education             1   \n",
       "13         0    1846.641941   54         some college             2   \n",
       "14         0    1844.956182   56    bachelor's degree             0   \n",
       "\n",
       "        family_status  family_status_id gender income_type  debt  \\\n",
       "0             married                 0      F    employee     0   \n",
       "1             married                 0      F    employee     0   \n",
       "2             married                 0      M    employee     0   \n",
       "3             married                 0      M    employee     0   \n",
       "4   civil partnership                 1      F     retiree     0   \n",
       "5   civil partnership                 1      M    business     0   \n",
       "6             married                 0      F    business     0   \n",
       "7             married                 0      M    employee     0   \n",
       "8   civil partnership                 1      F    employee     0   \n",
       "9             married                 0      M    employee     0   \n",
       "10            married                 0      M    business     0   \n",
       "11            married                 0      F    employee     0   \n",
       "12  civil partnership                 1      M     retiree     0   \n",
       "13            married                 0      F    employee     0   \n",
       "14  civil partnership                 1      F    business     1   \n",
       "\n",
       "    total_income                              purpose  years_employed  \n",
       "0      40620.102                purchase of the house       23.116912  \n",
       "1      17932.802                         car purchase       11.026860  \n",
       "2      23341.752                purchase of the house       15.406637  \n",
       "3      42820.568              supplementary education       11.300677  \n",
       "4      25378.572                    to have a wedding      932.235814  \n",
       "5      40922.170                purchase of the house        2.537495  \n",
       "6      38484.156                 housing transactions        7.888225  \n",
       "7      21731.829                            education        0.418574  \n",
       "8      15337.093                     having a wedding       18.985932  \n",
       "9      23108.150  purchase of the house for my family        5.996593  \n",
       "10     18230.959                      buy real estate       11.428722  \n",
       "11     12331.077           buy commercial real estate        2.171786  \n",
       "12           NaN                    to have a wedding             NaN  \n",
       "13     20873.317                         car purchase        5.059293  \n",
       "14     26420.466          buy residential real estate        5.054674  "
      ]
     },
     "metadata": {},
     "output_type": "display_data"
    }
   ],
   "source": [
    "data['years_employed'] = data['days_employed'] / 365\n",
    "\n",
    "#test\n",
    "display(data.head(15))"
   ]
  },
  {
   "cell_type": "markdown",
   "metadata": {},
   "source": [
    "<div class=\"alert alert-info\"> <b> A Question on years worked? </b> <br>\n",
    "How long have these people been working! <br>\n",
    "    Row 5 has been working for over 900 years!<br>\n",
    "    Looks like we have another problem to address...\n",
    "</div>"
   ]
  },
  {
   "cell_type": "markdown",
   "metadata": {},
   "source": [
    "<div class=\"alert alert-block alert-success\">\n",
    "<b>Reviewer's comment</b> <a class=\"tocSkip\"></a>\n",
    "\n",
    "I like your idea to actually check the days the person was working in years:) It does look some of them are immortal:)\n",
    "\n",
    "</div>"
   ]
  },
  {
   "cell_type": "code",
   "execution_count": 22,
   "metadata": {},
   "outputs": [
    {
     "data": {
      "text/plain": [
       "6954     1100.699727\n",
       "10006    1100.591265\n",
       "7664     1100.479708\n",
       "2156     1100.477991\n",
       "7794     1100.448904\n",
       "Name: years_employed, dtype: float64"
      ]
     },
     "metadata": {},
     "output_type": "display_data"
    }
   ],
   "source": [
    "display(data['years_employed'].sort_values(ascending=False).head())"
   ]
  },
  {
   "cell_type": "markdown",
   "metadata": {},
   "source": [
    "<div class=\"alert alert-block alert-danger\">\n",
    "<s><b>Reviewer's comment</b> <a class=\"tocSkip\"></a>\n",
    "\n",
    "Unfortunately here, we have an error in our Jupyter Notebook Enviroment. Did you run your code completly here in the system or you were writing your code locally on your computer? The problem is the pandas versions are not the same and ignore_index is not available here. Could you please fix this error first and I believe you have used in some code also below. So, please fix this error first, so i can continue to check your work further. \n",
    "    \n",
    "Concerning to drop the rows: we remove a lot of data from our dataset and this will influence our results. Before doing this, why do you think we have such numbers? Why the values for days employed are float? Do we need this column afterwards to answer our questions from the project description? Please revise this part of the project, I am sure you can do it. Please scroll down to the end of the project for my final comment and advice to you.  \n",
    "\n",
    "</div>"
   ]
  },
  {
   "cell_type": "markdown",
   "metadata": {},
   "source": [
    "<div class=\"alert alert-info\"> <b> Student Note</b> <br>\n",
    "I thought about it, and came up with a much simpler aproach. Updated above.\n",
    "</div>"
   ]
  },
  {
   "cell_type": "markdown",
   "metadata": {},
   "source": [
    "<div class=\"alert alert-info\"> <b> 1000+ years!? </b> <br>\n",
    "A significant portion of our dataset has been employed for more than 800 years! <br>\n",
    "    This will certainly skew any conclusions we have that references this important metric. <br>\n",
    "</div>"
   ]
  },
  {
   "cell_type": "markdown",
   "metadata": {},
   "source": [
    "<div class=\"alert alert-block alert-success\">\n",
    "<b>Reviewer's comment.V.2.</b> <a class=\"tocSkip\"></a>\n",
    "\n",
    "Yes, it is strange we have so big numbers! Good thing we detect it, we cannot change it or replace it, so we can only show it to our team and tell them about this strange behaviour. Maybe it was an error while uploading the dataset. \n",
    "</div>\n"
   ]
  },
  {
   "cell_type": "code",
   "execution_count": 23,
   "metadata": {
    "scrolled": true
   },
   "outputs": [
    {
     "data": {
      "text/html": [
       "<div>\n",
       "<style scoped>\n",
       "    .dataframe tbody tr th:only-of-type {\n",
       "        vertical-align: middle;\n",
       "    }\n",
       "\n",
       "    .dataframe tbody tr th {\n",
       "        vertical-align: top;\n",
       "    }\n",
       "\n",
       "    .dataframe thead th {\n",
       "        text-align: right;\n",
       "    }\n",
       "</style>\n",
       "<table border=\"1\" class=\"dataframe\">\n",
       "  <thead>\n",
       "    <tr style=\"text-align: right;\">\n",
       "      <th></th>\n",
       "      <th>children</th>\n",
       "      <th>days_employed</th>\n",
       "      <th>age</th>\n",
       "      <th>education</th>\n",
       "      <th>education_id</th>\n",
       "      <th>family_status</th>\n",
       "      <th>family_status_id</th>\n",
       "      <th>gender</th>\n",
       "      <th>income_type</th>\n",
       "      <th>debt</th>\n",
       "      <th>total_income</th>\n",
       "      <th>purpose</th>\n",
       "      <th>years_employed</th>\n",
       "    </tr>\n",
       "  </thead>\n",
       "  <tbody>\n",
       "    <tr>\n",
       "      <th>8574</th>\n",
       "      <td>0</td>\n",
       "      <td>NaN</td>\n",
       "      <td>0</td>\n",
       "      <td>secondary education</td>\n",
       "      <td>1</td>\n",
       "      <td>married</td>\n",
       "      <td>0</td>\n",
       "      <td>F</td>\n",
       "      <td>employee</td>\n",
       "      <td>0</td>\n",
       "      <td>NaN</td>\n",
       "      <td>property</td>\n",
       "      <td>NaN</td>\n",
       "    </tr>\n",
       "    <tr>\n",
       "      <th>11664</th>\n",
       "      <td>0</td>\n",
       "      <td>2613.538371</td>\n",
       "      <td>0</td>\n",
       "      <td>secondary education</td>\n",
       "      <td>1</td>\n",
       "      <td>married</td>\n",
       "      <td>0</td>\n",
       "      <td>F</td>\n",
       "      <td>business</td>\n",
       "      <td>0</td>\n",
       "      <td>11734.107</td>\n",
       "      <td>going to university</td>\n",
       "      <td>7.160379</td>\n",
       "    </tr>\n",
       "    <tr>\n",
       "      <th>11289</th>\n",
       "      <td>1</td>\n",
       "      <td>223.709545</td>\n",
       "      <td>0</td>\n",
       "      <td>some college</td>\n",
       "      <td>2</td>\n",
       "      <td>civil partnership</td>\n",
       "      <td>1</td>\n",
       "      <td>M</td>\n",
       "      <td>employee</td>\n",
       "      <td>0</td>\n",
       "      <td>40971.287</td>\n",
       "      <td>to have a wedding</td>\n",
       "      <td>0.612903</td>\n",
       "    </tr>\n",
       "    <tr>\n",
       "      <th>6859</th>\n",
       "      <td>1</td>\n",
       "      <td>260.992722</td>\n",
       "      <td>0</td>\n",
       "      <td>some college</td>\n",
       "      <td>2</td>\n",
       "      <td>civil partnership</td>\n",
       "      <td>1</td>\n",
       "      <td>F</td>\n",
       "      <td>employee</td>\n",
       "      <td>0</td>\n",
       "      <td>20519.463</td>\n",
       "      <td>buy real estate</td>\n",
       "      <td>0.715049</td>\n",
       "    </tr>\n",
       "    <tr>\n",
       "      <th>4922</th>\n",
       "      <td>0</td>\n",
       "      <td>336516.005867</td>\n",
       "      <td>0</td>\n",
       "      <td>bachelor's degree</td>\n",
       "      <td>0</td>\n",
       "      <td>widow / widower</td>\n",
       "      <td>2</td>\n",
       "      <td>F</td>\n",
       "      <td>retiree</td>\n",
       "      <td>1</td>\n",
       "      <td>29369.017</td>\n",
       "      <td>to own a car</td>\n",
       "      <td>921.961660</td>\n",
       "    </tr>\n",
       "  </tbody>\n",
       "</table>\n",
       "</div>"
      ],
      "text/plain": [
       "       children  days_employed  age            education  education_id  \\\n",
       "8574          0            NaN    0  secondary education             1   \n",
       "11664         0    2613.538371    0  secondary education             1   \n",
       "11289         1     223.709545    0         some college             2   \n",
       "6859          1     260.992722    0         some college             2   \n",
       "4922          0  336516.005867    0    bachelor's degree             0   \n",
       "\n",
       "           family_status  family_status_id gender income_type  debt  \\\n",
       "8574             married                 0      F    employee     0   \n",
       "11664            married                 0      F    business     0   \n",
       "11289  civil partnership                 1      M    employee     0   \n",
       "6859   civil partnership                 1      F    employee     0   \n",
       "4922     widow / widower                 2      F     retiree     1   \n",
       "\n",
       "       total_income              purpose  years_employed  \n",
       "8574            NaN             property             NaN  \n",
       "11664     11734.107  going to university        7.160379  \n",
       "11289     40971.287    to have a wedding        0.612903  \n",
       "6859      20519.463      buy real estate        0.715049  \n",
       "4922      29369.017         to own a car      921.961660  "
      ]
     },
     "metadata": {},
     "output_type": "display_data"
    }
   ],
   "source": [
    "# Check the `age` for suspicious values and count the percentage\n",
    "display(data.sort_values(by = 'age').head())\n"
   ]
  },
  {
   "cell_type": "code",
   "execution_count": 24,
   "metadata": {},
   "outputs": [
    {
     "name": "stdout",
     "output_type": "stream",
     "text": [
      "35    614\n",
      "40    603\n",
      "41    603\n",
      "34    597\n",
      "38    595\n",
      "42    592\n",
      "33    577\n",
      "39    572\n",
      "31    556\n",
      "36    553\n",
      "29    543\n",
      "44    543\n",
      "48    536\n",
      "30    536\n",
      "37    531\n",
      "43    510\n",
      "50    509\n",
      "32    506\n",
      "49    505\n",
      "28    501\n",
      "45    494\n",
      "27    490\n",
      "52    483\n",
      "56    482\n",
      "47    480\n",
      "54    476\n",
      "46    469\n",
      "58    461\n",
      "53    457\n",
      "57    457\n",
      "51    446\n",
      "59    441\n",
      "55    441\n",
      "26    406\n",
      "60    376\n",
      "25    356\n",
      "61    353\n",
      "62    351\n",
      "63    268\n",
      "24    263\n",
      "64    263\n",
      "23    252\n",
      "65    194\n",
      "66    183\n",
      "22    183\n",
      "67    167\n",
      "21    110\n",
      "0     100\n",
      "68     99\n",
      "69     83\n",
      "70     65\n",
      "71     58\n",
      "20     51\n",
      "72     33\n",
      "19     14\n",
      "73      8\n",
      "74      6\n",
      "75      1\n",
      "Name: age, dtype: int64\n",
      "\n",
      "35    0.028689\n",
      "40    0.028175\n",
      "41    0.028175\n",
      "34    0.027895\n",
      "38    0.027801\n",
      "42    0.027661\n",
      "33    0.026960\n",
      "39    0.026726\n",
      "31    0.025979\n",
      "36    0.025839\n",
      "29    0.025371\n",
      "44    0.025371\n",
      "48    0.025044\n",
      "30    0.025044\n",
      "37    0.024811\n",
      "43    0.023830\n",
      "50    0.023783\n",
      "32    0.023643\n",
      "49    0.023596\n",
      "28    0.023409\n",
      "45    0.023082\n",
      "27    0.022895\n",
      "52    0.022568\n",
      "56    0.022521\n",
      "47    0.022428\n",
      "54    0.022241\n",
      "46    0.021914\n",
      "58    0.021540\n",
      "53    0.021353\n",
      "57    0.021353\n",
      "51    0.020839\n",
      "59    0.020606\n",
      "55    0.020606\n",
      "26    0.018970\n",
      "60    0.017568\n",
      "25    0.016634\n",
      "61    0.016494\n",
      "62    0.016400\n",
      "63    0.012522\n",
      "24    0.012289\n",
      "64    0.012289\n",
      "23    0.011775\n",
      "65    0.009065\n",
      "66    0.008551\n",
      "22    0.008551\n",
      "67    0.007803\n",
      "21    0.005140\n",
      "0     0.004672\n",
      "68    0.004626\n",
      "69    0.003878\n",
      "70    0.003037\n",
      "71    0.002710\n",
      "20    0.002383\n",
      "72    0.001542\n",
      "19    0.000654\n",
      "73    0.000374\n",
      "74    0.000280\n",
      "75    0.000047\n",
      "Name: age, dtype: float64\n"
     ]
    }
   ],
   "source": [
    "print(data['age'].value_counts())\n",
    "print()\n",
    "print(data['age'].value_counts(normalize=True))"
   ]
  },
  {
   "cell_type": "markdown",
   "metadata": {},
   "source": [
    "<div class=\"alert alert-info\"> <b> 0 Years Old? </b> <br>\n",
    "101 people Zero years old... that's not going to work. <br>\n",
    "    compared to our dataset at large, 101 people is not that many <br>\n",
    "    <br>\n",
    "    Will drop zero age from the data set.\n",
    "</div>"
   ]
  },
  {
   "cell_type": "markdown",
   "metadata": {},
   "source": [
    "<div class=\"alert alert-info\"> <b> trending older </b> <br>\n",
    "    Our oldest person is 75, which is within the bounds of a normal human lifespan, nothing odd there. <br>\n",
    "</div>"
   ]
  },
  {
   "cell_type": "code",
   "execution_count": 25,
   "metadata": {},
   "outputs": [
    {
     "name": "stdout",
     "output_type": "stream",
     "text": [
      "35    614\n",
      "41    603\n",
      "40    603\n",
      "34    597\n",
      "38    595\n",
      "42    592\n",
      "33    577\n",
      "39    572\n",
      "31    556\n",
      "36    553\n",
      "44    543\n",
      "29    543\n",
      "48    536\n",
      "30    536\n",
      "37    531\n",
      "43    510\n",
      "50    509\n",
      "32    506\n",
      "49    505\n",
      "28    501\n",
      "45    494\n",
      "27    490\n",
      "52    483\n",
      "56    482\n",
      "47    480\n",
      "54    476\n",
      "46    469\n",
      "58    461\n",
      "57    457\n",
      "53    457\n",
      "51    446\n",
      "55    441\n",
      "59    441\n",
      "26    406\n",
      "60    376\n",
      "25    356\n",
      "61    353\n",
      "62    351\n",
      "63    268\n",
      "64    263\n",
      "24    263\n",
      "23    252\n",
      "65    194\n",
      "22    183\n",
      "66    183\n",
      "67    167\n",
      "21    110\n",
      "68     99\n",
      "69     83\n",
      "70     65\n",
      "71     58\n",
      "20     51\n",
      "72     33\n",
      "19     14\n",
      "73      8\n",
      "74      6\n",
      "75      1\n",
      "Name: age, dtype: int64\n"
     ]
    }
   ],
   "source": [
    "# Drop the 101 age zero people\n",
    "data.drop(data[data['age'] == 0].index, inplace = True)\n",
    "#test\n",
    "print(data['age'].value_counts())"
   ]
  },
  {
   "cell_type": "markdown",
   "metadata": {},
   "source": [
    "<div class=\"alert alert-block alert-success\">\n",
    "<b>Reviewer's comment.V.2.</b> <a class=\"tocSkip\"></a>\n",
    "    \n",
    "Correct, since it is such a small amount we can just drop it.\n",
    "</div>\n"
   ]
  },
  {
   "cell_type": "code",
   "execution_count": 26,
   "metadata": {},
   "outputs": [
    {
     "data": {
      "text/plain": [
       "married              12254\n",
       "civil partnership     4139\n",
       "unmarried             2783\n",
       "divorced              1179\n",
       "widow / widower        947\n",
       "Name: family_status, dtype: int64"
      ]
     },
     "execution_count": 26,
     "metadata": {},
     "output_type": "execute_result"
    }
   ],
   "source": [
    "# Let's see the values for the family status column\n",
    "\n",
    "#dropna = False to confirm we don't have NaN values in this column\n",
    "data['family_status'].value_counts(dropna=False)\n"
   ]
  },
  {
   "cell_type": "markdown",
   "metadata": {},
   "source": [
    "<div class=\"alert alert-info\"> <b> No issues found with family status</b> <br>\n",
    "</div>"
   ]
  },
  {
   "cell_type": "code",
   "execution_count": 27,
   "metadata": {},
   "outputs": [
    {
     "name": "stdout",
     "output_type": "stream",
     "text": [
      "0    12254\n",
      "1     4139\n",
      "4     2783\n",
      "3     1179\n",
      "2      947\n",
      "Name: family_status_id, dtype: int64\n"
     ]
    }
   ],
   "source": [
    "# What's going on with the family_status_id'? Do these corrilate with the 'family_status' column?\n",
    "print(data['family_status_id'].value_counts())"
   ]
  },
  {
   "cell_type": "markdown",
   "metadata": {},
   "source": [
    "!!!! Family Status and Family Status ID are the same, reference debt instead"
   ]
  },
  {
   "cell_type": "code",
   "execution_count": 28,
   "metadata": {},
   "outputs": [
    {
     "data": {
      "text/html": [
       "<div>\n",
       "<style scoped>\n",
       "    .dataframe tbody tr th:only-of-type {\n",
       "        vertical-align: middle;\n",
       "    }\n",
       "\n",
       "    .dataframe tbody tr th {\n",
       "        vertical-align: top;\n",
       "    }\n",
       "\n",
       "    .dataframe thead th {\n",
       "        text-align: right;\n",
       "    }\n",
       "</style>\n",
       "<table border=\"1\" class=\"dataframe\">\n",
       "  <thead>\n",
       "    <tr style=\"text-align: right;\">\n",
       "      <th>family_status</th>\n",
       "      <th>civil partnership</th>\n",
       "      <th>divorced</th>\n",
       "      <th>married</th>\n",
       "      <th>unmarried</th>\n",
       "      <th>widow / widower</th>\n",
       "      <th>All</th>\n",
       "    </tr>\n",
       "    <tr>\n",
       "      <th>family_status_id</th>\n",
       "      <th></th>\n",
       "      <th></th>\n",
       "      <th></th>\n",
       "      <th></th>\n",
       "      <th></th>\n",
       "      <th></th>\n",
       "    </tr>\n",
       "  </thead>\n",
       "  <tbody>\n",
       "    <tr>\n",
       "      <th>0</th>\n",
       "      <td>NaN</td>\n",
       "      <td>NaN</td>\n",
       "      <td>12254.0</td>\n",
       "      <td>NaN</td>\n",
       "      <td>NaN</td>\n",
       "      <td>12254</td>\n",
       "    </tr>\n",
       "    <tr>\n",
       "      <th>1</th>\n",
       "      <td>4139.0</td>\n",
       "      <td>NaN</td>\n",
       "      <td>NaN</td>\n",
       "      <td>NaN</td>\n",
       "      <td>NaN</td>\n",
       "      <td>4139</td>\n",
       "    </tr>\n",
       "    <tr>\n",
       "      <th>2</th>\n",
       "      <td>NaN</td>\n",
       "      <td>NaN</td>\n",
       "      <td>NaN</td>\n",
       "      <td>NaN</td>\n",
       "      <td>947.0</td>\n",
       "      <td>947</td>\n",
       "    </tr>\n",
       "    <tr>\n",
       "      <th>3</th>\n",
       "      <td>NaN</td>\n",
       "      <td>1179.0</td>\n",
       "      <td>NaN</td>\n",
       "      <td>NaN</td>\n",
       "      <td>NaN</td>\n",
       "      <td>1179</td>\n",
       "    </tr>\n",
       "    <tr>\n",
       "      <th>4</th>\n",
       "      <td>NaN</td>\n",
       "      <td>NaN</td>\n",
       "      <td>NaN</td>\n",
       "      <td>2783.0</td>\n",
       "      <td>NaN</td>\n",
       "      <td>2783</td>\n",
       "    </tr>\n",
       "    <tr>\n",
       "      <th>All</th>\n",
       "      <td>4139.0</td>\n",
       "      <td>1179.0</td>\n",
       "      <td>12254.0</td>\n",
       "      <td>2783.0</td>\n",
       "      <td>947.0</td>\n",
       "      <td>21302</td>\n",
       "    </tr>\n",
       "  </tbody>\n",
       "</table>\n",
       "</div>"
      ],
      "text/plain": [
       "family_status     civil partnership  divorced  married  unmarried  \\\n",
       "family_status_id                                                    \n",
       "0                               NaN       NaN  12254.0        NaN   \n",
       "1                            4139.0       NaN      NaN        NaN   \n",
       "2                               NaN       NaN      NaN        NaN   \n",
       "3                               NaN    1179.0      NaN        NaN   \n",
       "4                               NaN       NaN      NaN     2783.0   \n",
       "All                          4139.0    1179.0  12254.0     2783.0   \n",
       "\n",
       "family_status     widow / widower    All  \n",
       "family_status_id                          \n",
       "0                             NaN  12254  \n",
       "1                             NaN   4139  \n",
       "2                           947.0    947  \n",
       "3                             NaN   1179  \n",
       "4                             NaN   2783  \n",
       "All                         947.0  21302  "
      ]
     },
     "metadata": {},
     "output_type": "display_data"
    }
   ],
   "source": [
    "# Let's break out a pivot table to check.\n",
    "display(data.pivot_table(index='family_status_id', columns='family_status', values='debt', aggfunc='count', margins=True))"
   ]
  },
  {
   "cell_type": "markdown",
   "metadata": {},
   "source": [
    "<div class=\"alert alert-info\"> <b> 'family_status_id' == 'family_status'</b> <br>\n",
    "0 == married <br>\n",
    "1 == civil partnership <br>\n",
    "2 == widow / widower<br>\n",
    "3 == divorced <br> \n",
    "4 == unmarried <br>\n",
    "</div>"
   ]
  },
  {
   "cell_type": "markdown",
   "metadata": {},
   "source": [
    "<div class=\"alert alert-info\"> <b> Student note: No Problems</b> <br>\n",
    "I stil don't see any problems with this column. Please let me know if I overlooked something.\n",
    "</div>"
   ]
  },
  {
   "cell_type": "markdown",
   "metadata": {},
   "source": [
    "<div class=\"alert alert-block alert-success\">\n",
    "<b>Reviewer's comment.V.2.</b> <a class=\"tocSkip\"></a>\n",
    "    \n",
    "Correct!\n",
    "</div>\n"
   ]
  },
  {
   "cell_type": "markdown",
   "metadata": {},
   "source": [
    "<div class=\"alert alert-info\"> <b> Gender</b> <br>\n",
    "</div>"
   ]
  },
  {
   "cell_type": "code",
   "execution_count": 29,
   "metadata": {},
   "outputs": [
    {
     "data": {
      "text/plain": [
       "F      14083\n",
       "M       7218\n",
       "XNA        1\n",
       "Name: gender, dtype: int64"
      ]
     },
     "execution_count": 29,
     "metadata": {},
     "output_type": "execute_result"
    }
   ],
   "source": [
    "# Let's see the values in the gender column\n",
    "data['gender'].value_counts()"
   ]
  },
  {
   "cell_type": "markdown",
   "metadata": {},
   "source": [
    "<div class=\"alert alert-info\"> <b> 1 outlier</b> <br>\n",
    "XNA <br>\n",
    "    Will drop 1 row from our data set and move on. <br>\n",
    "</div>"
   ]
  },
  {
   "cell_type": "code",
   "execution_count": 30,
   "metadata": {},
   "outputs": [],
   "source": [
    "#drop XNA\n",
    "\n",
    "#Which of these two solutions is best practices?\n",
    "\n",
    "#data_copy = data[data.gender != 'XNA']\n",
    "\n",
    "#OR\n",
    "\n",
    "data.drop(data.loc[data['gender']=='XNA'].index, inplace=True)"
   ]
  },
  {
   "cell_type": "code",
   "execution_count": 31,
   "metadata": {},
   "outputs": [
    {
     "data": {
      "text/plain": [
       "F    14083\n",
       "M     7218\n",
       "Name: gender, dtype: int64"
      ]
     },
     "execution_count": 31,
     "metadata": {},
     "output_type": "execute_result"
    }
   ],
   "source": [
    "# Check the result\n",
    "data['gender'].value_counts()\n"
   ]
  },
  {
   "cell_type": "markdown",
   "metadata": {},
   "source": [
    "<div class=\"alert alert-block alert-success\">\n",
    "<b>Reviewer's comment.V.2.</b> <a class=\"tocSkip\"></a>\n",
    "    \n",
    "Success. Everything is done succesfully.\n",
    "</div>\n"
   ]
  },
  {
   "cell_type": "markdown",
   "metadata": {},
   "source": [
    "<div class=\"alert alert-info\"> <b> Income Type</b> <br>\n",
    "</div>"
   ]
  },
  {
   "cell_type": "code",
   "execution_count": 32,
   "metadata": {},
   "outputs": [
    {
     "data": {
      "text/plain": [
       "employee                       10996\n",
       "business                        5033\n",
       "retiree                         3819\n",
       "civil servant                   1447\n",
       "entrepreneur                       2\n",
       "unemployed                         2\n",
       "student                            1\n",
       "paternity / maternity leave        1\n",
       "Name: income_type, dtype: int64"
      ]
     },
     "execution_count": 32,
     "metadata": {},
     "output_type": "execute_result"
    }
   ],
   "source": [
    "# Let's see the values in the column\n",
    "data['income_type'].value_counts()"
   ]
  },
  {
   "cell_type": "markdown",
   "metadata": {},
   "source": [
    "<div class=\"alert alert-info\"> <b> Notes</b> <br>\n",
    "    entrepreneur, employee and business? These can probably be combined. <br>\n",
    "    We don't have any reason to think \"business\" is \"business owner\", and it doesn't match our \"2\" entrepreneurs <br>\n",
    "    We Don't have a category for investment income, or Rent <br>\n",
    "    <br>\n",
    "    These 4 designations have so few data points, we will merge the business related categories, and drop student and paternity / maternity, and unemployed.<br>\n",
    "2 == unemployed <br>\n",
    "2 == entrepreneur <br>\n",
    "1 == paternity / maternity leave <br>\n",
    "1 == student <br>\n",
    "    <br>\n",
    "    \n",
    "    \n",
    "</div>"
   ]
  },
  {
   "cell_type": "markdown",
   "metadata": {},
   "source": [
    "<div class=\"alert alert-block alert-danger\">\n",
    "<b>Reviewer's comment.V.2.</b> <a class=\"tocSkip\"></a>\n",
    "    \n",
    "We cannot assume here these three words are the same. This is really separate income types and combining it will change our results of the analysis significantly. Please correct here and below your code.\n",
    "</div>\n"
   ]
  },
  {
   "cell_type": "markdown",
   "metadata": {},
   "source": [
    "<div class=\"alert alert-info\"> <b> Updated</b> <br>\n",
    "code updated below as suggested\n",
    "    <br>\n",
    "    \n",
    "    \n",
    "</div>"
   ]
  },
  {
   "cell_type": "code",
   "execution_count": 33,
   "metadata": {},
   "outputs": [],
   "source": [
    "# replace employee with business\n",
    "#data['income_type'].replace(to_replace = 'employee', value= 'business', inplace = True)\n",
    "\n",
    "# replace entrepreneur with business\n",
    "#data['income_type'].replace(to_replace = 'entrepreneur', value= 'business', inplace = True)\n",
    "\n",
    "### Updating Code to Drop employee and Entrepreneur ###\n",
    "\n",
    "# drop employee\n",
    "data.drop(data.loc[data['income_type']=='employee' ].index, inplace=True)\n",
    "\n",
    "# drop entrepreneur\n",
    "data.drop(data.loc[data['income_type']=='entrepreneur' ].index, inplace=True)\n",
    "\n",
    "# drop student\n",
    "data.drop(data.loc[data['income_type']=='student' ].index, inplace=True)\n",
    "\n",
    "# drop paternity / maternity leave\n",
    "data.drop(data.loc[data['income_type']=='paternity / maternity leave' ].index, inplace=True)\n",
    "\n",
    "# drop unemployed\n",
    "data.drop(data.loc[data['income_type']=='unemployed' ].index, inplace=True)"
   ]
  },
  {
   "cell_type": "code",
   "execution_count": 34,
   "metadata": {},
   "outputs": [
    {
     "data": {
      "text/plain": [
       "business         5033\n",
       "retiree          3819\n",
       "civil servant    1447\n",
       "Name: income_type, dtype: int64"
      ]
     },
     "execution_count": 34,
     "metadata": {},
     "output_type": "execute_result"
    }
   ],
   "source": [
    "# Check the result - make sure it's fixed\n",
    "data['income_type'].value_counts()\n"
   ]
  },
  {
   "cell_type": "markdown",
   "metadata": {},
   "source": [
    "<div class=\"alert alert-info\"> <b> Loan purpose </b> <br>\n",
    "   The  Loan purpose column tells us why people are taking out these loans. <br>\n",
    "    It's a mess. <br>\n",
    "    Let's clean it up. <br>\n",
    "</div>"
   ]
  },
  {
   "cell_type": "markdown",
   "metadata": {},
   "source": [
    "<div class=\"alert alert-block alert-danger\">\n",
    "<b>Reviewer's comment.V.2.</b> <a class=\"tocSkip\"></a>\n",
    "    \n",
    "Please correct above this column.\n",
    "</div>\n"
   ]
  },
  {
   "cell_type": "markdown",
   "metadata": {},
   "source": [
    "<div class=\"alert alert-info\"> <b> Please confirm the problem is corrected as suggested. </b> <br>\n",
    "</div>"
   ]
  },
  {
   "cell_type": "markdown",
   "metadata": {},
   "source": [
    "<div class=\"alert alert-info\"> <b> Drop Dupes </b> <br>\n",
    "   Let's drop some dupes! <br>\n",
    "    =^)\n",
    "</div>"
   ]
  },
  {
   "cell_type": "markdown",
   "metadata": {},
   "source": [
    "<div class=\"alert alert-block alert-danger\">\n",
    "<b>Reviewer's comment.V.2.</b> <a class=\"tocSkip\"></a>\n",
    "\n",
    "Checking for duplicates should be done after transforming all necessary columns to a certain order, which you did. Before intorducing any categorization, we should check for duplicates and drop them. So just move this part of the code, before categorization.\n",
    "</div>\n"
   ]
  },
  {
   "cell_type": "markdown",
   "metadata": {},
   "source": [
    "<div class=\"alert alert-info\"> <b> Updated code location: Is this the best place for this code? If not, please advise. </b> <br>\n",
    "</div>"
   ]
  },
  {
   "cell_type": "code",
   "execution_count": 35,
   "metadata": {},
   "outputs": [
    {
     "data": {
      "text/plain": [
       "36"
      ]
     },
     "execution_count": 35,
     "metadata": {},
     "output_type": "execute_result"
    }
   ],
   "source": [
    "# Checking duplicates\n",
    "data.duplicated().sum()\n"
   ]
  },
  {
   "cell_type": "code",
   "execution_count": 36,
   "metadata": {},
   "outputs": [
    {
     "data": {
      "text/html": [
       "<div>\n",
       "<style scoped>\n",
       "    .dataframe tbody tr th:only-of-type {\n",
       "        vertical-align: middle;\n",
       "    }\n",
       "\n",
       "    .dataframe tbody tr th {\n",
       "        vertical-align: top;\n",
       "    }\n",
       "\n",
       "    .dataframe thead th {\n",
       "        text-align: right;\n",
       "    }\n",
       "</style>\n",
       "<table border=\"1\" class=\"dataframe\">\n",
       "  <thead>\n",
       "    <tr style=\"text-align: right;\">\n",
       "      <th></th>\n",
       "      <th>children</th>\n",
       "      <th>days_employed</th>\n",
       "      <th>age</th>\n",
       "      <th>education</th>\n",
       "      <th>education_id</th>\n",
       "      <th>family_status</th>\n",
       "      <th>family_status_id</th>\n",
       "      <th>gender</th>\n",
       "      <th>income_type</th>\n",
       "      <th>debt</th>\n",
       "      <th>total_income</th>\n",
       "      <th>purpose</th>\n",
       "      <th>years_employed</th>\n",
       "    </tr>\n",
       "  </thead>\n",
       "  <tbody>\n",
       "    <tr>\n",
       "      <th>4</th>\n",
       "      <td>0</td>\n",
       "      <td>340266.072047</td>\n",
       "      <td>53</td>\n",
       "      <td>secondary education</td>\n",
       "      <td>1</td>\n",
       "      <td>civil partnership</td>\n",
       "      <td>1</td>\n",
       "      <td>F</td>\n",
       "      <td>retiree</td>\n",
       "      <td>0</td>\n",
       "      <td>25378.572</td>\n",
       "      <td>to have a wedding</td>\n",
       "      <td>932.235814</td>\n",
       "    </tr>\n",
       "    <tr>\n",
       "      <th>5</th>\n",
       "      <td>0</td>\n",
       "      <td>926.185831</td>\n",
       "      <td>27</td>\n",
       "      <td>bachelor's degree</td>\n",
       "      <td>0</td>\n",
       "      <td>civil partnership</td>\n",
       "      <td>1</td>\n",
       "      <td>M</td>\n",
       "      <td>business</td>\n",
       "      <td>0</td>\n",
       "      <td>40922.170</td>\n",
       "      <td>purchase of the house</td>\n",
       "      <td>2.537495</td>\n",
       "    </tr>\n",
       "    <tr>\n",
       "      <th>6</th>\n",
       "      <td>0</td>\n",
       "      <td>2879.202052</td>\n",
       "      <td>43</td>\n",
       "      <td>bachelor's degree</td>\n",
       "      <td>0</td>\n",
       "      <td>married</td>\n",
       "      <td>0</td>\n",
       "      <td>F</td>\n",
       "      <td>business</td>\n",
       "      <td>0</td>\n",
       "      <td>38484.156</td>\n",
       "      <td>housing transactions</td>\n",
       "      <td>7.888225</td>\n",
       "    </tr>\n",
       "    <tr>\n",
       "      <th>10</th>\n",
       "      <td>2</td>\n",
       "      <td>4171.483647</td>\n",
       "      <td>36</td>\n",
       "      <td>bachelor's degree</td>\n",
       "      <td>0</td>\n",
       "      <td>married</td>\n",
       "      <td>0</td>\n",
       "      <td>M</td>\n",
       "      <td>business</td>\n",
       "      <td>0</td>\n",
       "      <td>18230.959</td>\n",
       "      <td>buy real estate</td>\n",
       "      <td>11.428722</td>\n",
       "    </tr>\n",
       "    <tr>\n",
       "      <th>12</th>\n",
       "      <td>0</td>\n",
       "      <td>NaN</td>\n",
       "      <td>65</td>\n",
       "      <td>secondary education</td>\n",
       "      <td>1</td>\n",
       "      <td>civil partnership</td>\n",
       "      <td>1</td>\n",
       "      <td>M</td>\n",
       "      <td>retiree</td>\n",
       "      <td>0</td>\n",
       "      <td>NaN</td>\n",
       "      <td>to have a wedding</td>\n",
       "      <td>NaN</td>\n",
       "    </tr>\n",
       "  </tbody>\n",
       "</table>\n",
       "</div>"
      ],
      "text/plain": [
       "    children  days_employed  age            education  education_id  \\\n",
       "4          0  340266.072047   53  secondary education             1   \n",
       "5          0     926.185831   27    bachelor's degree             0   \n",
       "6          0    2879.202052   43    bachelor's degree             0   \n",
       "10         2    4171.483647   36    bachelor's degree             0   \n",
       "12         0            NaN   65  secondary education             1   \n",
       "\n",
       "        family_status  family_status_id gender income_type  debt  \\\n",
       "4   civil partnership                 1      F     retiree     0   \n",
       "5   civil partnership                 1      M    business     0   \n",
       "6             married                 0      F    business     0   \n",
       "10            married                 0      M    business     0   \n",
       "12  civil partnership                 1      M     retiree     0   \n",
       "\n",
       "    total_income                purpose  years_employed  \n",
       "4      25378.572      to have a wedding      932.235814  \n",
       "5      40922.170  purchase of the house        2.537495  \n",
       "6      38484.156   housing transactions        7.888225  \n",
       "10     18230.959        buy real estate       11.428722  \n",
       "12           NaN      to have a wedding             NaN  "
      ]
     },
     "execution_count": 36,
     "metadata": {},
     "output_type": "execute_result"
    }
   ],
   "source": [
    "# Address the duplicates, if they exist\n",
    "\n",
    "data = data.drop_duplicates()\n",
    "#data = data.reset_index()\n",
    "data.head()"
   ]
  },
  {
   "cell_type": "code",
   "execution_count": 37,
   "metadata": {},
   "outputs": [
    {
     "data": {
      "text/plain": [
       "0"
      ]
     },
     "execution_count": 37,
     "metadata": {},
     "output_type": "execute_result"
    }
   ],
   "source": [
    "# Test Drop duplicates\n",
    "data.duplicated().sum()"
   ]
  },
  {
   "cell_type": "code",
   "execution_count": 38,
   "metadata": {},
   "outputs": [
    {
     "data": {
      "text/plain": [
       "having a wedding                            379\n",
       "wedding ceremony                            371\n",
       "real estate transactions                    353\n",
       "to have a wedding                           345\n",
       "purchase of the house for my family         325\n",
       "buy commercial real estate                  312\n",
       "transactions with my real estate            309\n",
       "construction of own property                307\n",
       "transactions with commercial real estate    306\n",
       "purchase of the house                       305\n",
       "building a property                         303\n",
       "housing                                     301\n",
       "building a real estate                      301\n",
       "buy real estate                             292\n",
       "buy residential real estate                 291\n",
       "buying property for renting out             291\n",
       "property                                    290\n",
       "purchase of my own house                    290\n",
       "housing renovation                          287\n",
       "housing transactions                        282\n",
       "cars                                        249\n",
       "car                                         248\n",
       "buying my own car                           242\n",
       "going to university                         237\n",
       "supplementary education                     234\n",
       "to get a supplementary education            232\n",
       "to own a car                                231\n",
       "buying a second-hand car                    231\n",
       "to buy a car                                231\n",
       "second-hand car purchase                    230\n",
       "car purchase                                228\n",
       "purchase of a car                           222\n",
       "university education                        214\n",
       "education                                   212\n",
       "getting an education                        201\n",
       "getting higher education                    197\n",
       "to become educated                          196\n",
       "profile education                           188\n",
       "Name: purpose, dtype: int64"
      ]
     },
     "execution_count": 38,
     "metadata": {},
     "output_type": "execute_result"
    }
   ],
   "source": [
    "data.purpose.value_counts()"
   ]
  },
  {
   "cell_type": "markdown",
   "metadata": {},
   "source": [
    "<div class=\"alert alert-info\"> <b> So many reasons! </b> <br>\n",
    "   That's a lot of differenet reasons to take out a loan. <br>\n",
    "   We will consolidate into some broad categories <br>\n",
    "   And then use dictionares to consolidate the data into those categories. <br>\n",
    "    <br>\n",
    "   Lots of real estate transactions: Residential, Comercial, New Construction, Remodel. <br>\n",
    "   Unfortunetly much of the Real Estate Data is unclear. \"Real Estate Transaction\", and \"property\" are not very clear. <br>\n",
    "   In a real world data set, we would want to break out comercial loans into new construction, the vereous types of multi family transactions, and the vareous types of comercial, etc. - loaning money for new warehouse constuction has a comletly different risk profile then remodeling an existing hospital, as an example. <br>\n",
    "    Similar distictions should be drawn between new cars and used cars. <br>\n",
    "    As well as the different types of education, Ceramics at the local community college and a masters degree in cermaics and materials sciences have very different risk profiles. <br>\n",
    "    <br>\n",
    "    If we consolidate these into a few broad categories, we might lose some nuance, especially in real estate, but it will probably make the datasset more useful overall. <br>\n",
    "    Frustratingly, many of the real estate categories could be either comercial or residential, and in trying to categorize them into one category or the other, we actually loose fidelity, rather than improve it.\n",
    "    <br>\n",
    "    -- education - There are 9 education categories <br>\n",
    "    -- car - There are 9 car categories <br>\n",
    "    -- Weddings - there are 3 wedding categories <br>\n",
    "    -- Real Estate - there are 17 real estate categoires !!!<br>\n",
    "    -- 38 purposes for taking out a loan in total... hmmm. <br>\n",
    "    <br>\n",
    "    Let's keep the original data in the dataframe, and create a new column with consolidated categories.\n",
    "</div>\n",
    "\n"
   ]
  },
  {
   "cell_type": "code",
   "execution_count": 39,
   "metadata": {},
   "outputs": [
    {
     "data": {
      "text/html": [
       "<div>\n",
       "<style scoped>\n",
       "    .dataframe tbody tr th:only-of-type {\n",
       "        vertical-align: middle;\n",
       "    }\n",
       "\n",
       "    .dataframe tbody tr th {\n",
       "        vertical-align: top;\n",
       "    }\n",
       "\n",
       "    .dataframe thead th {\n",
       "        text-align: right;\n",
       "    }\n",
       "</style>\n",
       "<table border=\"1\" class=\"dataframe\">\n",
       "  <thead>\n",
       "    <tr style=\"text-align: right;\">\n",
       "      <th></th>\n",
       "      <th>children</th>\n",
       "      <th>days_employed</th>\n",
       "      <th>age</th>\n",
       "      <th>education</th>\n",
       "      <th>education_id</th>\n",
       "      <th>family_status</th>\n",
       "      <th>family_status_id</th>\n",
       "      <th>gender</th>\n",
       "      <th>income_type</th>\n",
       "      <th>debt</th>\n",
       "      <th>total_income</th>\n",
       "      <th>purpose</th>\n",
       "      <th>years_employed</th>\n",
       "      <th>loan_purpose</th>\n",
       "    </tr>\n",
       "  </thead>\n",
       "  <tbody>\n",
       "    <tr>\n",
       "      <th>4</th>\n",
       "      <td>0</td>\n",
       "      <td>340266.072047</td>\n",
       "      <td>53</td>\n",
       "      <td>secondary education</td>\n",
       "      <td>1</td>\n",
       "      <td>civil partnership</td>\n",
       "      <td>1</td>\n",
       "      <td>F</td>\n",
       "      <td>retiree</td>\n",
       "      <td>0</td>\n",
       "      <td>25378.572</td>\n",
       "      <td>to have a wedding</td>\n",
       "      <td>932.235814</td>\n",
       "      <td>wedding</td>\n",
       "    </tr>\n",
       "    <tr>\n",
       "      <th>5</th>\n",
       "      <td>0</td>\n",
       "      <td>926.185831</td>\n",
       "      <td>27</td>\n",
       "      <td>bachelor's degree</td>\n",
       "      <td>0</td>\n",
       "      <td>civil partnership</td>\n",
       "      <td>1</td>\n",
       "      <td>M</td>\n",
       "      <td>business</td>\n",
       "      <td>0</td>\n",
       "      <td>40922.170</td>\n",
       "      <td>purchase of the house</td>\n",
       "      <td>2.537495</td>\n",
       "      <td>real estate</td>\n",
       "    </tr>\n",
       "    <tr>\n",
       "      <th>6</th>\n",
       "      <td>0</td>\n",
       "      <td>2879.202052</td>\n",
       "      <td>43</td>\n",
       "      <td>bachelor's degree</td>\n",
       "      <td>0</td>\n",
       "      <td>married</td>\n",
       "      <td>0</td>\n",
       "      <td>F</td>\n",
       "      <td>business</td>\n",
       "      <td>0</td>\n",
       "      <td>38484.156</td>\n",
       "      <td>housing transactions</td>\n",
       "      <td>7.888225</td>\n",
       "      <td>real estate</td>\n",
       "    </tr>\n",
       "    <tr>\n",
       "      <th>10</th>\n",
       "      <td>2</td>\n",
       "      <td>4171.483647</td>\n",
       "      <td>36</td>\n",
       "      <td>bachelor's degree</td>\n",
       "      <td>0</td>\n",
       "      <td>married</td>\n",
       "      <td>0</td>\n",
       "      <td>M</td>\n",
       "      <td>business</td>\n",
       "      <td>0</td>\n",
       "      <td>18230.959</td>\n",
       "      <td>buy real estate</td>\n",
       "      <td>11.428722</td>\n",
       "      <td>real estate</td>\n",
       "    </tr>\n",
       "    <tr>\n",
       "      <th>12</th>\n",
       "      <td>0</td>\n",
       "      <td>NaN</td>\n",
       "      <td>65</td>\n",
       "      <td>secondary education</td>\n",
       "      <td>1</td>\n",
       "      <td>civil partnership</td>\n",
       "      <td>1</td>\n",
       "      <td>M</td>\n",
       "      <td>retiree</td>\n",
       "      <td>0</td>\n",
       "      <td>NaN</td>\n",
       "      <td>to have a wedding</td>\n",
       "      <td>NaN</td>\n",
       "      <td>wedding</td>\n",
       "    </tr>\n",
       "    <tr>\n",
       "      <th>14</th>\n",
       "      <td>0</td>\n",
       "      <td>1844.956182</td>\n",
       "      <td>56</td>\n",
       "      <td>bachelor's degree</td>\n",
       "      <td>0</td>\n",
       "      <td>civil partnership</td>\n",
       "      <td>1</td>\n",
       "      <td>F</td>\n",
       "      <td>business</td>\n",
       "      <td>1</td>\n",
       "      <td>26420.466</td>\n",
       "      <td>buy residential real estate</td>\n",
       "      <td>5.054674</td>\n",
       "      <td>real estate</td>\n",
       "    </tr>\n",
       "    <tr>\n",
       "      <th>18</th>\n",
       "      <td>0</td>\n",
       "      <td>400281.136913</td>\n",
       "      <td>53</td>\n",
       "      <td>secondary education</td>\n",
       "      <td>1</td>\n",
       "      <td>widow / widower</td>\n",
       "      <td>2</td>\n",
       "      <td>F</td>\n",
       "      <td>retiree</td>\n",
       "      <td>0</td>\n",
       "      <td>9091.804</td>\n",
       "      <td>buying a second-hand car</td>\n",
       "      <td>1096.660649</td>\n",
       "      <td>auto</td>\n",
       "    </tr>\n",
       "    <tr>\n",
       "      <th>24</th>\n",
       "      <td>1</td>\n",
       "      <td>338551.952911</td>\n",
       "      <td>57</td>\n",
       "      <td>secondary education</td>\n",
       "      <td>1</td>\n",
       "      <td>unmarried</td>\n",
       "      <td>4</td>\n",
       "      <td>F</td>\n",
       "      <td>retiree</td>\n",
       "      <td>0</td>\n",
       "      <td>46487.558</td>\n",
       "      <td>transactions with commercial real estate</td>\n",
       "      <td>927.539597</td>\n",
       "      <td>real estate</td>\n",
       "    </tr>\n",
       "    <tr>\n",
       "      <th>25</th>\n",
       "      <td>0</td>\n",
       "      <td>363548.489348</td>\n",
       "      <td>67</td>\n",
       "      <td>secondary education</td>\n",
       "      <td>1</td>\n",
       "      <td>married</td>\n",
       "      <td>0</td>\n",
       "      <td>M</td>\n",
       "      <td>retiree</td>\n",
       "      <td>0</td>\n",
       "      <td>8818.041</td>\n",
       "      <td>buy real estate</td>\n",
       "      <td>996.023258</td>\n",
       "      <td>real estate</td>\n",
       "    </tr>\n",
       "    <tr>\n",
       "      <th>26</th>\n",
       "      <td>0</td>\n",
       "      <td>NaN</td>\n",
       "      <td>41</td>\n",
       "      <td>secondary education</td>\n",
       "      <td>1</td>\n",
       "      <td>married</td>\n",
       "      <td>0</td>\n",
       "      <td>M</td>\n",
       "      <td>civil servant</td>\n",
       "      <td>0</td>\n",
       "      <td>NaN</td>\n",
       "      <td>education</td>\n",
       "      <td>NaN</td>\n",
       "      <td>education</td>\n",
       "    </tr>\n",
       "    <tr>\n",
       "      <th>29</th>\n",
       "      <td>0</td>\n",
       "      <td>NaN</td>\n",
       "      <td>63</td>\n",
       "      <td>secondary education</td>\n",
       "      <td>1</td>\n",
       "      <td>unmarried</td>\n",
       "      <td>4</td>\n",
       "      <td>F</td>\n",
       "      <td>retiree</td>\n",
       "      <td>0</td>\n",
       "      <td>NaN</td>\n",
       "      <td>building a real estate</td>\n",
       "      <td>NaN</td>\n",
       "      <td>real estate</td>\n",
       "    </tr>\n",
       "    <tr>\n",
       "      <th>30</th>\n",
       "      <td>1</td>\n",
       "      <td>335581.668515</td>\n",
       "      <td>62</td>\n",
       "      <td>secondary education</td>\n",
       "      <td>1</td>\n",
       "      <td>married</td>\n",
       "      <td>0</td>\n",
       "      <td>F</td>\n",
       "      <td>retiree</td>\n",
       "      <td>0</td>\n",
       "      <td>27432.971</td>\n",
       "      <td>transactions with commercial real estate</td>\n",
       "      <td>919.401832</td>\n",
       "      <td>real estate</td>\n",
       "    </tr>\n",
       "    <tr>\n",
       "      <th>33</th>\n",
       "      <td>0</td>\n",
       "      <td>1548.637544</td>\n",
       "      <td>48</td>\n",
       "      <td>secondary education</td>\n",
       "      <td>1</td>\n",
       "      <td>married</td>\n",
       "      <td>0</td>\n",
       "      <td>F</td>\n",
       "      <td>business</td>\n",
       "      <td>0</td>\n",
       "      <td>25159.326</td>\n",
       "      <td>purchase of the house</td>\n",
       "      <td>4.242843</td>\n",
       "      <td>real estate</td>\n",
       "    </tr>\n",
       "    <tr>\n",
       "      <th>35</th>\n",
       "      <td>0</td>\n",
       "      <td>394021.072184</td>\n",
       "      <td>68</td>\n",
       "      <td>secondary education</td>\n",
       "      <td>1</td>\n",
       "      <td>civil partnership</td>\n",
       "      <td>1</td>\n",
       "      <td>M</td>\n",
       "      <td>retiree</td>\n",
       "      <td>0</td>\n",
       "      <td>12448.908</td>\n",
       "      <td>having a wedding</td>\n",
       "      <td>1079.509787</td>\n",
       "      <td>wedding</td>\n",
       "    </tr>\n",
       "    <tr>\n",
       "      <th>37</th>\n",
       "      <td>0</td>\n",
       "      <td>6448.810860</td>\n",
       "      <td>43</td>\n",
       "      <td>bachelor's degree</td>\n",
       "      <td>0</td>\n",
       "      <td>civil partnership</td>\n",
       "      <td>1</td>\n",
       "      <td>F</td>\n",
       "      <td>business</td>\n",
       "      <td>0</td>\n",
       "      <td>24660.621</td>\n",
       "      <td>car purchase</td>\n",
       "      <td>17.667975</td>\n",
       "      <td>auto</td>\n",
       "    </tr>\n",
       "  </tbody>\n",
       "</table>\n",
       "</div>"
      ],
      "text/plain": [
       "    children  days_employed  age            education  education_id  \\\n",
       "4          0  340266.072047   53  secondary education             1   \n",
       "5          0     926.185831   27    bachelor's degree             0   \n",
       "6          0    2879.202052   43    bachelor's degree             0   \n",
       "10         2    4171.483647   36    bachelor's degree             0   \n",
       "12         0            NaN   65  secondary education             1   \n",
       "14         0    1844.956182   56    bachelor's degree             0   \n",
       "18         0  400281.136913   53  secondary education             1   \n",
       "24         1  338551.952911   57  secondary education             1   \n",
       "25         0  363548.489348   67  secondary education             1   \n",
       "26         0            NaN   41  secondary education             1   \n",
       "29         0            NaN   63  secondary education             1   \n",
       "30         1  335581.668515   62  secondary education             1   \n",
       "33         0    1548.637544   48  secondary education             1   \n",
       "35         0  394021.072184   68  secondary education             1   \n",
       "37         0    6448.810860   43    bachelor's degree             0   \n",
       "\n",
       "        family_status  family_status_id gender    income_type  debt  \\\n",
       "4   civil partnership                 1      F        retiree     0   \n",
       "5   civil partnership                 1      M       business     0   \n",
       "6             married                 0      F       business     0   \n",
       "10            married                 0      M       business     0   \n",
       "12  civil partnership                 1      M        retiree     0   \n",
       "14  civil partnership                 1      F       business     1   \n",
       "18    widow / widower                 2      F        retiree     0   \n",
       "24          unmarried                 4      F        retiree     0   \n",
       "25            married                 0      M        retiree     0   \n",
       "26            married                 0      M  civil servant     0   \n",
       "29          unmarried                 4      F        retiree     0   \n",
       "30            married                 0      F        retiree     0   \n",
       "33            married                 0      F       business     0   \n",
       "35  civil partnership                 1      M        retiree     0   \n",
       "37  civil partnership                 1      F       business     0   \n",
       "\n",
       "    total_income                                   purpose  years_employed  \\\n",
       "4      25378.572                         to have a wedding      932.235814   \n",
       "5      40922.170                     purchase of the house        2.537495   \n",
       "6      38484.156                      housing transactions        7.888225   \n",
       "10     18230.959                           buy real estate       11.428722   \n",
       "12           NaN                         to have a wedding             NaN   \n",
       "14     26420.466               buy residential real estate        5.054674   \n",
       "18      9091.804                  buying a second-hand car     1096.660649   \n",
       "24     46487.558  transactions with commercial real estate      927.539597   \n",
       "25      8818.041                           buy real estate      996.023258   \n",
       "26           NaN                                 education             NaN   \n",
       "29           NaN                    building a real estate             NaN   \n",
       "30     27432.971  transactions with commercial real estate      919.401832   \n",
       "33     25159.326                     purchase of the house        4.242843   \n",
       "35     12448.908                          having a wedding     1079.509787   \n",
       "37     24660.621                              car purchase       17.667975   \n",
       "\n",
       "   loan_purpose  \n",
       "4       wedding  \n",
       "5   real estate  \n",
       "6   real estate  \n",
       "10  real estate  \n",
       "12      wedding  \n",
       "14  real estate  \n",
       "18         auto  \n",
       "24  real estate  \n",
       "25  real estate  \n",
       "26    education  \n",
       "29  real estate  \n",
       "30  real estate  \n",
       "33  real estate  \n",
       "35      wedding  \n",
       "37         auto  "
      ]
     },
     "execution_count": 39,
     "metadata": {},
     "output_type": "execute_result"
    }
   ],
   "source": [
    "#Note: There is a more ellegant way to do this using dictionaries, and maybe apply(),\n",
    "#but I can't quite figure it out, so here we are with this clunky work around.\n",
    "\n",
    "#Not memory or process efficent at all, =^|\n",
    "\n",
    "# Create a new column 'loan_purpose' which is a copy of the 'purpose' data\n",
    "data['loan_purpose'] = data['purpose']\n",
    "\n",
    "#replace the data in 'loan_purpose'\n",
    "\n",
    "#wedding\n",
    "data['loan_purpose'].replace('wedding ceremony', 'wedding', inplace = True)\n",
    "data['loan_purpose'].replace('having a wedding', 'wedding', inplace = True)\n",
    "data['loan_purpose'].replace('to have a wedding', 'wedding', inplace = True)\n",
    "\n",
    "#car\n",
    "data['loan_purpose'].replace('buying my own car', 'auto', inplace = True)\n",
    "data['loan_purpose'].replace('car', 'auto', inplace = True)\n",
    "data['loan_purpose'].replace('second-hand car purchase', 'auto', inplace = True)\n",
    "data['loan_purpose'].replace('to own a car', 'auto', inplace = True)\n",
    "data['loan_purpose'].replace('buying a second-hand car', 'auto', inplace = True)\n",
    "data['loan_purpose'].replace('cars', 'auto', inplace = True)\n",
    "data['loan_purpose'].replace('to buy a car', 'auto', inplace = True)\n",
    "data['loan_purpose'].replace('car purchase', 'auto', inplace = True)\n",
    "data['loan_purpose'].replace('purchase of a car', 'auto', inplace = True)\n",
    "\n",
    "#Education\n",
    "data['loan_purpose'].replace('going to university', 'education', inplace = True)\n",
    "data['loan_purpose'].replace('supplementary education', 'education', inplace = True)\n",
    "data['loan_purpose'].replace('university education', 'education', inplace = True)\n",
    "data['loan_purpose'].replace('to get a supplementary education', 'education', inplace = True)\n",
    "#data['loan_purpose'].replace('education', 'education', inplace = True)\n",
    "data['loan_purpose'].replace('getting an education', 'education', inplace = True)\n",
    "data['loan_purpose'].replace('profile education', 'education', inplace = True)\n",
    "data['loan_purpose'].replace('getting higher education', 'education', inplace = True)\n",
    "data['loan_purpose'].replace('to become educated', 'education', inplace = True)\n",
    "\n",
    "#Real Estate\n",
    "data['loan_purpose'].replace('real estate transactions', 'real estate', inplace = True)\n",
    "data['loan_purpose'].replace('buy commercial real estate', 'real estate', inplace = True)\n",
    "data['loan_purpose'].replace('buying property for renting out', 'real estate', inplace = True)\n",
    "data['loan_purpose'].replace('housing transactions', 'real estate', inplace = True)\n",
    "data['loan_purpose'].replace('transactions with commercial real estate', 'real estate', inplace = True)\n",
    "data['loan_purpose'].replace('housing', 'real estate', inplace = True)\n",
    "data['loan_purpose'].replace('purchase of the house', 'real estate', inplace = True)\n",
    "data['loan_purpose'].replace('purchase of the house for my family', 'real estate', inplace = True)\n",
    "data['loan_purpose'].replace('construction of own property', 'real estate', inplace = True)\n",
    "data['loan_purpose'].replace('property', 'real estate', inplace = True)\n",
    "data['loan_purpose'].replace('transactions with my real estate', 'real estate', inplace = True)\n",
    "data['loan_purpose'].replace('building a real estate', 'real estate', inplace = True)\n",
    "data['loan_purpose'].replace('building a property', 'real estate', inplace = True)\n",
    "data['loan_purpose'].replace('buy real estate', 'real estate', inplace = True)\n",
    "data['loan_purpose'].replace('purchase of my own house', 'real estate', inplace = True)\n",
    "data['loan_purpose'].replace('housing renovation', 'real estate', inplace = True)\n",
    "data['loan_purpose'].replace('buy residential real estate', 'real estate', inplace = True)\n",
    "\n",
    "\n",
    "#test\n",
    "data.head(15)\n",
    "#data.head(-15)"
   ]
  },
  {
   "cell_type": "markdown",
   "metadata": {},
   "source": [
    "<div class=\"alert alert-block alert-warning\">\n",
    "\n",
    "<b>Reviewer's comment.V.2.</b> <a class=\"tocSkip\"></a>\n",
    "\n",
    "Great job, but what to do if there are thousands of unique names for purpose column? You could use lemmatization approach, where you brake the phrases on single words, then count how often the same word is mentioned in the whole column and based on that choose the approach to categorise it. Examples: https://www.geeksforgeeks.org/python-lemmatization-approaches-with-examples/\n",
    "    \n",
    "Or you could use the following approach:\n",
    "    \n",
    "    if 'house' in purpose or 'housing' in purpose or 'real estate' in purpose or 'property' in purpose:\n",
    "        return 'Housing'\n",
    "    \n",
    "    and etc.\n",
    "    \n",
    "</div>"
   ]
  },
  {
   "cell_type": "markdown",
   "metadata": {},
   "source": [
    "<div class=\"alert alert-info\"> <b>  lemmatization </b> <br>\n",
    "    lemmatization Looks super interesting. I look forward to learning more about it. <br>\n",
    "    I'll keep this feedback in mind when I revisit this code to optimize it in the future.\n",
    "</div>"
   ]
  },
  {
   "cell_type": "code",
   "execution_count": 40,
   "metadata": {},
   "outputs": [
    {
     "data": {
      "text/plain": [
       "(10263, 14)"
      ]
     },
     "execution_count": 40,
     "metadata": {},
     "output_type": "execute_result"
    }
   ],
   "source": [
    "# Check the shape of the dataset that you now have after your first manipulations with it\n",
    "data.shape"
   ]
  },
  {
   "cell_type": "markdown",
   "metadata": {},
   "source": [
    "<div class=\"alert alert-info\"> <b> Dataset Overview </b> <br>\n",
    "   We removed 249 rows of the original dataframe, or less than 1%. <br>\n",
    "   children - We droped 47 rows with a -1 for the number of children. <br>\n",
    "   We dropped 1 row where the gender was listed as XNA <br>\n",
    "   We dropped 4 outlier rows from the income_type column <br>\n",
    "   We dropped 96 duplicates <br>\n",
    "   We dropped 101 individuals who are zero years old.\n",
    "   <br>\n",
    "   We consolidated and cleaned the education section by making all the data in the column lowercase - no material change to the data. <br>\n",
    "    <br>\n",
    "   days_employed AND ['total_income'] NaN values are still present at this point. <br>\n",
    "    days_employed still has ouragously large numbers, with some people having worked for 800+ years <br>\n",
    "    <br>   \n",
    "</div>"
   ]
  },
  {
   "cell_type": "markdown",
   "metadata": {},
   "source": [
    "<div class=\"alert alert-block alert-success\">\n",
    "<b>Reviewer's comment.V.2.</b> <a class=\"tocSkip\"></a>\n",
    "    \n",
    "Good conclusion!\n",
    "</div>"
   ]
  },
  {
   "cell_type": "markdown",
   "metadata": {},
   "source": [
    "# Working with missing values"
   ]
  },
  {
   "cell_type": "code",
   "execution_count": 41,
   "metadata": {},
   "outputs": [
    {
     "data": {
      "text/plain": [
       "children               0\n",
       "days_employed       1019\n",
       "age                    0\n",
       "education              0\n",
       "education_id           0\n",
       "family_status          0\n",
       "family_status_id       0\n",
       "gender                 0\n",
       "income_type            0\n",
       "debt                   0\n",
       "total_income        1019\n",
       "purpose                0\n",
       "years_employed      1019\n",
       "loan_purpose           0\n",
       "dtype: int64"
      ]
     },
     "metadata": {},
     "output_type": "display_data"
    }
   ],
   "source": [
    "display(data.isna().sum())"
   ]
  },
  {
   "cell_type": "markdown",
   "metadata": {},
   "source": [
    "### Restoring missing values in `total_income`"
   ]
  },
  {
   "cell_type": "markdown",
   "metadata": {},
   "source": [
    "<div class=\"alert alert-info\"> <b> Missing Values</b> <br>\n",
    "   indicated in the cell above, days_employed and total_income both have NaN values, and we determined in this notebook that the rows are syncronus, meaning the same rows are missing both values in all cases. years_employed also has NaN values, as we created that column by referencing days_employed. <br>\n",
    "    <br>\n",
    "    Next Steps: <br>\n",
    "    > address total_income missing values <br>\n",
    "    <br>\n",
    "    > create an age category for clients <br>\n",
    "        &nbsp;&nbsp;&nbsp;&nbsp;&nbsp;&nbsp;18-30 <br>\n",
    "        &nbsp;&nbsp;&nbsp;&nbsp;&nbsp;&nbsp;31-40 <br>\n",
    "        &nbsp;&nbsp;&nbsp;&nbsp;&nbsp;&nbsp;41-55 <br>\n",
    "        &nbsp;&nbsp;&nbsp;&nbsp;&nbsp;&nbsp;z56-75+ <br>\n",
    "    <br>\n",
    "    > create a new column with the age category <br>\n",
    "    \n",
    "</div>"
   ]
  },
  {
   "cell_type": "code",
   "execution_count": 42,
   "metadata": {},
   "outputs": [],
   "source": [
    "# Write a function that calculates the age category\n",
    "    \n",
    "def age_group(df):\n",
    "\n",
    "    \"\"\" create an age category for clients according to these rules\n",
    "    >18 - error, child\n",
    "    19-30 - early career\n",
    "    31-40 - mid career\n",
    "    41-55 - executive\n",
    "    56-64 - senior executive\n",
    "    65-122 - retired\n",
    "    123+ - deceased\n",
    "    \"\"\"\n",
    "    age=df\n",
    "    \n",
    "    \n",
    "    if age <= 18:\n",
    "        return 'error, child'\n",
    "    if age >= 19:\n",
    "        if age <= 30:\n",
    "            return '19-30'\n",
    "    if age >=31:\n",
    "        if age <= 40:\n",
    "            return '31-40'\n",
    "    if age >= 41:\n",
    "        if age <= 55:\n",
    "            return '41-55'\n",
    "    if age >= 56:\n",
    "        if age <= 64:\n",
    "            return '56-65'\n",
    "    if age >= 65:\n",
    "        if age <= 122:\n",
    "            return 'retired'\n",
    "    if age >= 123:\n",
    "        return 'deceased'\n"
   ]
  },
  {
   "cell_type": "markdown",
   "metadata": {},
   "source": [
    "<div class=\"alert alert-block alert-warning\">\n",
    "<b>Reviewer's comment.V.2.</b> <a class=\"tocSkip\"></a>\n",
    "    \n",
    "You can also write:\n",
    "    \n",
    "    if 19 <= age <= 40\n",
    "</div>"
   ]
  },
  {
   "cell_type": "code",
   "execution_count": 43,
   "metadata": {},
   "outputs": [
    {
     "name": "stdout",
     "output_type": "stream",
     "text": [
      "error, child\n",
      "19-30\n",
      "31-40\n",
      "31-40\n",
      "41-55\n",
      "41-55\n",
      "56-65\n",
      "56-65\n",
      "retired\n",
      "retired\n",
      "retired\n",
      "deceased\n"
     ]
    }
   ],
   "source": [
    "# Test if the function works\n",
    "print(age_group(18))\n",
    "print(age_group(19))\n",
    "print(age_group(31))\n",
    "print(age_group(40))\n",
    "print(age_group(41))\n",
    "print(age_group(55))\n",
    "print(age_group(56))\n",
    "print(age_group(64))\n",
    "print(age_group(65))\n",
    "print(age_group(121))\n",
    "print(age_group(122))\n",
    "print(age_group(123))"
   ]
  },
  {
   "cell_type": "code",
   "execution_count": 44,
   "metadata": {},
   "outputs": [
    {
     "data": {
      "text/html": [
       "<div>\n",
       "<style scoped>\n",
       "    .dataframe tbody tr th:only-of-type {\n",
       "        vertical-align: middle;\n",
       "    }\n",
       "\n",
       "    .dataframe tbody tr th {\n",
       "        vertical-align: top;\n",
       "    }\n",
       "\n",
       "    .dataframe thead th {\n",
       "        text-align: right;\n",
       "    }\n",
       "</style>\n",
       "<table border=\"1\" class=\"dataframe\">\n",
       "  <thead>\n",
       "    <tr style=\"text-align: right;\">\n",
       "      <th></th>\n",
       "      <th>children</th>\n",
       "      <th>days_employed</th>\n",
       "      <th>age</th>\n",
       "      <th>education</th>\n",
       "      <th>education_id</th>\n",
       "      <th>family_status</th>\n",
       "      <th>family_status_id</th>\n",
       "      <th>gender</th>\n",
       "      <th>income_type</th>\n",
       "      <th>debt</th>\n",
       "      <th>total_income</th>\n",
       "      <th>purpose</th>\n",
       "      <th>years_employed</th>\n",
       "      <th>loan_purpose</th>\n",
       "      <th>age_group</th>\n",
       "    </tr>\n",
       "  </thead>\n",
       "  <tbody>\n",
       "    <tr>\n",
       "      <th>4</th>\n",
       "      <td>0</td>\n",
       "      <td>340266.072047</td>\n",
       "      <td>53</td>\n",
       "      <td>secondary education</td>\n",
       "      <td>1</td>\n",
       "      <td>civil partnership</td>\n",
       "      <td>1</td>\n",
       "      <td>F</td>\n",
       "      <td>retiree</td>\n",
       "      <td>0</td>\n",
       "      <td>25378.572</td>\n",
       "      <td>to have a wedding</td>\n",
       "      <td>932.235814</td>\n",
       "      <td>wedding</td>\n",
       "      <td>41-55</td>\n",
       "    </tr>\n",
       "    <tr>\n",
       "      <th>5</th>\n",
       "      <td>0</td>\n",
       "      <td>926.185831</td>\n",
       "      <td>27</td>\n",
       "      <td>bachelor's degree</td>\n",
       "      <td>0</td>\n",
       "      <td>civil partnership</td>\n",
       "      <td>1</td>\n",
       "      <td>M</td>\n",
       "      <td>business</td>\n",
       "      <td>0</td>\n",
       "      <td>40922.170</td>\n",
       "      <td>purchase of the house</td>\n",
       "      <td>2.537495</td>\n",
       "      <td>real estate</td>\n",
       "      <td>19-30</td>\n",
       "    </tr>\n",
       "    <tr>\n",
       "      <th>6</th>\n",
       "      <td>0</td>\n",
       "      <td>2879.202052</td>\n",
       "      <td>43</td>\n",
       "      <td>bachelor's degree</td>\n",
       "      <td>0</td>\n",
       "      <td>married</td>\n",
       "      <td>0</td>\n",
       "      <td>F</td>\n",
       "      <td>business</td>\n",
       "      <td>0</td>\n",
       "      <td>38484.156</td>\n",
       "      <td>housing transactions</td>\n",
       "      <td>7.888225</td>\n",
       "      <td>real estate</td>\n",
       "      <td>41-55</td>\n",
       "    </tr>\n",
       "    <tr>\n",
       "      <th>10</th>\n",
       "      <td>2</td>\n",
       "      <td>4171.483647</td>\n",
       "      <td>36</td>\n",
       "      <td>bachelor's degree</td>\n",
       "      <td>0</td>\n",
       "      <td>married</td>\n",
       "      <td>0</td>\n",
       "      <td>M</td>\n",
       "      <td>business</td>\n",
       "      <td>0</td>\n",
       "      <td>18230.959</td>\n",
       "      <td>buy real estate</td>\n",
       "      <td>11.428722</td>\n",
       "      <td>real estate</td>\n",
       "      <td>31-40</td>\n",
       "    </tr>\n",
       "    <tr>\n",
       "      <th>12</th>\n",
       "      <td>0</td>\n",
       "      <td>NaN</td>\n",
       "      <td>65</td>\n",
       "      <td>secondary education</td>\n",
       "      <td>1</td>\n",
       "      <td>civil partnership</td>\n",
       "      <td>1</td>\n",
       "      <td>M</td>\n",
       "      <td>retiree</td>\n",
       "      <td>0</td>\n",
       "      <td>NaN</td>\n",
       "      <td>to have a wedding</td>\n",
       "      <td>NaN</td>\n",
       "      <td>wedding</td>\n",
       "      <td>retired</td>\n",
       "    </tr>\n",
       "  </tbody>\n",
       "</table>\n",
       "</div>"
      ],
      "text/plain": [
       "    children  days_employed  age            education  education_id  \\\n",
       "4          0  340266.072047   53  secondary education             1   \n",
       "5          0     926.185831   27    bachelor's degree             0   \n",
       "6          0    2879.202052   43    bachelor's degree             0   \n",
       "10         2    4171.483647   36    bachelor's degree             0   \n",
       "12         0            NaN   65  secondary education             1   \n",
       "\n",
       "        family_status  family_status_id gender income_type  debt  \\\n",
       "4   civil partnership                 1      F     retiree     0   \n",
       "5   civil partnership                 1      M    business     0   \n",
       "6             married                 0      F    business     0   \n",
       "10            married                 0      M    business     0   \n",
       "12  civil partnership                 1      M     retiree     0   \n",
       "\n",
       "    total_income                purpose  years_employed loan_purpose age_group  \n",
       "4      25378.572      to have a wedding      932.235814      wedding     41-55  \n",
       "5      40922.170  purchase of the house        2.537495  real estate     19-30  \n",
       "6      38484.156   housing transactions        7.888225  real estate     41-55  \n",
       "10     18230.959        buy real estate       11.428722  real estate     31-40  \n",
       "12           NaN      to have a wedding             NaN      wedding   retired  "
      ]
     },
     "execution_count": 44,
     "metadata": {},
     "output_type": "execute_result"
    }
   ],
   "source": [
    "# Creating new column based on function\n",
    "data['age_group'] = data['age'].apply(lambda row: age_group(row))\n",
    "\n",
    "#Test\n",
    "data.head(5)"
   ]
  },
  {
   "cell_type": "code",
   "execution_count": 45,
   "metadata": {},
   "outputs": [
    {
     "data": {
      "text/plain": [
       "41-55      3302\n",
       "56-65      2618\n",
       "31-40      2143\n",
       "19-30      1377\n",
       "retired     823\n",
       "Name: age_group, dtype: int64"
      ]
     },
     "execution_count": 45,
     "metadata": {},
     "output_type": "execute_result"
    }
   ],
   "source": [
    "# Checking how values in the new column\n",
    "data['age_group'].value_counts()"
   ]
  },
  {
   "cell_type": "markdown",
   "metadata": {},
   "source": [
    "<div class=\"alert alert-block alert-success\">\n",
    "<b>Reviewer's comment.V.2.</b> <a class=\"tocSkip\"></a>\n",
    "    \n",
    "Good, we have our age group.\n",
    "</div>"
   ]
  },
  {
   "cell_type": "code",
   "execution_count": 46,
   "metadata": {},
   "outputs": [
    {
     "data": {
      "text/html": [
       "<div>\n",
       "<style scoped>\n",
       "    .dataframe tbody tr th:only-of-type {\n",
       "        vertical-align: middle;\n",
       "    }\n",
       "\n",
       "    .dataframe tbody tr th {\n",
       "        vertical-align: top;\n",
       "    }\n",
       "\n",
       "    .dataframe thead th {\n",
       "        text-align: right;\n",
       "    }\n",
       "</style>\n",
       "<table border=\"1\" class=\"dataframe\">\n",
       "  <thead>\n",
       "    <tr style=\"text-align: right;\">\n",
       "      <th></th>\n",
       "      <th>children</th>\n",
       "      <th>days_employed</th>\n",
       "      <th>age</th>\n",
       "      <th>education</th>\n",
       "      <th>education_id</th>\n",
       "      <th>family_status</th>\n",
       "      <th>family_status_id</th>\n",
       "      <th>gender</th>\n",
       "      <th>income_type</th>\n",
       "      <th>debt</th>\n",
       "      <th>total_income</th>\n",
       "      <th>purpose</th>\n",
       "      <th>years_employed</th>\n",
       "      <th>loan_purpose</th>\n",
       "      <th>age_group</th>\n",
       "    </tr>\n",
       "  </thead>\n",
       "  <tbody>\n",
       "    <tr>\n",
       "      <th>4</th>\n",
       "      <td>0</td>\n",
       "      <td>340266.072047</td>\n",
       "      <td>53</td>\n",
       "      <td>secondary education</td>\n",
       "      <td>1</td>\n",
       "      <td>civil partnership</td>\n",
       "      <td>1</td>\n",
       "      <td>F</td>\n",
       "      <td>retiree</td>\n",
       "      <td>0</td>\n",
       "      <td>25378.572</td>\n",
       "      <td>to have a wedding</td>\n",
       "      <td>932.235814</td>\n",
       "      <td>wedding</td>\n",
       "      <td>41-55</td>\n",
       "    </tr>\n",
       "    <tr>\n",
       "      <th>5</th>\n",
       "      <td>0</td>\n",
       "      <td>926.185831</td>\n",
       "      <td>27</td>\n",
       "      <td>bachelor's degree</td>\n",
       "      <td>0</td>\n",
       "      <td>civil partnership</td>\n",
       "      <td>1</td>\n",
       "      <td>M</td>\n",
       "      <td>business</td>\n",
       "      <td>0</td>\n",
       "      <td>40922.170</td>\n",
       "      <td>purchase of the house</td>\n",
       "      <td>2.537495</td>\n",
       "      <td>real estate</td>\n",
       "      <td>19-30</td>\n",
       "    </tr>\n",
       "    <tr>\n",
       "      <th>6</th>\n",
       "      <td>0</td>\n",
       "      <td>2879.202052</td>\n",
       "      <td>43</td>\n",
       "      <td>bachelor's degree</td>\n",
       "      <td>0</td>\n",
       "      <td>married</td>\n",
       "      <td>0</td>\n",
       "      <td>F</td>\n",
       "      <td>business</td>\n",
       "      <td>0</td>\n",
       "      <td>38484.156</td>\n",
       "      <td>housing transactions</td>\n",
       "      <td>7.888225</td>\n",
       "      <td>real estate</td>\n",
       "      <td>41-55</td>\n",
       "    </tr>\n",
       "    <tr>\n",
       "      <th>10</th>\n",
       "      <td>2</td>\n",
       "      <td>4171.483647</td>\n",
       "      <td>36</td>\n",
       "      <td>bachelor's degree</td>\n",
       "      <td>0</td>\n",
       "      <td>married</td>\n",
       "      <td>0</td>\n",
       "      <td>M</td>\n",
       "      <td>business</td>\n",
       "      <td>0</td>\n",
       "      <td>18230.959</td>\n",
       "      <td>buy real estate</td>\n",
       "      <td>11.428722</td>\n",
       "      <td>real estate</td>\n",
       "      <td>31-40</td>\n",
       "    </tr>\n",
       "    <tr>\n",
       "      <th>14</th>\n",
       "      <td>0</td>\n",
       "      <td>1844.956182</td>\n",
       "      <td>56</td>\n",
       "      <td>bachelor's degree</td>\n",
       "      <td>0</td>\n",
       "      <td>civil partnership</td>\n",
       "      <td>1</td>\n",
       "      <td>F</td>\n",
       "      <td>business</td>\n",
       "      <td>1</td>\n",
       "      <td>26420.466</td>\n",
       "      <td>buy residential real estate</td>\n",
       "      <td>5.054674</td>\n",
       "      <td>real estate</td>\n",
       "      <td>56-65</td>\n",
       "    </tr>\n",
       "  </tbody>\n",
       "</table>\n",
       "</div>"
      ],
      "text/plain": [
       "    children  days_employed  age            education  education_id  \\\n",
       "4          0  340266.072047   53  secondary education             1   \n",
       "5          0     926.185831   27    bachelor's degree             0   \n",
       "6          0    2879.202052   43    bachelor's degree             0   \n",
       "10         2    4171.483647   36    bachelor's degree             0   \n",
       "14         0    1844.956182   56    bachelor's degree             0   \n",
       "\n",
       "        family_status  family_status_id gender income_type  debt  \\\n",
       "4   civil partnership                 1      F     retiree     0   \n",
       "5   civil partnership                 1      M    business     0   \n",
       "6             married                 0      F    business     0   \n",
       "10            married                 0      M    business     0   \n",
       "14  civil partnership                 1      F    business     1   \n",
       "\n",
       "    total_income                      purpose  years_employed loan_purpose  \\\n",
       "4      25378.572            to have a wedding      932.235814      wedding   \n",
       "5      40922.170        purchase of the house        2.537495  real estate   \n",
       "6      38484.156         housing transactions        7.888225  real estate   \n",
       "10     18230.959              buy real estate       11.428722  real estate   \n",
       "14     26420.466  buy residential real estate        5.054674  real estate   \n",
       "\n",
       "   age_group  \n",
       "4      41-55  \n",
       "5      19-30  \n",
       "6      41-55  \n",
       "10     31-40  \n",
       "14     56-65  "
      ]
     },
     "execution_count": 46,
     "metadata": {},
     "output_type": "execute_result"
    }
   ],
   "source": [
    "# Create a table without missing values and print a few of its rows to make sure it looks fine\n",
    "data_skip = data.dropna()\n",
    "\n",
    "data_skip.head(5)"
   ]
  },
  {
   "cell_type": "code",
   "execution_count": 47,
   "metadata": {},
   "outputs": [],
   "source": [
    "#rounding the total_income column so it's easier to read\n",
    "data['total_income'] = data['total_income'].apply(np.ceil)\n",
    "\n",
    "# Can't convert floats to int until we fill the NaN data :^(\n",
    "#data['total_income'] = data['total_income'].astype(int)\n",
    "\n",
    "#data.head()"
   ]
  },
  {
   "cell_type": "code",
   "execution_count": 48,
   "metadata": {},
   "outputs": [
    {
     "data": {
      "text/html": [
       "<div>\n",
       "<style scoped>\n",
       "    .dataframe tbody tr th:only-of-type {\n",
       "        vertical-align: middle;\n",
       "    }\n",
       "\n",
       "    .dataframe tbody tr th {\n",
       "        vertical-align: top;\n",
       "    }\n",
       "\n",
       "    .dataframe thead th {\n",
       "        text-align: right;\n",
       "    }\n",
       "</style>\n",
       "<table border=\"1\" class=\"dataframe\">\n",
       "  <thead>\n",
       "    <tr style=\"text-align: right;\">\n",
       "      <th></th>\n",
       "      <th>total_income</th>\n",
       "    </tr>\n",
       "    <tr>\n",
       "      <th>age_group</th>\n",
       "      <th></th>\n",
       "    </tr>\n",
       "  </thead>\n",
       "  <tbody>\n",
       "    <tr>\n",
       "      <th>19-30</th>\n",
       "      <td>25249.0</td>\n",
       "    </tr>\n",
       "    <tr>\n",
       "      <th>31-40</th>\n",
       "      <td>27720.0</td>\n",
       "    </tr>\n",
       "    <tr>\n",
       "      <th>41-55</th>\n",
       "      <td>25384.5</td>\n",
       "    </tr>\n",
       "    <tr>\n",
       "      <th>56-65</th>\n",
       "      <td>20811.0</td>\n",
       "    </tr>\n",
       "    <tr>\n",
       "      <th>retired</th>\n",
       "      <td>18027.0</td>\n",
       "    </tr>\n",
       "    <tr>\n",
       "      <th>All</th>\n",
       "      <td>23855.5</td>\n",
       "    </tr>\n",
       "  </tbody>\n",
       "</table>\n",
       "</div>"
      ],
      "text/plain": [
       "           total_income\n",
       "age_group              \n",
       "19-30           25249.0\n",
       "31-40           27720.0\n",
       "41-55           25384.5\n",
       "56-65           20811.0\n",
       "retired         18027.0\n",
       "All             23855.5"
      ]
     },
     "metadata": {},
     "output_type": "display_data"
    }
   ],
   "source": [
    "# age vs income_type : median\n",
    "display(data.pivot_table(index='age_group', values='total_income', aggfunc='median', margins=True))\n"
   ]
  },
  {
   "cell_type": "code",
   "execution_count": 49,
   "metadata": {
    "scrolled": true
   },
   "outputs": [
    {
     "data": {
      "text/html": [
       "<div>\n",
       "<style scoped>\n",
       "    .dataframe tbody tr th:only-of-type {\n",
       "        vertical-align: middle;\n",
       "    }\n",
       "\n",
       "    .dataframe tbody tr th {\n",
       "        vertical-align: top;\n",
       "    }\n",
       "\n",
       "    .dataframe thead th {\n",
       "        text-align: right;\n",
       "    }\n",
       "</style>\n",
       "<table border=\"1\" class=\"dataframe\">\n",
       "  <thead>\n",
       "    <tr style=\"text-align: right;\">\n",
       "      <th>loan_purpose</th>\n",
       "      <th>auto</th>\n",
       "      <th>education</th>\n",
       "      <th>real estate</th>\n",
       "      <th>wedding</th>\n",
       "      <th>All</th>\n",
       "    </tr>\n",
       "    <tr>\n",
       "      <th>income_type</th>\n",
       "      <th></th>\n",
       "      <th></th>\n",
       "      <th></th>\n",
       "      <th></th>\n",
       "      <th></th>\n",
       "    </tr>\n",
       "  </thead>\n",
       "  <tbody>\n",
       "    <tr>\n",
       "      <th>business</th>\n",
       "      <td>949</td>\n",
       "      <td>840</td>\n",
       "      <td>2274</td>\n",
       "      <td>468</td>\n",
       "      <td>4531</td>\n",
       "    </tr>\n",
       "    <tr>\n",
       "      <th>civil servant</th>\n",
       "      <td>256</td>\n",
       "      <td>221</td>\n",
       "      <td>682</td>\n",
       "      <td>142</td>\n",
       "      <td>1301</td>\n",
       "    </tr>\n",
       "    <tr>\n",
       "      <th>retiree</th>\n",
       "      <td>709</td>\n",
       "      <td>646</td>\n",
       "      <td>1683</td>\n",
       "      <td>374</td>\n",
       "      <td>3412</td>\n",
       "    </tr>\n",
       "    <tr>\n",
       "      <th>All</th>\n",
       "      <td>1914</td>\n",
       "      <td>1707</td>\n",
       "      <td>4639</td>\n",
       "      <td>984</td>\n",
       "      <td>9244</td>\n",
       "    </tr>\n",
       "  </tbody>\n",
       "</table>\n",
       "</div>"
      ],
      "text/plain": [
       "loan_purpose   auto  education  real estate  wedding   All\n",
       "income_type                                               \n",
       "business        949        840         2274      468  4531\n",
       "civil servant   256        221          682      142  1301\n",
       "retiree         709        646         1683      374  3412\n",
       "All            1914       1707         4639      984  9244"
      ]
     },
     "metadata": {},
     "output_type": "display_data"
    }
   ],
   "source": [
    "# What is the source of income for the vareous loan types? Any inconsistancies in the data?\n",
    "display(data.pivot_table(index='income_type', columns='loan_purpose', values='total_income', aggfunc='count', margins=True))\n"
   ]
  },
  {
   "cell_type": "markdown",
   "metadata": {},
   "source": [
    "<div class=\"alert alert-info\"> <b> Looking for irregularities and trends in the data</b> <br>\n",
    "Bellow I'm pulling varoeus charts, and comparing different columnbs, trying to draw out non obveous paterns and trends. It's a bit of a random walk, but I'm confident we'll get to our desination. <br>\n",
    "    \n",
    "   <br>\n",
    "    I'm sorry for not taking the most direct path, still learning to hone these skills.\n",
    "    \n",
    "</div>"
   ]
  },
  {
   "cell_type": "code",
   "execution_count": 50,
   "metadata": {},
   "outputs": [
    {
     "data": {
      "text/html": [
       "<div>\n",
       "<style scoped>\n",
       "    .dataframe tbody tr th:only-of-type {\n",
       "        vertical-align: middle;\n",
       "    }\n",
       "\n",
       "    .dataframe tbody tr th {\n",
       "        vertical-align: top;\n",
       "    }\n",
       "\n",
       "    .dataframe thead th {\n",
       "        text-align: right;\n",
       "    }\n",
       "</style>\n",
       "<table border=\"1\" class=\"dataframe\">\n",
       "  <thead>\n",
       "    <tr style=\"text-align: right;\">\n",
       "      <th>income_type</th>\n",
       "      <th>business</th>\n",
       "      <th>civil servant</th>\n",
       "      <th>retiree</th>\n",
       "      <th>All</th>\n",
       "    </tr>\n",
       "    <tr>\n",
       "      <th>age_group</th>\n",
       "      <th></th>\n",
       "      <th></th>\n",
       "      <th></th>\n",
       "      <th></th>\n",
       "    </tr>\n",
       "  </thead>\n",
       "  <tbody>\n",
       "    <tr>\n",
       "      <th>19-30</th>\n",
       "      <td>29378.730461</td>\n",
       "      <td>25095.145098</td>\n",
       "      <td>15960.666667</td>\n",
       "      <td>28447.179508</td>\n",
       "    </tr>\n",
       "    <tr>\n",
       "      <th>31-40</th>\n",
       "      <td>33077.531654</td>\n",
       "      <td>28210.890547</td>\n",
       "      <td>22165.416667</td>\n",
       "      <td>31845.635553</td>\n",
       "    </tr>\n",
       "    <tr>\n",
       "      <th>41-55</th>\n",
       "      <td>33689.625810</td>\n",
       "      <td>27771.905588</td>\n",
       "      <td>23155.288360</td>\n",
       "      <td>29976.551817</td>\n",
       "    </tr>\n",
       "    <tr>\n",
       "      <th>56-65</th>\n",
       "      <td>32317.381098</td>\n",
       "      <td>27352.018519</td>\n",
       "      <td>22038.781723</td>\n",
       "      <td>23716.880476</td>\n",
       "    </tr>\n",
       "    <tr>\n",
       "      <th>retired</th>\n",
       "      <td>31668.410256</td>\n",
       "      <td>26922.470588</td>\n",
       "      <td>20449.464950</td>\n",
       "      <td>21174.736424</td>\n",
       "    </tr>\n",
       "    <tr>\n",
       "      <th>All</th>\n",
       "      <td>32424.924079</td>\n",
       "      <td>27336.940046</td>\n",
       "      <td>21951.219226</td>\n",
       "      <td>27842.952185</td>\n",
       "    </tr>\n",
       "  </tbody>\n",
       "</table>\n",
       "</div>"
      ],
      "text/plain": [
       "income_type      business  civil servant       retiree           All\n",
       "age_group                                                           \n",
       "19-30        29378.730461   25095.145098  15960.666667  28447.179508\n",
       "31-40        33077.531654   28210.890547  22165.416667  31845.635553\n",
       "41-55        33689.625810   27771.905588  23155.288360  29976.551817\n",
       "56-65        32317.381098   27352.018519  22038.781723  23716.880476\n",
       "retired      31668.410256   26922.470588  20449.464950  21174.736424\n",
       "All          32424.924079   27336.940046  21951.219226  27842.952185"
      ]
     },
     "metadata": {},
     "output_type": "display_data"
    },
    {
     "data": {
      "text/plain": [
       "<AxesSubplot:title={'center':'total_income by age_group and income_type, mean'}, ylabel='age_group'>"
      ]
     },
     "metadata": {},
     "output_type": "display_data"
    },
    {
     "data": {
      "text/html": [
       "<div>\n",
       "<style scoped>\n",
       "    .dataframe tbody tr th:only-of-type {\n",
       "        vertical-align: middle;\n",
       "    }\n",
       "\n",
       "    .dataframe tbody tr th {\n",
       "        vertical-align: top;\n",
       "    }\n",
       "\n",
       "    .dataframe thead th {\n",
       "        text-align: right;\n",
       "    }\n",
       "</style>\n",
       "<table border=\"1\" class=\"dataframe\">\n",
       "  <thead>\n",
       "    <tr style=\"text-align: right;\">\n",
       "      <th>income_type</th>\n",
       "      <th>business</th>\n",
       "      <th>civil servant</th>\n",
       "      <th>retiree</th>\n",
       "      <th>All</th>\n",
       "    </tr>\n",
       "    <tr>\n",
       "      <th>age_group</th>\n",
       "      <th></th>\n",
       "      <th></th>\n",
       "      <th></th>\n",
       "      <th></th>\n",
       "    </tr>\n",
       "  </thead>\n",
       "  <tbody>\n",
       "    <tr>\n",
       "      <th>19-30</th>\n",
       "      <td>25745.5</td>\n",
       "      <td>23203.0</td>\n",
       "      <td>13553.5</td>\n",
       "      <td>25249.0</td>\n",
       "    </tr>\n",
       "    <tr>\n",
       "      <th>31-40</th>\n",
       "      <td>28956.0</td>\n",
       "      <td>24966.5</td>\n",
       "      <td>18475.5</td>\n",
       "      <td>27720.0</td>\n",
       "    </tr>\n",
       "    <tr>\n",
       "      <th>41-55</th>\n",
       "      <td>28053.0</td>\n",
       "      <td>23453.0</td>\n",
       "      <td>19990.5</td>\n",
       "      <td>25384.5</td>\n",
       "    </tr>\n",
       "    <tr>\n",
       "      <th>56-65</th>\n",
       "      <td>28432.5</td>\n",
       "      <td>24221.0</td>\n",
       "      <td>19402.0</td>\n",
       "      <td>20811.0</td>\n",
       "    </tr>\n",
       "    <tr>\n",
       "      <th>retired</th>\n",
       "      <td>26949.0</td>\n",
       "      <td>26090.0</td>\n",
       "      <td>17544.0</td>\n",
       "      <td>18027.0</td>\n",
       "    </tr>\n",
       "    <tr>\n",
       "      <th>All</th>\n",
       "      <td>27595.0</td>\n",
       "      <td>24077.0</td>\n",
       "      <td>18960.0</td>\n",
       "      <td>23855.5</td>\n",
       "    </tr>\n",
       "  </tbody>\n",
       "</table>\n",
       "</div>"
      ],
      "text/plain": [
       "income_type  business  civil servant  retiree      All\n",
       "age_group                                             \n",
       "19-30         25745.5        23203.0  13553.5  25249.0\n",
       "31-40         28956.0        24966.5  18475.5  27720.0\n",
       "41-55         28053.0        23453.0  19990.5  25384.5\n",
       "56-65         28432.5        24221.0  19402.0  20811.0\n",
       "retired       26949.0        26090.0  17544.0  18027.0\n",
       "All           27595.0        24077.0  18960.0  23855.5"
      ]
     },
     "metadata": {},
     "output_type": "display_data"
    },
    {
     "data": {
      "text/plain": [
       "<AxesSubplot:title={'center':'total_income by age_group and income_type, mean'}, ylabel='age_group'>"
      ]
     },
     "metadata": {},
     "output_type": "display_data"
    },
    {
     "data": {
      "image/png": "[encoded data removed]",
      "text/plain": [
       "<Figure size 432x288 with 1 Axes>"
      ]
     },
     "metadata": {
      "needs_background": "light"
     },
     "output_type": "display_data"
    },
    {
     "data": {
      "image/png": "[encoded data removed]",
      "text/plain": [
       "<Figure size 432x288 with 1 Axes>"
      ]
     },
     "metadata": {
      "needs_background": "light"
     },
     "output_type": "display_data"
    }
   ],
   "source": [
    "#age_group and income_type, mean\n",
    "display(data.pivot_table(index='age_group', columns='income_type', values='total_income', aggfunc='mean', margins=True))\n",
    "\n",
    "#plot\n",
    "ax_mean = data.pivot_table(index='age_group', columns='income_type', values='total_income', aggfunc='mean', margins=True).plot(kind='barh', stacked=False, title='total_income by age_group and income_type, mean')\n",
    "display(ax_mean)\n",
    "\n",
    "#age_group and income_type, median\n",
    "display(data.pivot_table(index='age_group', columns='income_type', values='total_income', aggfunc='median', margins=True))\n",
    "\n",
    "#plot\n",
    "ax_median = data.pivot_table(index='age_group', columns='income_type', values='total_income', aggfunc='median', margins=True).plot(kind='barh', stacked=False, title='total_income by age_group and income_type, median')\n",
    "display(ax_mean)\n"
   ]
  },
  {
   "cell_type": "markdown",
   "metadata": {},
   "source": [
    "<div class=\"alert alert-info\"> <b> It doesn't look like age group is our strongest driver for total income</b> <br>\n",
    "onwards\n",
    "    \n",
    "</div>"
   ]
  },
  {
   "cell_type": "markdown",
   "metadata": {},
   "source": [
    "<div class=\"alert alert-info\"> <b> How about age and gender? </b> <br>\n",
    "\n",
    "</div>"
   ]
  },
  {
   "cell_type": "code",
   "execution_count": 51,
   "metadata": {},
   "outputs": [
    {
     "data": {
      "text/html": [
       "<div>\n",
       "<style scoped>\n",
       "    .dataframe tbody tr th:only-of-type {\n",
       "        vertical-align: middle;\n",
       "    }\n",
       "\n",
       "    .dataframe tbody tr th {\n",
       "        vertical-align: top;\n",
       "    }\n",
       "\n",
       "    .dataframe thead th {\n",
       "        text-align: right;\n",
       "    }\n",
       "</style>\n",
       "<table border=\"1\" class=\"dataframe\">\n",
       "  <thead>\n",
       "    <tr style=\"text-align: right;\">\n",
       "      <th>gender</th>\n",
       "      <th>F</th>\n",
       "      <th>M</th>\n",
       "      <th>All</th>\n",
       "    </tr>\n",
       "    <tr>\n",
       "      <th>age_group</th>\n",
       "      <th></th>\n",
       "      <th></th>\n",
       "      <th></th>\n",
       "    </tr>\n",
       "  </thead>\n",
       "  <tbody>\n",
       "    <tr>\n",
       "      <th>19-30</th>\n",
       "      <td>25515.159533</td>\n",
       "      <td>33079.530738</td>\n",
       "      <td>28447.179508</td>\n",
       "    </tr>\n",
       "    <tr>\n",
       "      <th>31-40</th>\n",
       "      <td>28753.927379</td>\n",
       "      <td>37069.706629</td>\n",
       "      <td>31845.635553</td>\n",
       "    </tr>\n",
       "    <tr>\n",
       "      <th>41-55</th>\n",
       "      <td>27120.201024</td>\n",
       "      <td>37434.993925</td>\n",
       "      <td>29976.551817</td>\n",
       "    </tr>\n",
       "    <tr>\n",
       "      <th>56-65</th>\n",
       "      <td>22812.679275</td>\n",
       "      <td>27297.440928</td>\n",
       "      <td>23716.880476</td>\n",
       "    </tr>\n",
       "    <tr>\n",
       "      <th>retired</th>\n",
       "      <td>20680.164645</td>\n",
       "      <td>22777.926966</td>\n",
       "      <td>21174.736424</td>\n",
       "    </tr>\n",
       "    <tr>\n",
       "      <th>All</th>\n",
       "      <td>25434.047322</td>\n",
       "      <td>33767.848428</td>\n",
       "      <td>27842.952185</td>\n",
       "    </tr>\n",
       "  </tbody>\n",
       "</table>\n",
       "</div>"
      ],
      "text/plain": [
       "gender                F             M           All\n",
       "age_group                                          \n",
       "19-30      25515.159533  33079.530738  28447.179508\n",
       "31-40      28753.927379  37069.706629  31845.635553\n",
       "41-55      27120.201024  37434.993925  29976.551817\n",
       "56-65      22812.679275  27297.440928  23716.880476\n",
       "retired    20680.164645  22777.926966  21174.736424\n",
       "All        25434.047322  33767.848428  27842.952185"
      ]
     },
     "metadata": {},
     "output_type": "display_data"
    },
    {
     "data": {
      "text/plain": [
       "<AxesSubplot:title={'center':'total_income by age_group and income_type, mean'}, ylabel='age_group'>"
      ]
     },
     "metadata": {},
     "output_type": "display_data"
    },
    {
     "data": {
      "text/html": [
       "<div>\n",
       "<style scoped>\n",
       "    .dataframe tbody tr th:only-of-type {\n",
       "        vertical-align: middle;\n",
       "    }\n",
       "\n",
       "    .dataframe tbody tr th {\n",
       "        vertical-align: top;\n",
       "    }\n",
       "\n",
       "    .dataframe thead th {\n",
       "        text-align: right;\n",
       "    }\n",
       "</style>\n",
       "<table border=\"1\" class=\"dataframe\">\n",
       "  <thead>\n",
       "    <tr style=\"text-align: right;\">\n",
       "      <th>gender</th>\n",
       "      <th>F</th>\n",
       "      <th>M</th>\n",
       "      <th>All</th>\n",
       "    </tr>\n",
       "    <tr>\n",
       "      <th>age_group</th>\n",
       "      <th></th>\n",
       "      <th></th>\n",
       "      <th></th>\n",
       "    </tr>\n",
       "  </thead>\n",
       "  <tbody>\n",
       "    <tr>\n",
       "      <th>19-30</th>\n",
       "      <td>22724.0</td>\n",
       "      <td>28973.0</td>\n",
       "      <td>25249.0</td>\n",
       "    </tr>\n",
       "    <tr>\n",
       "      <th>31-40</th>\n",
       "      <td>24986.5</td>\n",
       "      <td>32017.0</td>\n",
       "      <td>27720.0</td>\n",
       "    </tr>\n",
       "    <tr>\n",
       "      <th>41-55</th>\n",
       "      <td>23353.0</td>\n",
       "      <td>30411.0</td>\n",
       "      <td>25384.5</td>\n",
       "    </tr>\n",
       "    <tr>\n",
       "      <th>56-65</th>\n",
       "      <td>20048.0</td>\n",
       "      <td>23939.5</td>\n",
       "      <td>20811.0</td>\n",
       "    </tr>\n",
       "    <tr>\n",
       "      <th>retired</th>\n",
       "      <td>17881.0</td>\n",
       "      <td>18895.5</td>\n",
       "      <td>18027.0</td>\n",
       "    </tr>\n",
       "    <tr>\n",
       "      <th>All</th>\n",
       "      <td>22044.5</td>\n",
       "      <td>28682.5</td>\n",
       "      <td>23855.5</td>\n",
       "    </tr>\n",
       "  </tbody>\n",
       "</table>\n",
       "</div>"
      ],
      "text/plain": [
       "gender           F        M      All\n",
       "age_group                           \n",
       "19-30      22724.0  28973.0  25249.0\n",
       "31-40      24986.5  32017.0  27720.0\n",
       "41-55      23353.0  30411.0  25384.5\n",
       "56-65      20048.0  23939.5  20811.0\n",
       "retired    17881.0  18895.5  18027.0\n",
       "All        22044.5  28682.5  23855.5"
      ]
     },
     "metadata": {},
     "output_type": "display_data"
    },
    {
     "data": {
      "text/plain": [
       "<AxesSubplot:title={'center':'total_income by age_group and income_type, mean'}, ylabel='age_group'>"
      ]
     },
     "metadata": {},
     "output_type": "display_data"
    },
    {
     "data": {
      "image/png": "[encoded data removed]",
      "text/plain": [
       "<Figure size 432x288 with 1 Axes>"
      ]
     },
     "metadata": {
      "needs_background": "light"
     },
     "output_type": "display_data"
    },
    {
     "data": {
      "image/png": "[encoded data removed]",
      "text/plain": [
       "<Figure size 432x288 with 1 Axes>"
      ]
     },
     "metadata": {
      "needs_background": "light"
     },
     "output_type": "display_data"
    }
   ],
   "source": [
    "#age_group and gender, mean\n",
    "display(data.pivot_table(index='age_group', columns='gender', values='total_income', aggfunc='mean', margins=True))\n",
    "\n",
    "#plot\n",
    "ax_gender_mean = data.pivot_table(index='age_group', columns='gender', values='total_income', aggfunc='mean', margins=False).plot(kind='barh', stacked=False, title='total_income by age_group and gender, mean')\n",
    "display(ax_mean)\n",
    "\n",
    "#age_group and income_type, median\n",
    "display(data.pivot_table(index='age_group', columns='gender', values='total_income', aggfunc='median', margins=True))\n",
    "\n",
    "#plot\n",
    "ax_gender_median = data.pivot_table(index='age_group', columns='gender', values='total_income', aggfunc='median', margins=False).plot(kind='barh', stacked=False, title='total_income by age_group and gender, median')\n",
    "display(ax_mean)"
   ]
  },
  {
   "cell_type": "markdown",
   "metadata": {},
   "source": [
    "<div class=\"alert alert-info\"> <b> Men in our data set earn more then Women </b> <br>\n",
    "\n",
    "</div>"
   ]
  },
  {
   "cell_type": "markdown",
   "metadata": {},
   "source": [
    "<div class=\"alert alert-info\"> <b> How about family status and children? </b> <br>\n",
    "\n",
    "</div>"
   ]
  },
  {
   "cell_type": "code",
   "execution_count": 52,
   "metadata": {},
   "outputs": [
    {
     "data": {
      "text/html": [
       "<div>\n",
       "<style scoped>\n",
       "    .dataframe tbody tr th:only-of-type {\n",
       "        vertical-align: middle;\n",
       "    }\n",
       "\n",
       "    .dataframe tbody tr th {\n",
       "        vertical-align: top;\n",
       "    }\n",
       "\n",
       "    .dataframe thead th {\n",
       "        text-align: right;\n",
       "    }\n",
       "</style>\n",
       "<table border=\"1\" class=\"dataframe\">\n",
       "  <thead>\n",
       "    <tr style=\"text-align: right;\">\n",
       "      <th>children</th>\n",
       "      <th>0</th>\n",
       "      <th>1</th>\n",
       "      <th>2</th>\n",
       "      <th>3</th>\n",
       "      <th>4</th>\n",
       "      <th>5</th>\n",
       "      <th>All</th>\n",
       "    </tr>\n",
       "    <tr>\n",
       "      <th>family_status</th>\n",
       "      <th></th>\n",
       "      <th></th>\n",
       "      <th></th>\n",
       "      <th></th>\n",
       "      <th></th>\n",
       "      <th></th>\n",
       "      <th></th>\n",
       "    </tr>\n",
       "  </thead>\n",
       "  <tbody>\n",
       "    <tr>\n",
       "      <th>civil partnership</th>\n",
       "      <td>27110.495922</td>\n",
       "      <td>28733.787356</td>\n",
       "      <td>33265.956140</td>\n",
       "      <td>32054.533333</td>\n",
       "      <td>20141.0</td>\n",
       "      <td>20177.000000</td>\n",
       "      <td>27888.727859</td>\n",
       "    </tr>\n",
       "    <tr>\n",
       "      <th>divorced</th>\n",
       "      <td>27308.391892</td>\n",
       "      <td>32535.891892</td>\n",
       "      <td>31527.958333</td>\n",
       "      <td>21961.250000</td>\n",
       "      <td>52886.0</td>\n",
       "      <td>NaN</td>\n",
       "      <td>28652.923529</td>\n",
       "    </tr>\n",
       "    <tr>\n",
       "      <th>married</th>\n",
       "      <td>27122.622594</td>\n",
       "      <td>30090.699907</td>\n",
       "      <td>30614.242545</td>\n",
       "      <td>32551.715909</td>\n",
       "      <td>25184.0</td>\n",
       "      <td>29816.500000</td>\n",
       "      <td>28152.776065</td>\n",
       "    </tr>\n",
       "    <tr>\n",
       "      <th>unmarried</th>\n",
       "      <td>28543.167683</td>\n",
       "      <td>30125.243902</td>\n",
       "      <td>27232.166667</td>\n",
       "      <td>25101.000000</td>\n",
       "      <td>NaN</td>\n",
       "      <td>NaN</td>\n",
       "      <td>28732.991453</td>\n",
       "    </tr>\n",
       "    <tr>\n",
       "      <th>widow / widower</th>\n",
       "      <td>22410.288770</td>\n",
       "      <td>23963.235294</td>\n",
       "      <td>27867.600000</td>\n",
       "      <td>34042.333333</td>\n",
       "      <td>NaN</td>\n",
       "      <td>NaN</td>\n",
       "      <td>22600.973466</td>\n",
       "    </tr>\n",
       "    <tr>\n",
       "      <th>All</th>\n",
       "      <td>26945.409456</td>\n",
       "      <td>29857.487283</td>\n",
       "      <td>30990.167169</td>\n",
       "      <td>31892.500000</td>\n",
       "      <td>28421.0</td>\n",
       "      <td>26603.333333</td>\n",
       "      <td>27842.952185</td>\n",
       "    </tr>\n",
       "  </tbody>\n",
       "</table>\n",
       "</div>"
      ],
      "text/plain": [
       "children                      0             1             2             3  \\\n",
       "family_status                                                               \n",
       "civil partnership  27110.495922  28733.787356  33265.956140  32054.533333   \n",
       "divorced           27308.391892  32535.891892  31527.958333  21961.250000   \n",
       "married            27122.622594  30090.699907  30614.242545  32551.715909   \n",
       "unmarried          28543.167683  30125.243902  27232.166667  25101.000000   \n",
       "widow / widower    22410.288770  23963.235294  27867.600000  34042.333333   \n",
       "All                26945.409456  29857.487283  30990.167169  31892.500000   \n",
       "\n",
       "children                 4             5           All  \n",
       "family_status                                           \n",
       "civil partnership  20141.0  20177.000000  27888.727859  \n",
       "divorced           52886.0           NaN  28652.923529  \n",
       "married            25184.0  29816.500000  28152.776065  \n",
       "unmarried              NaN           NaN  28732.991453  \n",
       "widow / widower        NaN           NaN  22600.973466  \n",
       "All                28421.0  26603.333333  27842.952185  "
      ]
     },
     "metadata": {},
     "output_type": "display_data"
    },
    {
     "data": {
      "text/plain": [
       "<AxesSubplot:title={'center':'total_income by family and children, mean'}, ylabel='family_status'>"
      ]
     },
     "metadata": {},
     "output_type": "display_data"
    },
    {
     "data": {
      "text/html": [
       "<div>\n",
       "<style scoped>\n",
       "    .dataframe tbody tr th:only-of-type {\n",
       "        vertical-align: middle;\n",
       "    }\n",
       "\n",
       "    .dataframe tbody tr th {\n",
       "        vertical-align: top;\n",
       "    }\n",
       "\n",
       "    .dataframe thead th {\n",
       "        text-align: right;\n",
       "    }\n",
       "</style>\n",
       "<table border=\"1\" class=\"dataframe\">\n",
       "  <thead>\n",
       "    <tr style=\"text-align: right;\">\n",
       "      <th>children</th>\n",
       "      <th>0</th>\n",
       "      <th>1</th>\n",
       "      <th>2</th>\n",
       "      <th>3</th>\n",
       "      <th>4</th>\n",
       "      <th>5</th>\n",
       "      <th>All</th>\n",
       "    </tr>\n",
       "    <tr>\n",
       "      <th>family_status</th>\n",
       "      <th></th>\n",
       "      <th></th>\n",
       "      <th></th>\n",
       "      <th></th>\n",
       "      <th></th>\n",
       "      <th></th>\n",
       "      <th></th>\n",
       "    </tr>\n",
       "  </thead>\n",
       "  <tbody>\n",
       "    <tr>\n",
       "      <th>civil partnership</th>\n",
       "      <td>23400.5</td>\n",
       "      <td>24355.0</td>\n",
       "      <td>27496.5</td>\n",
       "      <td>25192.0</td>\n",
       "      <td>20141.0</td>\n",
       "      <td>20177.0</td>\n",
       "      <td>23852.0</td>\n",
       "    </tr>\n",
       "    <tr>\n",
       "      <th>divorced</th>\n",
       "      <td>24192.5</td>\n",
       "      <td>26525.0</td>\n",
       "      <td>24505.0</td>\n",
       "      <td>23295.5</td>\n",
       "      <td>52886.0</td>\n",
       "      <td>NaN</td>\n",
       "      <td>24701.5</td>\n",
       "    </tr>\n",
       "    <tr>\n",
       "      <th>married</th>\n",
       "      <td>23328.0</td>\n",
       "      <td>25896.0</td>\n",
       "      <td>25628.0</td>\n",
       "      <td>29047.0</td>\n",
       "      <td>24753.0</td>\n",
       "      <td>29816.5</td>\n",
       "      <td>24139.5</td>\n",
       "    </tr>\n",
       "    <tr>\n",
       "      <th>unmarried</th>\n",
       "      <td>24699.0</td>\n",
       "      <td>25456.5</td>\n",
       "      <td>22685.0</td>\n",
       "      <td>22751.5</td>\n",
       "      <td>NaN</td>\n",
       "      <td>NaN</td>\n",
       "      <td>24801.5</td>\n",
       "    </tr>\n",
       "    <tr>\n",
       "      <th>widow / widower</th>\n",
       "      <td>19670.0</td>\n",
       "      <td>23343.0</td>\n",
       "      <td>25702.0</td>\n",
       "      <td>22736.0</td>\n",
       "      <td>NaN</td>\n",
       "      <td>NaN</td>\n",
       "      <td>19914.0</td>\n",
       "    </tr>\n",
       "    <tr>\n",
       "      <th>All</th>\n",
       "      <td>23144.5</td>\n",
       "      <td>25419.5</td>\n",
       "      <td>25707.5</td>\n",
       "      <td>26902.0</td>\n",
       "      <td>24753.0</td>\n",
       "      <td>26954.0</td>\n",
       "      <td>23855.5</td>\n",
       "    </tr>\n",
       "  </tbody>\n",
       "</table>\n",
       "</div>"
      ],
      "text/plain": [
       "children                 0        1        2        3        4        5  \\\n",
       "family_status                                                             \n",
       "civil partnership  23400.5  24355.0  27496.5  25192.0  20141.0  20177.0   \n",
       "divorced           24192.5  26525.0  24505.0  23295.5  52886.0      NaN   \n",
       "married            23328.0  25896.0  25628.0  29047.0  24753.0  29816.5   \n",
       "unmarried          24699.0  25456.5  22685.0  22751.5      NaN      NaN   \n",
       "widow / widower    19670.0  23343.0  25702.0  22736.0      NaN      NaN   \n",
       "All                23144.5  25419.5  25707.5  26902.0  24753.0  26954.0   \n",
       "\n",
       "children               All  \n",
       "family_status               \n",
       "civil partnership  23852.0  \n",
       "divorced           24701.5  \n",
       "married            24139.5  \n",
       "unmarried          24801.5  \n",
       "widow / widower    19914.0  \n",
       "All                23855.5  "
      ]
     },
     "metadata": {},
     "output_type": "display_data"
    },
    {
     "data": {
      "text/plain": [
       "<AxesSubplot:title={'center':'total_income by family and children, median'}, ylabel='family_status'>"
      ]
     },
     "metadata": {},
     "output_type": "display_data"
    },
    {
     "data": {
      "image/png": "[encoded data removed]",
      "text/plain": [
       "<Figure size 432x288 with 1 Axes>"
      ]
     },
     "metadata": {
      "needs_background": "light"
     },
     "output_type": "display_data"
    },
    {
     "data": {
      "image/png": "[encoded data removed]",
      "text/plain": [
       "<Figure size 432x288 with 1 Axes>"
      ]
     },
     "metadata": {
      "needs_background": "light"
     },
     "output_type": "display_data"
    }
   ],
   "source": [
    "#family status, children, and income_type, mean\n",
    "display(data.pivot_table(index='family_status', columns='children', values='total_income', aggfunc='mean', margins=True))\n",
    "\n",
    "#plot\n",
    "ax_mean_family = data.pivot_table(index='family_status', columns='children', values='total_income', aggfunc='mean', margins=True).plot(kind='barh', stacked=False, title='total_income by family and children, mean')\n",
    "display(ax_mean_family)\n",
    "\n",
    "#family status, children, and income_type, median\n",
    "display(data.pivot_table(index='family_status', columns='children', values='total_income', aggfunc='median', margins=True))\n",
    "\n",
    "#plot\n",
    "ax_median_family = data.pivot_table(index='family_status', columns='children', values='total_income', aggfunc='median', margins=True).plot(kind='barh', stacked=False, title='total_income by family and children, median')\n",
    "display(ax_median_family)"
   ]
  },
  {
   "cell_type": "markdown",
   "metadata": {},
   "source": [
    "<div class=\"alert alert-info\"> <b> What is going on with Divorced people with 4 children! $$$ </b> <br>\n",
    "Looks like Broadly income levels are relatively consistant across number of children\n",
    "</div>"
   ]
  },
  {
   "cell_type": "code",
   "execution_count": 53,
   "metadata": {},
   "outputs": [
    {
     "data": {
      "text/html": [
       "<div>\n",
       "<style scoped>\n",
       "    .dataframe tbody tr th:only-of-type {\n",
       "        vertical-align: middle;\n",
       "    }\n",
       "\n",
       "    .dataframe tbody tr th {\n",
       "        vertical-align: top;\n",
       "    }\n",
       "\n",
       "    .dataframe thead th {\n",
       "        text-align: right;\n",
       "    }\n",
       "</style>\n",
       "<table border=\"1\" class=\"dataframe\">\n",
       "  <thead>\n",
       "    <tr style=\"text-align: right;\">\n",
       "      <th></th>\n",
       "      <th>children</th>\n",
       "      <th>days_employed</th>\n",
       "      <th>age</th>\n",
       "      <th>education</th>\n",
       "      <th>education_id</th>\n",
       "      <th>family_status</th>\n",
       "      <th>family_status_id</th>\n",
       "      <th>gender</th>\n",
       "      <th>income_type</th>\n",
       "      <th>debt</th>\n",
       "      <th>total_income</th>\n",
       "      <th>purpose</th>\n",
       "      <th>years_employed</th>\n",
       "      <th>loan_purpose</th>\n",
       "      <th>age_group</th>\n",
       "    </tr>\n",
       "  </thead>\n",
       "  <tbody>\n",
       "    <tr>\n",
       "      <th>2641</th>\n",
       "      <td>4</td>\n",
       "      <td>344.926495</td>\n",
       "      <td>36</td>\n",
       "      <td>bachelor's degree</td>\n",
       "      <td>0</td>\n",
       "      <td>divorced</td>\n",
       "      <td>3</td>\n",
       "      <td>F</td>\n",
       "      <td>civil servant</td>\n",
       "      <td>0</td>\n",
       "      <td>52886.0</td>\n",
       "      <td>to buy a car</td>\n",
       "      <td>0.945004</td>\n",
       "      <td>auto</td>\n",
       "      <td>31-40</td>\n",
       "    </tr>\n",
       "  </tbody>\n",
       "</table>\n",
       "</div>"
      ],
      "text/plain": [
       "      children  days_employed  age          education  education_id  \\\n",
       "2641         4     344.926495   36  bachelor's degree             0   \n",
       "\n",
       "     family_status  family_status_id gender    income_type  debt  \\\n",
       "2641      divorced                 3      F  civil servant     0   \n",
       "\n",
       "      total_income       purpose  years_employed loan_purpose age_group  \n",
       "2641       52886.0  to buy a car        0.945004         auto     31-40  "
      ]
     },
     "metadata": {},
     "output_type": "display_data"
    }
   ],
   "source": [
    "data_divorced_four = data[(data['family_status'] == 'divorced') & (data['children'] == 4)]\n",
    "display(data_divorced_four)"
   ]
  },
  {
   "cell_type": "markdown",
   "metadata": {},
   "source": [
    "<div class=\"alert alert-info\"> <b> Divorced-4 is a Single data point </b> <br>\n",
    "There is only one data point for divorced with 4 children, and they're on the high end for income in our dataset. <br>\n",
    "Which brings up an interesting point, if this dataset is in USD, the numbers are VERY low overall. <br>\n",
    "The Median and Mean are both below the national poverly line\n",
    "</div>"
   ]
  },
  {
   "cell_type": "code",
   "execution_count": 54,
   "metadata": {},
   "outputs": [
    {
     "data": {
      "text/html": [
       "<div>\n",
       "<style scoped>\n",
       "    .dataframe tbody tr th:only-of-type {\n",
       "        vertical-align: middle;\n",
       "    }\n",
       "\n",
       "    .dataframe tbody tr th {\n",
       "        vertical-align: top;\n",
       "    }\n",
       "\n",
       "    .dataframe thead th {\n",
       "        text-align: right;\n",
       "    }\n",
       "</style>\n",
       "<table border=\"1\" class=\"dataframe\">\n",
       "  <thead>\n",
       "    <tr style=\"text-align: right;\">\n",
       "      <th></th>\n",
       "      <th>debt</th>\n",
       "    </tr>\n",
       "    <tr>\n",
       "      <th>education</th>\n",
       "      <th></th>\n",
       "    </tr>\n",
       "  </thead>\n",
       "  <tbody>\n",
       "    <tr>\n",
       "      <th>bachelor's degree</th>\n",
       "      <td>145</td>\n",
       "    </tr>\n",
       "    <tr>\n",
       "      <th>graduate degree</th>\n",
       "      <td>0</td>\n",
       "    </tr>\n",
       "    <tr>\n",
       "      <th>primary education</th>\n",
       "      <td>8</td>\n",
       "    </tr>\n",
       "    <tr>\n",
       "      <th>secondary education</th>\n",
       "      <td>492</td>\n",
       "    </tr>\n",
       "    <tr>\n",
       "      <th>some college</th>\n",
       "      <td>29</td>\n",
       "    </tr>\n",
       "    <tr>\n",
       "      <th>All</th>\n",
       "      <td>674</td>\n",
       "    </tr>\n",
       "  </tbody>\n",
       "</table>\n",
       "</div>"
      ],
      "text/plain": [
       "                     debt\n",
       "education                \n",
       "bachelor's degree     145\n",
       "graduate degree         0\n",
       "primary education       8\n",
       "secondary education   492\n",
       "some college           29\n",
       "All                   674"
      ]
     },
     "metadata": {},
     "output_type": "display_data"
    },
    {
     "data": {
      "text/plain": [
       "<AxesSubplot:title={'center':'total_income by family and children, mean'}, ylabel='family_status'>"
      ]
     },
     "metadata": {},
     "output_type": "display_data"
    },
    {
     "data": {
      "image/png": "[encoded data removed]",
      "text/plain": [
       "<Figure size 432x288 with 1 Axes>"
      ]
     },
     "metadata": {
      "needs_background": "light"
     },
     "output_type": "display_data"
    }
   ],
   "source": [
    "#Looking at education and debt\n",
    "display(data.pivot_table(index='education', values='debt', aggfunc = 'sum', margins=True))\n",
    "\n",
    "#plot\n",
    "ax_mean_edu = data.pivot_table(index='education', values='debt', margins=True).plot(kind='barh', stacked=False, title='education and debt')\n",
    "display(ax_mean_family)\n"
   ]
  },
  {
   "cell_type": "markdown",
   "metadata": {},
   "source": [
    "<div class=\"alert alert-info\"> <b> No Graduate Defaults? </b> <br>\n",
    "It Looks like people with graduate degrees do not have any defaults. <br>\n",
    "That's unexpected."
   ]
  },
  {
   "cell_type": "markdown",
   "metadata": {},
   "source": [
    "<div class=\"alert alert-info\"> <b> Mean, Median, or Mode? </b> <br>\n",
    "We're going to use the median income to limit the influence of outlier data at the high and low extreams of income for our dataset.\n",
    "</div>"
   ]
  },
  {
   "cell_type": "code",
   "execution_count": 55,
   "metadata": {},
   "outputs": [],
   "source": [
    "#  Code that we will use for filling in missing values\n",
    "#data['days_employed'] = data['days_employed'].fillna(data['days_employed'].median()) \n",
    "#data['total_income'] = data['total_income'].fillna(data['total_income'].median()) \n",
    "#data['years_employed'] = data['years_employed'].fillna(data['years_employed'].median()) \n",
    "\n"
   ]
  },
  {
   "cell_type": "code",
   "execution_count": 56,
   "metadata": {},
   "outputs": [
    {
     "data": {
      "text/plain": [
       "children               0\n",
       "days_employed       1019\n",
       "age                    0\n",
       "education              0\n",
       "education_id           0\n",
       "family_status          0\n",
       "family_status_id       0\n",
       "gender                 0\n",
       "income_type            0\n",
       "debt                   0\n",
       "total_income        1019\n",
       "purpose                0\n",
       "years_employed      1019\n",
       "loan_purpose           0\n",
       "age_group              0\n",
       "dtype: int64"
      ]
     },
     "execution_count": 56,
     "metadata": {},
     "output_type": "execute_result"
    }
   ],
   "source": [
    "data.isna().sum()"
   ]
  },
  {
   "cell_type": "markdown",
   "metadata": {},
   "source": [
    "<div class=\"alert alert-info\"> <b>This updated block of code is to fix the preveous errors in mean calculation for total income</b> <br>\n",
    "\n",
    "</div>"
   ]
  },
  {
   "cell_type": "code",
   "execution_count": 57,
   "metadata": {},
   "outputs": [
    {
     "data": {
      "text/html": [
       "<div>\n",
       "<style scoped>\n",
       "    .dataframe tbody tr th:only-of-type {\n",
       "        vertical-align: middle;\n",
       "    }\n",
       "\n",
       "    .dataframe tbody tr th {\n",
       "        vertical-align: top;\n",
       "    }\n",
       "\n",
       "    .dataframe thead th {\n",
       "        text-align: right;\n",
       "    }\n",
       "</style>\n",
       "<table border=\"1\" class=\"dataframe\">\n",
       "  <thead>\n",
       "    <tr style=\"text-align: right;\">\n",
       "      <th></th>\n",
       "      <th>education</th>\n",
       "      <th>bachelor's degree</th>\n",
       "      <th>graduate degree</th>\n",
       "      <th>primary education</th>\n",
       "      <th>secondary education</th>\n",
       "      <th>some college</th>\n",
       "    </tr>\n",
       "    <tr>\n",
       "      <th>age_group</th>\n",
       "      <th>income_type</th>\n",
       "      <th></th>\n",
       "      <th></th>\n",
       "      <th></th>\n",
       "      <th></th>\n",
       "      <th></th>\n",
       "    </tr>\n",
       "  </thead>\n",
       "  <tbody>\n",
       "    <tr>\n",
       "      <th rowspan=\"3\" valign=\"top\">19-30</th>\n",
       "      <th>business</th>\n",
       "      <td>28449.5</td>\n",
       "      <td>NaN</td>\n",
       "      <td>21167.5</td>\n",
       "      <td>23913.0</td>\n",
       "      <td>25571.5</td>\n",
       "    </tr>\n",
       "    <tr>\n",
       "      <th>civil servant</th>\n",
       "      <td>24483.5</td>\n",
       "      <td>NaN</td>\n",
       "      <td>30564.0</td>\n",
       "      <td>21033.5</td>\n",
       "      <td>21641.0</td>\n",
       "    </tr>\n",
       "    <tr>\n",
       "      <th>retiree</th>\n",
       "      <td>34395.0</td>\n",
       "      <td>NaN</td>\n",
       "      <td>NaN</td>\n",
       "      <td>12808.0</td>\n",
       "      <td>NaN</td>\n",
       "    </tr>\n",
       "    <tr>\n",
       "      <th rowspan=\"3\" valign=\"top\">31-40</th>\n",
       "      <th>business</th>\n",
       "      <td>33126.0</td>\n",
       "      <td>NaN</td>\n",
       "      <td>21442.0</td>\n",
       "      <td>26304.0</td>\n",
       "      <td>30315.0</td>\n",
       "    </tr>\n",
       "    <tr>\n",
       "      <th>civil servant</th>\n",
       "      <td>27956.5</td>\n",
       "      <td>17823.0</td>\n",
       "      <td>21151.0</td>\n",
       "      <td>21926.0</td>\n",
       "      <td>29282.5</td>\n",
       "    </tr>\n",
       "    <tr>\n",
       "      <th>retiree</th>\n",
       "      <td>30118.0</td>\n",
       "      <td>NaN</td>\n",
       "      <td>14139.0</td>\n",
       "      <td>18328.5</td>\n",
       "      <td>NaN</td>\n",
       "    </tr>\n",
       "    <tr>\n",
       "      <th rowspan=\"3\" valign=\"top\">41-55</th>\n",
       "      <th>business</th>\n",
       "      <td>34923.0</td>\n",
       "      <td>NaN</td>\n",
       "      <td>27930.0</td>\n",
       "      <td>25466.5</td>\n",
       "      <td>35067.0</td>\n",
       "    </tr>\n",
       "    <tr>\n",
       "      <th>civil servant</th>\n",
       "      <td>28702.0</td>\n",
       "      <td>NaN</td>\n",
       "      <td>78411.0</td>\n",
       "      <td>21533.0</td>\n",
       "      <td>42562.5</td>\n",
       "    </tr>\n",
       "    <tr>\n",
       "      <th>retiree</th>\n",
       "      <td>25451.5</td>\n",
       "      <td>NaN</td>\n",
       "      <td>16687.0</td>\n",
       "      <td>19190.5</td>\n",
       "      <td>17873.0</td>\n",
       "    </tr>\n",
       "    <tr>\n",
       "      <th rowspan=\"3\" valign=\"top\">56-65</th>\n",
       "      <th>business</th>\n",
       "      <td>32510.0</td>\n",
       "      <td>NaN</td>\n",
       "      <td>15519.0</td>\n",
       "      <td>26256.0</td>\n",
       "      <td>37147.0</td>\n",
       "    </tr>\n",
       "    <tr>\n",
       "      <th>civil servant</th>\n",
       "      <td>29876.0</td>\n",
       "      <td>NaN</td>\n",
       "      <td>12709.5</td>\n",
       "      <td>23016.0</td>\n",
       "      <td>NaN</td>\n",
       "    </tr>\n",
       "    <tr>\n",
       "      <th>retiree</th>\n",
       "      <td>23079.0</td>\n",
       "      <td>40869.0</td>\n",
       "      <td>18083.0</td>\n",
       "      <td>18692.0</td>\n",
       "      <td>20934.5</td>\n",
       "    </tr>\n",
       "    <tr>\n",
       "      <th rowspan=\"3\" valign=\"top\">retired</th>\n",
       "      <th>business</th>\n",
       "      <td>29300.0</td>\n",
       "      <td>NaN</td>\n",
       "      <td>NaN</td>\n",
       "      <td>24260.0</td>\n",
       "      <td>20095.0</td>\n",
       "    </tr>\n",
       "    <tr>\n",
       "      <th>civil servant</th>\n",
       "      <td>23391.0</td>\n",
       "      <td>NaN</td>\n",
       "      <td>NaN</td>\n",
       "      <td>26123.0</td>\n",
       "      <td>NaN</td>\n",
       "    </tr>\n",
       "    <tr>\n",
       "      <th>retiree</th>\n",
       "      <td>21074.0</td>\n",
       "      <td>15801.0</td>\n",
       "      <td>15014.0</td>\n",
       "      <td>17310.0</td>\n",
       "      <td>19790.5</td>\n",
       "    </tr>\n",
       "  </tbody>\n",
       "</table>\n",
       "</div>"
      ],
      "text/plain": [
       "education                bachelor's degree  graduate degree  \\\n",
       "age_group income_type                                         \n",
       "19-30     business                 28449.5              NaN   \n",
       "          civil servant            24483.5              NaN   \n",
       "          retiree                  34395.0              NaN   \n",
       "31-40     business                 33126.0              NaN   \n",
       "          civil servant            27956.5          17823.0   \n",
       "          retiree                  30118.0              NaN   \n",
       "41-55     business                 34923.0              NaN   \n",
       "          civil servant            28702.0              NaN   \n",
       "          retiree                  25451.5              NaN   \n",
       "56-65     business                 32510.0              NaN   \n",
       "          civil servant            29876.0              NaN   \n",
       "          retiree                  23079.0          40869.0   \n",
       "retired   business                 29300.0              NaN   \n",
       "          civil servant            23391.0              NaN   \n",
       "          retiree                  21074.0          15801.0   \n",
       "\n",
       "education                primary education  secondary education  some college  \n",
       "age_group income_type                                                          \n",
       "19-30     business                 21167.5              23913.0       25571.5  \n",
       "          civil servant            30564.0              21033.5       21641.0  \n",
       "          retiree                      NaN              12808.0           NaN  \n",
       "31-40     business                 21442.0              26304.0       30315.0  \n",
       "          civil servant            21151.0              21926.0       29282.5  \n",
       "          retiree                  14139.0              18328.5           NaN  \n",
       "41-55     business                 27930.0              25466.5       35067.0  \n",
       "          civil servant            78411.0              21533.0       42562.5  \n",
       "          retiree                  16687.0              19190.5       17873.0  \n",
       "56-65     business                 15519.0              26256.0       37147.0  \n",
       "          civil servant            12709.5              23016.0           NaN  \n",
       "          retiree                  18083.0              18692.0       20934.5  \n",
       "retired   business                     NaN              24260.0       20095.0  \n",
       "          civil servant                NaN              26123.0           NaN  \n",
       "          retiree                  15014.0              17310.0       19790.5  "
      ]
     },
     "metadata": {},
     "output_type": "display_data"
    }
   ],
   "source": [
    "#Generate a Multi-Index DataFrame via Pivot_Table that generates the median total_income, grouped by age_group and income_type\n",
    "\n",
    "#Version 2\n",
    "pivot_table_for_total_income = data.pivot_table(index=['age_group','income_type' ],    \n",
    "columns='education',values='total_income',aggfunc='median')\n",
    "\n",
    "#Version 3\n",
    "#pivot_table_for_total_income_3 = data.pivot_table(index=['age_group','income_type', 'education'],\n",
    "#                                                values='total_income',aggfunc='median')\n",
    "\n",
    "#Test\n",
    "display(pivot_table_for_total_income)"
   ]
  },
  {
   "cell_type": "code",
   "execution_count": 58,
   "metadata": {},
   "outputs": [],
   "source": [
    "def cal_median_income(row):\n",
    "    \"\"\"\n",
    "    Based on age, income type, and education, return an category appropriate median value total_income.\n",
    "    \n",
    "    \"\"\"\n",
    "\n",
    "    age = row['age_group']\n",
    "    i_type = row['income_type']\n",
    "    edu = row['education']\n",
    "    try: \n",
    "        median_value = data[(data['age_group'] == age) & (data['income_type'] == i_type) & (data['education'] == edu)].median()\n",
    "        return median_value\n",
    "    except:\n",
    "        return"
   ]
  },
  {
   "cell_type": "code",
   "execution_count": 59,
   "metadata": {},
   "outputs": [],
   "source": [
    "#apply the formula to rows with missing data, replace with median value based on multi-category look up.\n",
    "#target total_income NaN\n",
    "data.loc[data['total_income'].isna(), 'total_income']= data[data['total_income'].isna()].apply(cal_median_income,\n",
    "                                                                                               axis=1)\n"
   ]
  },
  {
   "cell_type": "code",
   "execution_count": 60,
   "metadata": {},
   "outputs": [
    {
     "data": {
      "text/plain": [
       "children               0\n",
       "days_employed       1019\n",
       "age                    0\n",
       "education              0\n",
       "education_id           0\n",
       "family_status          0\n",
       "family_status_id       0\n",
       "gender                 0\n",
       "income_type            0\n",
       "debt                   0\n",
       "total_income           0\n",
       "purpose                0\n",
       "years_employed      1019\n",
       "loan_purpose           0\n",
       "age_group              0\n",
       "dtype: int64"
      ]
     },
     "execution_count": 60,
     "metadata": {},
     "output_type": "execute_result"
    }
   ],
   "source": [
    "#test\n",
    "data.isna().sum()"
   ]
  },
  {
   "cell_type": "code",
   "execution_count": 61,
   "metadata": {},
   "outputs": [
    {
     "name": "stdout",
     "output_type": "stream",
     "text": [
      "1019\n",
      "0\n",
      "1019\n"
     ]
    },
    {
     "data": {
      "text/html": [
       "<div>\n",
       "<style scoped>\n",
       "    .dataframe tbody tr th:only-of-type {\n",
       "        vertical-align: middle;\n",
       "    }\n",
       "\n",
       "    .dataframe tbody tr th {\n",
       "        vertical-align: top;\n",
       "    }\n",
       "\n",
       "    .dataframe thead th {\n",
       "        text-align: right;\n",
       "    }\n",
       "</style>\n",
       "<table border=\"1\" class=\"dataframe\">\n",
       "  <thead>\n",
       "    <tr style=\"text-align: right;\">\n",
       "      <th></th>\n",
       "      <th>children</th>\n",
       "      <th>days_employed</th>\n",
       "      <th>age</th>\n",
       "      <th>education</th>\n",
       "      <th>education_id</th>\n",
       "      <th>family_status</th>\n",
       "      <th>family_status_id</th>\n",
       "      <th>gender</th>\n",
       "      <th>income_type</th>\n",
       "      <th>debt</th>\n",
       "      <th>total_income</th>\n",
       "      <th>purpose</th>\n",
       "      <th>years_employed</th>\n",
       "      <th>loan_purpose</th>\n",
       "      <th>age_group</th>\n",
       "    </tr>\n",
       "  </thead>\n",
       "  <tbody>\n",
       "    <tr>\n",
       "      <th>4</th>\n",
       "      <td>0</td>\n",
       "      <td>340266.072047</td>\n",
       "      <td>53</td>\n",
       "      <td>secondary education</td>\n",
       "      <td>1</td>\n",
       "      <td>civil partnership</td>\n",
       "      <td>1</td>\n",
       "      <td>F</td>\n",
       "      <td>retiree</td>\n",
       "      <td>0</td>\n",
       "      <td>25379.0</td>\n",
       "      <td>to have a wedding</td>\n",
       "      <td>932.235814</td>\n",
       "      <td>wedding</td>\n",
       "      <td>41-55</td>\n",
       "    </tr>\n",
       "    <tr>\n",
       "      <th>5</th>\n",
       "      <td>0</td>\n",
       "      <td>926.185831</td>\n",
       "      <td>27</td>\n",
       "      <td>bachelor's degree</td>\n",
       "      <td>0</td>\n",
       "      <td>civil partnership</td>\n",
       "      <td>1</td>\n",
       "      <td>M</td>\n",
       "      <td>business</td>\n",
       "      <td>0</td>\n",
       "      <td>40923.0</td>\n",
       "      <td>purchase of the house</td>\n",
       "      <td>2.537495</td>\n",
       "      <td>real estate</td>\n",
       "      <td>19-30</td>\n",
       "    </tr>\n",
       "    <tr>\n",
       "      <th>6</th>\n",
       "      <td>0</td>\n",
       "      <td>2879.202052</td>\n",
       "      <td>43</td>\n",
       "      <td>bachelor's degree</td>\n",
       "      <td>0</td>\n",
       "      <td>married</td>\n",
       "      <td>0</td>\n",
       "      <td>F</td>\n",
       "      <td>business</td>\n",
       "      <td>0</td>\n",
       "      <td>38485.0</td>\n",
       "      <td>housing transactions</td>\n",
       "      <td>7.888225</td>\n",
       "      <td>real estate</td>\n",
       "      <td>41-55</td>\n",
       "    </tr>\n",
       "    <tr>\n",
       "      <th>10</th>\n",
       "      <td>2</td>\n",
       "      <td>4171.483647</td>\n",
       "      <td>36</td>\n",
       "      <td>bachelor's degree</td>\n",
       "      <td>0</td>\n",
       "      <td>married</td>\n",
       "      <td>0</td>\n",
       "      <td>M</td>\n",
       "      <td>business</td>\n",
       "      <td>0</td>\n",
       "      <td>18231.0</td>\n",
       "      <td>buy real estate</td>\n",
       "      <td>11.428722</td>\n",
       "      <td>real estate</td>\n",
       "      <td>31-40</td>\n",
       "    </tr>\n",
       "    <tr>\n",
       "      <th>12</th>\n",
       "      <td>0</td>\n",
       "      <td>NaN</td>\n",
       "      <td>65</td>\n",
       "      <td>secondary education</td>\n",
       "      <td>1</td>\n",
       "      <td>civil partnership</td>\n",
       "      <td>1</td>\n",
       "      <td>M</td>\n",
       "      <td>retiree</td>\n",
       "      <td>0</td>\n",
       "      <td>17310.0</td>\n",
       "      <td>to have a wedding</td>\n",
       "      <td>NaN</td>\n",
       "      <td>wedding</td>\n",
       "      <td>retired</td>\n",
       "    </tr>\n",
       "    <tr>\n",
       "      <th>14</th>\n",
       "      <td>0</td>\n",
       "      <td>1844.956182</td>\n",
       "      <td>56</td>\n",
       "      <td>bachelor's degree</td>\n",
       "      <td>0</td>\n",
       "      <td>civil partnership</td>\n",
       "      <td>1</td>\n",
       "      <td>F</td>\n",
       "      <td>business</td>\n",
       "      <td>1</td>\n",
       "      <td>26421.0</td>\n",
       "      <td>buy residential real estate</td>\n",
       "      <td>5.054674</td>\n",
       "      <td>real estate</td>\n",
       "      <td>56-65</td>\n",
       "    </tr>\n",
       "    <tr>\n",
       "      <th>18</th>\n",
       "      <td>0</td>\n",
       "      <td>400281.136913</td>\n",
       "      <td>53</td>\n",
       "      <td>secondary education</td>\n",
       "      <td>1</td>\n",
       "      <td>widow / widower</td>\n",
       "      <td>2</td>\n",
       "      <td>F</td>\n",
       "      <td>retiree</td>\n",
       "      <td>0</td>\n",
       "      <td>9092.0</td>\n",
       "      <td>buying a second-hand car</td>\n",
       "      <td>1096.660649</td>\n",
       "      <td>auto</td>\n",
       "      <td>41-55</td>\n",
       "    </tr>\n",
       "    <tr>\n",
       "      <th>24</th>\n",
       "      <td>1</td>\n",
       "      <td>338551.952911</td>\n",
       "      <td>57</td>\n",
       "      <td>secondary education</td>\n",
       "      <td>1</td>\n",
       "      <td>unmarried</td>\n",
       "      <td>4</td>\n",
       "      <td>F</td>\n",
       "      <td>retiree</td>\n",
       "      <td>0</td>\n",
       "      <td>46488.0</td>\n",
       "      <td>transactions with commercial real estate</td>\n",
       "      <td>927.539597</td>\n",
       "      <td>real estate</td>\n",
       "      <td>56-65</td>\n",
       "    </tr>\n",
       "    <tr>\n",
       "      <th>25</th>\n",
       "      <td>0</td>\n",
       "      <td>363548.489348</td>\n",
       "      <td>67</td>\n",
       "      <td>secondary education</td>\n",
       "      <td>1</td>\n",
       "      <td>married</td>\n",
       "      <td>0</td>\n",
       "      <td>M</td>\n",
       "      <td>retiree</td>\n",
       "      <td>0</td>\n",
       "      <td>8819.0</td>\n",
       "      <td>buy real estate</td>\n",
       "      <td>996.023258</td>\n",
       "      <td>real estate</td>\n",
       "      <td>retired</td>\n",
       "    </tr>\n",
       "    <tr>\n",
       "      <th>26</th>\n",
       "      <td>0</td>\n",
       "      <td>NaN</td>\n",
       "      <td>41</td>\n",
       "      <td>secondary education</td>\n",
       "      <td>1</td>\n",
       "      <td>married</td>\n",
       "      <td>0</td>\n",
       "      <td>M</td>\n",
       "      <td>civil servant</td>\n",
       "      <td>0</td>\n",
       "      <td>21533.0</td>\n",
       "      <td>education</td>\n",
       "      <td>NaN</td>\n",
       "      <td>education</td>\n",
       "      <td>41-55</td>\n",
       "    </tr>\n",
       "    <tr>\n",
       "      <th>29</th>\n",
       "      <td>0</td>\n",
       "      <td>NaN</td>\n",
       "      <td>63</td>\n",
       "      <td>secondary education</td>\n",
       "      <td>1</td>\n",
       "      <td>unmarried</td>\n",
       "      <td>4</td>\n",
       "      <td>F</td>\n",
       "      <td>retiree</td>\n",
       "      <td>0</td>\n",
       "      <td>18692.0</td>\n",
       "      <td>building a real estate</td>\n",
       "      <td>NaN</td>\n",
       "      <td>real estate</td>\n",
       "      <td>56-65</td>\n",
       "    </tr>\n",
       "    <tr>\n",
       "      <th>30</th>\n",
       "      <td>1</td>\n",
       "      <td>335581.668515</td>\n",
       "      <td>62</td>\n",
       "      <td>secondary education</td>\n",
       "      <td>1</td>\n",
       "      <td>married</td>\n",
       "      <td>0</td>\n",
       "      <td>F</td>\n",
       "      <td>retiree</td>\n",
       "      <td>0</td>\n",
       "      <td>27433.0</td>\n",
       "      <td>transactions with commercial real estate</td>\n",
       "      <td>919.401832</td>\n",
       "      <td>real estate</td>\n",
       "      <td>56-65</td>\n",
       "    </tr>\n",
       "    <tr>\n",
       "      <th>33</th>\n",
       "      <td>0</td>\n",
       "      <td>1548.637544</td>\n",
       "      <td>48</td>\n",
       "      <td>secondary education</td>\n",
       "      <td>1</td>\n",
       "      <td>married</td>\n",
       "      <td>0</td>\n",
       "      <td>F</td>\n",
       "      <td>business</td>\n",
       "      <td>0</td>\n",
       "      <td>25160.0</td>\n",
       "      <td>purchase of the house</td>\n",
       "      <td>4.242843</td>\n",
       "      <td>real estate</td>\n",
       "      <td>41-55</td>\n",
       "    </tr>\n",
       "    <tr>\n",
       "      <th>35</th>\n",
       "      <td>0</td>\n",
       "      <td>394021.072184</td>\n",
       "      <td>68</td>\n",
       "      <td>secondary education</td>\n",
       "      <td>1</td>\n",
       "      <td>civil partnership</td>\n",
       "      <td>1</td>\n",
       "      <td>M</td>\n",
       "      <td>retiree</td>\n",
       "      <td>0</td>\n",
       "      <td>12449.0</td>\n",
       "      <td>having a wedding</td>\n",
       "      <td>1079.509787</td>\n",
       "      <td>wedding</td>\n",
       "      <td>retired</td>\n",
       "    </tr>\n",
       "    <tr>\n",
       "      <th>37</th>\n",
       "      <td>0</td>\n",
       "      <td>6448.810860</td>\n",
       "      <td>43</td>\n",
       "      <td>bachelor's degree</td>\n",
       "      <td>0</td>\n",
       "      <td>civil partnership</td>\n",
       "      <td>1</td>\n",
       "      <td>F</td>\n",
       "      <td>business</td>\n",
       "      <td>0</td>\n",
       "      <td>24661.0</td>\n",
       "      <td>car purchase</td>\n",
       "      <td>17.667975</td>\n",
       "      <td>auto</td>\n",
       "      <td>41-55</td>\n",
       "    </tr>\n",
       "  </tbody>\n",
       "</table>\n",
       "</div>"
      ],
      "text/plain": [
       "    children  days_employed  age            education  education_id  \\\n",
       "4          0  340266.072047   53  secondary education             1   \n",
       "5          0     926.185831   27    bachelor's degree             0   \n",
       "6          0    2879.202052   43    bachelor's degree             0   \n",
       "10         2    4171.483647   36    bachelor's degree             0   \n",
       "12         0            NaN   65  secondary education             1   \n",
       "14         0    1844.956182   56    bachelor's degree             0   \n",
       "18         0  400281.136913   53  secondary education             1   \n",
       "24         1  338551.952911   57  secondary education             1   \n",
       "25         0  363548.489348   67  secondary education             1   \n",
       "26         0            NaN   41  secondary education             1   \n",
       "29         0            NaN   63  secondary education             1   \n",
       "30         1  335581.668515   62  secondary education             1   \n",
       "33         0    1548.637544   48  secondary education             1   \n",
       "35         0  394021.072184   68  secondary education             1   \n",
       "37         0    6448.810860   43    bachelor's degree             0   \n",
       "\n",
       "        family_status  family_status_id gender    income_type  debt  \\\n",
       "4   civil partnership                 1      F        retiree     0   \n",
       "5   civil partnership                 1      M       business     0   \n",
       "6             married                 0      F       business     0   \n",
       "10            married                 0      M       business     0   \n",
       "12  civil partnership                 1      M        retiree     0   \n",
       "14  civil partnership                 1      F       business     1   \n",
       "18    widow / widower                 2      F        retiree     0   \n",
       "24          unmarried                 4      F        retiree     0   \n",
       "25            married                 0      M        retiree     0   \n",
       "26            married                 0      M  civil servant     0   \n",
       "29          unmarried                 4      F        retiree     0   \n",
       "30            married                 0      F        retiree     0   \n",
       "33            married                 0      F       business     0   \n",
       "35  civil partnership                 1      M        retiree     0   \n",
       "37  civil partnership                 1      F       business     0   \n",
       "\n",
       "    total_income                                   purpose  years_employed  \\\n",
       "4        25379.0                         to have a wedding      932.235814   \n",
       "5        40923.0                     purchase of the house        2.537495   \n",
       "6        38485.0                      housing transactions        7.888225   \n",
       "10       18231.0                           buy real estate       11.428722   \n",
       "12       17310.0                         to have a wedding             NaN   \n",
       "14       26421.0               buy residential real estate        5.054674   \n",
       "18        9092.0                  buying a second-hand car     1096.660649   \n",
       "24       46488.0  transactions with commercial real estate      927.539597   \n",
       "25        8819.0                           buy real estate      996.023258   \n",
       "26       21533.0                                 education             NaN   \n",
       "29       18692.0                    building a real estate             NaN   \n",
       "30       27433.0  transactions with commercial real estate      919.401832   \n",
       "33       25160.0                     purchase of the house        4.242843   \n",
       "35       12449.0                          having a wedding     1079.509787   \n",
       "37       24661.0                              car purchase       17.667975   \n",
       "\n",
       "   loan_purpose age_group  \n",
       "4       wedding     41-55  \n",
       "5   real estate     19-30  \n",
       "6   real estate     41-55  \n",
       "10  real estate     31-40  \n",
       "12      wedding   retired  \n",
       "14  real estate     56-65  \n",
       "18         auto     41-55  \n",
       "24  real estate     56-65  \n",
       "25  real estate   retired  \n",
       "26    education     41-55  \n",
       "29  real estate     56-65  \n",
       "30  real estate     56-65  \n",
       "33  real estate     41-55  \n",
       "35      wedding   retired  \n",
       "37         auto     41-55  "
      ]
     },
     "execution_count": 61,
     "metadata": {},
     "output_type": "execute_result"
    }
   ],
   "source": [
    "#test\n",
    "print(data['days_employed'].isna().sum())\n",
    "print(data['total_income'].isna().sum())\n",
    "print(data['years_employed'].isna().sum())\n",
    "\n",
    "# Do the NaN rows look like they have updated to appropriate numbers?\n",
    "data.head(15)"
   ]
  },
  {
   "cell_type": "code",
   "execution_count": 62,
   "metadata": {},
   "outputs": [],
   "source": [
    "# So far So good,\n",
    "# Let's run the function again for days_employed and years_employed\n",
    "\n",
    "#apply the formula to rows with missing data, replace with median value based on multi-category look up.\n",
    "\n",
    "#days\n",
    "data.loc[data['days_employed'].isna(), 'days_employed']= data[data['days_employed'].isna()].apply(cal_median_income,\n",
    "                                                                                               axis=1)\n",
    "#years\n",
    "data.loc[data['years_employed'].isna(), 'years_employed']= data[data['years_employed'].isna()].apply(cal_median_income,\n",
    "                                                                                               axis=1)\n"
   ]
  },
  {
   "cell_type": "code",
   "execution_count": 63,
   "metadata": {},
   "outputs": [
    {
     "name": "stdout",
     "output_type": "stream",
     "text": [
      "0\n",
      "0\n",
      "0\n"
     ]
    },
    {
     "data": {
      "text/html": [
       "<div>\n",
       "<style scoped>\n",
       "    .dataframe tbody tr th:only-of-type {\n",
       "        vertical-align: middle;\n",
       "    }\n",
       "\n",
       "    .dataframe tbody tr th {\n",
       "        vertical-align: top;\n",
       "    }\n",
       "\n",
       "    .dataframe thead th {\n",
       "        text-align: right;\n",
       "    }\n",
       "</style>\n",
       "<table border=\"1\" class=\"dataframe\">\n",
       "  <thead>\n",
       "    <tr style=\"text-align: right;\">\n",
       "      <th></th>\n",
       "      <th>children</th>\n",
       "      <th>days_employed</th>\n",
       "      <th>age</th>\n",
       "      <th>education</th>\n",
       "      <th>education_id</th>\n",
       "      <th>family_status</th>\n",
       "      <th>family_status_id</th>\n",
       "      <th>gender</th>\n",
       "      <th>income_type</th>\n",
       "      <th>debt</th>\n",
       "      <th>total_income</th>\n",
       "      <th>purpose</th>\n",
       "      <th>years_employed</th>\n",
       "      <th>loan_purpose</th>\n",
       "      <th>age_group</th>\n",
       "    </tr>\n",
       "  </thead>\n",
       "  <tbody>\n",
       "    <tr>\n",
       "      <th>4</th>\n",
       "      <td>0</td>\n",
       "      <td>340266.072047</td>\n",
       "      <td>53</td>\n",
       "      <td>secondary education</td>\n",
       "      <td>1</td>\n",
       "      <td>civil partnership</td>\n",
       "      <td>1</td>\n",
       "      <td>F</td>\n",
       "      <td>retiree</td>\n",
       "      <td>0</td>\n",
       "      <td>25379.0</td>\n",
       "      <td>to have a wedding</td>\n",
       "      <td>932.235814</td>\n",
       "      <td>wedding</td>\n",
       "      <td>41-55</td>\n",
       "    </tr>\n",
       "    <tr>\n",
       "      <th>5</th>\n",
       "      <td>0</td>\n",
       "      <td>926.185831</td>\n",
       "      <td>27</td>\n",
       "      <td>bachelor's degree</td>\n",
       "      <td>0</td>\n",
       "      <td>civil partnership</td>\n",
       "      <td>1</td>\n",
       "      <td>M</td>\n",
       "      <td>business</td>\n",
       "      <td>0</td>\n",
       "      <td>40923.0</td>\n",
       "      <td>purchase of the house</td>\n",
       "      <td>2.537495</td>\n",
       "      <td>real estate</td>\n",
       "      <td>19-30</td>\n",
       "    </tr>\n",
       "    <tr>\n",
       "      <th>6</th>\n",
       "      <td>0</td>\n",
       "      <td>2879.202052</td>\n",
       "      <td>43</td>\n",
       "      <td>bachelor's degree</td>\n",
       "      <td>0</td>\n",
       "      <td>married</td>\n",
       "      <td>0</td>\n",
       "      <td>F</td>\n",
       "      <td>business</td>\n",
       "      <td>0</td>\n",
       "      <td>38485.0</td>\n",
       "      <td>housing transactions</td>\n",
       "      <td>7.888225</td>\n",
       "      <td>real estate</td>\n",
       "      <td>41-55</td>\n",
       "    </tr>\n",
       "    <tr>\n",
       "      <th>10</th>\n",
       "      <td>2</td>\n",
       "      <td>4171.483647</td>\n",
       "      <td>36</td>\n",
       "      <td>bachelor's degree</td>\n",
       "      <td>0</td>\n",
       "      <td>married</td>\n",
       "      <td>0</td>\n",
       "      <td>M</td>\n",
       "      <td>business</td>\n",
       "      <td>0</td>\n",
       "      <td>18231.0</td>\n",
       "      <td>buy real estate</td>\n",
       "      <td>11.428722</td>\n",
       "      <td>real estate</td>\n",
       "      <td>31-40</td>\n",
       "    </tr>\n",
       "    <tr>\n",
       "      <th>12</th>\n",
       "      <td>0</td>\n",
       "      <td>365762.750351</td>\n",
       "      <td>65</td>\n",
       "      <td>secondary education</td>\n",
       "      <td>1</td>\n",
       "      <td>civil partnership</td>\n",
       "      <td>1</td>\n",
       "      <td>M</td>\n",
       "      <td>retiree</td>\n",
       "      <td>0</td>\n",
       "      <td>17310.0</td>\n",
       "      <td>to have a wedding</td>\n",
       "      <td>1002.089727</td>\n",
       "      <td>wedding</td>\n",
       "      <td>retired</td>\n",
       "    </tr>\n",
       "    <tr>\n",
       "      <th>14</th>\n",
       "      <td>0</td>\n",
       "      <td>1844.956182</td>\n",
       "      <td>56</td>\n",
       "      <td>bachelor's degree</td>\n",
       "      <td>0</td>\n",
       "      <td>civil partnership</td>\n",
       "      <td>1</td>\n",
       "      <td>F</td>\n",
       "      <td>business</td>\n",
       "      <td>1</td>\n",
       "      <td>26421.0</td>\n",
       "      <td>buy residential real estate</td>\n",
       "      <td>5.054674</td>\n",
       "      <td>real estate</td>\n",
       "      <td>56-65</td>\n",
       "    </tr>\n",
       "    <tr>\n",
       "      <th>18</th>\n",
       "      <td>0</td>\n",
       "      <td>400281.136913</td>\n",
       "      <td>53</td>\n",
       "      <td>secondary education</td>\n",
       "      <td>1</td>\n",
       "      <td>widow / widower</td>\n",
       "      <td>2</td>\n",
       "      <td>F</td>\n",
       "      <td>retiree</td>\n",
       "      <td>0</td>\n",
       "      <td>9092.0</td>\n",
       "      <td>buying a second-hand car</td>\n",
       "      <td>1096.660649</td>\n",
       "      <td>auto</td>\n",
       "      <td>41-55</td>\n",
       "    </tr>\n",
       "    <tr>\n",
       "      <th>24</th>\n",
       "      <td>1</td>\n",
       "      <td>338551.952911</td>\n",
       "      <td>57</td>\n",
       "      <td>secondary education</td>\n",
       "      <td>1</td>\n",
       "      <td>unmarried</td>\n",
       "      <td>4</td>\n",
       "      <td>F</td>\n",
       "      <td>retiree</td>\n",
       "      <td>0</td>\n",
       "      <td>46488.0</td>\n",
       "      <td>transactions with commercial real estate</td>\n",
       "      <td>927.539597</td>\n",
       "      <td>real estate</td>\n",
       "      <td>56-65</td>\n",
       "    </tr>\n",
       "    <tr>\n",
       "      <th>25</th>\n",
       "      <td>0</td>\n",
       "      <td>363548.489348</td>\n",
       "      <td>67</td>\n",
       "      <td>secondary education</td>\n",
       "      <td>1</td>\n",
       "      <td>married</td>\n",
       "      <td>0</td>\n",
       "      <td>M</td>\n",
       "      <td>retiree</td>\n",
       "      <td>0</td>\n",
       "      <td>8819.0</td>\n",
       "      <td>buy real estate</td>\n",
       "      <td>996.023258</td>\n",
       "      <td>real estate</td>\n",
       "      <td>retired</td>\n",
       "    </tr>\n",
       "    <tr>\n",
       "      <th>26</th>\n",
       "      <td>0</td>\n",
       "      <td>3346.827478</td>\n",
       "      <td>41</td>\n",
       "      <td>secondary education</td>\n",
       "      <td>1</td>\n",
       "      <td>married</td>\n",
       "      <td>0</td>\n",
       "      <td>M</td>\n",
       "      <td>civil servant</td>\n",
       "      <td>0</td>\n",
       "      <td>21533.0</td>\n",
       "      <td>education</td>\n",
       "      <td>9.169390</td>\n",
       "      <td>education</td>\n",
       "      <td>41-55</td>\n",
       "    </tr>\n",
       "    <tr>\n",
       "      <th>29</th>\n",
       "      <td>0</td>\n",
       "      <td>365356.768976</td>\n",
       "      <td>63</td>\n",
       "      <td>secondary education</td>\n",
       "      <td>1</td>\n",
       "      <td>unmarried</td>\n",
       "      <td>4</td>\n",
       "      <td>F</td>\n",
       "      <td>retiree</td>\n",
       "      <td>0</td>\n",
       "      <td>18692.0</td>\n",
       "      <td>building a real estate</td>\n",
       "      <td>1000.977449</td>\n",
       "      <td>real estate</td>\n",
       "      <td>56-65</td>\n",
       "    </tr>\n",
       "    <tr>\n",
       "      <th>30</th>\n",
       "      <td>1</td>\n",
       "      <td>335581.668515</td>\n",
       "      <td>62</td>\n",
       "      <td>secondary education</td>\n",
       "      <td>1</td>\n",
       "      <td>married</td>\n",
       "      <td>0</td>\n",
       "      <td>F</td>\n",
       "      <td>retiree</td>\n",
       "      <td>0</td>\n",
       "      <td>27433.0</td>\n",
       "      <td>transactions with commercial real estate</td>\n",
       "      <td>919.401832</td>\n",
       "      <td>real estate</td>\n",
       "      <td>56-65</td>\n",
       "    </tr>\n",
       "    <tr>\n",
       "      <th>33</th>\n",
       "      <td>0</td>\n",
       "      <td>1548.637544</td>\n",
       "      <td>48</td>\n",
       "      <td>secondary education</td>\n",
       "      <td>1</td>\n",
       "      <td>married</td>\n",
       "      <td>0</td>\n",
       "      <td>F</td>\n",
       "      <td>business</td>\n",
       "      <td>0</td>\n",
       "      <td>25160.0</td>\n",
       "      <td>purchase of the house</td>\n",
       "      <td>4.242843</td>\n",
       "      <td>real estate</td>\n",
       "      <td>41-55</td>\n",
       "    </tr>\n",
       "    <tr>\n",
       "      <th>35</th>\n",
       "      <td>0</td>\n",
       "      <td>394021.072184</td>\n",
       "      <td>68</td>\n",
       "      <td>secondary education</td>\n",
       "      <td>1</td>\n",
       "      <td>civil partnership</td>\n",
       "      <td>1</td>\n",
       "      <td>M</td>\n",
       "      <td>retiree</td>\n",
       "      <td>0</td>\n",
       "      <td>12449.0</td>\n",
       "      <td>having a wedding</td>\n",
       "      <td>1079.509787</td>\n",
       "      <td>wedding</td>\n",
       "      <td>retired</td>\n",
       "    </tr>\n",
       "    <tr>\n",
       "      <th>37</th>\n",
       "      <td>0</td>\n",
       "      <td>6448.810860</td>\n",
       "      <td>43</td>\n",
       "      <td>bachelor's degree</td>\n",
       "      <td>0</td>\n",
       "      <td>civil partnership</td>\n",
       "      <td>1</td>\n",
       "      <td>F</td>\n",
       "      <td>business</td>\n",
       "      <td>0</td>\n",
       "      <td>24661.0</td>\n",
       "      <td>car purchase</td>\n",
       "      <td>17.667975</td>\n",
       "      <td>auto</td>\n",
       "      <td>41-55</td>\n",
       "    </tr>\n",
       "  </tbody>\n",
       "</table>\n",
       "</div>"
      ],
      "text/plain": [
       "    children  days_employed  age            education  education_id  \\\n",
       "4          0  340266.072047   53  secondary education             1   \n",
       "5          0     926.185831   27    bachelor's degree             0   \n",
       "6          0    2879.202052   43    bachelor's degree             0   \n",
       "10         2    4171.483647   36    bachelor's degree             0   \n",
       "12         0  365762.750351   65  secondary education             1   \n",
       "14         0    1844.956182   56    bachelor's degree             0   \n",
       "18         0  400281.136913   53  secondary education             1   \n",
       "24         1  338551.952911   57  secondary education             1   \n",
       "25         0  363548.489348   67  secondary education             1   \n",
       "26         0    3346.827478   41  secondary education             1   \n",
       "29         0  365356.768976   63  secondary education             1   \n",
       "30         1  335581.668515   62  secondary education             1   \n",
       "33         0    1548.637544   48  secondary education             1   \n",
       "35         0  394021.072184   68  secondary education             1   \n",
       "37         0    6448.810860   43    bachelor's degree             0   \n",
       "\n",
       "        family_status  family_status_id gender    income_type  debt  \\\n",
       "4   civil partnership                 1      F        retiree     0   \n",
       "5   civil partnership                 1      M       business     0   \n",
       "6             married                 0      F       business     0   \n",
       "10            married                 0      M       business     0   \n",
       "12  civil partnership                 1      M        retiree     0   \n",
       "14  civil partnership                 1      F       business     1   \n",
       "18    widow / widower                 2      F        retiree     0   \n",
       "24          unmarried                 4      F        retiree     0   \n",
       "25            married                 0      M        retiree     0   \n",
       "26            married                 0      M  civil servant     0   \n",
       "29          unmarried                 4      F        retiree     0   \n",
       "30            married                 0      F        retiree     0   \n",
       "33            married                 0      F       business     0   \n",
       "35  civil partnership                 1      M        retiree     0   \n",
       "37  civil partnership                 1      F       business     0   \n",
       "\n",
       "    total_income                                   purpose  years_employed  \\\n",
       "4        25379.0                         to have a wedding      932.235814   \n",
       "5        40923.0                     purchase of the house        2.537495   \n",
       "6        38485.0                      housing transactions        7.888225   \n",
       "10       18231.0                           buy real estate       11.428722   \n",
       "12       17310.0                         to have a wedding     1002.089727   \n",
       "14       26421.0               buy residential real estate        5.054674   \n",
       "18        9092.0                  buying a second-hand car     1096.660649   \n",
       "24       46488.0  transactions with commercial real estate      927.539597   \n",
       "25        8819.0                           buy real estate      996.023258   \n",
       "26       21533.0                                 education        9.169390   \n",
       "29       18692.0                    building a real estate     1000.977449   \n",
       "30       27433.0  transactions with commercial real estate      919.401832   \n",
       "33       25160.0                     purchase of the house        4.242843   \n",
       "35       12449.0                          having a wedding     1079.509787   \n",
       "37       24661.0                              car purchase       17.667975   \n",
       "\n",
       "   loan_purpose age_group  \n",
       "4       wedding     41-55  \n",
       "5   real estate     19-30  \n",
       "6   real estate     41-55  \n",
       "10  real estate     31-40  \n",
       "12      wedding   retired  \n",
       "14  real estate     56-65  \n",
       "18         auto     41-55  \n",
       "24  real estate     56-65  \n",
       "25  real estate   retired  \n",
       "26    education     41-55  \n",
       "29  real estate     56-65  \n",
       "30  real estate     56-65  \n",
       "33  real estate     41-55  \n",
       "35      wedding   retired  \n",
       "37         auto     41-55  "
      ]
     },
     "execution_count": 63,
     "metadata": {},
     "output_type": "execute_result"
    }
   ],
   "source": [
    "#test\n",
    "print(data['days_employed'].isna().sum())\n",
    "print(data['total_income'].isna().sum())\n",
    "print(data['years_employed'].isna().sum())\n",
    "\n",
    "# Do the NaN rows look like they have updated to appropriate numbers?\n",
    "data.head(15)"
   ]
  },
  {
   "cell_type": "code",
   "execution_count": 64,
   "metadata": {},
   "outputs": [
    {
     "name": "stdout",
     "output_type": "stream",
     "text": [
      "<class 'pandas.core.frame.DataFrame'>\n",
      "Int64Index: 10263 entries, 4 to 21521\n",
      "Data columns (total 15 columns):\n",
      " #   Column            Non-Null Count  Dtype  \n",
      "---  ------            --------------  -----  \n",
      " 0   children          10263 non-null  int64  \n",
      " 1   days_employed     10263 non-null  float64\n",
      " 2   age               10263 non-null  int64  \n",
      " 3   education         10263 non-null  object \n",
      " 4   education_id      10263 non-null  int64  \n",
      " 5   family_status     10263 non-null  object \n",
      " 6   family_status_id  10263 non-null  int64  \n",
      " 7   gender            10263 non-null  object \n",
      " 8   income_type       10263 non-null  object \n",
      " 9   debt              10263 non-null  int64  \n",
      " 10  total_income      10263 non-null  float64\n",
      " 11  purpose           10263 non-null  object \n",
      " 12  years_employed    10263 non-null  float64\n",
      " 13  loan_purpose      10263 non-null  object \n",
      " 14  age_group         10263 non-null  object \n",
      "dtypes: float64(3), int64(5), object(7)\n",
      "memory usage: 1.3+ MB\n"
     ]
    }
   ],
   "source": [
    "# Checking Data integrety\n",
    "data.info()"
   ]
  },
  {
   "cell_type": "code",
   "execution_count": 65,
   "metadata": {},
   "outputs": [
    {
     "data": {
      "text/plain": [
       "children            0\n",
       "days_employed       0\n",
       "age                 0\n",
       "education           0\n",
       "education_id        0\n",
       "family_status       0\n",
       "family_status_id    0\n",
       "gender              0\n",
       "income_type         0\n",
       "debt                0\n",
       "total_income        0\n",
       "purpose             0\n",
       "years_employed      0\n",
       "loan_purpose        0\n",
       "age_group           0\n",
       "dtype: int64"
      ]
     },
     "execution_count": 65,
     "metadata": {},
     "output_type": "execute_result"
    }
   ],
   "source": [
    "#Nan Check\n",
    "data.isna().sum()"
   ]
  },
  {
   "cell_type": "markdown",
   "metadata": {},
   "source": [
    "<div class=\"alert alert-block alert-danger\">\n",
    "<b>Reviewer's comment.V.2.</b> <a class=\"tocSkip\"></a>\n",
    "    \n",
    "You have done a great job here, but I think the end of your analysis needs to be corrected. Basically to replace the missing values we were looking for some extra information, you have plotted graphs and tables. We cannot just replace the missing values with median value taking from the whole column. Our clients are different, have different jobs, different age and etc. The best way to replace the missing values is to create table where median total income is calculated for age group, income_type and education: \n",
    "    \n",
    "    pivot_table_for_total_income = data_without_nan.pivot_table(index=['age_group','income_type' ],    \n",
    "    columns='education',values='total_income',aggfunc='median')\n",
    "    \n",
    "This way you can create a function which will replace the missing values in total income based on age group, income type and education.\n",
    "    \n",
    "For days employed we can just use the dependency on income type and use this information to replace the missing values with median values. Please correct this part of the code. Years employed are not that important for our investigation.\n",
    "</div>"
   ]
  },
  {
   "cell_type": "markdown",
   "metadata": {},
   "source": [
    "<div class=\"alert alert-info\"> <b> Updated as Suggested </b> <br>\n",
    "\n",
    "</div>\n"
   ]
  },
  {
   "cell_type": "markdown",
   "metadata": {},
   "source": [
    "## Categorization of data\n",
    "\n",
    "[To answer the questions and test the hypotheses, you will want to work with categorized data. Look at the questions that were posed to you and that you should answer. Think about which of the data will need to be categorized to answer these questions. Below you will find a template through which you can work your way when categorizing data. The first step-by-step processing covers the text data; the second one addresses the numerical data that needs to be categorized. You can use both or none of the suggested instructions - it's up to you.]\n",
    "\n",
    "[Despite of how you decide to address the categorization, make sure to provide clear explanation of why you made your decision. Remember: this is your work and you make all decisions in it.]\n"
   ]
  },
  {
   "cell_type": "code",
   "execution_count": 66,
   "metadata": {
    "scrolled": true
   },
   "outputs": [
    {
     "data": {
      "text/plain": [
       "8361"
      ]
     },
     "execution_count": 66,
     "metadata": {},
     "output_type": "execute_result"
    }
   ],
   "source": [
    "# Total Income has too many unique values\n",
    "data['total_income'].nunique()\n"
   ]
  },
  {
   "cell_type": "code",
   "execution_count": 67,
   "metadata": {
    "scrolled": true
   },
   "outputs": [
    {
     "name": "stdout",
     "output_type": "stream",
     "text": [
      "3307.0\n",
      "362497.0\n"
     ]
    }
   ],
   "source": [
    "#To make best use of the Data, we need to categorize total_income\n",
    "\n",
    "#What's the range of the total_income Data?\n",
    "print(data['total_income'].min())\n",
    "print(data['total_income'].max())"
   ]
  },
  {
   "cell_type": "code",
   "execution_count": 68,
   "metadata": {},
   "outputs": [
    {
     "data": {
      "text/plain": [
       "array([[<AxesSubplot:title={'center':'total_income'}>]], dtype=object)"
      ]
     },
     "execution_count": 68,
     "metadata": {},
     "output_type": "execute_result"
    },
    {
     "data": {
      "image/png": "[encoded data removed]",
      "text/plain": [
       "<Figure size 432x288 with 1 Axes>"
      ]
     },
     "metadata": {
      "needs_background": "light"
     },
     "output_type": "display_data"
    }
   ],
   "source": [
    "data.hist(column='total_income', bins=100)"
   ]
  },
  {
   "cell_type": "markdown",
   "metadata": {},
   "source": [
    "<div class=\"alert alert-info\"> <b> 25,000 bins </b> <br>\n",
    "Bins for every $25,000$, and group $150,000+$ as high income since there are not very many high income earners in the data set.\n",
    "</div>"
   ]
  },
  {
   "cell_type": "markdown",
   "metadata": {},
   "source": [
    "!!!! Too many bins, consolidate. Combine high income into 1 or 2 categories <br>\n",
    "Make bins more equal"
   ]
  },
  {
   "cell_type": "code",
   "execution_count": 69,
   "metadata": {},
   "outputs": [
    {
     "data": {
      "text/html": [
       "<div>\n",
       "<style scoped>\n",
       "    .dataframe tbody tr th:only-of-type {\n",
       "        vertical-align: middle;\n",
       "    }\n",
       "\n",
       "    .dataframe tbody tr th {\n",
       "        vertical-align: top;\n",
       "    }\n",
       "\n",
       "    .dataframe thead th {\n",
       "        text-align: right;\n",
       "    }\n",
       "</style>\n",
       "<table border=\"1\" class=\"dataframe\">\n",
       "  <thead>\n",
       "    <tr style=\"text-align: right;\">\n",
       "      <th>total_income</th>\n",
       "      <th>(1, 10000]</th>\n",
       "      <th>(10000, 25000]</th>\n",
       "      <th>(25000, 50000]</th>\n",
       "      <th>(50000, 100000]</th>\n",
       "      <th>(100000, 125000]</th>\n",
       "      <th>(125000, 150000]</th>\n",
       "      <th>(150000, 175000]</th>\n",
       "      <th>(175000, 200000]</th>\n",
       "      <th>(200000, 225000]</th>\n",
       "      <th>(225000, 250000]</th>\n",
       "    </tr>\n",
       "    <tr>\n",
       "      <th>income_type</th>\n",
       "      <th></th>\n",
       "      <th></th>\n",
       "      <th></th>\n",
       "      <th></th>\n",
       "      <th></th>\n",
       "      <th></th>\n",
       "      <th></th>\n",
       "      <th></th>\n",
       "      <th></th>\n",
       "      <th></th>\n",
       "    </tr>\n",
       "  </thead>\n",
       "  <tbody>\n",
       "    <tr>\n",
       "      <th>business</th>\n",
       "      <td>63</td>\n",
       "      <td>1839</td>\n",
       "      <td>2566</td>\n",
       "      <td>502</td>\n",
       "      <td>28</td>\n",
       "      <td>10</td>\n",
       "      <td>9</td>\n",
       "      <td>2</td>\n",
       "      <td>1</td>\n",
       "      <td>2</td>\n",
       "    </tr>\n",
       "    <tr>\n",
       "      <th>civil servant</th>\n",
       "      <td>57</td>\n",
       "      <td>720</td>\n",
       "      <td>559</td>\n",
       "      <td>103</td>\n",
       "      <td>4</td>\n",
       "      <td>2</td>\n",
       "      <td>0</td>\n",
       "      <td>0</td>\n",
       "      <td>0</td>\n",
       "      <td>0</td>\n",
       "    </tr>\n",
       "    <tr>\n",
       "      <th>retiree</th>\n",
       "      <td>387</td>\n",
       "      <td>2345</td>\n",
       "      <td>944</td>\n",
       "      <td>110</td>\n",
       "      <td>6</td>\n",
       "      <td>0</td>\n",
       "      <td>0</td>\n",
       "      <td>0</td>\n",
       "      <td>0</td>\n",
       "      <td>0</td>\n",
       "    </tr>\n",
       "  </tbody>\n",
       "</table>\n",
       "</div>"
      ],
      "text/plain": [
       "total_income   (1, 10000]  (10000, 25000]  (25000, 50000]  (50000, 100000]  \\\n",
       "income_type                                                                  \n",
       "business               63            1839            2566              502   \n",
       "civil servant          57             720             559              103   \n",
       "retiree               387            2345             944              110   \n",
       "\n",
       "total_income   (100000, 125000]  (125000, 150000]  (150000, 175000]  \\\n",
       "income_type                                                           \n",
       "business                     28                10                 9   \n",
       "civil servant                 4                 2                 0   \n",
       "retiree                       6                 0                 0   \n",
       "\n",
       "total_income   (175000, 200000]  (200000, 225000]  (225000, 250000]  \n",
       "income_type                                                          \n",
       "business                      2                 1                 2  \n",
       "civil servant                 0                 0                 0  \n",
       "retiree                       0                 0                 0  "
      ]
     },
     "execution_count": 69,
     "metadata": {},
     "output_type": "execute_result"
    }
   ],
   "source": [
    "#I found a version of this code on StackOverflow, utilizing groupby() and cut(). It's pretty close to what we want, but I can't quite get it dialed in...\n",
    "\n",
    "bins = [1, 10000, 25000, 50000, 100000, 125000, 150000, 175000, 200000, 225000, 250000]\n",
    "groups = data.groupby(['income_type', pd.cut(data.total_income, bins)])\n",
    "groups.size().unstack()"
   ]
  },
  {
   "cell_type": "code",
   "execution_count": 70,
   "metadata": {},
   "outputs": [],
   "source": [
    "# Write a function that creates income categories    \n",
    "def income_category_machine(i):\n",
    "\n",
    "    \"\"\" create an income category for clients according to these bins\n",
    "    [1, 10000, 25000, 50000, 75000, 100000+ high income]\n",
    "    \"\"\"\n",
    "    income=i\n",
    "    \n",
    "    \n",
    "    if income <= 1000:\n",
    "        return '1000'\n",
    "    if income >= 1000:\n",
    "        if income <= 25000:\n",
    "            return '1k-25k'\n",
    "    if income >=25001:\n",
    "        if income <= 50000:\n",
    "            return '25k-50k'\n",
    "    if income >= 50001:\n",
    "        if income <= 75000:\n",
    "            return '50k-75k'\n",
    "    if income >= 75001:\n",
    "        if income <= 100000:\n",
    "            return '75k-100k'\n",
    "    if income >= 100001:\n",
    "        return '100k+ high income'"
   ]
  },
  {
   "cell_type": "code",
   "execution_count": 71,
   "metadata": {},
   "outputs": [
    {
     "name": "stdout",
     "output_type": "stream",
     "text": [
      "1k-25k\n",
      "1k-25k\n",
      "25k-50k\n",
      "50k-75k\n",
      "50k-75k\n",
      "75k-100k\n",
      "100k+ high income\n",
      "100k+ high income\n",
      "100k+ high income\n",
      "100k+ high income\n",
      "100k+ high income\n",
      "100k+ high income\n",
      "100k+ high income\n",
      "100k+ high income\n"
     ]
    }
   ],
   "source": [
    "# Test if the function works\n",
    "print(income_category_machine(1111))\n",
    "print(income_category_machine(25000))\n",
    "print(income_category_machine(26000))\n",
    "print(income_category_machine(52000))\n",
    "print(income_category_machine(75000))\n",
    "print(income_category_machine(100000))\n",
    "print(income_category_machine(124000))\n",
    "print(income_category_machine(126000))\n",
    "print(income_category_machine(150000))\n",
    "print(income_category_machine(175000))\n",
    "print(income_category_machine(200000))\n",
    "print(income_category_machine(250000))\n",
    "print(income_category_machine(275000))\n",
    "print(income_category_machine(300001))"
   ]
  },
  {
   "cell_type": "code",
   "execution_count": 72,
   "metadata": {},
   "outputs": [],
   "source": [
    "# Creating new column based on function\n",
    "data['income_group'] = data['total_income'].apply(lambda row: income_category_machine(row))"
   ]
  },
  {
   "cell_type": "code",
   "execution_count": 73,
   "metadata": {},
   "outputs": [
    {
     "data": {
      "text/plain": [
       "1k-25k               5411\n",
       "25k-50k              4069\n",
       "50k-75k               595\n",
       "75k-100k              120\n",
       "100k+ high income      68\n",
       "Name: income_group, dtype: int64"
      ]
     },
     "execution_count": 73,
     "metadata": {},
     "output_type": "execute_result"
    }
   ],
   "source": [
    "# Checking how values in the new column\n",
    "data['income_group'].value_counts()"
   ]
  },
  {
   "cell_type": "markdown",
   "metadata": {},
   "source": [
    "<div class=\"alert alert-block alert-warning\">\n",
    "<b>Reviewer's comment.V.2.</b> <a class=\"tocSkip\"></a>\n",
    "    \n",
    "Success. 5 groups would be enough here.\n",
    "</div>"
   ]
  },
  {
   "cell_type": "markdown",
   "metadata": {},
   "source": [
    "<div class=\"alert alert-info\"> <b> Updated as Suggested </b> <br>\n",
    "\n",
    "</div>\n"
   ]
  },
  {
   "cell_type": "markdown",
   "metadata": {},
   "source": [
    "## Checking the Hypotheses\n"
   ]
  },
  {
   "cell_type": "markdown",
   "metadata": {},
   "source": [
    "<div class=\"alert alert-info\"> <b> Is there a correlation between having children and paying back on time?</b> <br>\n",
    "\n",
    "</div>\n"
   ]
  },
  {
   "cell_type": "code",
   "execution_count": 74,
   "metadata": {},
   "outputs": [
    {
     "data": {
      "text/html": [
       "<div>\n",
       "<style scoped>\n",
       "    .dataframe tbody tr th:only-of-type {\n",
       "        vertical-align: middle;\n",
       "    }\n",
       "\n",
       "    .dataframe tbody tr th {\n",
       "        vertical-align: top;\n",
       "    }\n",
       "\n",
       "    .dataframe thead th {\n",
       "        text-align: right;\n",
       "    }\n",
       "</style>\n",
       "<table border=\"1\" class=\"dataframe\">\n",
       "  <thead>\n",
       "    <tr style=\"text-align: right;\">\n",
       "      <th>debt</th>\n",
       "      <th>0</th>\n",
       "      <th>1</th>\n",
       "      <th>percent_1</th>\n",
       "    </tr>\n",
       "    <tr>\n",
       "      <th>children</th>\n",
       "      <th></th>\n",
       "      <th></th>\n",
       "      <th></th>\n",
       "    </tr>\n",
       "  </thead>\n",
       "  <tbody>\n",
       "    <tr>\n",
       "      <th>0</th>\n",
       "      <td>6995.0</td>\n",
       "      <td>482.0</td>\n",
       "      <td>6.446436</td>\n",
       "    </tr>\n",
       "    <tr>\n",
       "      <th>1</th>\n",
       "      <td>1784.0</td>\n",
       "      <td>138.0</td>\n",
       "      <td>7.180021</td>\n",
       "    </tr>\n",
       "    <tr>\n",
       "      <th>2</th>\n",
       "      <td>684.0</td>\n",
       "      <td>46.0</td>\n",
       "      <td>6.301370</td>\n",
       "    </tr>\n",
       "    <tr>\n",
       "      <th>3</th>\n",
       "      <td>113.0</td>\n",
       "      <td>8.0</td>\n",
       "      <td>6.611570</td>\n",
       "    </tr>\n",
       "    <tr>\n",
       "      <th>4</th>\n",
       "      <td>10.0</td>\n",
       "      <td>NaN</td>\n",
       "      <td>NaN</td>\n",
       "    </tr>\n",
       "    <tr>\n",
       "      <th>5</th>\n",
       "      <td>3.0</td>\n",
       "      <td>NaN</td>\n",
       "      <td>NaN</td>\n",
       "    </tr>\n",
       "  </tbody>\n",
       "</table>\n",
       "</div>"
      ],
      "text/plain": [
       "debt           0      1  percent_1\n",
       "children                          \n",
       "0         6995.0  482.0   6.446436\n",
       "1         1784.0  138.0   7.180021\n",
       "2          684.0   46.0   6.301370\n",
       "3          113.0    8.0   6.611570\n",
       "4           10.0    NaN        NaN\n",
       "5            3.0    NaN        NaN"
      ]
     },
     "metadata": {},
     "output_type": "display_data"
    },
    {
     "data": {
      "text/plain": [
       "<AxesSubplot:title={'center':'Children and debt repayment - count'}, ylabel='children'>"
      ]
     },
     "metadata": {},
     "output_type": "display_data"
    },
    {
     "data": {
      "image/png": "[encoded data removed]",
      "text/plain": [
       "<Figure size 432x288 with 1 Axes>"
      ]
     },
     "metadata": {
      "needs_background": "light"
     },
     "output_type": "display_data"
    }
   ],
   "source": [
    "# Number of Children and paying back debt on time\n",
    "\n",
    "#children, debt, values= 'days_employed'\n",
    "pivot_table_children = data.pivot_table(index='children', columns='debt',values = 'days_employed', aggfunc= 'count',margins=False)\n",
    "\n",
    "pivot_table_children['percent_1'] = (pivot_table_children[1] / (pivot_table_children[1] + pivot_table_children[0])) * 100\n",
    "pivot_table_children.sort_values(by='percent_1', ascending=True)\n",
    "\n",
    "#Dispplay Pivot_Table\n",
    "display(pivot_table_children)\n",
    "\n",
    "#plot\n",
    "ax_children = pivot_table_children.plot(kind='barh', stacked=False, title='Children and debt repayment - count')\n",
    "\n",
    "#Display Plot\n",
    "display(ax_children)"
   ]
  },
  {
   "cell_type": "markdown",
   "metadata": {},
   "source": [
    "<div class=\"alert alert-info\"> <b>Conclusion</b> <br>\n",
    "Debt Repayment does not strongly corrilate with number of children.\n",
    "    \n",
    "</div>"
   ]
  },
  {
   "cell_type": "markdown",
   "metadata": {},
   "source": [
    "<div class=\"alert alert-block alert-danger\">\n",
    "<b>Reviewer's comment.V.2.</b> <a class=\"tocSkip\"></a>\n",
    "    \n",
    "We are interested to see the percentage for each children id of how many debt were not paid in time. You almost did it in your table above. Just instead of all, we can do it like this:\n",
    "    \n",
    "    pivot_table_children = data.pivot_table(index='children', columns= 'debt', values='days_employed', aggfunc='count')\n",
    "    pivot_table_children['percent_1'] = pivot_table_children[1] / (pivot_table_children[1] + pivot_table_children[0]) * 100\n",
    "    pivot_table_children.sort_values(by='percent_1', ascending=True)\n",
    "    \n",
    "You can then clearly the trends. Please correct it.\n",
    "</div>"
   ]
  },
  {
   "cell_type": "markdown",
   "metadata": {},
   "source": [
    "<div class=\"alert alert-info\"> <b>Updated as sugested. ty</b> <br>\n",
    "    \n",
    "</div>"
   ]
  },
  {
   "cell_type": "markdown",
   "metadata": {},
   "source": [
    "<div class=\"alert alert-info\"> <b>Is there a correlation between family status and paying back on time?</b> <br>\n",
    "\n",
    "    \n",
    "</div>"
   ]
  },
  {
   "cell_type": "code",
   "execution_count": 75,
   "metadata": {},
   "outputs": [
    {
     "data": {
      "text/html": [
       "<div>\n",
       "<style scoped>\n",
       "    .dataframe tbody tr th:only-of-type {\n",
       "        vertical-align: middle;\n",
       "    }\n",
       "\n",
       "    .dataframe tbody tr th {\n",
       "        vertical-align: top;\n",
       "    }\n",
       "\n",
       "    .dataframe thead th {\n",
       "        text-align: right;\n",
       "    }\n",
       "</style>\n",
       "<table border=\"1\" class=\"dataframe\">\n",
       "  <thead>\n",
       "    <tr style=\"text-align: right;\">\n",
       "      <th>debt</th>\n",
       "      <th>0</th>\n",
       "      <th>1</th>\n",
       "      <th>family_%_debt_default</th>\n",
       "    </tr>\n",
       "    <tr>\n",
       "      <th>family_status</th>\n",
       "      <th></th>\n",
       "      <th></th>\n",
       "      <th></th>\n",
       "    </tr>\n",
       "  </thead>\n",
       "  <tbody>\n",
       "    <tr>\n",
       "      <th>civil partnership</th>\n",
       "      <td>1755</td>\n",
       "      <td>148</td>\n",
       "      <td>7.777194</td>\n",
       "    </tr>\n",
       "    <tr>\n",
       "      <th>divorced</th>\n",
       "      <td>539</td>\n",
       "      <td>25</td>\n",
       "      <td>4.432624</td>\n",
       "    </tr>\n",
       "    <tr>\n",
       "      <th>married</th>\n",
       "      <td>5463</td>\n",
       "      <td>354</td>\n",
       "      <td>6.085611</td>\n",
       "    </tr>\n",
       "    <tr>\n",
       "      <th>unmarried</th>\n",
       "      <td>1210</td>\n",
       "      <td>100</td>\n",
       "      <td>7.633588</td>\n",
       "    </tr>\n",
       "    <tr>\n",
       "      <th>widow / widower</th>\n",
       "      <td>622</td>\n",
       "      <td>47</td>\n",
       "      <td>7.025411</td>\n",
       "    </tr>\n",
       "  </tbody>\n",
       "</table>\n",
       "</div>"
      ],
      "text/plain": [
       "debt                  0    1  family_%_debt_default\n",
       "family_status                                      \n",
       "civil partnership  1755  148               7.777194\n",
       "divorced            539   25               4.432624\n",
       "married            5463  354               6.085611\n",
       "unmarried          1210  100               7.633588\n",
       "widow / widower     622   47               7.025411"
      ]
     },
     "metadata": {},
     "output_type": "display_data"
    },
    {
     "data": {
      "text/plain": [
       "<AxesSubplot:title={'center':'Children and debt repayment - count'}, ylabel='children'>"
      ]
     },
     "metadata": {},
     "output_type": "display_data"
    },
    {
     "data": {
      "image/png": "[encoded data removed]",
      "text/plain": [
       "<Figure size 432x288 with 1 Axes>"
      ]
     },
     "metadata": {
      "needs_background": "light"
     },
     "output_type": "display_data"
    }
   ],
   "source": [
    "# Default Rate based on Family Status\n",
    "\n",
    "#family_status, debt, values= 'days_employed'\n",
    "pivot_table_family = data.pivot_table(index='family_status', columns='debt',values = 'days_employed', aggfunc= 'count',margins=False)\n",
    "\n",
    "pivot_table_family['family_%_debt_default'] = (pivot_table_family[1] / (pivot_table_family[1] + pivot_table_family[0])) * 100\n",
    "pivot_table_family.sort_values(by='family_%_debt_default', ascending=True)\n",
    "\n",
    "#Dispplay Pivot_Table\n",
    "display(pivot_table_family)\n",
    "\n",
    "#plot\n",
    "ax_pivot_table_family = pivot_table_family.plot(kind='barh', stacked=False, title='family status and debt repayment - count')\n",
    "\n",
    "#Display Plot\n",
    "display(ax_children)"
   ]
  },
  {
   "cell_type": "markdown",
   "metadata": {},
   "source": [
    "<div class=\"alert alert-info\"> <b> Conclusion</b> <br>\n",
    "Contray to intuative expectation, divorced people in our dataset have the lowest defalt rate.\n",
    "    \n",
    "</div>"
   ]
  },
  {
   "cell_type": "markdown",
   "metadata": {},
   "source": [
    "<div class=\"alert alert-block alert-danger\">\n",
    "<b>Reviewer's comment.V.2.</b> <a class=\"tocSkip\"></a>\n",
    "    \n",
    "The last table where you calculate the percentage is done unfortunately wrong. You calculate the percentage of default debt in comparison to all default debts. We want to see for each group the amount of default debts in comparison to total debts of this particular group. So your first table at the beginning was correct. Basically, you can use the same approach as for the case with children. Please correct it.\n",
    "</div>\n"
   ]
  },
  {
   "cell_type": "markdown",
   "metadata": {},
   "source": [
    "<div class=\"alert alert-info\"> <b> Code Updated - please confirm caculation is correct</b> <br>\n",
    "\n",
    "    \n",
    "</div>"
   ]
  },
  {
   "cell_type": "markdown",
   "metadata": {},
   "source": [
    "**Is there a correlation between income level and paying back on time?**"
   ]
  },
  {
   "cell_type": "code",
   "execution_count": 76,
   "metadata": {
    "scrolled": true
   },
   "outputs": [
    {
     "data": {
      "text/html": [
       "<div>\n",
       "<style scoped>\n",
       "    .dataframe tbody tr th:only-of-type {\n",
       "        vertical-align: middle;\n",
       "    }\n",
       "\n",
       "    .dataframe tbody tr th {\n",
       "        vertical-align: top;\n",
       "    }\n",
       "\n",
       "    .dataframe thead th {\n",
       "        text-align: right;\n",
       "    }\n",
       "</style>\n",
       "<table border=\"1\" class=\"dataframe\">\n",
       "  <thead>\n",
       "    <tr style=\"text-align: right;\">\n",
       "      <th>debt</th>\n",
       "      <th>0</th>\n",
       "      <th>1</th>\n",
       "      <th>income_%_debt_default</th>\n",
       "    </tr>\n",
       "    <tr>\n",
       "      <th>income_group</th>\n",
       "      <th></th>\n",
       "      <th></th>\n",
       "      <th></th>\n",
       "    </tr>\n",
       "  </thead>\n",
       "  <tbody>\n",
       "    <tr>\n",
       "      <th>100k+ high income</th>\n",
       "      <td>64</td>\n",
       "      <td>4</td>\n",
       "      <td>5.882353</td>\n",
       "    </tr>\n",
       "    <tr>\n",
       "      <th>1k-25k</th>\n",
       "      <td>5044</td>\n",
       "      <td>367</td>\n",
       "      <td>6.782480</td>\n",
       "    </tr>\n",
       "    <tr>\n",
       "      <th>25k-50k</th>\n",
       "      <td>3804</td>\n",
       "      <td>265</td>\n",
       "      <td>6.512657</td>\n",
       "    </tr>\n",
       "    <tr>\n",
       "      <th>50k-75k</th>\n",
       "      <td>562</td>\n",
       "      <td>33</td>\n",
       "      <td>5.546218</td>\n",
       "    </tr>\n",
       "    <tr>\n",
       "      <th>75k-100k</th>\n",
       "      <td>115</td>\n",
       "      <td>5</td>\n",
       "      <td>4.166667</td>\n",
       "    </tr>\n",
       "  </tbody>\n",
       "</table>\n",
       "</div>"
      ],
      "text/plain": [
       "debt                  0    1  income_%_debt_default\n",
       "income_group                                       \n",
       "100k+ high income    64    4               5.882353\n",
       "1k-25k             5044  367               6.782480\n",
       "25k-50k            3804  265               6.512657\n",
       "50k-75k             562   33               5.546218\n",
       "75k-100k            115    5               4.166667"
      ]
     },
     "metadata": {},
     "output_type": "display_data"
    },
    {
     "data": {
      "text/plain": [
       "<AxesSubplot:title={'center':'income_group and debt repayment - count'}, ylabel='income_group'>"
      ]
     },
     "metadata": {},
     "output_type": "display_data"
    },
    {
     "data": {
      "image/png": "[encoded data removed]",
      "text/plain": [
       "<Figure size 432x288 with 1 Axes>"
      ]
     },
     "metadata": {
      "needs_background": "light"
     },
     "output_type": "display_data"
    }
   ],
   "source": [
    "# Default Rate based on income_group\n",
    "\n",
    "#income_group, debt, values= 'days_employed'\n",
    "pivot_income_group = data.pivot_table(index='income_group', columns='debt',values = 'days_employed', aggfunc= 'count',margins=False)\n",
    "\n",
    "pivot_income_group['income_%_debt_default'] = (pivot_income_group[1] / (pivot_income_group[1] + pivot_income_group[0])) * 100\n",
    "pivot_income_group.sort_values(by='income_%_debt_default', ascending=True)\n",
    "\n",
    "#Dispplay Pivot_Table\n",
    "display(pivot_income_group)\n",
    "\n",
    "#plot\n",
    "ax_pivot_income_group = pivot_income_group.plot(kind='barh', stacked=False, title='income_group and debt repayment - count')\n",
    "\n",
    "#Display Plot\n",
    "display(ax_pivot_income_group)"
   ]
  },
  {
   "cell_type": "markdown",
   "metadata": {},
   "source": [
    "<div class=\"alert alert-info\"> <b> defaults in similar range accross all income groups</b> <br>\n",
    "<br>\n",
    "    Code updated as suggested\n",
    "    \n",
    "</div>"
   ]
  },
  {
   "cell_type": "markdown",
   "metadata": {},
   "source": [
    "<div class=\"alert alert-block alert-danger\">\n",
    "<b>Reviewer's comment.V.2.</b> <a class=\"tocSkip\"></a>\n",
    "    \n",
    "Here also please use the same approach as above in my comments.\n",
    "</div>\n"
   ]
  },
  {
   "cell_type": "markdown",
   "metadata": {},
   "source": [
    "<div class=\"alert alert-info\"> <b>How does credit purpose affect the default rate?</b> <br>    \n",
    "</div>"
   ]
  },
  {
   "cell_type": "code",
   "execution_count": 77,
   "metadata": {},
   "outputs": [
    {
     "data": {
      "text/html": [
       "<div>\n",
       "<style scoped>\n",
       "    .dataframe tbody tr th:only-of-type {\n",
       "        vertical-align: middle;\n",
       "    }\n",
       "\n",
       "    .dataframe tbody tr th {\n",
       "        vertical-align: top;\n",
       "    }\n",
       "\n",
       "    .dataframe thead th {\n",
       "        text-align: right;\n",
       "    }\n",
       "</style>\n",
       "<table border=\"1\" class=\"dataframe\">\n",
       "  <thead>\n",
       "    <tr style=\"text-align: right;\">\n",
       "      <th></th>\n",
       "      <th>debt</th>\n",
       "    </tr>\n",
       "    <tr>\n",
       "      <th>loan_purpose</th>\n",
       "      <th></th>\n",
       "    </tr>\n",
       "  </thead>\n",
       "  <tbody>\n",
       "    <tr>\n",
       "      <th>auto</th>\n",
       "      <td>7.339015</td>\n",
       "    </tr>\n",
       "    <tr>\n",
       "      <th>education</th>\n",
       "      <td>7.378336</td>\n",
       "    </tr>\n",
       "    <tr>\n",
       "      <th>real estate</th>\n",
       "      <td>5.733722</td>\n",
       "    </tr>\n",
       "    <tr>\n",
       "      <th>wedding</th>\n",
       "      <td>7.579909</td>\n",
       "    </tr>\n",
       "    <tr>\n",
       "      <th>All</th>\n",
       "      <td>6.567281</td>\n",
       "    </tr>\n",
       "  </tbody>\n",
       "</table>\n",
       "</div>"
      ],
      "text/plain": [
       "                  debt\n",
       "loan_purpose          \n",
       "auto          7.339015\n",
       "education     7.378336\n",
       "real estate   5.733722\n",
       "wedding       7.579909\n",
       "All           6.567281"
      ]
     },
     "metadata": {},
     "output_type": "display_data"
    },
    {
     "data": {
      "text/plain": [
       "<AxesSubplot:title={'center':'loan_purpose and % Default'}, ylabel='loan_purpose'>"
      ]
     },
     "metadata": {},
     "output_type": "display_data"
    },
    {
     "data": {
      "image/png": "[encoded data removed]",
      "text/plain": [
       "<Figure size 432x288 with 1 Axes>"
      ]
     },
     "metadata": {
      "needs_background": "light"
     },
     "output_type": "display_data"
    }
   ],
   "source": [
    "# Check the percentages for default rate for each credit purpose and analyze them\n",
    "\n",
    "#loan_purpose, and income_type, mean\n",
    "display(data.pivot_table(index='loan_purpose', values = 'debt', margins=True)*100)\n",
    "\n",
    "#plot\n",
    "ax_children = data.pivot_table(index='loan_purpose', values = 'debt', margins=False).plot(kind='barh', stacked=False, title='loan_purpose and % Default')\n",
    "display(ax_children)\n",
    "\n"
   ]
  },
  {
   "cell_type": "markdown",
   "metadata": {},
   "source": [
    "<div class=\"alert alert-info\"> <b>Real Estate seems to have the lowest default rate</b> <br>    \n",
    "</div>"
   ]
  },
  {
   "cell_type": "markdown",
   "metadata": {},
   "source": [
    "<div class=\"alert alert-block alert-success\">\n",
    "<b>Reviewer's comment.V.2.</b> <a class=\"tocSkip\"></a>\n",
    "    \n",
    "Here it is correct!\n",
    "</div>\n"
   ]
  },
  {
   "cell_type": "markdown",
   "metadata": {},
   "source": [
    "\n",
    "<div class=\"alert alert-info\"><b>General Conclusion </b> <br> \n",
    "\n",
    "Dataset Overview\n",
    "We removed 249 rows of the original dataframe, or less than 1%.\n",
    "children - We droped 47 rows with a -1 for the number of children.\n",
    "We dropped 1 row where the gender was listed as XNA\n",
    "We dropped 4 outlier rows from the income_type column\n",
    "We dropped 96 duplicates\n",
    "We dropped 101 individuals who are zero years old.\n",
    "We consolidated and cleaned the education section by making all the data in the column lowercase - no material change to the data.\n",
    "\n",
    "days_employed AND ['total_income'] NaN values are still present at this point.\n",
    "days_employed still has ouragously large numbers, with some people having worked for 800+ years\n",
    "\n",
    "Civil partnerships and the unmarried seem to have the highest default rate in the 9% range.\n",
    "Divorced and married are slightly less risky at ~7%.\n",
    "Widow and widdowers are the safest investmenet for the firm at a ~6% default rate.\n",
    "\n",
    "Real Estate has the lowest default rate.\n",
    "\n",
    "The mean default rate accross our entire sample is 8.12%"
   ]
  },
  {
   "cell_type": "markdown",
   "metadata": {},
   "source": [
    "<div class=\"alert alert-block alert-success\">\n",
    "<b>Reviewer's comment</b> <a class=\"tocSkip\"></a>\n",
    "\n",
    "Thank you for uploading your work! I like your ideas and you are moving in the right direction! Just we need to correct some points.\n",
    "</div>"
   ]
  },
  {
   "cell_type": "markdown",
   "metadata": {},
   "source": [
    "<div class=\"alert alert-block alert-danger\">\n",
    "<s><b>Reviewer's comment</b> <a class=\"tocSkip\"></a>\n",
    "\n",
    "   \n",
    "1) Please use the same style for your writing in markdown cells, so we can separate text from code. Name chapters accordingly and give them the right titles and numeration.\n",
    "    \n",
    "2) If you are not sure about certain topics or parts of the code, you can always ask for advice from your teacher. Of course i am here will help you as well, but i cannot unfortunately to reply that fast on your questions and it will make the procedure of submitting this project even longer.\n",
    "    \n",
    "3) Before sending your work, run all cells one more time to make sure there are no errors.\n",
    "    \n",
    "4) I have checked so far your project till the moment where the error occured. But I can tell you, you are on the right direction, so be more confident in your ideas and implement them, if there must be some corrections done, I will let you know:) So you can continue with categorization chapter. \n",
    "</div>"
   ]
  },
  {
   "cell_type": "markdown",
   "metadata": {},
   "source": [
    "<div class=\"alert alert-block alert-danger\">\n",
    "<b>Reviewer's comment.V.2.</b> <a class=\"tocSkip\"></a>\n",
    "    \n",
    "Overall you have really good ideas, just it is a bit chaotic. I understand you are trying to apply different methods and use different strategies. It is good, just correct the open points and send me your work back. Looking forward to get your work back!\n",
    "</div>\n"
   ]
  },
  {
   "cell_type": "markdown",
   "metadata": {},
   "source": [
    "<div class=\"alert alert-info\"> <b>2022-03-25 Thanks for your help.</b><br>\n",
    "    <br>\n",
    "    I've learned a lot since I've started this project. <br>\n",
    "    <br> Now that I have a better sense for what's involved, I expect future projects will be much more organized.\n",
    "</div>\n",
    "    "
   ]
  },
  {
   "cell_type": "code",
   "execution_count": null,
   "metadata": {},
   "outputs": [],
   "source": []
  }
 ],
 "metadata": {
  "ExecuteTimeLog": [
   {
    "duration": 2741,
    "start_time": "2021-10-21T01:08:49.480Z"
   },
   {
    "duration": 52,
    "start_time": "2021-10-21T01:08:53.315Z"
   },
   {
    "duration": 49,
    "start_time": "2021-10-21T01:08:57.432Z"
   },
   {
    "duration": 70,
    "start_time": "2021-10-21T01:09:07.706Z"
   },
   {
    "duration": 879,
    "start_time": "2022-03-05T22:23:30.433Z"
   },
   {
    "duration": 14,
    "start_time": "2022-03-05T22:23:31.314Z"
   },
   {
    "duration": 15,
    "start_time": "2022-03-05T22:23:31.330Z"
   },
   {
    "duration": 47,
    "start_time": "2022-03-05T22:23:31.347Z"
   },
   {
    "duration": 12,
    "start_time": "2022-03-05T22:23:31.396Z"
   },
   {
    "duration": 8,
    "start_time": "2022-03-05T22:23:31.410Z"
   },
   {
    "duration": 3,
    "start_time": "2022-03-05T22:23:31.420Z"
   },
   {
    "duration": 17,
    "start_time": "2022-03-05T22:23:31.426Z"
   },
   {
    "duration": 14,
    "start_time": "2022-03-05T22:23:31.445Z"
   },
   {
    "duration": 17,
    "start_time": "2022-03-05T22:23:31.460Z"
   },
   {
    "duration": 6,
    "start_time": "2022-03-05T22:23:31.479Z"
   },
   {
    "duration": 19,
    "start_time": "2022-03-05T22:23:31.486Z"
   },
   {
    "duration": 65,
    "start_time": "2022-03-05T22:23:31.506Z"
   },
   {
    "duration": 4,
    "start_time": "2022-03-05T22:23:31.573Z"
   },
   {
    "duration": 33,
    "start_time": "2022-03-05T22:23:31.579Z"
   },
   {
    "duration": 15,
    "start_time": "2022-03-05T22:23:31.614Z"
   },
   {
    "duration": 13,
    "start_time": "2022-03-05T22:23:31.631Z"
   },
   {
    "duration": 10,
    "start_time": "2022-03-05T22:23:31.646Z"
   },
   {
    "duration": 9,
    "start_time": "2022-03-05T22:23:31.658Z"
   },
   {
    "duration": 9,
    "start_time": "2022-03-05T22:23:31.668Z"
   },
   {
    "duration": 18,
    "start_time": "2022-03-05T22:23:31.679Z"
   },
   {
    "duration": 21,
    "start_time": "2022-03-05T22:23:31.699Z"
   },
   {
    "duration": 269,
    "start_time": "2022-03-05T22:23:31.724Z"
   },
   {
    "duration": -396,
    "start_time": "2022-03-05T22:23:32.392Z"
   },
   {
    "duration": -400,
    "start_time": "2022-03-05T22:23:32.397Z"
   },
   {
    "duration": -405,
    "start_time": "2022-03-05T22:23:32.404Z"
   },
   {
    "duration": -411,
    "start_time": "2022-03-05T22:23:32.411Z"
   },
   {
    "duration": -415,
    "start_time": "2022-03-05T22:23:32.416Z"
   },
   {
    "duration": -419,
    "start_time": "2022-03-05T22:23:32.421Z"
   },
   {
    "duration": -423,
    "start_time": "2022-03-05T22:23:32.426Z"
   },
   {
    "duration": -427,
    "start_time": "2022-03-05T22:23:32.431Z"
   },
   {
    "duration": -432,
    "start_time": "2022-03-05T22:23:32.437Z"
   },
   {
    "duration": -436,
    "start_time": "2022-03-05T22:23:32.442Z"
   },
   {
    "duration": -478,
    "start_time": "2022-03-05T22:23:32.485Z"
   },
   {
    "duration": -482,
    "start_time": "2022-03-05T22:23:32.491Z"
   },
   {
    "duration": -487,
    "start_time": "2022-03-05T22:23:32.497Z"
   },
   {
    "duration": -493,
    "start_time": "2022-03-05T22:23:32.504Z"
   },
   {
    "duration": -499,
    "start_time": "2022-03-05T22:23:32.511Z"
   },
   {
    "duration": -505,
    "start_time": "2022-03-05T22:23:32.518Z"
   },
   {
    "duration": -511,
    "start_time": "2022-03-05T22:23:32.525Z"
   },
   {
    "duration": -515,
    "start_time": "2022-03-05T22:23:32.530Z"
   },
   {
    "duration": -522,
    "start_time": "2022-03-05T22:23:32.538Z"
   },
   {
    "duration": -529,
    "start_time": "2022-03-05T22:23:32.546Z"
   },
   {
    "duration": -536,
    "start_time": "2022-03-05T22:23:32.554Z"
   },
   {
    "duration": -543,
    "start_time": "2022-03-05T22:23:32.562Z"
   },
   {
    "duration": -548,
    "start_time": "2022-03-05T22:23:32.569Z"
   },
   {
    "duration": -553,
    "start_time": "2022-03-05T22:23:32.575Z"
   },
   {
    "duration": -573,
    "start_time": "2022-03-05T22:23:32.596Z"
   },
   {
    "duration": -580,
    "start_time": "2022-03-05T22:23:32.604Z"
   },
   {
    "duration": -587,
    "start_time": "2022-03-05T22:23:32.612Z"
   },
   {
    "duration": -592,
    "start_time": "2022-03-05T22:23:32.618Z"
   },
   {
    "duration": -600,
    "start_time": "2022-03-05T22:23:32.627Z"
   },
   {
    "duration": -607,
    "start_time": "2022-03-05T22:23:32.634Z"
   },
   {
    "duration": -615,
    "start_time": "2022-03-05T22:23:32.643Z"
   },
   {
    "duration": -621,
    "start_time": "2022-03-05T22:23:32.650Z"
   },
   {
    "duration": -627,
    "start_time": "2022-03-05T22:23:32.657Z"
   },
   {
    "duration": -632,
    "start_time": "2022-03-05T22:23:32.663Z"
   },
   {
    "duration": -638,
    "start_time": "2022-03-05T22:23:32.670Z"
   },
   {
    "duration": -644,
    "start_time": "2022-03-05T22:23:32.677Z"
   },
   {
    "duration": -623,
    "start_time": "2022-03-05T22:23:32.685Z"
   },
   {
    "duration": -639,
    "start_time": "2022-03-05T22:23:32.703Z"
   },
   {
    "duration": -755,
    "start_time": "2022-03-05T22:23:32.819Z"
   },
   {
    "duration": -759,
    "start_time": "2022-03-05T22:23:32.825Z"
   },
   {
    "duration": -765,
    "start_time": "2022-03-05T22:23:32.832Z"
   },
   {
    "duration": -790,
    "start_time": "2022-03-05T22:23:32.858Z"
   },
   {
    "duration": -804,
    "start_time": "2022-03-05T22:23:32.873Z"
   },
   {
    "duration": -808,
    "start_time": "2022-03-05T22:23:32.878Z"
   },
   {
    "duration": -814,
    "start_time": "2022-03-05T22:23:32.884Z"
   },
   {
    "duration": -826,
    "start_time": "2022-03-05T22:23:32.897Z"
   },
   {
    "duration": -831,
    "start_time": "2022-03-05T22:23:32.903Z"
   },
   {
    "duration": -837,
    "start_time": "2022-03-05T22:23:32.910Z"
   },
   {
    "duration": -842,
    "start_time": "2022-03-05T22:23:32.916Z"
   },
   {
    "duration": -845,
    "start_time": "2022-03-05T22:23:32.920Z"
   },
   {
    "duration": -849,
    "start_time": "2022-03-05T22:23:32.925Z"
   },
   {
    "duration": -853,
    "start_time": "2022-03-05T22:23:32.930Z"
   },
   {
    "duration": -858,
    "start_time": "2022-03-05T22:23:32.936Z"
   },
   {
    "duration": -862,
    "start_time": "2022-03-05T22:23:32.941Z"
   },
   {
    "duration": -866,
    "start_time": "2022-03-05T22:23:32.946Z"
   },
   {
    "duration": -873,
    "start_time": "2022-03-05T22:23:32.954Z"
   },
   {
    "duration": -887,
    "start_time": "2022-03-05T22:23:32.969Z"
   },
   {
    "duration": -891,
    "start_time": "2022-03-05T22:23:32.974Z"
   },
   {
    "duration": -896,
    "start_time": "2022-03-05T22:23:32.980Z"
   },
   {
    "duration": 3,
    "start_time": "2022-03-05T22:25:57.594Z"
   },
   {
    "duration": 193,
    "start_time": "2022-03-05T22:39:09.280Z"
   },
   {
    "duration": 4,
    "start_time": "2022-03-05T22:39:13.406Z"
   },
   {
    "duration": 12,
    "start_time": "2022-03-05T22:39:24.436Z"
   },
   {
    "duration": 200,
    "start_time": "2022-03-05T22:39:30.459Z"
   },
   {
    "duration": 4,
    "start_time": "2022-03-05T22:39:33.599Z"
   },
   {
    "duration": 4,
    "start_time": "2022-03-05T22:57:47.587Z"
   },
   {
    "duration": 77,
    "start_time": "2022-03-05T23:16:08.413Z"
   },
   {
    "duration": 2,
    "start_time": "2022-03-05T23:16:18.379Z"
   },
   {
    "duration": 37,
    "start_time": "2022-03-05T23:54:40.055Z"
   },
   {
    "duration": 169,
    "start_time": "2022-03-05T23:54:48.135Z"
   },
   {
    "duration": 10,
    "start_time": "2022-03-05T23:54:48.306Z"
   },
   {
    "duration": 14,
    "start_time": "2022-03-05T23:54:48.318Z"
   },
   {
    "duration": 12,
    "start_time": "2022-03-05T23:54:48.334Z"
   },
   {
    "duration": 5,
    "start_time": "2022-03-05T23:54:48.363Z"
   },
   {
    "duration": 5,
    "start_time": "2022-03-05T23:54:48.370Z"
   },
   {
    "duration": 13,
    "start_time": "2022-03-05T23:54:48.376Z"
   },
   {
    "duration": 9,
    "start_time": "2022-03-05T23:54:48.391Z"
   },
   {
    "duration": 10,
    "start_time": "2022-03-05T23:54:48.402Z"
   },
   {
    "duration": 4,
    "start_time": "2022-03-05T23:54:48.414Z"
   },
   {
    "duration": 49,
    "start_time": "2022-03-05T23:54:48.419Z"
   },
   {
    "duration": 42,
    "start_time": "2022-03-05T23:54:48.470Z"
   },
   {
    "duration": 3,
    "start_time": "2022-03-05T23:54:48.514Z"
   },
   {
    "duration": 16,
    "start_time": "2022-03-05T23:54:48.519Z"
   },
   {
    "duration": 4,
    "start_time": "2022-03-05T23:54:48.537Z"
   },
   {
    "duration": 25,
    "start_time": "2022-03-05T23:54:48.542Z"
   },
   {
    "duration": 10,
    "start_time": "2022-03-05T23:54:48.568Z"
   },
   {
    "duration": 7,
    "start_time": "2022-03-05T23:54:48.580Z"
   },
   {
    "duration": 3,
    "start_time": "2022-03-05T23:54:48.589Z"
   },
   {
    "duration": 7,
    "start_time": "2022-03-05T23:54:48.593Z"
   },
   {
    "duration": 15,
    "start_time": "2022-03-05T23:54:48.602Z"
   },
   {
    "duration": 75,
    "start_time": "2022-03-05T23:54:48.619Z"
   },
   {
    "duration": 186,
    "start_time": "2022-03-05T23:54:48.698Z"
   },
   {
    "duration": 204,
    "start_time": "2022-03-05T23:54:48.887Z"
   },
   {
    "duration": -1224,
    "start_time": "2022-03-05T23:54:50.317Z"
   },
   {
    "duration": -1229,
    "start_time": "2022-03-05T23:54:50.323Z"
   },
   {
    "duration": -1234,
    "start_time": "2022-03-05T23:54:50.329Z"
   },
   {
    "duration": -1239,
    "start_time": "2022-03-05T23:54:50.335Z"
   },
   {
    "duration": -1243,
    "start_time": "2022-03-05T23:54:50.340Z"
   },
   {
    "duration": -1266,
    "start_time": "2022-03-05T23:54:50.364Z"
   },
   {
    "duration": -1270,
    "start_time": "2022-03-05T23:54:50.369Z"
   },
   {
    "duration": -1275,
    "start_time": "2022-03-05T23:54:50.375Z"
   },
   {
    "duration": -1280,
    "start_time": "2022-03-05T23:54:50.381Z"
   },
   {
    "duration": -1285,
    "start_time": "2022-03-05T23:54:50.387Z"
   },
   {
    "duration": -1289,
    "start_time": "2022-03-05T23:54:50.392Z"
   },
   {
    "duration": -1293,
    "start_time": "2022-03-05T23:54:50.397Z"
   },
   {
    "duration": -1297,
    "start_time": "2022-03-05T23:54:50.402Z"
   },
   {
    "duration": -1302,
    "start_time": "2022-03-05T23:54:50.408Z"
   },
   {
    "duration": -1308,
    "start_time": "2022-03-05T23:54:50.415Z"
   },
   {
    "duration": -1313,
    "start_time": "2022-03-05T23:54:50.421Z"
   },
   {
    "duration": -1317,
    "start_time": "2022-03-05T23:54:50.426Z"
   },
   {
    "duration": -1323,
    "start_time": "2022-03-05T23:54:50.432Z"
   },
   {
    "duration": -1327,
    "start_time": "2022-03-05T23:54:50.437Z"
   },
   {
    "duration": -1331,
    "start_time": "2022-03-05T23:54:50.442Z"
   },
   {
    "duration": -1335,
    "start_time": "2022-03-05T23:54:50.447Z"
   },
   {
    "duration": -1340,
    "start_time": "2022-03-05T23:54:50.453Z"
   },
   {
    "duration": -1344,
    "start_time": "2022-03-05T23:54:50.458Z"
   },
   {
    "duration": -1358,
    "start_time": "2022-03-05T23:54:50.473Z"
   },
   {
    "duration": -1363,
    "start_time": "2022-03-05T23:54:50.479Z"
   },
   {
    "duration": -1368,
    "start_time": "2022-03-05T23:54:50.484Z"
   },
   {
    "duration": -1372,
    "start_time": "2022-03-05T23:54:50.489Z"
   },
   {
    "duration": -1377,
    "start_time": "2022-03-05T23:54:50.495Z"
   },
   {
    "duration": -1381,
    "start_time": "2022-03-05T23:54:50.500Z"
   },
   {
    "duration": -1386,
    "start_time": "2022-03-05T23:54:50.506Z"
   },
   {
    "duration": -1390,
    "start_time": "2022-03-05T23:54:50.511Z"
   },
   {
    "duration": -1394,
    "start_time": "2022-03-05T23:54:50.516Z"
   },
   {
    "duration": -1398,
    "start_time": "2022-03-05T23:54:50.521Z"
   },
   {
    "duration": -1403,
    "start_time": "2022-03-05T23:54:50.527Z"
   },
   {
    "duration": -1408,
    "start_time": "2022-03-05T23:54:50.532Z"
   },
   {
    "duration": -1412,
    "start_time": "2022-03-05T23:54:50.537Z"
   },
   {
    "duration": -1416,
    "start_time": "2022-03-05T23:54:50.542Z"
   },
   {
    "duration": -1421,
    "start_time": "2022-03-05T23:54:50.548Z"
   },
   {
    "duration": -1426,
    "start_time": "2022-03-05T23:54:50.553Z"
   },
   {
    "duration": -1430,
    "start_time": "2022-03-05T23:54:50.558Z"
   },
   {
    "duration": -1434,
    "start_time": "2022-03-05T23:54:50.563Z"
   },
   {
    "duration": -1439,
    "start_time": "2022-03-05T23:54:50.569Z"
   },
   {
    "duration": -1422,
    "start_time": "2022-03-05T23:54:50.584Z"
   },
   {
    "duration": -1427,
    "start_time": "2022-03-05T23:54:50.590Z"
   },
   {
    "duration": -1432,
    "start_time": "2022-03-05T23:54:50.596Z"
   },
   {
    "duration": -1437,
    "start_time": "2022-03-05T23:54:50.602Z"
   },
   {
    "duration": -1440,
    "start_time": "2022-03-05T23:54:50.606Z"
   },
   {
    "duration": -1446,
    "start_time": "2022-03-05T23:54:50.612Z"
   },
   {
    "duration": -1450,
    "start_time": "2022-03-05T23:54:50.617Z"
   },
   {
    "duration": -1454,
    "start_time": "2022-03-05T23:54:50.622Z"
   },
   {
    "duration": -1458,
    "start_time": "2022-03-05T23:54:50.627Z"
   },
   {
    "duration": -1464,
    "start_time": "2022-03-05T23:54:50.634Z"
   },
   {
    "duration": -1467,
    "start_time": "2022-03-05T23:54:50.638Z"
   },
   {
    "duration": -1472,
    "start_time": "2022-03-05T23:54:50.644Z"
   },
   {
    "duration": -1476,
    "start_time": "2022-03-05T23:54:50.649Z"
   },
   {
    "duration": -1481,
    "start_time": "2022-03-05T23:54:50.654Z"
   },
   {
    "duration": -1485,
    "start_time": "2022-03-05T23:54:50.659Z"
   },
   {
    "duration": 205,
    "start_time": "2022-03-05T23:55:28.592Z"
   },
   {
    "duration": 88,
    "start_time": "2022-03-06T11:37:51.561Z"
   },
   {
    "duration": 321,
    "start_time": "2022-03-06T11:38:16.672Z"
   },
   {
    "duration": 1137,
    "start_time": "2022-03-06T11:38:23.671Z"
   },
   {
    "duration": 17,
    "start_time": "2022-03-06T11:38:24.811Z"
   },
   {
    "duration": 22,
    "start_time": "2022-03-06T11:38:24.831Z"
   },
   {
    "duration": 38,
    "start_time": "2022-03-06T11:38:24.856Z"
   },
   {
    "duration": 9,
    "start_time": "2022-03-06T11:38:24.896Z"
   },
   {
    "duration": 7,
    "start_time": "2022-03-06T11:38:24.908Z"
   },
   {
    "duration": 24,
    "start_time": "2022-03-06T11:38:24.917Z"
   },
   {
    "duration": 45,
    "start_time": "2022-03-06T11:38:24.945Z"
   },
   {
    "duration": 19,
    "start_time": "2022-03-06T11:38:24.994Z"
   },
   {
    "duration": 3,
    "start_time": "2022-03-06T11:38:25.015Z"
   },
   {
    "duration": 30,
    "start_time": "2022-03-06T11:38:25.021Z"
   },
   {
    "duration": 109,
    "start_time": "2022-03-06T11:38:25.054Z"
   },
   {
    "duration": 22,
    "start_time": "2022-03-06T11:38:25.166Z"
   },
   {
    "duration": 18,
    "start_time": "2022-03-06T11:38:25.191Z"
   },
   {
    "duration": 10,
    "start_time": "2022-03-06T11:38:25.211Z"
   },
   {
    "duration": 8,
    "start_time": "2022-03-06T11:38:25.224Z"
   },
   {
    "duration": 12,
    "start_time": "2022-03-06T11:38:25.234Z"
   },
   {
    "duration": 9,
    "start_time": "2022-03-06T11:38:25.287Z"
   },
   {
    "duration": 7,
    "start_time": "2022-03-06T11:38:25.298Z"
   },
   {
    "duration": 13,
    "start_time": "2022-03-06T11:38:25.307Z"
   },
   {
    "duration": 23,
    "start_time": "2022-03-06T11:38:25.322Z"
   },
   {
    "duration": 289,
    "start_time": "2022-03-06T11:38:25.388Z"
   },
   {
    "duration": -175,
    "start_time": "2022-03-06T11:38:25.858Z"
   },
   {
    "duration": -184,
    "start_time": "2022-03-06T11:38:25.868Z"
   },
   {
    "duration": -187,
    "start_time": "2022-03-06T11:38:25.872Z"
   },
   {
    "duration": -189,
    "start_time": "2022-03-06T11:38:25.877Z"
   },
   {
    "duration": -198,
    "start_time": "2022-03-06T11:38:25.887Z"
   },
   {
    "duration": -201,
    "start_time": "2022-03-06T11:38:25.891Z"
   },
   {
    "duration": -203,
    "start_time": "2022-03-06T11:38:25.895Z"
   },
   {
    "duration": -213,
    "start_time": "2022-03-06T11:38:25.906Z"
   },
   {
    "duration": -215,
    "start_time": "2022-03-06T11:38:25.910Z"
   },
   {
    "duration": -225,
    "start_time": "2022-03-06T11:38:25.921Z"
   },
   {
    "duration": -227,
    "start_time": "2022-03-06T11:38:25.924Z"
   },
   {
    "duration": -237,
    "start_time": "2022-03-06T11:38:25.936Z"
   },
   {
    "duration": -240,
    "start_time": "2022-03-06T11:38:25.940Z"
   },
   {
    "duration": -243,
    "start_time": "2022-03-06T11:38:25.945Z"
   },
   {
    "duration": -251,
    "start_time": "2022-03-06T11:38:25.955Z"
   },
   {
    "duration": -255,
    "start_time": "2022-03-06T11:38:25.960Z"
   },
   {
    "duration": -259,
    "start_time": "2022-03-06T11:38:25.965Z"
   },
   {
    "duration": -261,
    "start_time": "2022-03-06T11:38:25.969Z"
   },
   {
    "duration": -263,
    "start_time": "2022-03-06T11:38:25.973Z"
   },
   {
    "duration": -297,
    "start_time": "2022-03-06T11:38:26.009Z"
   },
   {
    "duration": -302,
    "start_time": "2022-03-06T11:38:26.015Z"
   },
   {
    "duration": -305,
    "start_time": "2022-03-06T11:38:26.020Z"
   },
   {
    "duration": -306,
    "start_time": "2022-03-06T11:38:26.023Z"
   },
   {
    "duration": -310,
    "start_time": "2022-03-06T11:38:26.028Z"
   },
   {
    "duration": -311,
    "start_time": "2022-03-06T11:38:26.031Z"
   },
   {
    "duration": -313,
    "start_time": "2022-03-06T11:38:26.035Z"
   },
   {
    "duration": -328,
    "start_time": "2022-03-06T11:38:26.052Z"
   },
   {
    "duration": -329,
    "start_time": "2022-03-06T11:38:26.056Z"
   },
   {
    "duration": -332,
    "start_time": "2022-03-06T11:38:26.060Z"
   },
   {
    "duration": -342,
    "start_time": "2022-03-06T11:38:26.071Z"
   },
   {
    "duration": -288,
    "start_time": "2022-03-06T11:38:26.075Z"
   },
   {
    "duration": -298,
    "start_time": "2022-03-06T11:38:26.086Z"
   },
   {
    "duration": -300,
    "start_time": "2022-03-06T11:38:26.090Z"
   },
   {
    "duration": -310,
    "start_time": "2022-03-06T11:38:26.102Z"
   },
   {
    "duration": -313,
    "start_time": "2022-03-06T11:38:26.106Z"
   },
   {
    "duration": -316,
    "start_time": "2022-03-06T11:38:26.111Z"
   },
   {
    "duration": -324,
    "start_time": "2022-03-06T11:38:26.120Z"
   },
   {
    "duration": -327,
    "start_time": "2022-03-06T11:38:26.125Z"
   },
   {
    "duration": -330,
    "start_time": "2022-03-06T11:38:26.129Z"
   },
   {
    "duration": -339,
    "start_time": "2022-03-06T11:38:26.140Z"
   },
   {
    "duration": -341,
    "start_time": "2022-03-06T11:38:26.144Z"
   },
   {
    "duration": -351,
    "start_time": "2022-03-06T11:38:26.155Z"
   },
   {
    "duration": -354,
    "start_time": "2022-03-06T11:38:26.159Z"
   },
   {
    "duration": -364,
    "start_time": "2022-03-06T11:38:26.170Z"
   },
   {
    "duration": -366,
    "start_time": "2022-03-06T11:38:26.174Z"
   },
   {
    "duration": -369,
    "start_time": "2022-03-06T11:38:26.178Z"
   },
   {
    "duration": -379,
    "start_time": "2022-03-06T11:38:26.189Z"
   },
   {
    "duration": -382,
    "start_time": "2022-03-06T11:38:26.193Z"
   },
   {
    "duration": -385,
    "start_time": "2022-03-06T11:38:26.198Z"
   },
   {
    "duration": -389,
    "start_time": "2022-03-06T11:38:26.203Z"
   },
   {
    "duration": -391,
    "start_time": "2022-03-06T11:38:26.206Z"
   },
   {
    "duration": -394,
    "start_time": "2022-03-06T11:38:26.211Z"
   },
   {
    "duration": -397,
    "start_time": "2022-03-06T11:38:26.215Z"
   },
   {
    "duration": -400,
    "start_time": "2022-03-06T11:38:26.219Z"
   },
   {
    "duration": -403,
    "start_time": "2022-03-06T11:38:26.223Z"
   },
   {
    "duration": -405,
    "start_time": "2022-03-06T11:38:26.227Z"
   },
   {
    "duration": -407,
    "start_time": "2022-03-06T11:38:26.230Z"
   },
   {
    "duration": -348,
    "start_time": "2022-03-06T11:38:26.235Z"
   },
   {
    "duration": -348,
    "start_time": "2022-03-06T11:38:26.238Z"
   },
   {
    "duration": 53,
    "start_time": "2022-03-06T12:03:18.014Z"
   },
   {
    "duration": 207,
    "start_time": "2022-03-06T12:03:25.513Z"
   },
   {
    "duration": 646,
    "start_time": "2022-03-07T22:15:54.887Z"
   },
   {
    "duration": 231,
    "start_time": "2022-03-07T22:15:55.535Z"
   },
   {
    "duration": 5,
    "start_time": "2022-03-07T22:18:32.426Z"
   },
   {
    "duration": 12,
    "start_time": "2022-03-07T22:21:00.110Z"
   },
   {
    "duration": 12,
    "start_time": "2022-03-07T22:22:05.735Z"
   },
   {
    "duration": 14,
    "start_time": "2022-03-07T22:22:51.897Z"
   },
   {
    "duration": 11,
    "start_time": "2022-03-07T22:23:40.862Z"
   },
   {
    "duration": 386,
    "start_time": "2022-03-07T22:28:43.301Z"
   },
   {
    "duration": 241,
    "start_time": "2022-03-08T20:52:19.946Z"
   },
   {
    "duration": 661,
    "start_time": "2022-03-08T20:52:33.474Z"
   },
   {
    "duration": 171,
    "start_time": "2022-03-08T20:52:34.136Z"
   },
   {
    "duration": 6,
    "start_time": "2022-03-08T20:52:36.557Z"
   },
   {
    "duration": 12,
    "start_time": "2022-03-08T20:52:38.044Z"
   },
   {
    "duration": 15,
    "start_time": "2022-03-08T20:52:39.651Z"
   },
   {
    "duration": 211,
    "start_time": "2022-03-08T20:52:41.467Z"
   },
   {
    "duration": 7,
    "start_time": "2022-03-08T20:52:48.808Z"
   },
   {
    "duration": 186,
    "start_time": "2022-03-08T20:53:03.940Z"
   },
   {
    "duration": 15,
    "start_time": "2022-03-08T20:54:01.973Z"
   },
   {
    "duration": 60,
    "start_time": "2022-03-08T20:54:15.340Z"
   },
   {
    "duration": 6,
    "start_time": "2022-03-08T20:54:18.770Z"
   },
   {
    "duration": 64,
    "start_time": "2022-03-08T20:55:30.092Z"
   },
   {
    "duration": 6,
    "start_time": "2022-03-08T20:55:40.113Z"
   },
   {
    "duration": 6,
    "start_time": "2022-03-08T20:55:49.628Z"
   },
   {
    "duration": 60,
    "start_time": "2022-03-08T20:56:37.021Z"
   },
   {
    "duration": 53,
    "start_time": "2022-03-08T20:56:51.459Z"
   },
   {
    "duration": 7,
    "start_time": "2022-03-08T20:57:04.445Z"
   },
   {
    "duration": 6,
    "start_time": "2022-03-08T20:57:14.956Z"
   },
   {
    "duration": 67,
    "start_time": "2022-03-08T20:58:38.464Z"
   },
   {
    "duration": 7,
    "start_time": "2022-03-08T20:58:44.135Z"
   },
   {
    "duration": 7,
    "start_time": "2022-03-08T21:01:26.389Z"
   },
   {
    "duration": 8,
    "start_time": "2022-03-08T21:02:07.735Z"
   },
   {
    "duration": 8,
    "start_time": "2022-03-08T21:02:56.536Z"
   },
   {
    "duration": 8,
    "start_time": "2022-03-08T21:04:12.814Z"
   },
   {
    "duration": 8,
    "start_time": "2022-03-08T21:04:21.807Z"
   },
   {
    "duration": 9,
    "start_time": "2022-03-08T21:05:21.045Z"
   },
   {
    "duration": 8,
    "start_time": "2022-03-08T21:05:44.825Z"
   },
   {
    "duration": 8,
    "start_time": "2022-03-08T21:06:38.794Z"
   },
   {
    "duration": 4,
    "start_time": "2022-03-08T21:08:02.601Z"
   },
   {
    "duration": 604,
    "start_time": "2022-03-08T21:13:56.091Z"
   },
   {
    "duration": 174,
    "start_time": "2022-03-08T21:13:56.753Z"
   },
   {
    "duration": 5,
    "start_time": "2022-03-08T21:13:59.602Z"
   },
   {
    "duration": 12,
    "start_time": "2022-03-08T21:14:01.675Z"
   },
   {
    "duration": 14,
    "start_time": "2022-03-08T21:14:08.286Z"
   },
   {
    "duration": 8,
    "start_time": "2022-03-08T21:14:12.068Z"
   },
   {
    "duration": 2021,
    "start_time": "2022-03-08T21:14:14.771Z"
   },
   {
    "duration": 17,
    "start_time": "2022-03-08T21:16:29.974Z"
   },
   {
    "duration": 21,
    "start_time": "2022-03-08T21:16:58.084Z"
   },
   {
    "duration": 17,
    "start_time": "2022-03-08T21:18:30.908Z"
   },
   {
    "duration": 20,
    "start_time": "2022-03-08T21:22:14.515Z"
   },
   {
    "duration": 19,
    "start_time": "2022-03-08T21:22:30.994Z"
   },
   {
    "duration": 4,
    "start_time": "2022-03-08T21:22:32.468Z"
   },
   {
    "duration": 18,
    "start_time": "2022-03-08T21:23:22.832Z"
   },
   {
    "duration": 4,
    "start_time": "2022-03-08T21:23:31.819Z"
   },
   {
    "duration": 66,
    "start_time": "2022-03-08T21:24:41.959Z"
   },
   {
    "duration": 194,
    "start_time": "2022-03-09T00:32:42.242Z"
   },
   {
    "duration": 8,
    "start_time": "2022-03-09T00:32:56.050Z"
   },
   {
    "duration": 17,
    "start_time": "2022-03-09T00:32:56.563Z"
   },
   {
    "duration": 4,
    "start_time": "2022-03-09T00:32:56.794Z"
   },
   {
    "duration": 11,
    "start_time": "2022-03-09T00:32:57.756Z"
   },
   {
    "duration": 9,
    "start_time": "2022-03-09T00:33:00.077Z"
   },
   {
    "duration": 13,
    "start_time": "2022-03-09T00:33:01.498Z"
   },
   {
    "duration": 74,
    "start_time": "2022-03-09T00:36:25.129Z"
   },
   {
    "duration": 17,
    "start_time": "2022-03-09T00:38:22.339Z"
   },
   {
    "duration": 48,
    "start_time": "2022-03-09T00:38:27.206Z"
   },
   {
    "duration": 5,
    "start_time": "2022-03-09T00:38:37.877Z"
   },
   {
    "duration": 12,
    "start_time": "2022-03-09T00:38:39.100Z"
   },
   {
    "duration": 65,
    "start_time": "2022-03-09T00:40:15.794Z"
   },
   {
    "duration": 5,
    "start_time": "2022-03-09T00:40:21.163Z"
   },
   {
    "duration": 7,
    "start_time": "2022-03-09T00:40:38.826Z"
   },
   {
    "duration": 11,
    "start_time": "2022-03-09T00:42:56.897Z"
   },
   {
    "duration": 12,
    "start_time": "2022-03-09T00:43:51.421Z"
   },
   {
    "duration": 11,
    "start_time": "2022-03-09T00:45:02.534Z"
   },
   {
    "duration": 9,
    "start_time": "2022-03-09T00:45:08.839Z"
   },
   {
    "duration": 8,
    "start_time": "2022-03-09T00:45:54.621Z"
   },
   {
    "duration": 5,
    "start_time": "2022-03-09T00:46:25.007Z"
   },
   {
    "duration": 74,
    "start_time": "2022-03-09T00:47:36.997Z"
   },
   {
    "duration": 4,
    "start_time": "2022-03-09T00:47:41.226Z"
   },
   {
    "duration": 3,
    "start_time": "2022-03-09T00:47:55.355Z"
   },
   {
    "duration": 5,
    "start_time": "2022-03-09T00:47:55.571Z"
   },
   {
    "duration": 5,
    "start_time": "2022-03-09T00:48:08.252Z"
   },
   {
    "duration": 11,
    "start_time": "2022-03-09T00:48:33.102Z"
   },
   {
    "duration": 3,
    "start_time": "2022-03-09T00:49:01.811Z"
   },
   {
    "duration": 12,
    "start_time": "2022-03-09T00:49:02.201Z"
   },
   {
    "duration": 8,
    "start_time": "2022-03-09T00:49:03.807Z"
   },
   {
    "duration": 15,
    "start_time": "2022-03-09T00:49:07.876Z"
   },
   {
    "duration": 197,
    "start_time": "2022-03-09T00:53:07.425Z"
   },
   {
    "duration": 188,
    "start_time": "2022-03-09T00:54:13.465Z"
   },
   {
    "duration": 5,
    "start_time": "2022-03-09T00:55:37.458Z"
   },
   {
    "duration": 8,
    "start_time": "2022-03-09T00:56:32.750Z"
   },
   {
    "duration": 8,
    "start_time": "2022-03-09T00:56:52.504Z"
   },
   {
    "duration": 458,
    "start_time": "2022-03-09T00:57:42.606Z"
   },
   {
    "duration": 187,
    "start_time": "2022-03-09T00:59:30.534Z"
   },
   {
    "duration": 212,
    "start_time": "2022-03-09T01:00:38.565Z"
   },
   {
    "duration": 20,
    "start_time": "2022-03-09T01:01:00.274Z"
   },
   {
    "duration": 5,
    "start_time": "2022-03-09T01:02:00.876Z"
   },
   {
    "duration": 71,
    "start_time": "2022-03-09T01:02:08.604Z"
   },
   {
    "duration": 6,
    "start_time": "2022-03-09T01:02:15.436Z"
   },
   {
    "duration": 3,
    "start_time": "2022-03-09T01:02:39.891Z"
   },
   {
    "duration": 174,
    "start_time": "2022-03-09T01:02:40.103Z"
   },
   {
    "duration": 5,
    "start_time": "2022-03-09T01:02:41.068Z"
   },
   {
    "duration": 11,
    "start_time": "2022-03-09T01:02:41.403Z"
   },
   {
    "duration": 16,
    "start_time": "2022-03-09T01:02:41.914Z"
   },
   {
    "duration": 9,
    "start_time": "2022-03-09T01:02:43.122Z"
   },
   {
    "duration": 19,
    "start_time": "2022-03-09T01:02:43.641Z"
   },
   {
    "duration": 5,
    "start_time": "2022-03-09T01:02:43.866Z"
   },
   {
    "duration": 10,
    "start_time": "2022-03-09T01:02:44.842Z"
   },
   {
    "duration": 10,
    "start_time": "2022-03-09T01:02:45.371Z"
   },
   {
    "duration": 12,
    "start_time": "2022-03-09T01:02:46.474Z"
   },
   {
    "duration": 13,
    "start_time": "2022-03-09T01:02:51.925Z"
   },
   {
    "duration": 47,
    "start_time": "2022-03-09T01:02:52.843Z"
   },
   {
    "duration": 4,
    "start_time": "2022-03-09T01:02:55.005Z"
   },
   {
    "duration": 13,
    "start_time": "2022-03-09T01:02:56.765Z"
   },
   {
    "duration": 5,
    "start_time": "2022-03-09T01:02:59.531Z"
   },
   {
    "duration": 8,
    "start_time": "2022-03-09T01:03:00.561Z"
   },
   {
    "duration": 9,
    "start_time": "2022-03-09T01:03:02.036Z"
   },
   {
    "duration": 4,
    "start_time": "2022-03-09T01:03:02.777Z"
   },
   {
    "duration": 3,
    "start_time": "2022-03-09T01:03:03.337Z"
   },
   {
    "duration": 12,
    "start_time": "2022-03-09T01:03:03.565Z"
   },
   {
    "duration": 15,
    "start_time": "2022-03-09T01:03:04.657Z"
   },
   {
    "duration": 8,
    "start_time": "2022-03-09T01:03:05.530Z"
   },
   {
    "duration": 17,
    "start_time": "2022-03-09T01:03:11.004Z"
   },
   {
    "duration": 7,
    "start_time": "2022-03-09T01:04:57.637Z"
   },
   {
    "duration": 8,
    "start_time": "2022-03-09T01:05:30.762Z"
   },
   {
    "duration": 8,
    "start_time": "2022-03-09T01:05:38.755Z"
   },
   {
    "duration": 8,
    "start_time": "2022-03-09T01:05:44.824Z"
   },
   {
    "duration": 181,
    "start_time": "2022-03-09T01:07:43.023Z"
   },
   {
    "duration": 179,
    "start_time": "2022-03-09T01:07:43.460Z"
   },
   {
    "duration": 9,
    "start_time": "2022-03-09T01:09:57.486Z"
   },
   {
    "duration": 7,
    "start_time": "2022-03-09T01:10:50.295Z"
   },
   {
    "duration": 7,
    "start_time": "2022-03-09T01:11:23.701Z"
   },
   {
    "duration": 5,
    "start_time": "2022-03-09T01:12:20.346Z"
   },
   {
    "duration": 46,
    "start_time": "2022-03-09T01:12:26.901Z"
   },
   {
    "duration": 7,
    "start_time": "2022-03-09T01:13:54.322Z"
   },
   {
    "duration": 8,
    "start_time": "2022-03-09T01:14:29.893Z"
   },
   {
    "duration": 8,
    "start_time": "2022-03-09T01:14:44.083Z"
   },
   {
    "duration": 7,
    "start_time": "2022-03-09T01:14:58.371Z"
   },
   {
    "duration": 9,
    "start_time": "2022-03-09T01:14:59.256Z"
   },
   {
    "duration": 7,
    "start_time": "2022-03-09T01:15:00.009Z"
   },
   {
    "duration": 8,
    "start_time": "2022-03-09T01:15:15.832Z"
   },
   {
    "duration": 20,
    "start_time": "2022-03-09T01:16:40.437Z"
   },
   {
    "duration": 7,
    "start_time": "2022-03-09T01:16:41.706Z"
   },
   {
    "duration": 19,
    "start_time": "2022-03-09T01:17:34.293Z"
   },
   {
    "duration": 7,
    "start_time": "2022-03-09T01:17:35.450Z"
   },
   {
    "duration": 8,
    "start_time": "2022-03-09T01:17:50.618Z"
   },
   {
    "duration": 54,
    "start_time": "2022-03-09T01:19:42.947Z"
   },
   {
    "duration": 19,
    "start_time": "2022-03-09T01:20:15.894Z"
   },
   {
    "duration": 21,
    "start_time": "2022-03-09T01:26:21.995Z"
   },
   {
    "duration": 19,
    "start_time": "2022-03-09T01:26:23.932Z"
   },
   {
    "duration": 4,
    "start_time": "2022-03-09T01:26:25.915Z"
   },
   {
    "duration": 194,
    "start_time": "2022-03-09T01:26:39.001Z"
   },
   {
    "duration": 4,
    "start_time": "2022-03-09T01:27:50.969Z"
   },
   {
    "duration": 186,
    "start_time": "2022-03-09T01:29:00.715Z"
   },
   {
    "duration": 196,
    "start_time": "2022-03-09T01:29:20.105Z"
   },
   {
    "duration": 202,
    "start_time": "2022-03-09T01:30:27.585Z"
   },
   {
    "duration": 17,
    "start_time": "2022-03-09T01:30:42.422Z"
   },
   {
    "duration": 18,
    "start_time": "2022-03-09T01:30:44.606Z"
   },
   {
    "duration": 26,
    "start_time": "2022-03-09T01:30:53.575Z"
   },
   {
    "duration": 655,
    "start_time": "2022-03-09T01:31:23.062Z"
   },
   {
    "duration": 168,
    "start_time": "2022-03-09T01:31:23.719Z"
   },
   {
    "duration": 6,
    "start_time": "2022-03-09T01:31:24.287Z"
   },
   {
    "duration": 11,
    "start_time": "2022-03-09T01:31:24.634Z"
   },
   {
    "duration": 15,
    "start_time": "2022-03-09T01:31:25.185Z"
   },
   {
    "duration": 8,
    "start_time": "2022-03-09T01:31:26.414Z"
   },
   {
    "duration": 18,
    "start_time": "2022-03-09T01:31:26.940Z"
   },
   {
    "duration": 5,
    "start_time": "2022-03-09T01:31:27.175Z"
   },
   {
    "duration": 12,
    "start_time": "2022-03-09T01:31:28.146Z"
   },
   {
    "duration": 10,
    "start_time": "2022-03-09T01:31:28.669Z"
   },
   {
    "duration": 13,
    "start_time": "2022-03-09T01:31:29.038Z"
   },
   {
    "duration": 17,
    "start_time": "2022-03-09T01:31:31.278Z"
   },
   {
    "duration": 52,
    "start_time": "2022-03-09T01:31:31.665Z"
   },
   {
    "duration": 5,
    "start_time": "2022-03-09T01:31:32.424Z"
   },
   {
    "duration": 13,
    "start_time": "2022-03-09T01:31:32.662Z"
   },
   {
    "duration": 6,
    "start_time": "2022-03-09T01:31:34.406Z"
   },
   {
    "duration": 9,
    "start_time": "2022-03-09T01:31:34.768Z"
   },
   {
    "duration": 10,
    "start_time": "2022-03-09T01:31:35.511Z"
   },
   {
    "duration": 5,
    "start_time": "2022-03-09T01:31:35.891Z"
   },
   {
    "duration": 4,
    "start_time": "2022-03-09T01:31:36.453Z"
   },
   {
    "duration": 12,
    "start_time": "2022-03-09T01:31:36.682Z"
   },
   {
    "duration": 14,
    "start_time": "2022-03-09T01:31:37.252Z"
   },
   {
    "duration": 7,
    "start_time": "2022-03-09T01:31:37.911Z"
   },
   {
    "duration": 18,
    "start_time": "2022-03-09T01:31:38.666Z"
   },
   {
    "duration": 8,
    "start_time": "2022-03-09T01:31:38.895Z"
   },
   {
    "duration": 10,
    "start_time": "2022-03-09T01:31:39.397Z"
   },
   {
    "duration": 7,
    "start_time": "2022-03-09T01:31:39.627Z"
   },
   {
    "duration": 5,
    "start_time": "2022-03-09T01:31:40.240Z"
   },
   {
    "duration": 45,
    "start_time": "2022-03-09T01:31:40.470Z"
   },
   {
    "duration": 8,
    "start_time": "2022-03-09T01:31:41.333Z"
   },
   {
    "duration": 7,
    "start_time": "2022-03-09T01:31:41.774Z"
   },
   {
    "duration": 7,
    "start_time": "2022-03-09T01:31:42.000Z"
   },
   {
    "duration": 7,
    "start_time": "2022-03-09T01:31:42.416Z"
   },
   {
    "duration": 18,
    "start_time": "2022-03-09T01:31:42.810Z"
   },
   {
    "duration": 9,
    "start_time": "2022-03-09T01:31:43.044Z"
   },
   {
    "duration": 9,
    "start_time": "2022-03-09T01:31:43.472Z"
   },
   {
    "duration": 54,
    "start_time": "2022-03-09T01:31:43.879Z"
   },
   {
    "duration": 20,
    "start_time": "2022-03-09T01:31:45.104Z"
   },
   {
    "duration": 30,
    "start_time": "2022-03-09T01:31:47.990Z"
   },
   {
    "duration": 19,
    "start_time": "2022-03-09T01:31:53.192Z"
   },
   {
    "duration": 4,
    "start_time": "2022-03-09T01:31:54.393Z"
   },
   {
    "duration": 11,
    "start_time": "2022-03-09T01:37:04.822Z"
   },
   {
    "duration": 12,
    "start_time": "2022-03-09T01:37:20.512Z"
   },
   {
    "duration": 5,
    "start_time": "2022-03-09T01:38:00.244Z"
   },
   {
    "duration": 6,
    "start_time": "2022-03-09T01:38:05.038Z"
   },
   {
    "duration": 12,
    "start_time": "2022-03-09T01:38:08.662Z"
   },
   {
    "duration": 7,
    "start_time": "2022-03-09T01:38:09.493Z"
   },
   {
    "duration": 27,
    "start_time": "2022-03-09T01:38:24.012Z"
   },
   {
    "duration": 20,
    "start_time": "2022-03-09T01:38:30.655Z"
   },
   {
    "duration": 4,
    "start_time": "2022-03-09T01:38:36.387Z"
   },
   {
    "duration": 4,
    "start_time": "2022-03-09T01:39:10.219Z"
   },
   {
    "duration": 45,
    "start_time": "2022-03-09T01:39:13.204Z"
   },
   {
    "duration": 47,
    "start_time": "2022-03-09T01:39:30.991Z"
   },
   {
    "duration": 655,
    "start_time": "2022-03-09T01:39:44.075Z"
   },
   {
    "duration": 483,
    "start_time": "2022-03-09T01:39:57.135Z"
   },
   {
    "duration": 12,
    "start_time": "2022-03-09T01:40:00.870Z"
   },
   {
    "duration": 766,
    "start_time": "2022-03-09T01:40:04.537Z"
   },
   {
    "duration": 15,
    "start_time": "2022-03-09T01:40:13.935Z"
   },
   {
    "duration": 311,
    "start_time": "2022-03-09T01:40:25.616Z"
   },
   {
    "duration": 8,
    "start_time": "2022-03-09T01:40:43.228Z"
   },
   {
    "duration": 21,
    "start_time": "2022-03-09T01:40:43.654Z"
   },
   {
    "duration": 13,
    "start_time": "2022-03-09T01:40:44.098Z"
   },
   {
    "duration": 13,
    "start_time": "2022-03-09T01:40:47.031Z"
   },
   {
    "duration": 5,
    "start_time": "2022-03-09T01:43:48.188Z"
   },
   {
    "duration": 5,
    "start_time": "2022-03-09T01:43:57.870Z"
   },
   {
    "duration": 252,
    "start_time": "2022-03-09T01:45:36.451Z"
   },
   {
    "duration": 4,
    "start_time": "2022-03-09T01:46:05.605Z"
   },
   {
    "duration": 5,
    "start_time": "2022-03-09T01:46:20.520Z"
   },
   {
    "duration": 70,
    "start_time": "2022-03-09T01:46:47.325Z"
   },
   {
    "duration": 69,
    "start_time": "2022-03-09T01:46:54.970Z"
   },
   {
    "duration": 58,
    "start_time": "2022-03-09T01:47:05.801Z"
   },
   {
    "duration": 6,
    "start_time": "2022-03-09T01:47:24.651Z"
   },
   {
    "duration": 6,
    "start_time": "2022-03-09T01:47:32.005Z"
   },
   {
    "duration": 5,
    "start_time": "2022-03-09T01:47:41.660Z"
   },
   {
    "duration": 240,
    "start_time": "2022-03-09T01:48:20.219Z"
   },
   {
    "duration": 179,
    "start_time": "2022-03-09T01:48:34.994Z"
   },
   {
    "duration": 195,
    "start_time": "2022-03-09T01:48:38.976Z"
   },
   {
    "duration": 214,
    "start_time": "2022-03-09T01:48:51.064Z"
   },
   {
    "duration": 7,
    "start_time": "2022-03-09T01:49:23.345Z"
   },
   {
    "duration": -617,
    "start_time": "2022-03-09T02:02:25.195Z"
   },
   {
    "duration": 1257,
    "start_time": "2022-03-09T03:39:13.394Z"
   },
   {
    "duration": 214,
    "start_time": "2022-03-09T03:40:12.167Z"
   },
   {
    "duration": 1277,
    "start_time": "2022-03-09T03:42:02.850Z"
   },
   {
    "duration": 1302,
    "start_time": "2022-03-09T03:42:06.968Z"
   },
   {
    "duration": 37,
    "start_time": "2022-03-09T03:42:45.175Z"
   },
   {
    "duration": 61,
    "start_time": "2022-03-09T03:43:34.898Z"
   },
   {
    "duration": 247,
    "start_time": "2022-03-09T03:43:51.446Z"
   },
   {
    "duration": 226,
    "start_time": "2022-03-09T03:48:57.285Z"
   },
   {
    "duration": 242,
    "start_time": "2022-03-09T03:49:45.381Z"
   },
   {
    "duration": 241,
    "start_time": "2022-03-09T03:49:59.821Z"
   },
   {
    "duration": 487,
    "start_time": "2022-03-09T03:51:34.446Z"
   },
   {
    "duration": 468,
    "start_time": "2022-03-09T03:51:59.215Z"
   },
   {
    "duration": 494,
    "start_time": "2022-03-09T03:52:19.583Z"
   },
   {
    "duration": 489,
    "start_time": "2022-03-09T03:52:30.862Z"
   },
   {
    "duration": 240,
    "start_time": "2022-03-09T03:54:19.788Z"
   },
   {
    "duration": 285,
    "start_time": "2022-03-09T03:55:04.585Z"
   },
   {
    "duration": 469,
    "start_time": "2022-03-09T03:55:49.140Z"
   },
   {
    "duration": 469,
    "start_time": "2022-03-09T03:56:09.053Z"
   },
   {
    "duration": 237,
    "start_time": "2022-03-09T03:57:40.740Z"
   },
   {
    "duration": 232,
    "start_time": "2022-03-09T04:04:39.327Z"
   },
   {
    "duration": 91,
    "start_time": "2022-03-09T04:05:56.341Z"
   },
   {
    "duration": 129,
    "start_time": "2022-03-09T04:06:03.808Z"
   },
   {
    "duration": 35,
    "start_time": "2022-03-09T04:06:47.744Z"
   },
   {
    "duration": 56,
    "start_time": "2022-03-09T04:07:22.736Z"
   },
   {
    "duration": 18,
    "start_time": "2022-03-09T04:07:37.902Z"
   },
   {
    "duration": 20,
    "start_time": "2022-03-09T04:08:00.926Z"
   },
   {
    "duration": 219,
    "start_time": "2022-03-09T04:08:30.501Z"
   },
   {
    "duration": 300,
    "start_time": "2022-03-09T04:09:17.759Z"
   },
   {
    "duration": 224,
    "start_time": "2022-03-09T04:09:28.121Z"
   },
   {
    "duration": 216,
    "start_time": "2022-03-09T04:14:37.008Z"
   },
   {
    "duration": 255,
    "start_time": "2022-03-09T04:15:25.752Z"
   },
   {
    "duration": 248,
    "start_time": "2022-03-09T04:17:11.524Z"
   },
   {
    "duration": 77,
    "start_time": "2022-03-19T19:34:22.199Z"
   },
   {
    "duration": 8,
    "start_time": "2022-03-19T20:20:23.617Z"
   },
   {
    "duration": 8,
    "start_time": "2022-03-19T20:21:51.228Z"
   },
   {
    "duration": 8,
    "start_time": "2022-03-19T20:22:22.470Z"
   },
   {
    "duration": 8,
    "start_time": "2022-03-19T20:22:41.317Z"
   },
   {
    "duration": 1116,
    "start_time": "2022-03-19T20:23:01.326Z"
   },
   {
    "duration": 130,
    "start_time": "2022-03-19T20:23:02.445Z"
   },
   {
    "duration": 7,
    "start_time": "2022-03-19T20:23:02.577Z"
   },
   {
    "duration": 24,
    "start_time": "2022-03-19T20:23:02.587Z"
   },
   {
    "duration": 24,
    "start_time": "2022-03-19T20:23:02.614Z"
   },
   {
    "duration": 13,
    "start_time": "2022-03-19T20:23:02.641Z"
   },
   {
    "duration": 26,
    "start_time": "2022-03-19T20:23:02.684Z"
   },
   {
    "duration": 6,
    "start_time": "2022-03-19T20:23:02.712Z"
   },
   {
    "duration": 17,
    "start_time": "2022-03-19T20:23:02.721Z"
   },
   {
    "duration": 51,
    "start_time": "2022-03-19T20:23:02.742Z"
   },
   {
    "duration": 20,
    "start_time": "2022-03-19T20:23:02.795Z"
   },
   {
    "duration": 19,
    "start_time": "2022-03-19T20:23:02.818Z"
   },
   {
    "duration": 114,
    "start_time": "2022-03-19T20:23:02.839Z"
   },
   {
    "duration": 7,
    "start_time": "2022-03-19T20:23:02.955Z"
   },
   {
    "duration": 16,
    "start_time": "2022-03-19T20:23:02.985Z"
   },
   {
    "duration": 17,
    "start_time": "2022-03-19T20:23:03.004Z"
   },
   {
    "duration": 17,
    "start_time": "2022-03-19T20:23:03.023Z"
   },
   {
    "duration": 14,
    "start_time": "2022-03-19T20:23:03.042Z"
   },
   {
    "duration": 31,
    "start_time": "2022-03-19T20:23:03.058Z"
   },
   {
    "duration": 13,
    "start_time": "2022-03-19T20:23:03.091Z"
   },
   {
    "duration": 30,
    "start_time": "2022-03-19T20:23:03.106Z"
   },
   {
    "duration": 16,
    "start_time": "2022-03-19T20:23:03.138Z"
   },
   {
    "duration": 58,
    "start_time": "2022-03-19T20:23:03.156Z"
   },
   {
    "duration": 10,
    "start_time": "2022-03-19T20:23:03.216Z"
   },
   {
    "duration": 18,
    "start_time": "2022-03-19T20:23:03.228Z"
   },
   {
    "duration": 37,
    "start_time": "2022-03-19T20:23:03.248Z"
   },
   {
    "duration": 11,
    "start_time": "2022-03-19T20:23:03.287Z"
   },
   {
    "duration": 88,
    "start_time": "2022-03-19T20:23:03.305Z"
   },
   {
    "duration": 10,
    "start_time": "2022-03-19T20:23:03.395Z"
   },
   {
    "duration": 17,
    "start_time": "2022-03-19T20:23:03.407Z"
   },
   {
    "duration": 10,
    "start_time": "2022-03-19T20:23:03.427Z"
   },
   {
    "duration": 14,
    "start_time": "2022-03-19T20:23:03.439Z"
   },
   {
    "duration": 61,
    "start_time": "2022-03-19T20:23:03.455Z"
   },
   {
    "duration": 10,
    "start_time": "2022-03-19T20:23:03.519Z"
   },
   {
    "duration": 13,
    "start_time": "2022-03-19T20:23:03.532Z"
   },
   {
    "duration": 136,
    "start_time": "2022-03-19T20:23:03.583Z"
   },
   {
    "duration": 43,
    "start_time": "2022-03-19T20:23:03.722Z"
   },
   {
    "duration": 72,
    "start_time": "2022-03-19T20:23:03.767Z"
   },
   {
    "duration": 53,
    "start_time": "2022-03-19T20:23:03.841Z"
   },
   {
    "duration": 5,
    "start_time": "2022-03-19T20:23:03.896Z"
   },
   {
    "duration": 18,
    "start_time": "2022-03-19T20:23:03.904Z"
   },
   {
    "duration": 7,
    "start_time": "2022-03-19T20:23:03.924Z"
   },
   {
    "duration": 19,
    "start_time": "2022-03-19T20:23:03.933Z"
   },
   {
    "duration": 43,
    "start_time": "2022-03-19T20:23:03.955Z"
   },
   {
    "duration": 25,
    "start_time": "2022-03-19T20:23:04.001Z"
   },
   {
    "duration": 56,
    "start_time": "2022-03-19T20:23:04.029Z"
   },
   {
    "duration": 29,
    "start_time": "2022-03-19T20:23:04.088Z"
   },
   {
    "duration": 5,
    "start_time": "2022-03-19T20:23:04.120Z"
   },
   {
    "duration": 99,
    "start_time": "2022-03-19T20:23:04.127Z"
   },
   {
    "duration": 82,
    "start_time": "2022-03-19T20:23:04.229Z"
   },
   {
    "duration": 918,
    "start_time": "2022-03-19T20:23:04.313Z"
   },
   {
    "duration": 687,
    "start_time": "2022-03-19T20:23:05.233Z"
   },
   {
    "duration": 20,
    "start_time": "2022-03-19T20:23:05.922Z"
   },
   {
    "duration": 1100,
    "start_time": "2022-03-19T20:23:05.945Z"
   },
   {
    "duration": 22,
    "start_time": "2022-03-19T20:23:07.048Z"
   },
   {
    "duration": 402,
    "start_time": "2022-03-19T20:23:07.084Z"
   },
   {
    "duration": 11,
    "start_time": "2022-03-19T20:23:07.488Z"
   },
   {
    "duration": 40,
    "start_time": "2022-03-19T20:23:07.502Z"
   },
   {
    "duration": 49,
    "start_time": "2022-03-19T20:23:07.545Z"
   },
   {
    "duration": 15,
    "start_time": "2022-03-19T20:23:07.597Z"
   },
   {
    "duration": 6,
    "start_time": "2022-03-19T20:23:07.616Z"
   },
   {
    "duration": 8,
    "start_time": "2022-03-19T20:23:07.624Z"
   },
   {
    "duration": 391,
    "start_time": "2022-03-19T20:23:07.633Z"
   },
   {
    "duration": 7,
    "start_time": "2022-03-19T20:23:08.026Z"
   },
   {
    "duration": 8,
    "start_time": "2022-03-19T20:23:08.035Z"
   },
   {
    "duration": 8,
    "start_time": "2022-03-19T20:23:08.045Z"
   },
   {
    "duration": 28,
    "start_time": "2022-03-19T20:23:08.056Z"
   },
   {
    "duration": 13,
    "start_time": "2022-03-19T20:23:08.087Z"
   },
   {
    "duration": 7,
    "start_time": "2022-03-19T20:23:08.102Z"
   },
   {
    "duration": 5,
    "start_time": "2022-03-19T20:23:08.111Z"
   },
   {
    "duration": 7,
    "start_time": "2022-03-19T20:23:08.119Z"
   },
   {
    "duration": 334,
    "start_time": "2022-03-19T20:23:08.128Z"
   },
   {
    "duration": 329,
    "start_time": "2022-03-19T20:23:08.464Z"
   },
   {
    "duration": 99,
    "start_time": "2022-03-19T20:23:08.795Z"
   },
   {
    "duration": 0,
    "start_time": "2022-03-19T20:23:08.897Z"
   },
   {
    "duration": 0,
    "start_time": "2022-03-19T20:23:08.898Z"
   },
   {
    "duration": 401,
    "start_time": "2022-03-19T20:23:39.306Z"
   },
   {
    "duration": 349,
    "start_time": "2022-03-19T20:23:44.641Z"
   },
   {
    "duration": 271,
    "start_time": "2022-03-19T20:23:50.041Z"
   },
   {
    "duration": 522,
    "start_time": "2022-03-19T20:24:13.258Z"
   },
   {
    "duration": 501,
    "start_time": "2022-03-19T20:24:19.521Z"
   },
   {
    "duration": 279,
    "start_time": "2022-03-19T20:24:25.136Z"
   },
   {
    "duration": 256,
    "start_time": "2022-03-19T20:24:29.817Z"
   },
   {
    "duration": 407,
    "start_time": "2022-03-19T20:24:34.071Z"
   },
   {
    "duration": 173,
    "start_time": "2022-03-19T20:29:58.925Z"
   },
   {
    "duration": 16,
    "start_time": "2022-03-19T20:30:19.686Z"
   },
   {
    "duration": 11,
    "start_time": "2022-03-19T20:31:07.852Z"
   },
   {
    "duration": 6,
    "start_time": "2022-03-19T20:31:12.636Z"
   },
   {
    "duration": 114,
    "start_time": "2022-03-19T20:31:32.360Z"
   },
   {
    "duration": 113,
    "start_time": "2022-03-19T20:31:42.544Z"
   },
   {
    "duration": 103,
    "start_time": "2022-03-19T20:32:07.695Z"
   },
   {
    "duration": 98,
    "start_time": "2022-03-19T20:32:17.892Z"
   },
   {
    "duration": 5,
    "start_time": "2022-03-19T20:32:40.693Z"
   },
   {
    "duration": 5,
    "start_time": "2022-03-19T20:33:23.405Z"
   },
   {
    "duration": 10,
    "start_time": "2022-03-19T20:34:11.571Z"
   },
   {
    "duration": 11,
    "start_time": "2022-03-19T20:34:36.331Z"
   },
   {
    "duration": 12,
    "start_time": "2022-03-19T20:35:34.724Z"
   },
   {
    "duration": 106,
    "start_time": "2022-03-19T20:36:43.803Z"
   },
   {
    "duration": 126,
    "start_time": "2022-03-19T20:36:50.939Z"
   },
   {
    "duration": 597,
    "start_time": "2022-03-19T20:36:58.370Z"
   },
   {
    "duration": 36,
    "start_time": "2022-03-19T20:38:34.714Z"
   },
   {
    "duration": 68,
    "start_time": "2022-03-19T20:40:30.356Z"
   },
   {
    "duration": 10,
    "start_time": "2022-03-19T20:59:49.019Z"
   },
   {
    "duration": 10,
    "start_time": "2022-03-19T21:01:14.820Z"
   },
   {
    "duration": 9,
    "start_time": "2022-03-19T21:02:26.323Z"
   },
   {
    "duration": 9,
    "start_time": "2022-03-19T21:02:44.643Z"
   },
   {
    "duration": 9,
    "start_time": "2022-03-19T21:03:17.970Z"
   },
   {
    "duration": 9,
    "start_time": "2022-03-19T21:03:20.401Z"
   },
   {
    "duration": 9,
    "start_time": "2022-03-19T21:03:29.346Z"
   },
   {
    "duration": 8,
    "start_time": "2022-03-19T21:03:43.916Z"
   },
   {
    "duration": 11,
    "start_time": "2022-03-19T21:03:45.601Z"
   },
   {
    "duration": 467,
    "start_time": "2022-03-19T21:05:13.665Z"
   },
   {
    "duration": 19,
    "start_time": "2022-03-19T21:05:41.124Z"
   },
   {
    "duration": 9,
    "start_time": "2022-03-19T21:06:21.401Z"
   },
   {
    "duration": 9,
    "start_time": "2022-03-19T21:06:48.237Z"
   },
   {
    "duration": 11,
    "start_time": "2022-03-19T21:06:52.809Z"
   },
   {
    "duration": 17,
    "start_time": "2022-03-19T21:06:54.496Z"
   },
   {
    "duration": 10,
    "start_time": "2022-03-19T21:06:55.319Z"
   },
   {
    "duration": 321,
    "start_time": "2022-03-19T21:09:07.672Z"
   },
   {
    "duration": 311,
    "start_time": "2022-03-19T21:09:19.129Z"
   },
   {
    "duration": 67,
    "start_time": "2022-03-19T23:47:44.252Z"
   },
   {
    "duration": 35,
    "start_time": "2022-03-19T23:48:01.740Z"
   },
   {
    "duration": 315,
    "start_time": "2022-03-19T23:48:39.389Z"
   },
   {
    "duration": 24,
    "start_time": "2022-03-19T23:50:22.008Z"
   },
   {
    "duration": 6,
    "start_time": "2022-03-19T23:51:24.834Z"
   },
   {
    "duration": 16,
    "start_time": "2022-03-19T23:51:38.343Z"
   },
   {
    "duration": 26,
    "start_time": "2022-03-19T23:51:43.596Z"
   },
   {
    "duration": 39,
    "start_time": "2022-03-19T23:54:38.363Z"
   },
   {
    "duration": 40,
    "start_time": "2022-03-19T23:56:46.179Z"
   },
   {
    "duration": 5,
    "start_time": "2022-03-19T23:56:54.718Z"
   },
   {
    "duration": 39,
    "start_time": "2022-03-19T23:56:57.728Z"
   },
   {
    "duration": 16,
    "start_time": "2022-03-19T23:57:22.104Z"
   },
   {
    "duration": 40,
    "start_time": "2022-03-19T23:59:35.336Z"
   },
   {
    "duration": 38,
    "start_time": "2022-03-20T00:02:25.896Z"
   },
   {
    "duration": 11,
    "start_time": "2022-03-20T00:03:05.981Z"
   },
   {
    "duration": 10,
    "start_time": "2022-03-20T00:03:34.695Z"
   },
   {
    "duration": 11,
    "start_time": "2022-03-20T00:10:02.720Z"
   },
   {
    "duration": 4,
    "start_time": "2022-03-20T00:17:34.017Z"
   },
   {
    "duration": 6,
    "start_time": "2022-03-20T00:18:56.483Z"
   },
   {
    "duration": 257,
    "start_time": "2022-03-20T00:19:02.301Z"
   },
   {
    "duration": 10,
    "start_time": "2022-03-20T00:20:15.083Z"
   },
   {
    "duration": 8,
    "start_time": "2022-03-20T00:20:39.749Z"
   },
   {
    "duration": 10,
    "start_time": "2022-03-20T00:21:21.405Z"
   },
   {
    "duration": 899,
    "start_time": "2022-03-20T00:22:09.177Z"
   },
   {
    "duration": 137,
    "start_time": "2022-03-20T00:22:10.079Z"
   },
   {
    "duration": 7,
    "start_time": "2022-03-20T00:22:10.218Z"
   },
   {
    "duration": 32,
    "start_time": "2022-03-20T00:22:10.228Z"
   },
   {
    "duration": 41,
    "start_time": "2022-03-20T00:22:10.262Z"
   },
   {
    "duration": 27,
    "start_time": "2022-03-20T00:22:10.305Z"
   },
   {
    "duration": 33,
    "start_time": "2022-03-20T00:22:10.334Z"
   },
   {
    "duration": 15,
    "start_time": "2022-03-20T00:22:10.369Z"
   },
   {
    "duration": 22,
    "start_time": "2022-03-20T00:22:10.386Z"
   },
   {
    "duration": 13,
    "start_time": "2022-03-20T00:22:10.411Z"
   },
   {
    "duration": 23,
    "start_time": "2022-03-20T00:22:10.426Z"
   },
   {
    "duration": 44,
    "start_time": "2022-03-20T00:22:10.452Z"
   },
   {
    "duration": 103,
    "start_time": "2022-03-20T00:22:10.498Z"
   },
   {
    "duration": 7,
    "start_time": "2022-03-20T00:22:10.603Z"
   },
   {
    "duration": 18,
    "start_time": "2022-03-20T00:22:10.612Z"
   },
   {
    "duration": 8,
    "start_time": "2022-03-20T00:22:10.632Z"
   },
   {
    "duration": 49,
    "start_time": "2022-03-20T00:22:10.642Z"
   },
   {
    "duration": 14,
    "start_time": "2022-03-20T00:22:10.693Z"
   },
   {
    "duration": 5,
    "start_time": "2022-03-20T00:22:10.709Z"
   },
   {
    "duration": 7,
    "start_time": "2022-03-20T00:22:10.716Z"
   },
   {
    "duration": 26,
    "start_time": "2022-03-20T00:22:10.725Z"
   },
   {
    "duration": 10,
    "start_time": "2022-03-20T00:22:10.785Z"
   },
   {
    "duration": 27,
    "start_time": "2022-03-20T00:22:10.797Z"
   },
   {
    "duration": 10,
    "start_time": "2022-03-20T00:22:10.827Z"
   },
   {
    "duration": 50,
    "start_time": "2022-03-20T00:22:10.839Z"
   },
   {
    "duration": 10,
    "start_time": "2022-03-20T00:22:10.891Z"
   },
   {
    "duration": 8,
    "start_time": "2022-03-20T00:22:10.903Z"
   },
   {
    "duration": 96,
    "start_time": "2022-03-20T00:22:10.917Z"
   },
   {
    "duration": 9,
    "start_time": "2022-03-20T00:22:11.015Z"
   },
   {
    "duration": 16,
    "start_time": "2022-03-20T00:22:11.026Z"
   },
   {
    "duration": 12,
    "start_time": "2022-03-20T00:22:11.044Z"
   },
   {
    "duration": 37,
    "start_time": "2022-03-20T00:22:11.058Z"
   },
   {
    "duration": 31,
    "start_time": "2022-03-20T00:22:11.097Z"
   },
   {
    "duration": 10,
    "start_time": "2022-03-20T00:22:11.130Z"
   },
   {
    "duration": 12,
    "start_time": "2022-03-20T00:22:11.142Z"
   },
   {
    "duration": 103,
    "start_time": "2022-03-20T00:22:11.185Z"
   },
   {
    "duration": 34,
    "start_time": "2022-03-20T00:22:11.290Z"
   },
   {
    "duration": 70,
    "start_time": "2022-03-20T00:22:11.326Z"
   },
   {
    "duration": 34,
    "start_time": "2022-03-20T00:22:11.398Z"
   },
   {
    "duration": 5,
    "start_time": "2022-03-20T00:22:11.434Z"
   },
   {
    "duration": 44,
    "start_time": "2022-03-20T00:22:11.441Z"
   },
   {
    "duration": 7,
    "start_time": "2022-03-20T00:22:11.487Z"
   },
   {
    "duration": 14,
    "start_time": "2022-03-20T00:22:11.496Z"
   },
   {
    "duration": 19,
    "start_time": "2022-03-20T00:22:11.512Z"
   },
   {
    "duration": 12,
    "start_time": "2022-03-20T00:22:11.533Z"
   },
   {
    "duration": 73,
    "start_time": "2022-03-20T00:22:11.547Z"
   },
   {
    "duration": 28,
    "start_time": "2022-03-20T00:22:11.622Z"
   },
   {
    "duration": 5,
    "start_time": "2022-03-20T00:22:11.652Z"
   },
   {
    "duration": 88,
    "start_time": "2022-03-20T00:22:11.659Z"
   },
   {
    "duration": 86,
    "start_time": "2022-03-20T00:22:11.749Z"
   },
   {
    "duration": 1010,
    "start_time": "2022-03-20T00:22:11.837Z"
   },
   {
    "duration": 652,
    "start_time": "2022-03-20T00:22:12.849Z"
   },
   {
    "duration": 19,
    "start_time": "2022-03-20T00:22:13.503Z"
   },
   {
    "duration": 1054,
    "start_time": "2022-03-20T00:22:13.524Z"
   },
   {
    "duration": 23,
    "start_time": "2022-03-20T00:22:14.583Z"
   },
   {
    "duration": 419,
    "start_time": "2022-03-20T00:22:14.608Z"
   },
   {
    "duration": 10,
    "start_time": "2022-03-20T00:22:15.029Z"
   },
   {
    "duration": 52,
    "start_time": "2022-03-20T00:22:15.041Z"
   },
   {
    "duration": 23,
    "start_time": "2022-03-20T00:22:15.096Z"
   },
   {
    "duration": 16,
    "start_time": "2022-03-20T00:22:15.121Z"
   },
   {
    "duration": 44,
    "start_time": "2022-03-20T00:22:15.140Z"
   },
   {
    "duration": 6,
    "start_time": "2022-03-20T00:22:15.187Z"
   },
   {
    "duration": 409,
    "start_time": "2022-03-20T00:22:15.195Z"
   },
   {
    "duration": 62,
    "start_time": "2022-03-20T00:22:15.606Z"
   },
   {
    "duration": 21,
    "start_time": "2022-03-20T00:22:15.670Z"
   },
   {
    "duration": 11,
    "start_time": "2022-03-20T00:22:15.693Z"
   },
   {
    "duration": 29,
    "start_time": "2022-03-20T00:22:15.706Z"
   },
   {
    "duration": 17,
    "start_time": "2022-03-20T00:22:15.737Z"
   },
   {
    "duration": 337,
    "start_time": "2022-03-20T00:22:15.756Z"
   },
   {
    "duration": 320,
    "start_time": "2022-03-20T00:22:16.095Z"
   },
   {
    "duration": 269,
    "start_time": "2022-03-20T00:22:16.417Z"
   },
   {
    "duration": 9,
    "start_time": "2022-03-20T00:22:16.688Z"
   },
   {
    "duration": 15,
    "start_time": "2022-03-20T00:22:16.699Z"
   },
   {
    "duration": 2,
    "start_time": "2022-03-20T00:22:16.716Z"
   },
   {
    "duration": 378,
    "start_time": "2022-03-20T00:22:16.721Z"
   },
   {
    "duration": 9,
    "start_time": "2022-03-20T00:24:36.018Z"
   },
   {
    "duration": 32,
    "start_time": "2022-03-20T00:24:36.707Z"
   },
   {
    "duration": 25,
    "start_time": "2022-03-20T00:24:37.250Z"
   },
   {
    "duration": 16,
    "start_time": "2022-03-20T00:24:38.183Z"
   },
   {
    "duration": 7,
    "start_time": "2022-03-20T00:24:39.567Z"
   },
   {
    "duration": 5,
    "start_time": "2022-03-20T00:24:39.930Z"
   },
   {
    "duration": 401,
    "start_time": "2022-03-20T00:24:40.402Z"
   },
   {
    "duration": 62,
    "start_time": "2022-03-20T00:24:41.446Z"
   },
   {
    "duration": 97,
    "start_time": "2022-03-20T00:24:42.099Z"
   },
   {
    "duration": 11,
    "start_time": "2022-03-20T00:24:42.809Z"
   },
   {
    "duration": 17,
    "start_time": "2022-03-20T00:24:43.189Z"
   },
   {
    "duration": 10,
    "start_time": "2022-03-20T00:24:43.862Z"
   },
   {
    "duration": 4,
    "start_time": "2022-03-20T00:32:59.829Z"
   },
   {
    "duration": 4,
    "start_time": "2022-03-20T00:33:09.781Z"
   },
   {
    "duration": 116,
    "start_time": "2022-03-20T00:33:46.412Z"
   },
   {
    "duration": 120,
    "start_time": "2022-03-20T00:33:57.926Z"
   },
   {
    "duration": 6,
    "start_time": "2022-03-20T00:34:04.403Z"
   },
   {
    "duration": 5,
    "start_time": "2022-03-20T00:34:09.267Z"
   },
   {
    "duration": 5,
    "start_time": "2022-03-20T00:35:00.935Z"
   },
   {
    "duration": 6,
    "start_time": "2022-03-20T00:35:09.776Z"
   },
   {
    "duration": 5,
    "start_time": "2022-03-20T00:35:12.495Z"
   },
   {
    "duration": 5,
    "start_time": "2022-03-20T00:35:28.106Z"
   },
   {
    "duration": 5,
    "start_time": "2022-03-20T00:35:35.761Z"
   },
   {
    "duration": 5,
    "start_time": "2022-03-20T00:35:42.225Z"
   },
   {
    "duration": 5,
    "start_time": "2022-03-20T00:35:49.818Z"
   },
   {
    "duration": 5,
    "start_time": "2022-03-20T00:35:53.478Z"
   },
   {
    "duration": 5,
    "start_time": "2022-03-20T00:36:05.937Z"
   },
   {
    "duration": 113,
    "start_time": "2022-03-20T00:41:58.218Z"
   },
   {
    "duration": 1528,
    "start_time": "2022-03-20T00:42:11.837Z"
   },
   {
    "duration": 14,
    "start_time": "2022-03-20T00:43:05.822Z"
   },
   {
    "duration": 1518,
    "start_time": "2022-03-20T00:43:11.031Z"
   },
   {
    "duration": 1440,
    "start_time": "2022-03-20T00:43:43.167Z"
   },
   {
    "duration": 27,
    "start_time": "2022-03-20T00:45:18.871Z"
   },
   {
    "duration": 1394,
    "start_time": "2022-03-20T00:45:29.677Z"
   },
   {
    "duration": 71,
    "start_time": "2022-03-20T00:45:56.081Z"
   },
   {
    "duration": 46,
    "start_time": "2022-03-20T00:47:57.308Z"
   },
   {
    "duration": 405,
    "start_time": "2022-03-20T00:48:50.407Z"
   },
   {
    "duration": 382,
    "start_time": "2022-03-20T00:49:06.852Z"
   },
   {
    "duration": 73,
    "start_time": "2022-03-20T00:49:15.289Z"
   },
   {
    "duration": 253,
    "start_time": "2022-03-20T00:49:24.383Z"
   },
   {
    "duration": 348,
    "start_time": "2022-03-20T00:49:40.152Z"
   },
   {
    "duration": 43,
    "start_time": "2022-03-20T00:51:43.713Z"
   },
   {
    "duration": 41,
    "start_time": "2022-03-20T00:52:10.554Z"
   },
   {
    "duration": 98,
    "start_time": "2022-03-20T00:52:18.228Z"
   },
   {
    "duration": 98,
    "start_time": "2022-03-20T00:52:43.576Z"
   },
   {
    "duration": 354,
    "start_time": "2022-03-20T00:52:55.266Z"
   },
   {
    "duration": 12,
    "start_time": "2022-03-20T00:54:18.961Z"
   },
   {
    "duration": 321,
    "start_time": "2022-03-20T00:54:31.604Z"
   },
   {
    "duration": 117,
    "start_time": "2022-03-20T00:54:47.134Z"
   },
   {
    "duration": 59,
    "start_time": "2022-03-20T00:54:54.932Z"
   },
   {
    "duration": 397,
    "start_time": "2022-03-20T00:55:05.602Z"
   },
   {
    "duration": 12,
    "start_time": "2022-03-20T00:56:16.508Z"
   },
   {
    "duration": 251,
    "start_time": "2022-03-20T00:57:59.948Z"
   },
   {
    "duration": 13,
    "start_time": "2022-03-20T00:58:13.112Z"
   },
   {
    "duration": 12,
    "start_time": "2022-03-20T00:58:27.596Z"
   },
   {
    "duration": 12,
    "start_time": "2022-03-20T00:58:35.903Z"
   },
   {
    "duration": 12,
    "start_time": "2022-03-20T00:59:07.997Z"
   },
   {
    "duration": 26,
    "start_time": "2022-03-20T00:59:42.565Z"
   },
   {
    "duration": 11,
    "start_time": "2022-03-20T00:59:47.343Z"
   },
   {
    "duration": 123,
    "start_time": "2022-03-20T01:00:13.151Z"
   },
   {
    "duration": 13,
    "start_time": "2022-03-20T01:00:22.519Z"
   },
   {
    "duration": 44,
    "start_time": "2022-03-21T17:29:50.758Z"
   },
   {
    "duration": 858,
    "start_time": "2022-03-21T17:30:02.673Z"
   },
   {
    "duration": 180,
    "start_time": "2022-03-21T17:30:03.534Z"
   },
   {
    "duration": 4,
    "start_time": "2022-03-21T17:30:03.716Z"
   },
   {
    "duration": 18,
    "start_time": "2022-03-21T17:30:03.721Z"
   },
   {
    "duration": 15,
    "start_time": "2022-03-21T17:30:03.741Z"
   },
   {
    "duration": 32,
    "start_time": "2022-03-21T17:30:03.757Z"
   },
   {
    "duration": 29,
    "start_time": "2022-03-21T17:30:03.791Z"
   },
   {
    "duration": 4,
    "start_time": "2022-03-21T17:30:03.821Z"
   },
   {
    "duration": 13,
    "start_time": "2022-03-21T17:30:03.826Z"
   },
   {
    "duration": 12,
    "start_time": "2022-03-21T17:30:03.841Z"
   },
   {
    "duration": 27,
    "start_time": "2022-03-21T17:30:03.854Z"
   },
   {
    "duration": 12,
    "start_time": "2022-03-21T17:30:03.883Z"
   },
   {
    "duration": 55,
    "start_time": "2022-03-21T17:30:03.897Z"
   },
   {
    "duration": 5,
    "start_time": "2022-03-21T17:30:03.956Z"
   },
   {
    "duration": 34,
    "start_time": "2022-03-21T17:30:03.962Z"
   },
   {
    "duration": 6,
    "start_time": "2022-03-21T17:30:03.998Z"
   },
   {
    "duration": 10,
    "start_time": "2022-03-21T17:30:04.005Z"
   },
   {
    "duration": 8,
    "start_time": "2022-03-21T17:30:04.016Z"
   },
   {
    "duration": 4,
    "start_time": "2022-03-21T17:30:04.026Z"
   },
   {
    "duration": 7,
    "start_time": "2022-03-21T17:30:04.031Z"
   },
   {
    "duration": 46,
    "start_time": "2022-03-21T17:30:04.040Z"
   },
   {
    "duration": 7,
    "start_time": "2022-03-21T17:30:04.088Z"
   },
   {
    "duration": 16,
    "start_time": "2022-03-21T17:30:04.096Z"
   },
   {
    "duration": 6,
    "start_time": "2022-03-21T17:30:04.114Z"
   },
   {
    "duration": 11,
    "start_time": "2022-03-21T17:30:04.121Z"
   },
   {
    "duration": 10,
    "start_time": "2022-03-21T17:30:04.134Z"
   },
   {
    "duration": 34,
    "start_time": "2022-03-21T17:30:04.146Z"
   },
   {
    "duration": 62,
    "start_time": "2022-03-21T17:30:04.183Z"
   },
   {
    "duration": 8,
    "start_time": "2022-03-21T17:30:04.247Z"
   },
   {
    "duration": 27,
    "start_time": "2022-03-21T17:30:04.257Z"
   },
   {
    "duration": 10,
    "start_time": "2022-03-21T17:30:04.286Z"
   },
   {
    "duration": 9,
    "start_time": "2022-03-21T17:30:04.298Z"
   },
   {
    "duration": 19,
    "start_time": "2022-03-21T17:30:04.308Z"
   },
   {
    "duration": 7,
    "start_time": "2022-03-21T17:30:04.329Z"
   },
   {
    "duration": 13,
    "start_time": "2022-03-21T17:30:04.337Z"
   },
   {
    "duration": 75,
    "start_time": "2022-03-21T17:30:04.351Z"
   },
   {
    "duration": 19,
    "start_time": "2022-03-21T17:30:04.427Z"
   },
   {
    "duration": 45,
    "start_time": "2022-03-21T17:30:04.447Z"
   },
   {
    "duration": 19,
    "start_time": "2022-03-21T17:30:04.493Z"
   },
   {
    "duration": 4,
    "start_time": "2022-03-21T17:30:04.514Z"
   },
   {
    "duration": 11,
    "start_time": "2022-03-21T17:30:04.522Z"
   },
   {
    "duration": 6,
    "start_time": "2022-03-21T17:30:04.534Z"
   },
   {
    "duration": 12,
    "start_time": "2022-03-21T17:30:04.541Z"
   },
   {
    "duration": 52,
    "start_time": "2022-03-21T17:30:04.554Z"
   },
   {
    "duration": 8,
    "start_time": "2022-03-21T17:30:04.608Z"
   },
   {
    "duration": 38,
    "start_time": "2022-03-21T17:30:04.618Z"
   },
   {
    "duration": 39,
    "start_time": "2022-03-21T17:30:04.658Z"
   },
   {
    "duration": 5,
    "start_time": "2022-03-21T17:30:04.698Z"
   },
   {
    "duration": 37,
    "start_time": "2022-03-21T17:30:04.704Z"
   },
   {
    "duration": 57,
    "start_time": "2022-03-21T17:30:04.743Z"
   },
   {
    "duration": 497,
    "start_time": "2022-03-21T17:30:04.802Z"
   },
   {
    "duration": 363,
    "start_time": "2022-03-21T17:30:05.301Z"
   },
   {
    "duration": 17,
    "start_time": "2022-03-21T17:30:05.665Z"
   },
   {
    "duration": 602,
    "start_time": "2022-03-21T17:30:05.684Z"
   },
   {
    "duration": 14,
    "start_time": "2022-03-21T17:30:06.287Z"
   },
   {
    "duration": 252,
    "start_time": "2022-03-21T17:30:06.303Z"
   },
   {
    "duration": 8,
    "start_time": "2022-03-21T17:30:06.557Z"
   },
   {
    "duration": 32,
    "start_time": "2022-03-21T17:30:06.566Z"
   },
   {
    "duration": 25,
    "start_time": "2022-03-21T17:30:06.600Z"
   },
   {
    "duration": 17,
    "start_time": "2022-03-21T17:30:06.627Z"
   },
   {
    "duration": 6,
    "start_time": "2022-03-21T17:30:06.646Z"
   },
   {
    "duration": 31,
    "start_time": "2022-03-21T17:30:06.653Z"
   },
   {
    "duration": 234,
    "start_time": "2022-03-21T17:30:06.685Z"
   },
   {
    "duration": 36,
    "start_time": "2022-03-21T17:30:06.920Z"
   },
   {
    "duration": 5,
    "start_time": "2022-03-21T17:30:06.958Z"
   },
   {
    "duration": 7,
    "start_time": "2022-03-21T17:30:06.980Z"
   },
   {
    "duration": 12,
    "start_time": "2022-03-21T17:30:06.988Z"
   },
   {
    "duration": 6,
    "start_time": "2022-03-21T17:30:07.002Z"
   },
   {
    "duration": 209,
    "start_time": "2022-03-21T17:30:07.009Z"
   },
   {
    "duration": 195,
    "start_time": "2022-03-21T17:30:07.220Z"
   },
   {
    "duration": 156,
    "start_time": "2022-03-21T17:30:07.417Z"
   },
   {
    "duration": 13,
    "start_time": "2022-03-21T17:30:07.574Z"
   },
   {
    "duration": 6,
    "start_time": "2022-03-21T17:30:07.588Z"
   },
   {
    "duration": 44,
    "start_time": "2022-03-21T17:30:07.595Z"
   },
   {
    "duration": 271,
    "start_time": "2022-03-21T17:30:07.641Z"
   },
   {
    "duration": 204,
    "start_time": "2022-03-21T17:30:07.914Z"
   },
   {
    "duration": 700,
    "start_time": "2022-03-21T17:35:36.546Z"
   },
   {
    "duration": 775,
    "start_time": "2022-03-21T20:40:41.543Z"
   },
   {
    "duration": 307,
    "start_time": "2022-03-21T20:40:42.320Z"
   },
   {
    "duration": 4,
    "start_time": "2022-03-21T20:40:42.629Z"
   },
   {
    "duration": 14,
    "start_time": "2022-03-21T20:40:42.636Z"
   },
   {
    "duration": 14,
    "start_time": "2022-03-21T20:40:42.652Z"
   },
   {
    "duration": 19,
    "start_time": "2022-03-21T20:40:42.667Z"
   },
   {
    "duration": 17,
    "start_time": "2022-03-21T20:40:42.687Z"
   },
   {
    "duration": 4,
    "start_time": "2022-03-21T20:40:42.705Z"
   },
   {
    "duration": 10,
    "start_time": "2022-03-21T20:40:42.711Z"
   },
   {
    "duration": 8,
    "start_time": "2022-03-21T20:40:42.724Z"
   },
   {
    "duration": 51,
    "start_time": "2022-03-21T20:40:42.733Z"
   },
   {
    "duration": 11,
    "start_time": "2022-03-21T20:40:42.786Z"
   },
   {
    "duration": 46,
    "start_time": "2022-03-21T20:40:42.799Z"
   },
   {
    "duration": 4,
    "start_time": "2022-03-21T20:40:42.846Z"
   },
   {
    "duration": 33,
    "start_time": "2022-03-21T20:40:42.851Z"
   },
   {
    "duration": 4,
    "start_time": "2022-03-21T20:40:42.886Z"
   },
   {
    "duration": 21,
    "start_time": "2022-03-21T20:40:42.891Z"
   },
   {
    "duration": 22,
    "start_time": "2022-03-21T20:40:42.914Z"
   },
   {
    "duration": 11,
    "start_time": "2022-03-21T20:40:42.938Z"
   },
   {
    "duration": 13,
    "start_time": "2022-03-21T20:40:42.950Z"
   },
   {
    "duration": 28,
    "start_time": "2022-03-21T20:40:42.964Z"
   },
   {
    "duration": 23,
    "start_time": "2022-03-21T20:40:42.994Z"
   },
   {
    "duration": 30,
    "start_time": "2022-03-21T20:40:43.019Z"
   },
   {
    "duration": 5,
    "start_time": "2022-03-21T20:40:43.051Z"
   },
   {
    "duration": 16,
    "start_time": "2022-03-21T20:40:43.058Z"
   },
   {
    "duration": 27,
    "start_time": "2022-03-21T20:40:43.075Z"
   },
   {
    "duration": 16,
    "start_time": "2022-03-21T20:40:43.103Z"
   },
   {
    "duration": 52,
    "start_time": "2022-03-21T20:40:43.123Z"
   },
   {
    "duration": 6,
    "start_time": "2022-03-21T20:40:43.176Z"
   },
   {
    "duration": 25,
    "start_time": "2022-03-21T20:40:43.183Z"
   },
   {
    "duration": 21,
    "start_time": "2022-03-21T20:40:43.209Z"
   },
   {
    "duration": 21,
    "start_time": "2022-03-21T20:40:43.232Z"
   },
   {
    "duration": 43,
    "start_time": "2022-03-21T20:40:43.254Z"
   },
   {
    "duration": 7,
    "start_time": "2022-03-21T20:40:43.298Z"
   },
   {
    "duration": 8,
    "start_time": "2022-03-21T20:40:43.306Z"
   },
   {
    "duration": 67,
    "start_time": "2022-03-21T20:40:43.316Z"
   },
   {
    "duration": 25,
    "start_time": "2022-03-21T20:40:43.385Z"
   },
   {
    "duration": 26,
    "start_time": "2022-03-21T20:40:43.411Z"
   },
   {
    "duration": 18,
    "start_time": "2022-03-21T20:40:43.439Z"
   },
   {
    "duration": 23,
    "start_time": "2022-03-21T20:40:43.459Z"
   },
   {
    "duration": 23,
    "start_time": "2022-03-21T20:40:43.483Z"
   },
   {
    "duration": 5,
    "start_time": "2022-03-21T20:40:43.508Z"
   },
   {
    "duration": 15,
    "start_time": "2022-03-21T20:40:43.514Z"
   },
   {
    "duration": 29,
    "start_time": "2022-03-21T20:40:43.531Z"
   },
   {
    "duration": 6,
    "start_time": "2022-03-21T20:40:43.562Z"
   },
   {
    "duration": 33,
    "start_time": "2022-03-21T20:40:43.570Z"
   },
   {
    "duration": 16,
    "start_time": "2022-03-21T20:40:43.604Z"
   },
   {
    "duration": 4,
    "start_time": "2022-03-21T20:40:43.622Z"
   },
   {
    "duration": 564,
    "start_time": "2022-03-21T20:40:43.627Z"
   },
   {
    "duration": 38,
    "start_time": "2022-03-21T20:40:44.193Z"
   },
   {
    "duration": 584,
    "start_time": "2022-03-21T20:40:44.232Z"
   },
   {
    "duration": 371,
    "start_time": "2022-03-21T20:40:44.818Z"
   },
   {
    "duration": 12,
    "start_time": "2022-03-21T20:40:45.191Z"
   },
   {
    "duration": 593,
    "start_time": "2022-03-21T20:40:45.204Z"
   },
   {
    "duration": 13,
    "start_time": "2022-03-21T20:40:45.799Z"
   },
   {
    "duration": 236,
    "start_time": "2022-03-21T20:40:45.814Z"
   },
   {
    "duration": 3,
    "start_time": "2022-03-21T20:40:46.052Z"
   },
   {
    "duration": 25,
    "start_time": "2022-03-21T20:40:46.057Z"
   },
   {
    "duration": 39,
    "start_time": "2022-03-21T20:40:46.084Z"
   },
   {
    "duration": 24,
    "start_time": "2022-03-21T20:40:46.124Z"
   },
   {
    "duration": 17,
    "start_time": "2022-03-21T20:40:46.150Z"
   },
   {
    "duration": 34,
    "start_time": "2022-03-21T20:40:46.169Z"
   },
   {
    "duration": 22,
    "start_time": "2022-03-21T20:40:46.204Z"
   },
   {
    "duration": 221,
    "start_time": "2022-03-21T20:40:46.228Z"
   },
   {
    "duration": 40,
    "start_time": "2022-03-21T20:40:46.451Z"
   },
   {
    "duration": 5,
    "start_time": "2022-03-21T20:40:46.493Z"
   },
   {
    "duration": 24,
    "start_time": "2022-03-21T20:40:46.500Z"
   },
   {
    "duration": 22,
    "start_time": "2022-03-21T20:40:46.526Z"
   },
   {
    "duration": 23,
    "start_time": "2022-03-21T20:40:46.549Z"
   },
   {
    "duration": 189,
    "start_time": "2022-03-21T20:40:46.574Z"
   },
   {
    "duration": 179,
    "start_time": "2022-03-21T20:40:46.765Z"
   },
   {
    "duration": 147,
    "start_time": "2022-03-21T20:40:46.946Z"
   },
   {
    "duration": 8,
    "start_time": "2022-03-21T20:40:47.094Z"
   },
   {
    "duration": 14,
    "start_time": "2022-03-21T20:40:47.103Z"
   },
   {
    "duration": 48,
    "start_time": "2022-03-21T20:40:47.118Z"
   },
   {
    "duration": 208,
    "start_time": "2022-03-21T20:40:47.168Z"
   },
   {
    "duration": 201,
    "start_time": "2022-03-21T20:40:47.377Z"
   },
   {
    "duration": 25,
    "start_time": "2022-03-21T20:46:30.752Z"
   },
   {
    "duration": 4,
    "start_time": "2022-03-21T20:46:40.965Z"
   },
   {
    "duration": 4,
    "start_time": "2022-03-21T20:47:44.393Z"
   },
   {
    "duration": 6,
    "start_time": "2022-03-21T20:47:45.015Z"
   },
   {
    "duration": 20,
    "start_time": "2022-03-21T20:47:52.422Z"
   },
   {
    "duration": 4,
    "start_time": "2022-03-21T20:48:26.251Z"
   },
   {
    "duration": 6,
    "start_time": "2022-03-21T20:48:26.257Z"
   },
   {
    "duration": 20,
    "start_time": "2022-03-21T20:48:31.263Z"
   },
   {
    "duration": 6,
    "start_time": "2022-03-21T20:48:35.752Z"
   },
   {
    "duration": 4,
    "start_time": "2022-03-21T20:49:02.974Z"
   },
   {
    "duration": 5,
    "start_time": "2022-03-21T20:49:03.347Z"
   },
   {
    "duration": 20,
    "start_time": "2022-03-21T20:49:04.060Z"
   },
   {
    "duration": 7,
    "start_time": "2022-03-21T20:49:05.325Z"
   },
   {
    "duration": 32,
    "start_time": "2022-03-21T20:58:06.906Z"
   },
   {
    "duration": 31,
    "start_time": "2022-03-21T20:58:59.266Z"
   },
   {
    "duration": 8,
    "start_time": "2022-03-21T20:59:18.184Z"
   },
   {
    "duration": 8,
    "start_time": "2022-03-21T21:02:54.308Z"
   },
   {
    "duration": 27,
    "start_time": "2022-03-21T21:06:05.363Z"
   },
   {
    "duration": 8,
    "start_time": "2022-03-21T21:07:22.095Z"
   },
   {
    "duration": 17,
    "start_time": "2022-03-21T21:09:12.805Z"
   },
   {
    "duration": 686,
    "start_time": "2022-03-21T21:09:23.983Z"
   },
   {
    "duration": 161,
    "start_time": "2022-03-21T21:09:24.671Z"
   },
   {
    "duration": 4,
    "start_time": "2022-03-21T21:09:24.833Z"
   },
   {
    "duration": 15,
    "start_time": "2022-03-21T21:09:24.839Z"
   },
   {
    "duration": 14,
    "start_time": "2022-03-21T21:09:24.856Z"
   },
   {
    "duration": 16,
    "start_time": "2022-03-21T21:09:24.871Z"
   },
   {
    "duration": 19,
    "start_time": "2022-03-21T21:09:24.888Z"
   },
   {
    "duration": 4,
    "start_time": "2022-03-21T21:09:24.908Z"
   },
   {
    "duration": 12,
    "start_time": "2022-03-21T21:09:24.913Z"
   },
   {
    "duration": 10,
    "start_time": "2022-03-21T21:09:24.927Z"
   },
   {
    "duration": 10,
    "start_time": "2022-03-21T21:09:24.939Z"
   },
   {
    "duration": 38,
    "start_time": "2022-03-21T21:09:24.950Z"
   },
   {
    "duration": 47,
    "start_time": "2022-03-21T21:09:24.990Z"
   },
   {
    "duration": 4,
    "start_time": "2022-03-21T21:09:25.039Z"
   },
   {
    "duration": 13,
    "start_time": "2022-03-21T21:09:25.044Z"
   },
   {
    "duration": 24,
    "start_time": "2022-03-21T21:09:25.058Z"
   },
   {
    "duration": 12,
    "start_time": "2022-03-21T21:09:25.084Z"
   },
   {
    "duration": 8,
    "start_time": "2022-03-21T21:09:25.098Z"
   },
   {
    "duration": 4,
    "start_time": "2022-03-21T21:09:25.108Z"
   },
   {
    "duration": 6,
    "start_time": "2022-03-21T21:09:25.113Z"
   },
   {
    "duration": 16,
    "start_time": "2022-03-21T21:09:25.121Z"
   },
   {
    "duration": 6,
    "start_time": "2022-03-21T21:09:25.139Z"
   },
   {
    "duration": 46,
    "start_time": "2022-03-21T21:09:25.147Z"
   },
   {
    "duration": 6,
    "start_time": "2022-03-21T21:09:25.195Z"
   },
   {
    "duration": 7,
    "start_time": "2022-03-21T21:09:25.203Z"
   },
   {
    "duration": 6,
    "start_time": "2022-03-21T21:09:25.212Z"
   },
   {
    "duration": 6,
    "start_time": "2022-03-21T21:09:25.220Z"
   },
   {
    "duration": 73,
    "start_time": "2022-03-21T21:09:25.230Z"
   },
   {
    "duration": 6,
    "start_time": "2022-03-21T21:09:25.305Z"
   },
   {
    "duration": 9,
    "start_time": "2022-03-21T21:09:25.313Z"
   },
   {
    "duration": 6,
    "start_time": "2022-03-21T21:09:25.324Z"
   },
   {
    "duration": 8,
    "start_time": "2022-03-21T21:09:25.332Z"
   },
   {
    "duration": 42,
    "start_time": "2022-03-21T21:09:25.342Z"
   },
   {
    "duration": 7,
    "start_time": "2022-03-21T21:09:25.385Z"
   },
   {
    "duration": 8,
    "start_time": "2022-03-21T21:09:25.393Z"
   },
   {
    "duration": 52,
    "start_time": "2022-03-21T21:09:25.403Z"
   },
   {
    "duration": 19,
    "start_time": "2022-03-21T21:09:25.480Z"
   },
   {
    "duration": 26,
    "start_time": "2022-03-21T21:09:25.500Z"
   },
   {
    "duration": 17,
    "start_time": "2022-03-21T21:09:25.528Z"
   },
   {
    "duration": 4,
    "start_time": "2022-03-21T21:09:25.546Z"
   },
   {
    "duration": 30,
    "start_time": "2022-03-21T21:09:25.551Z"
   },
   {
    "duration": 4,
    "start_time": "2022-03-21T21:09:25.583Z"
   },
   {
    "duration": 9,
    "start_time": "2022-03-21T21:09:25.588Z"
   },
   {
    "duration": 19,
    "start_time": "2022-03-21T21:09:25.599Z"
   },
   {
    "duration": 8,
    "start_time": "2022-03-21T21:09:25.619Z"
   },
   {
    "duration": 25,
    "start_time": "2022-03-21T21:09:25.628Z"
   },
   {
    "duration": 32,
    "start_time": "2022-03-21T21:09:25.655Z"
   },
   {
    "duration": 5,
    "start_time": "2022-03-21T21:09:25.689Z"
   },
   {
    "duration": 510,
    "start_time": "2022-03-21T21:09:25.696Z"
   },
   {
    "duration": 37,
    "start_time": "2022-03-21T21:09:26.207Z"
   },
   {
    "duration": 494,
    "start_time": "2022-03-21T21:09:26.246Z"
   },
   {
    "duration": 355,
    "start_time": "2022-03-21T21:09:26.741Z"
   },
   {
    "duration": 12,
    "start_time": "2022-03-21T21:09:27.097Z"
   },
   {
    "duration": 608,
    "start_time": "2022-03-21T21:09:27.111Z"
   },
   {
    "duration": 14,
    "start_time": "2022-03-21T21:09:27.720Z"
   },
   {
    "duration": 236,
    "start_time": "2022-03-21T21:09:27.736Z"
   },
   {
    "duration": 7,
    "start_time": "2022-03-21T21:09:27.974Z"
   },
   {
    "duration": 7,
    "start_time": "2022-03-21T21:09:27.982Z"
   },
   {
    "duration": 18,
    "start_time": "2022-03-21T21:09:27.990Z"
   },
   {
    "duration": 17,
    "start_time": "2022-03-21T21:09:28.009Z"
   },
   {
    "duration": 10,
    "start_time": "2022-03-21T21:09:28.028Z"
   },
   {
    "duration": 4,
    "start_time": "2022-03-21T21:09:28.039Z"
   },
   {
    "duration": 7,
    "start_time": "2022-03-21T21:09:28.044Z"
   },
   {
    "duration": 238,
    "start_time": "2022-03-21T21:09:28.053Z"
   },
   {
    "duration": 37,
    "start_time": "2022-03-21T21:09:28.293Z"
   },
   {
    "duration": 6,
    "start_time": "2022-03-21T21:09:28.331Z"
   },
   {
    "duration": 8,
    "start_time": "2022-03-21T21:09:28.339Z"
   },
   {
    "duration": 35,
    "start_time": "2022-03-21T21:09:28.349Z"
   },
   {
    "duration": 7,
    "start_time": "2022-03-21T21:09:28.386Z"
   },
   {
    "duration": 181,
    "start_time": "2022-03-21T21:09:28.394Z"
   },
   {
    "duration": 174,
    "start_time": "2022-03-21T21:09:28.580Z"
   },
   {
    "duration": 154,
    "start_time": "2022-03-21T21:09:28.756Z"
   },
   {
    "duration": 8,
    "start_time": "2022-03-21T21:09:28.911Z"
   },
   {
    "duration": 10,
    "start_time": "2022-03-21T21:09:28.920Z"
   },
   {
    "duration": 53,
    "start_time": "2022-03-21T21:09:28.932Z"
   },
   {
    "duration": 199,
    "start_time": "2022-03-21T21:09:28.987Z"
   },
   {
    "duration": 230,
    "start_time": "2022-03-21T21:09:29.187Z"
   },
   {
    "duration": 79,
    "start_time": "2022-03-21T21:12:16.513Z"
   },
   {
    "duration": 26,
    "start_time": "2022-03-21T21:12:30.505Z"
   },
   {
    "duration": 659,
    "start_time": "2022-03-21T21:16:44.200Z"
   },
   {
    "duration": 40,
    "start_time": "2022-03-21T21:16:53.476Z"
   },
   {
    "duration": 17,
    "start_time": "2022-03-21T21:17:07.315Z"
   },
   {
    "duration": 7,
    "start_time": "2022-03-21T21:17:12.636Z"
   },
   {
    "duration": 14,
    "start_time": "2022-03-21T21:17:38.592Z"
   },
   {
    "duration": 8,
    "start_time": "2022-03-21T21:17:55.951Z"
   },
   {
    "duration": 12,
    "start_time": "2022-03-21T21:18:07.214Z"
   },
   {
    "duration": 13,
    "start_time": "2022-03-21T21:19:12.526Z"
   },
   {
    "duration": 13,
    "start_time": "2022-03-21T21:19:27.310Z"
   },
   {
    "duration": 23,
    "start_time": "2022-03-21T21:19:46.047Z"
   },
   {
    "duration": 19,
    "start_time": "2022-03-21T21:19:53.245Z"
   },
   {
    "duration": 38,
    "start_time": "2022-03-21T21:19:55.117Z"
   },
   {
    "duration": 41,
    "start_time": "2022-03-21T21:20:47.731Z"
   },
   {
    "duration": 39,
    "start_time": "2022-03-21T21:21:50.142Z"
   },
   {
    "duration": 37,
    "start_time": "2022-03-21T21:23:03.913Z"
   },
   {
    "duration": 518,
    "start_time": "2022-03-21T21:27:26.310Z"
   },
   {
    "duration": 537,
    "start_time": "2022-03-21T21:30:34.316Z"
   },
   {
    "duration": 15,
    "start_time": "2022-03-21T21:30:38.478Z"
   },
   {
    "duration": 224,
    "start_time": "2022-03-21T21:31:11.940Z"
   },
   {
    "duration": 202,
    "start_time": "2022-03-21T21:32:14.801Z"
   },
   {
    "duration": 202,
    "start_time": "2022-03-21T21:32:29.525Z"
   },
   {
    "duration": 157,
    "start_time": "2022-03-21T21:33:07.170Z"
   },
   {
    "duration": 6,
    "start_time": "2022-03-21T21:39:49.808Z"
   },
   {
    "duration": 19,
    "start_time": "2022-03-21T21:40:00.921Z"
   },
   {
    "duration": 16,
    "start_time": "2022-03-21T21:40:13.265Z"
   },
   {
    "duration": 12,
    "start_time": "2022-03-21T21:40:16.236Z"
   },
   {
    "duration": 5,
    "start_time": "2022-03-21T21:40:22.399Z"
   },
   {
    "duration": 4,
    "start_time": "2022-03-21T21:40:28.514Z"
   },
   {
    "duration": 220,
    "start_time": "2022-03-21T21:40:33.679Z"
   },
   {
    "duration": 31,
    "start_time": "2022-03-21T21:44:56.124Z"
   },
   {
    "duration": 197,
    "start_time": "2022-03-21T21:46:41.611Z"
   },
   {
    "duration": 6,
    "start_time": "2022-03-21T21:46:46.397Z"
   },
   {
    "duration": 187,
    "start_time": "2022-03-21T21:46:57.850Z"
   },
   {
    "duration": 6,
    "start_time": "2022-03-21T21:46:58.731Z"
   },
   {
    "duration": 5,
    "start_time": "2022-03-21T21:47:07.864Z"
   },
   {
    "duration": 6,
    "start_time": "2022-03-21T21:47:09.622Z"
   },
   {
    "duration": 12,
    "start_time": "2022-03-21T21:47:18.407Z"
   },
   {
    "duration": 7,
    "start_time": "2022-03-21T21:47:19.812Z"
   },
   {
    "duration": 176,
    "start_time": "2022-03-21T21:48:06.224Z"
   },
   {
    "duration": 175,
    "start_time": "2022-03-21T21:48:24.817Z"
   },
   {
    "duration": 257,
    "start_time": "2022-03-21T21:48:30.782Z"
   },
   {
    "duration": 137,
    "start_time": "2022-03-21T21:48:49.037Z"
   },
   {
    "duration": 8,
    "start_time": "2022-03-21T21:48:58.998Z"
   },
   {
    "duration": 170,
    "start_time": "2022-03-21T21:49:37.628Z"
   },
   {
    "duration": 141,
    "start_time": "2022-03-21T21:49:56.756Z"
   },
   {
    "duration": 8,
    "start_time": "2022-03-21T21:50:20.861Z"
   },
   {
    "duration": 3,
    "start_time": "2022-03-21T21:50:32.714Z"
   },
   {
    "duration": 41,
    "start_time": "2022-03-21T21:51:11.213Z"
   },
   {
    "duration": 185,
    "start_time": "2022-03-21T21:51:38.188Z"
   },
   {
    "duration": 631,
    "start_time": "2022-03-21T21:53:30.025Z"
   },
   {
    "duration": 152,
    "start_time": "2022-03-21T21:53:30.658Z"
   },
   {
    "duration": 4,
    "start_time": "2022-03-21T21:53:30.812Z"
   },
   {
    "duration": 30,
    "start_time": "2022-03-21T21:53:30.818Z"
   },
   {
    "duration": 20,
    "start_time": "2022-03-21T21:53:30.849Z"
   },
   {
    "duration": 14,
    "start_time": "2022-03-21T21:53:30.871Z"
   },
   {
    "duration": 26,
    "start_time": "2022-03-21T21:53:30.886Z"
   },
   {
    "duration": 4,
    "start_time": "2022-03-21T21:53:30.913Z"
   },
   {
    "duration": 28,
    "start_time": "2022-03-21T21:53:30.918Z"
   },
   {
    "duration": 15,
    "start_time": "2022-03-21T21:53:30.948Z"
   },
   {
    "duration": 20,
    "start_time": "2022-03-21T21:53:30.964Z"
   },
   {
    "duration": 19,
    "start_time": "2022-03-21T21:53:30.986Z"
   },
   {
    "duration": 51,
    "start_time": "2022-03-21T21:53:31.007Z"
   },
   {
    "duration": 4,
    "start_time": "2022-03-21T21:53:31.060Z"
   },
   {
    "duration": 24,
    "start_time": "2022-03-21T21:53:31.065Z"
   },
   {
    "duration": 7,
    "start_time": "2022-03-21T21:53:31.090Z"
   },
   {
    "duration": 16,
    "start_time": "2022-03-21T21:53:31.099Z"
   },
   {
    "duration": 9,
    "start_time": "2022-03-21T21:53:31.117Z"
   },
   {
    "duration": 6,
    "start_time": "2022-03-21T21:53:31.128Z"
   },
   {
    "duration": 10,
    "start_time": "2022-03-21T21:53:31.136Z"
   },
   {
    "duration": 24,
    "start_time": "2022-03-21T21:53:31.148Z"
   },
   {
    "duration": 8,
    "start_time": "2022-03-21T21:53:31.174Z"
   },
   {
    "duration": 23,
    "start_time": "2022-03-21T21:53:31.183Z"
   },
   {
    "duration": 14,
    "start_time": "2022-03-21T21:53:31.207Z"
   },
   {
    "duration": 17,
    "start_time": "2022-03-21T21:53:31.222Z"
   },
   {
    "duration": 13,
    "start_time": "2022-03-21T21:53:31.240Z"
   },
   {
    "duration": 25,
    "start_time": "2022-03-21T21:53:31.255Z"
   },
   {
    "duration": 56,
    "start_time": "2022-03-21T21:53:31.284Z"
   },
   {
    "duration": 7,
    "start_time": "2022-03-21T21:53:31.342Z"
   },
   {
    "duration": 19,
    "start_time": "2022-03-21T21:53:31.350Z"
   },
   {
    "duration": 22,
    "start_time": "2022-03-21T21:53:31.371Z"
   },
   {
    "duration": 20,
    "start_time": "2022-03-21T21:53:31.395Z"
   },
   {
    "duration": 24,
    "start_time": "2022-03-21T21:53:31.417Z"
   },
   {
    "duration": 7,
    "start_time": "2022-03-21T21:53:31.443Z"
   },
   {
    "duration": 19,
    "start_time": "2022-03-21T21:53:31.452Z"
   },
   {
    "duration": 55,
    "start_time": "2022-03-21T21:53:31.473Z"
   },
   {
    "duration": 26,
    "start_time": "2022-03-21T21:53:31.530Z"
   },
   {
    "duration": 41,
    "start_time": "2022-03-21T21:53:31.557Z"
   },
   {
    "duration": 18,
    "start_time": "2022-03-21T21:53:31.599Z"
   },
   {
    "duration": 4,
    "start_time": "2022-03-21T21:53:31.618Z"
   },
   {
    "duration": 12,
    "start_time": "2022-03-21T21:53:31.623Z"
   },
   {
    "duration": 6,
    "start_time": "2022-03-21T21:53:31.636Z"
   },
   {
    "duration": 9,
    "start_time": "2022-03-21T21:53:31.643Z"
   },
   {
    "duration": 44,
    "start_time": "2022-03-21T21:53:31.654Z"
   },
   {
    "duration": 8,
    "start_time": "2022-03-21T21:53:31.699Z"
   },
   {
    "duration": 25,
    "start_time": "2022-03-21T21:53:31.709Z"
   },
   {
    "duration": 3,
    "start_time": "2022-03-21T21:53:31.735Z"
   },
   {
    "duration": 22,
    "start_time": "2022-03-21T21:53:31.740Z"
   },
   {
    "duration": 54,
    "start_time": "2022-03-21T21:53:31.763Z"
   },
   {
    "duration": 495,
    "start_time": "2022-03-21T21:53:31.818Z"
   },
   {
    "duration": 405,
    "start_time": "2022-03-21T21:53:32.315Z"
   },
   {
    "duration": 561,
    "start_time": "2022-03-21T21:53:32.722Z"
   },
   {
    "duration": 14,
    "start_time": "2022-03-21T21:53:33.285Z"
   },
   {
    "duration": 167,
    "start_time": "2022-03-21T21:53:33.300Z"
   },
   {
    "duration": 13,
    "start_time": "2022-03-21T21:53:33.468Z"
   },
   {
    "duration": 18,
    "start_time": "2022-03-21T21:53:33.482Z"
   },
   {
    "duration": 15,
    "start_time": "2022-03-21T21:53:33.502Z"
   },
   {
    "duration": 11,
    "start_time": "2022-03-21T21:53:33.518Z"
   },
   {
    "duration": 5,
    "start_time": "2022-03-21T21:53:33.530Z"
   },
   {
    "duration": 4,
    "start_time": "2022-03-21T21:53:33.536Z"
   },
   {
    "duration": 254,
    "start_time": "2022-03-21T21:53:33.541Z"
   },
   {
    "duration": 30,
    "start_time": "2022-03-21T21:53:33.797Z"
   },
   {
    "duration": 5,
    "start_time": "2022-03-21T21:53:33.829Z"
   },
   {
    "duration": 7,
    "start_time": "2022-03-21T21:53:33.835Z"
   },
   {
    "duration": 38,
    "start_time": "2022-03-21T21:53:33.843Z"
   },
   {
    "duration": 7,
    "start_time": "2022-03-21T21:53:33.882Z"
   },
   {
    "duration": 191,
    "start_time": "2022-03-21T21:53:33.891Z"
   },
   {
    "duration": 178,
    "start_time": "2022-03-21T21:53:34.084Z"
   },
   {
    "duration": 143,
    "start_time": "2022-03-21T21:53:34.263Z"
   },
   {
    "duration": 8,
    "start_time": "2022-03-21T21:53:34.407Z"
   },
   {
    "duration": 6,
    "start_time": "2022-03-21T21:53:34.417Z"
   },
   {
    "duration": 42,
    "start_time": "2022-03-21T21:53:34.424Z"
   },
   {
    "duration": 203,
    "start_time": "2022-03-21T21:53:34.467Z"
   },
   {
    "duration": 202,
    "start_time": "2022-03-21T21:53:34.671Z"
   },
   {
    "duration": 42,
    "start_time": "2022-03-21T21:54:22.686Z"
   },
   {
    "duration": 42,
    "start_time": "2022-03-21T21:55:03.071Z"
   },
   {
    "duration": 259,
    "start_time": "2022-03-21T21:55:28.208Z"
   },
   {
    "duration": 30,
    "start_time": "2022-03-21T21:57:30.210Z"
   },
   {
    "duration": 5,
    "start_time": "2022-03-21T21:57:31.432Z"
   },
   {
    "duration": 4,
    "start_time": "2022-03-21T21:57:37.229Z"
   },
   {
    "duration": 6,
    "start_time": "2022-03-21T21:57:38.296Z"
   },
   {
    "duration": 9,
    "start_time": "2022-03-21T21:57:41.396Z"
   },
   {
    "duration": 7,
    "start_time": "2022-03-21T21:57:42.165Z"
   },
   {
    "duration": 170,
    "start_time": "2022-03-21T21:57:49.173Z"
   },
   {
    "duration": 166,
    "start_time": "2022-03-21T21:57:49.751Z"
   },
   {
    "duration": 135,
    "start_time": "2022-03-21T21:57:49.960Z"
   },
   {
    "duration": 8,
    "start_time": "2022-03-21T21:57:50.181Z"
   },
   {
    "duration": 4,
    "start_time": "2022-03-21T21:57:52.871Z"
   },
   {
    "duration": 46,
    "start_time": "2022-03-21T21:57:53.195Z"
   },
   {
    "duration": 129,
    "start_time": "2022-03-21T22:00:12.028Z"
   },
   {
    "duration": 135,
    "start_time": "2022-03-21T22:00:31.092Z"
   },
   {
    "duration": 140,
    "start_time": "2022-03-21T22:01:12.073Z"
   },
   {
    "duration": 626,
    "start_time": "2022-03-22T00:02:38.066Z"
   },
   {
    "duration": 118,
    "start_time": "2022-03-22T00:02:38.694Z"
   },
   {
    "duration": 5,
    "start_time": "2022-03-22T00:02:38.814Z"
   },
   {
    "duration": 18,
    "start_time": "2022-03-22T00:02:38.821Z"
   },
   {
    "duration": 14,
    "start_time": "2022-03-22T00:02:38.840Z"
   },
   {
    "duration": 9,
    "start_time": "2022-03-22T00:02:38.855Z"
   },
   {
    "duration": 15,
    "start_time": "2022-03-22T00:02:38.866Z"
   },
   {
    "duration": 3,
    "start_time": "2022-03-22T00:02:38.883Z"
   },
   {
    "duration": 13,
    "start_time": "2022-03-22T00:02:38.887Z"
   },
   {
    "duration": 8,
    "start_time": "2022-03-22T00:02:38.902Z"
   },
   {
    "duration": 36,
    "start_time": "2022-03-22T00:02:38.911Z"
   },
   {
    "duration": 14,
    "start_time": "2022-03-22T00:02:38.948Z"
   },
   {
    "duration": 49,
    "start_time": "2022-03-22T00:02:38.963Z"
   },
   {
    "duration": 4,
    "start_time": "2022-03-22T00:02:39.037Z"
   },
   {
    "duration": 14,
    "start_time": "2022-03-22T00:02:39.043Z"
   },
   {
    "duration": 4,
    "start_time": "2022-03-22T00:02:39.058Z"
   },
   {
    "duration": 9,
    "start_time": "2022-03-22T00:02:39.063Z"
   },
   {
    "duration": 7,
    "start_time": "2022-03-22T00:02:39.074Z"
   },
   {
    "duration": 3,
    "start_time": "2022-03-22T00:02:39.083Z"
   },
   {
    "duration": 4,
    "start_time": "2022-03-22T00:02:39.088Z"
   },
   {
    "duration": 46,
    "start_time": "2022-03-22T00:02:39.093Z"
   },
   {
    "duration": 7,
    "start_time": "2022-03-22T00:02:39.141Z"
   },
   {
    "duration": 16,
    "start_time": "2022-03-22T00:02:39.150Z"
   },
   {
    "duration": 6,
    "start_time": "2022-03-22T00:02:39.168Z"
   },
   {
    "duration": 11,
    "start_time": "2022-03-22T00:02:39.175Z"
   },
   {
    "duration": 6,
    "start_time": "2022-03-22T00:02:39.188Z"
   },
   {
    "duration": 6,
    "start_time": "2022-03-22T00:02:39.195Z"
   },
   {
    "duration": 43,
    "start_time": "2022-03-22T00:02:39.238Z"
   },
   {
    "duration": 6,
    "start_time": "2022-03-22T00:02:39.282Z"
   },
   {
    "duration": 11,
    "start_time": "2022-03-22T00:02:39.289Z"
   },
   {
    "duration": 15,
    "start_time": "2022-03-22T00:02:39.302Z"
   },
   {
    "duration": 21,
    "start_time": "2022-03-22T00:02:39.319Z"
   },
   {
    "duration": 21,
    "start_time": "2022-03-22T00:02:39.341Z"
   },
   {
    "duration": 8,
    "start_time": "2022-03-22T00:02:39.363Z"
   },
   {
    "duration": 8,
    "start_time": "2022-03-22T00:02:39.372Z"
   },
   {
    "duration": 86,
    "start_time": "2022-03-22T00:02:39.382Z"
   },
   {
    "duration": 22,
    "start_time": "2022-03-22T00:02:39.470Z"
   },
   {
    "duration": 46,
    "start_time": "2022-03-22T00:02:39.494Z"
   },
   {
    "duration": 21,
    "start_time": "2022-03-22T00:02:39.542Z"
   },
   {
    "duration": 4,
    "start_time": "2022-03-22T00:02:39.565Z"
   },
   {
    "duration": 22,
    "start_time": "2022-03-22T00:02:39.570Z"
   },
   {
    "duration": 5,
    "start_time": "2022-03-22T00:02:39.594Z"
   },
   {
    "duration": 9,
    "start_time": "2022-03-22T00:02:39.600Z"
   },
   {
    "duration": 42,
    "start_time": "2022-03-22T00:02:39.610Z"
   },
   {
    "duration": 7,
    "start_time": "2022-03-22T00:02:39.655Z"
   },
   {
    "duration": 30,
    "start_time": "2022-03-22T00:02:39.664Z"
   },
   {
    "duration": 4,
    "start_time": "2022-03-22T00:02:39.695Z"
   },
   {
    "duration": 46,
    "start_time": "2022-03-22T00:02:39.700Z"
   },
   {
    "duration": 39,
    "start_time": "2022-03-22T00:02:39.747Z"
   },
   {
    "duration": 533,
    "start_time": "2022-03-22T00:02:39.788Z"
   },
   {
    "duration": 431,
    "start_time": "2022-03-22T00:02:40.322Z"
   },
   {
    "duration": 590,
    "start_time": "2022-03-22T00:02:40.755Z"
   },
   {
    "duration": 15,
    "start_time": "2022-03-22T00:02:41.346Z"
   },
   {
    "duration": 175,
    "start_time": "2022-03-22T00:02:41.362Z"
   },
   {
    "duration": 8,
    "start_time": "2022-03-22T00:02:41.539Z"
   },
   {
    "duration": 20,
    "start_time": "2022-03-22T00:02:41.548Z"
   },
   {
    "duration": 16,
    "start_time": "2022-03-22T00:02:41.569Z"
   },
   {
    "duration": 12,
    "start_time": "2022-03-22T00:02:41.586Z"
   },
   {
    "duration": 10,
    "start_time": "2022-03-22T00:02:41.599Z"
   },
   {
    "duration": 4,
    "start_time": "2022-03-22T00:02:41.639Z"
   },
   {
    "duration": 242,
    "start_time": "2022-03-22T00:02:41.644Z"
   },
   {
    "duration": 32,
    "start_time": "2022-03-22T00:02:41.887Z"
   },
   {
    "duration": 18,
    "start_time": "2022-03-22T00:02:41.920Z"
   },
   {
    "duration": 12,
    "start_time": "2022-03-22T00:02:41.940Z"
   },
   {
    "duration": 14,
    "start_time": "2022-03-22T00:02:41.953Z"
   },
   {
    "duration": 11,
    "start_time": "2022-03-22T00:02:41.969Z"
   },
   {
    "duration": 198,
    "start_time": "2022-03-22T00:02:41.981Z"
   },
   {
    "duration": 195,
    "start_time": "2022-03-22T00:02:42.180Z"
   },
   {
    "duration": 150,
    "start_time": "2022-03-22T00:02:42.377Z"
   },
   {
    "duration": 15,
    "start_time": "2022-03-22T00:02:42.528Z"
   },
   {
    "duration": 6,
    "start_time": "2022-03-22T00:02:42.544Z"
   },
   {
    "duration": 48,
    "start_time": "2022-03-22T00:02:42.552Z"
   },
   {
    "duration": 196,
    "start_time": "2022-03-22T00:02:42.601Z"
   },
   {
    "duration": 151,
    "start_time": "2022-03-22T00:02:42.798Z"
   },
   {
    "duration": 879,
    "start_time": "2022-03-22T18:12:31.894Z"
   },
   {
    "duration": 216,
    "start_time": "2022-03-22T18:12:32.775Z"
   },
   {
    "duration": 5,
    "start_time": "2022-03-22T18:12:32.992Z"
   },
   {
    "duration": 16,
    "start_time": "2022-03-22T18:12:33.000Z"
   },
   {
    "duration": 14,
    "start_time": "2022-03-22T18:12:33.018Z"
   },
   {
    "duration": 8,
    "start_time": "2022-03-22T18:12:33.033Z"
   },
   {
    "duration": 18,
    "start_time": "2022-03-22T18:12:33.043Z"
   },
   {
    "duration": 4,
    "start_time": "2022-03-22T18:12:33.063Z"
   },
   {
    "duration": 44,
    "start_time": "2022-03-22T18:12:33.068Z"
   },
   {
    "duration": 9,
    "start_time": "2022-03-22T18:12:33.114Z"
   },
   {
    "duration": 15,
    "start_time": "2022-03-22T18:12:33.125Z"
   },
   {
    "duration": 15,
    "start_time": "2022-03-22T18:12:33.141Z"
   },
   {
    "duration": 97,
    "start_time": "2022-03-22T18:12:33.158Z"
   },
   {
    "duration": 5,
    "start_time": "2022-03-22T18:12:33.257Z"
   },
   {
    "duration": 14,
    "start_time": "2022-03-22T18:12:33.264Z"
   },
   {
    "duration": 5,
    "start_time": "2022-03-22T18:12:33.300Z"
   },
   {
    "duration": 9,
    "start_time": "2022-03-22T18:12:33.306Z"
   },
   {
    "duration": 8,
    "start_time": "2022-03-22T18:12:33.316Z"
   },
   {
    "duration": 3,
    "start_time": "2022-03-22T18:12:33.326Z"
   },
   {
    "duration": 4,
    "start_time": "2022-03-22T18:12:33.331Z"
   },
   {
    "duration": 30,
    "start_time": "2022-03-22T18:12:33.336Z"
   },
   {
    "duration": 35,
    "start_time": "2022-03-22T18:12:33.368Z"
   },
   {
    "duration": 16,
    "start_time": "2022-03-22T18:12:33.405Z"
   },
   {
    "duration": 6,
    "start_time": "2022-03-22T18:12:33.423Z"
   },
   {
    "duration": 9,
    "start_time": "2022-03-22T18:12:33.430Z"
   },
   {
    "duration": 7,
    "start_time": "2022-03-22T18:12:33.440Z"
   },
   {
    "duration": 8,
    "start_time": "2022-03-22T18:12:33.449Z"
   },
   {
    "duration": 92,
    "start_time": "2022-03-22T18:12:33.462Z"
   },
   {
    "duration": 9,
    "start_time": "2022-03-22T18:12:33.556Z"
   },
   {
    "duration": 9,
    "start_time": "2022-03-22T18:12:33.567Z"
   },
   {
    "duration": 29,
    "start_time": "2022-03-22T18:12:33.578Z"
   },
   {
    "duration": 10,
    "start_time": "2022-03-22T18:12:33.609Z"
   },
   {
    "duration": 24,
    "start_time": "2022-03-22T18:12:33.621Z"
   },
   {
    "duration": 9,
    "start_time": "2022-03-22T18:12:33.647Z"
   },
   {
    "duration": 11,
    "start_time": "2022-03-22T18:12:33.658Z"
   },
   {
    "duration": 107,
    "start_time": "2022-03-22T18:12:33.671Z"
   },
   {
    "duration": 34,
    "start_time": "2022-03-22T18:12:33.780Z"
   },
   {
    "duration": 26,
    "start_time": "2022-03-22T18:12:33.815Z"
   },
   {
    "duration": 18,
    "start_time": "2022-03-22T18:12:33.843Z"
   },
   {
    "duration": 4,
    "start_time": "2022-03-22T18:12:33.863Z"
   },
   {
    "duration": 38,
    "start_time": "2022-03-22T18:12:33.869Z"
   },
   {
    "duration": 5,
    "start_time": "2022-03-22T18:12:33.909Z"
   },
   {
    "duration": 8,
    "start_time": "2022-03-22T18:12:33.916Z"
   },
   {
    "duration": 25,
    "start_time": "2022-03-22T18:12:33.925Z"
   },
   {
    "duration": 8,
    "start_time": "2022-03-22T18:12:33.951Z"
   },
   {
    "duration": 55,
    "start_time": "2022-03-22T18:12:33.960Z"
   },
   {
    "duration": 4,
    "start_time": "2022-03-22T18:12:34.017Z"
   },
   {
    "duration": 21,
    "start_time": "2022-03-22T18:12:34.023Z"
   },
   {
    "duration": 60,
    "start_time": "2022-03-22T18:12:34.046Z"
   },
   {
    "duration": 531,
    "start_time": "2022-03-22T18:12:34.108Z"
   },
   {
    "duration": 446,
    "start_time": "2022-03-22T18:12:34.640Z"
   },
   {
    "duration": 572,
    "start_time": "2022-03-22T18:12:35.088Z"
   },
   {
    "duration": 15,
    "start_time": "2022-03-22T18:12:35.662Z"
   },
   {
    "duration": 180,
    "start_time": "2022-03-22T18:12:35.679Z"
   },
   {
    "duration": 7,
    "start_time": "2022-03-22T18:12:35.860Z"
   },
   {
    "duration": 33,
    "start_time": "2022-03-22T18:12:35.869Z"
   },
   {
    "duration": 16,
    "start_time": "2022-03-22T18:12:35.904Z"
   },
   {
    "duration": 10,
    "start_time": "2022-03-22T18:12:35.922Z"
   },
   {
    "duration": 5,
    "start_time": "2022-03-22T18:12:35.934Z"
   },
   {
    "duration": 4,
    "start_time": "2022-03-22T18:12:35.940Z"
   },
   {
    "duration": 255,
    "start_time": "2022-03-22T18:12:35.946Z"
   },
   {
    "duration": 34,
    "start_time": "2022-03-22T18:12:36.202Z"
   },
   {
    "duration": 5,
    "start_time": "2022-03-22T18:12:36.237Z"
   },
   {
    "duration": 22,
    "start_time": "2022-03-22T18:12:36.243Z"
   },
   {
    "duration": 28,
    "start_time": "2022-03-22T18:12:36.267Z"
   },
   {
    "duration": 34,
    "start_time": "2022-03-22T18:12:36.297Z"
   },
   {
    "duration": 193,
    "start_time": "2022-03-22T18:12:36.333Z"
   },
   {
    "duration": 209,
    "start_time": "2022-03-22T18:12:36.528Z"
   },
   {
    "duration": 146,
    "start_time": "2022-03-22T18:12:36.739Z"
   },
   {
    "duration": 20,
    "start_time": "2022-03-22T18:12:36.886Z"
   },
   {
    "duration": 12,
    "start_time": "2022-03-22T18:12:36.908Z"
   },
   {
    "duration": 57,
    "start_time": "2022-03-22T18:12:36.922Z"
   },
   {
    "duration": 179,
    "start_time": "2022-03-22T18:12:36.981Z"
   },
   {
    "duration": 152,
    "start_time": "2022-03-22T18:12:37.162Z"
   },
   {
    "duration": 4,
    "start_time": "2022-03-22T18:42:23.524Z"
   },
   {
    "duration": 71,
    "start_time": "2022-03-22T18:43:57.216Z"
   },
   {
    "duration": 4147,
    "start_time": "2022-03-22T18:44:00.784Z"
   },
   {
    "duration": 3874,
    "start_time": "2022-03-22T18:44:21.476Z"
   },
   {
    "duration": 3,
    "start_time": "2022-03-22T18:44:32.755Z"
   },
   {
    "duration": 4,
    "start_time": "2022-03-22T18:44:42.887Z"
   },
   {
    "duration": 4,
    "start_time": "2022-03-22T18:44:58.799Z"
   },
   {
    "duration": 4,
    "start_time": "2022-03-22T18:45:17.624Z"
   },
   {
    "duration": 4,
    "start_time": "2022-03-22T18:45:26.068Z"
   },
   {
    "duration": 7,
    "start_time": "2022-03-22T21:58:36.427Z"
   },
   {
    "duration": 201,
    "start_time": "2022-03-22T21:58:54.013Z"
   },
   {
    "duration": 6,
    "start_time": "2022-03-22T21:59:05.144Z"
   },
   {
    "duration": 132,
    "start_time": "2022-03-22T22:04:32.357Z"
   },
   {
    "duration": 127,
    "start_time": "2022-03-22T22:04:39.263Z"
   },
   {
    "duration": 300,
    "start_time": "2022-03-24T19:53:30.842Z"
   },
   {
    "duration": 200,
    "start_time": "2022-03-24T19:56:36.170Z"
   },
   {
    "duration": 1725,
    "start_time": "2022-03-24T19:56:49.039Z"
   },
   {
    "duration": 643,
    "start_time": "2022-03-24T19:56:50.768Z"
   },
   {
    "duration": 11,
    "start_time": "2022-03-24T19:56:51.413Z"
   },
   {
    "duration": 44,
    "start_time": "2022-03-24T19:56:51.428Z"
   },
   {
    "duration": 56,
    "start_time": "2022-03-24T19:56:51.475Z"
   },
   {
    "duration": 12,
    "start_time": "2022-03-24T19:56:52.536Z"
   },
   {
    "duration": 48,
    "start_time": "2022-03-24T19:56:53.238Z"
   },
   {
    "duration": 7,
    "start_time": "2022-03-24T19:56:53.479Z"
   },
   {
    "duration": 172,
    "start_time": "2022-03-24T19:56:54.680Z"
   },
   {
    "duration": 19,
    "start_time": "2022-03-24T19:56:55.204Z"
   },
   {
    "duration": 28,
    "start_time": "2022-03-24T19:56:55.573Z"
   },
   {
    "duration": 31,
    "start_time": "2022-03-24T19:56:57.738Z"
   },
   {
    "duration": 130,
    "start_time": "2022-03-24T19:56:58.104Z"
   },
   {
    "duration": 13,
    "start_time": "2022-03-24T19:57:03.838Z"
   },
   {
    "duration": 70,
    "start_time": "2022-03-24T19:57:03.855Z"
   },
   {
    "duration": 7,
    "start_time": "2022-03-24T19:57:03.930Z"
   },
   {
    "duration": 15,
    "start_time": "2022-03-24T19:57:04.337Z"
   },
   {
    "duration": 19,
    "start_time": "2022-03-24T19:57:06.385Z"
   },
   {
    "duration": 7,
    "start_time": "2022-03-24T19:57:07.285Z"
   },
   {
    "duration": 6,
    "start_time": "2022-03-24T19:57:08.601Z"
   },
   {
    "duration": 70,
    "start_time": "2022-03-24T19:57:09.465Z"
   },
   {
    "duration": 23,
    "start_time": "2022-03-24T19:57:11.739Z"
   },
   {
    "duration": 50,
    "start_time": "2022-03-24T19:57:13.831Z"
   },
   {
    "duration": 28,
    "start_time": "2022-03-24T19:57:14.233Z"
   },
   {
    "duration": 34,
    "start_time": "2022-03-24T19:57:15.078Z"
   },
   {
    "duration": 19,
    "start_time": "2022-03-24T19:57:15.913Z"
   },
   {
    "duration": 12,
    "start_time": "2022-03-24T19:57:19.376Z"
   },
   {
    "duration": 106,
    "start_time": "2022-03-24T19:57:20.088Z"
   },
   {
    "duration": 18,
    "start_time": "2022-03-24T19:57:23.004Z"
   },
   {
    "duration": 21,
    "start_time": "2022-03-24T19:57:23.544Z"
   },
   {
    "duration": 33,
    "start_time": "2022-03-24T19:57:24.009Z"
   },
   {
    "duration": 29,
    "start_time": "2022-03-24T19:57:24.902Z"
   },
   {
    "duration": 47,
    "start_time": "2022-03-24T19:58:36.217Z"
   },
   {
    "duration": 20,
    "start_time": "2022-03-24T19:58:39.393Z"
   },
   {
    "duration": 36,
    "start_time": "2022-03-24T20:00:22.033Z"
   },
   {
    "duration": 126,
    "start_time": "2022-03-24T20:00:26.870Z"
   },
   {
    "duration": 18,
    "start_time": "2022-03-24T23:04:53.423Z"
   },
   {
    "duration": 88,
    "start_time": "2022-03-24T23:06:21.522Z"
   },
   {
    "duration": 24,
    "start_time": "2022-03-24T23:07:34.992Z"
   },
   {
    "duration": 984,
    "start_time": "2022-03-24T23:08:11.592Z"
   },
   {
    "duration": 199,
    "start_time": "2022-03-24T23:08:12.579Z"
   },
   {
    "duration": 8,
    "start_time": "2022-03-24T23:08:12.780Z"
   },
   {
    "duration": 28,
    "start_time": "2022-03-24T23:08:12.792Z"
   },
   {
    "duration": 42,
    "start_time": "2022-03-24T23:08:12.822Z"
   },
   {
    "duration": 14,
    "start_time": "2022-03-24T23:08:12.867Z"
   },
   {
    "duration": 64,
    "start_time": "2022-03-24T23:08:12.884Z"
   },
   {
    "duration": 8,
    "start_time": "2022-03-24T23:08:12.951Z"
   },
   {
    "duration": 24,
    "start_time": "2022-03-24T23:08:12.962Z"
   },
   {
    "duration": 56,
    "start_time": "2022-03-24T23:08:12.991Z"
   },
   {
    "duration": 27,
    "start_time": "2022-03-24T23:08:13.049Z"
   },
   {
    "duration": 21,
    "start_time": "2022-03-24T23:08:13.078Z"
   },
   {
    "duration": 117,
    "start_time": "2022-03-24T23:08:13.101Z"
   },
   {
    "duration": 23,
    "start_time": "2022-03-24T23:08:13.221Z"
   },
   {
    "duration": 25,
    "start_time": "2022-03-24T23:08:13.247Z"
   },
   {
    "duration": 7,
    "start_time": "2022-03-24T23:08:13.275Z"
   },
   {
    "duration": 15,
    "start_time": "2022-03-24T23:08:13.286Z"
   },
   {
    "duration": 18,
    "start_time": "2022-03-24T23:08:13.343Z"
   },
   {
    "duration": 6,
    "start_time": "2022-03-24T23:08:13.363Z"
   },
   {
    "duration": 7,
    "start_time": "2022-03-24T23:08:13.372Z"
   },
   {
    "duration": 77,
    "start_time": "2022-03-24T23:08:13.382Z"
   },
   {
    "duration": 14,
    "start_time": "2022-03-24T23:08:13.462Z"
   },
   {
    "duration": 65,
    "start_time": "2022-03-24T23:08:13.478Z"
   },
   {
    "duration": 14,
    "start_time": "2022-03-24T23:08:13.547Z"
   },
   {
    "duration": 14,
    "start_time": "2022-03-24T23:08:13.564Z"
   },
   {
    "duration": 11,
    "start_time": "2022-03-24T23:08:13.580Z"
   },
   {
    "duration": 51,
    "start_time": "2022-03-24T23:08:13.593Z"
   },
   {
    "duration": 113,
    "start_time": "2022-03-24T23:08:13.653Z"
   },
   {
    "duration": 14,
    "start_time": "2022-03-24T23:08:13.769Z"
   },
   {
    "duration": 17,
    "start_time": "2022-03-24T23:08:13.786Z"
   },
   {
    "duration": 42,
    "start_time": "2022-03-24T23:08:13.806Z"
   },
   {
    "duration": 14,
    "start_time": "2022-03-24T23:08:13.852Z"
   },
   {
    "duration": 74,
    "start_time": "2022-03-24T23:08:13.869Z"
   },
   {
    "duration": 10,
    "start_time": "2022-03-24T23:08:13.946Z"
   },
   {
    "duration": 28,
    "start_time": "2022-03-24T23:08:13.958Z"
   },
   {
    "duration": 69,
    "start_time": "2022-03-24T23:08:13.989Z"
   },
   {
    "duration": 20,
    "start_time": "2022-03-24T23:08:14.060Z"
   },
   {
    "duration": 11,
    "start_time": "2022-03-24T23:08:14.082Z"
   },
   {
    "duration": 149,
    "start_time": "2022-03-24T23:08:14.096Z"
   },
   {
    "duration": 6,
    "start_time": "2022-03-24T23:08:14.248Z"
   },
   {
    "duration": 22,
    "start_time": "2022-03-24T23:08:14.256Z"
   },
   {
    "duration": 9,
    "start_time": "2022-03-24T23:08:14.281Z"
   },
   {
    "duration": 55,
    "start_time": "2022-03-24T23:08:14.292Z"
   },
   {
    "duration": 35,
    "start_time": "2022-03-24T23:08:14.350Z"
   },
   {
    "duration": 11,
    "start_time": "2022-03-24T23:08:14.388Z"
   },
   {
    "duration": 67,
    "start_time": "2022-03-24T23:08:14.406Z"
   },
   {
    "duration": 6,
    "start_time": "2022-03-24T23:08:14.476Z"
   },
   {
    "duration": 71,
    "start_time": "2022-03-24T23:08:14.484Z"
   },
   {
    "duration": 59,
    "start_time": "2022-03-24T23:08:14.558Z"
   },
   {
    "duration": 1325,
    "start_time": "2022-03-24T23:08:14.620Z"
   },
   {
    "duration": 747,
    "start_time": "2022-03-24T23:08:15.948Z"
   },
   {
    "duration": 1023,
    "start_time": "2022-03-24T23:08:16.698Z"
   },
   {
    "duration": 31,
    "start_time": "2022-03-24T23:08:17.724Z"
   },
   {
    "duration": 474,
    "start_time": "2022-03-24T23:08:17.757Z"
   },
   {
    "duration": 16,
    "start_time": "2022-03-24T23:08:18.234Z"
   },
   {
    "duration": 19,
    "start_time": "2022-03-24T23:08:18.253Z"
   },
   {
    "duration": 30,
    "start_time": "2022-03-24T23:08:18.275Z"
   },
   {
    "duration": 67,
    "start_time": "2022-03-24T23:08:18.307Z"
   },
   {
    "duration": 19,
    "start_time": "2022-03-24T23:08:18.377Z"
   },
   {
    "duration": 57,
    "start_time": "2022-03-24T23:08:18.399Z"
   },
   {
    "duration": 8,
    "start_time": "2022-03-24T23:08:18.459Z"
   },
   {
    "duration": 7,
    "start_time": "2022-03-24T23:08:18.470Z"
   },
   {
    "duration": 463,
    "start_time": "2022-03-24T23:08:18.480Z"
   },
   {
    "duration": 57,
    "start_time": "2022-03-24T23:08:18.945Z"
   },
   {
    "duration": 8,
    "start_time": "2022-03-24T23:08:19.005Z"
   },
   {
    "duration": 11,
    "start_time": "2022-03-24T23:08:19.044Z"
   },
   {
    "duration": 14,
    "start_time": "2022-03-24T23:08:19.057Z"
   },
   {
    "duration": 11,
    "start_time": "2022-03-24T23:08:19.073Z"
   },
   {
    "duration": 439,
    "start_time": "2022-03-24T23:08:19.087Z"
   },
   {
    "duration": 333,
    "start_time": "2022-03-24T23:08:19.528Z"
   },
   {
    "duration": 282,
    "start_time": "2022-03-24T23:08:19.863Z"
   },
   {
    "duration": 13,
    "start_time": "2022-03-24T23:08:20.147Z"
   },
   {
    "duration": 9,
    "start_time": "2022-03-24T23:08:20.163Z"
   },
   {
    "duration": 125,
    "start_time": "2022-03-24T23:08:20.174Z"
   },
   {
    "duration": 467,
    "start_time": "2022-03-24T23:08:20.302Z"
   },
   {
    "duration": 281,
    "start_time": "2022-03-24T23:08:20.772Z"
   },
   {
    "duration": 25,
    "start_time": "2022-03-24T23:08:49.102Z"
   },
   {
    "duration": 40,
    "start_time": "2022-03-24T23:09:22.410Z"
   },
   {
    "duration": 7,
    "start_time": "2022-03-24T23:39:48.875Z"
   },
   {
    "duration": 15,
    "start_time": "2022-03-24T23:39:51.853Z"
   },
   {
    "duration": 6,
    "start_time": "2022-03-24T23:41:33.123Z"
   },
   {
    "duration": 10,
    "start_time": "2022-03-24T23:41:34.724Z"
   },
   {
    "duration": 7,
    "start_time": "2022-03-24T23:42:05.741Z"
   },
   {
    "duration": 11,
    "start_time": "2022-03-24T23:42:06.376Z"
   },
   {
    "duration": 10,
    "start_time": "2022-03-24T23:42:39.873Z"
   },
   {
    "duration": 12,
    "start_time": "2022-03-24T23:42:40.178Z"
   },
   {
    "duration": 9,
    "start_time": "2022-03-24T23:43:33.705Z"
   },
   {
    "duration": 11,
    "start_time": "2022-03-24T23:43:34.419Z"
   },
   {
    "duration": 12,
    "start_time": "2022-03-24T23:43:40.842Z"
   },
   {
    "duration": 9,
    "start_time": "2022-03-24T23:43:42.386Z"
   },
   {
    "duration": 383,
    "start_time": "2022-03-24T23:47:58.391Z"
   },
   {
    "duration": 287,
    "start_time": "2022-03-24T23:48:06.572Z"
   },
   {
    "duration": 291,
    "start_time": "2022-03-24T23:48:37.469Z"
   },
   {
    "duration": 299,
    "start_time": "2022-03-24T23:48:57.311Z"
   },
   {
    "duration": 294,
    "start_time": "2022-03-24T23:49:01.356Z"
   },
   {
    "duration": 321,
    "start_time": "2022-03-24T23:49:30.013Z"
   },
   {
    "duration": 322,
    "start_time": "2022-03-24T23:50:30.351Z"
   },
   {
    "duration": 462,
    "start_time": "2022-03-24T23:52:21.746Z"
   },
   {
    "duration": 337,
    "start_time": "2022-03-24T23:54:06.928Z"
   },
   {
    "duration": 51,
    "start_time": "2022-03-25T00:04:21.416Z"
   },
   {
    "duration": 264,
    "start_time": "2022-03-25T00:06:25.205Z"
   },
   {
    "duration": 1020,
    "start_time": "2022-03-25T22:13:59.315Z"
   },
   {
    "duration": 182,
    "start_time": "2022-03-25T22:14:00.338Z"
   },
   {
    "duration": 7,
    "start_time": "2022-03-25T22:14:00.522Z"
   },
   {
    "duration": 20,
    "start_time": "2022-03-25T22:14:00.704Z"
   },
   {
    "duration": 16,
    "start_time": "2022-03-25T22:14:01.178Z"
   },
   {
    "duration": 9,
    "start_time": "2022-03-25T22:14:02.435Z"
   },
   {
    "duration": 19,
    "start_time": "2022-03-25T22:14:03.078Z"
   },
   {
    "duration": 4,
    "start_time": "2022-03-25T22:14:03.242Z"
   },
   {
    "duration": 114,
    "start_time": "2022-03-25T22:14:04.352Z"
   },
   {
    "duration": 11,
    "start_time": "2022-03-25T22:14:04.831Z"
   },
   {
    "duration": 12,
    "start_time": "2022-03-25T22:14:05.136Z"
   },
   {
    "duration": 16,
    "start_time": "2022-03-25T22:14:07.098Z"
   },
   {
    "duration": 58,
    "start_time": "2022-03-25T22:14:07.407Z"
   },
   {
    "duration": 6,
    "start_time": "2022-03-25T22:14:08.399Z"
   },
   {
    "duration": 14,
    "start_time": "2022-03-25T22:14:08.552Z"
   },
   {
    "duration": 5,
    "start_time": "2022-03-25T22:14:09.387Z"
   },
   {
    "duration": 8,
    "start_time": "2022-03-25T22:14:09.734Z"
   },
   {
    "duration": 8,
    "start_time": "2022-03-25T22:14:10.474Z"
   },
   {
    "duration": 5,
    "start_time": "2022-03-25T22:14:10.827Z"
   },
   {
    "duration": 4,
    "start_time": "2022-03-25T22:14:11.343Z"
   },
   {
    "duration": 17,
    "start_time": "2022-03-25T22:14:11.854Z"
   },
   {
    "duration": 9,
    "start_time": "2022-03-25T22:14:12.360Z"
   },
   {
    "duration": 19,
    "start_time": "2022-03-25T22:14:13.237Z"
   },
   {
    "duration": 8,
    "start_time": "2022-03-25T22:14:13.407Z"
   },
   {
    "duration": 10,
    "start_time": "2022-03-25T22:14:13.934Z"
   },
   {
    "duration": 6,
    "start_time": "2022-03-25T22:14:14.276Z"
   },
   {
    "duration": 4,
    "start_time": "2022-03-25T22:14:14.619Z"
   },
   {
    "duration": 42,
    "start_time": "2022-03-25T22:14:14.950Z"
   },
   {
    "duration": 7,
    "start_time": "2022-03-25T22:14:15.817Z"
   },
   {
    "duration": 8,
    "start_time": "2022-03-25T22:14:16.171Z"
   },
   {
    "duration": 7,
    "start_time": "2022-03-25T22:14:16.354Z"
   },
   {
    "duration": 9,
    "start_time": "2022-03-25T22:14:16.881Z"
   },
   {
    "duration": 22,
    "start_time": "2022-03-25T22:14:17.572Z"
   },
   {
    "duration": 7,
    "start_time": "2022-03-25T22:14:18.437Z"
   },
   {
    "duration": 13,
    "start_time": "2022-03-25T22:14:19.673Z"
   },
   {
    "duration": 21,
    "start_time": "2022-03-25T22:14:19.853Z"
   },
   {
    "duration": 14,
    "start_time": "2022-03-25T22:14:20.028Z"
   },
   {
    "duration": 7,
    "start_time": "2022-03-25T22:14:20.698Z"
   },
   {
    "duration": 46,
    "start_time": "2022-03-25T22:14:21.431Z"
   },
   {
    "duration": 3,
    "start_time": "2022-03-25T22:14:21.945Z"
   },
   {
    "duration": 9,
    "start_time": "2022-03-25T22:14:22.678Z"
   },
   {
    "duration": 4,
    "start_time": "2022-03-25T22:14:23.202Z"
   },
   {
    "duration": 5,
    "start_time": "2022-03-25T22:14:23.543Z"
   },
   {
    "duration": 17,
    "start_time": "2022-03-25T22:14:23.725Z"
   },
   {
    "duration": 7,
    "start_time": "2022-03-25T22:14:23.898Z"
   },
   {
    "duration": 20,
    "start_time": "2022-03-25T22:14:25.198Z"
   },
   {
    "duration": 4,
    "start_time": "2022-03-25T22:14:25.950Z"
   },
   {
    "duration": 18,
    "start_time": "2022-03-25T22:14:27.419Z"
   },
   {
    "duration": 33,
    "start_time": "2022-03-25T22:14:27.714Z"
   },
   {
    "duration": 512,
    "start_time": "2022-03-25T22:14:28.719Z"
   },
   {
    "duration": 412,
    "start_time": "2022-03-25T22:14:31.382Z"
   },
   {
    "duration": 521,
    "start_time": "2022-03-25T22:14:33.044Z"
   },
   {
    "duration": 14,
    "start_time": "2022-03-25T22:14:34.282Z"
   },
   {
    "duration": 162,
    "start_time": "2022-03-25T22:14:35.496Z"
   },
   {
    "duration": 7,
    "start_time": "2022-03-25T22:14:37.833Z"
   },
   {
    "duration": 9,
    "start_time": "2022-03-25T22:14:38.289Z"
   },
   {
    "duration": 688,
    "start_time": "2022-03-25T22:15:28.602Z"
   },
   {
    "duration": 146,
    "start_time": "2022-03-25T22:15:29.292Z"
   },
   {
    "duration": 5,
    "start_time": "2022-03-25T22:15:29.439Z"
   },
   {
    "duration": 14,
    "start_time": "2022-03-25T22:15:29.445Z"
   },
   {
    "duration": 14,
    "start_time": "2022-03-25T22:15:29.460Z"
   },
   {
    "duration": 7,
    "start_time": "2022-03-25T22:15:29.475Z"
   },
   {
    "duration": 31,
    "start_time": "2022-03-25T22:15:29.484Z"
   },
   {
    "duration": 3,
    "start_time": "2022-03-25T22:15:29.517Z"
   },
   {
    "duration": 9,
    "start_time": "2022-03-25T22:15:29.521Z"
   },
   {
    "duration": 7,
    "start_time": "2022-03-25T22:15:29.532Z"
   },
   {
    "duration": 12,
    "start_time": "2022-03-25T22:15:29.541Z"
   },
   {
    "duration": 16,
    "start_time": "2022-03-25T22:15:29.554Z"
   },
   {
    "duration": 48,
    "start_time": "2022-03-25T22:15:29.601Z"
   },
   {
    "duration": 5,
    "start_time": "2022-03-25T22:15:29.651Z"
   },
   {
    "duration": 11,
    "start_time": "2022-03-25T22:15:29.657Z"
   },
   {
    "duration": 4,
    "start_time": "2022-03-25T22:15:29.669Z"
   },
   {
    "duration": 28,
    "start_time": "2022-03-25T22:15:29.675Z"
   },
   {
    "duration": 9,
    "start_time": "2022-03-25T22:15:29.704Z"
   },
   {
    "duration": 4,
    "start_time": "2022-03-25T22:15:29.714Z"
   },
   {
    "duration": 6,
    "start_time": "2022-03-25T22:15:29.720Z"
   },
   {
    "duration": 20,
    "start_time": "2022-03-25T22:15:29.727Z"
   },
   {
    "duration": 7,
    "start_time": "2022-03-25T22:15:29.748Z"
   },
   {
    "duration": 45,
    "start_time": "2022-03-25T22:15:29.757Z"
   },
   {
    "duration": 6,
    "start_time": "2022-03-25T22:15:29.804Z"
   },
   {
    "duration": 9,
    "start_time": "2022-03-25T22:15:29.812Z"
   },
   {
    "duration": 6,
    "start_time": "2022-03-25T22:15:29.823Z"
   },
   {
    "duration": 8,
    "start_time": "2022-03-25T22:15:29.830Z"
   },
   {
    "duration": 63,
    "start_time": "2022-03-25T22:15:29.839Z"
   },
   {
    "duration": 6,
    "start_time": "2022-03-25T22:15:29.904Z"
   },
   {
    "duration": 7,
    "start_time": "2022-03-25T22:15:29.912Z"
   },
   {
    "duration": 10,
    "start_time": "2022-03-25T22:15:29.921Z"
   },
   {
    "duration": 9,
    "start_time": "2022-03-25T22:15:29.932Z"
   },
   {
    "duration": 21,
    "start_time": "2022-03-25T22:15:29.943Z"
   },
   {
    "duration": 6,
    "start_time": "2022-03-25T22:15:29.965Z"
   },
   {
    "duration": 37,
    "start_time": "2022-03-25T22:15:29.973Z"
   },
   {
    "duration": 20,
    "start_time": "2022-03-25T22:15:30.012Z"
   },
   {
    "duration": 13,
    "start_time": "2022-03-25T22:15:30.034Z"
   },
   {
    "duration": 7,
    "start_time": "2022-03-25T22:15:30.048Z"
   },
   {
    "duration": 72,
    "start_time": "2022-03-25T22:15:30.057Z"
   },
   {
    "duration": 13,
    "start_time": "2022-03-25T22:15:30.132Z"
   },
   {
    "duration": 11,
    "start_time": "2022-03-25T22:15:30.149Z"
   },
   {
    "duration": 6,
    "start_time": "2022-03-25T22:15:30.162Z"
   },
   {
    "duration": 19,
    "start_time": "2022-03-25T22:15:30.169Z"
   },
   {
    "duration": 23,
    "start_time": "2022-03-25T22:15:30.190Z"
   },
   {
    "duration": 8,
    "start_time": "2022-03-25T22:15:30.215Z"
   },
   {
    "duration": 24,
    "start_time": "2022-03-25T22:15:30.224Z"
   },
   {
    "duration": 4,
    "start_time": "2022-03-25T22:15:30.250Z"
   },
   {
    "duration": 21,
    "start_time": "2022-03-25T22:15:30.255Z"
   },
   {
    "duration": 44,
    "start_time": "2022-03-25T22:15:30.277Z"
   },
   {
    "duration": 472,
    "start_time": "2022-03-25T22:15:30.322Z"
   },
   {
    "duration": 428,
    "start_time": "2022-03-25T22:15:30.795Z"
   },
   {
    "duration": 537,
    "start_time": "2022-03-25T22:15:31.225Z"
   },
   {
    "duration": 15,
    "start_time": "2022-03-25T22:15:31.764Z"
   },
   {
    "duration": 226,
    "start_time": "2022-03-25T22:15:31.781Z"
   },
   {
    "duration": 3,
    "start_time": "2022-03-25T22:15:32.008Z"
   },
   {
    "duration": 17,
    "start_time": "2022-03-25T22:15:32.012Z"
   },
   {
    "duration": 25,
    "start_time": "2022-03-25T22:15:32.030Z"
   },
   {
    "duration": 219,
    "start_time": "2022-03-25T22:15:32.057Z"
   },
   {
    "duration": 0,
    "start_time": "2022-03-25T22:15:32.278Z"
   },
   {
    "duration": 0,
    "start_time": "2022-03-25T22:15:32.280Z"
   },
   {
    "duration": 0,
    "start_time": "2022-03-25T22:15:32.281Z"
   },
   {
    "duration": 0,
    "start_time": "2022-03-25T22:15:32.283Z"
   },
   {
    "duration": 0,
    "start_time": "2022-03-25T22:15:32.284Z"
   },
   {
    "duration": 0,
    "start_time": "2022-03-25T22:15:32.286Z"
   },
   {
    "duration": 0,
    "start_time": "2022-03-25T22:15:32.287Z"
   },
   {
    "duration": 0,
    "start_time": "2022-03-25T22:15:32.289Z"
   },
   {
    "duration": 0,
    "start_time": "2022-03-25T22:15:32.290Z"
   },
   {
    "duration": 0,
    "start_time": "2022-03-25T22:15:32.291Z"
   },
   {
    "duration": 0,
    "start_time": "2022-03-25T22:15:32.293Z"
   },
   {
    "duration": 0,
    "start_time": "2022-03-25T22:15:32.295Z"
   },
   {
    "duration": 0,
    "start_time": "2022-03-25T22:15:32.296Z"
   },
   {
    "duration": 0,
    "start_time": "2022-03-25T22:15:32.297Z"
   },
   {
    "duration": 0,
    "start_time": "2022-03-25T22:15:32.298Z"
   },
   {
    "duration": 0,
    "start_time": "2022-03-25T22:15:32.299Z"
   },
   {
    "duration": 0,
    "start_time": "2022-03-25T22:15:32.301Z"
   },
   {
    "duration": 0,
    "start_time": "2022-03-25T22:15:32.302Z"
   },
   {
    "duration": 0,
    "start_time": "2022-03-25T22:15:32.303Z"
   },
   {
    "duration": 237,
    "start_time": "2022-03-25T22:28:55.155Z"
   },
   {
    "duration": 193,
    "start_time": "2022-03-25T22:29:12.863Z"
   },
   {
    "duration": 190,
    "start_time": "2022-03-25T22:29:50.181Z"
   },
   {
    "duration": 210,
    "start_time": "2022-03-25T22:29:59.450Z"
   },
   {
    "duration": 200,
    "start_time": "2022-03-25T22:30:33.743Z"
   },
   {
    "duration": 200,
    "start_time": "2022-03-25T22:30:39.219Z"
   },
   {
    "duration": 210,
    "start_time": "2022-03-25T22:31:45.737Z"
   },
   {
    "duration": 196,
    "start_time": "2022-03-25T22:32:26.912Z"
   },
   {
    "duration": 195,
    "start_time": "2022-03-25T22:33:06.115Z"
   },
   {
    "duration": 198,
    "start_time": "2022-03-25T22:33:49.228Z"
   },
   {
    "duration": 5,
    "start_time": "2022-03-25T22:40:49.001Z"
   },
   {
    "duration": 5,
    "start_time": "2022-03-25T22:41:43.338Z"
   },
   {
    "duration": 3984,
    "start_time": "2022-03-25T22:42:30.666Z"
   },
   {
    "duration": 22,
    "start_time": "2022-03-25T22:45:08.170Z"
   },
   {
    "duration": 220,
    "start_time": "2022-03-25T22:46:17.300Z"
   },
   {
    "duration": 19,
    "start_time": "2022-03-25T22:46:19.596Z"
   },
   {
    "duration": 211,
    "start_time": "2022-03-25T22:48:00.056Z"
   },
   {
    "duration": 32,
    "start_time": "2022-03-25T22:53:03.398Z"
   },
   {
    "duration": 2,
    "start_time": "2022-03-25T22:54:01.110Z"
   },
   {
    "duration": 19,
    "start_time": "2022-03-25T22:54:09.388Z"
   },
   {
    "duration": 2,
    "start_time": "2022-03-25T22:54:19.709Z"
   },
   {
    "duration": 139,
    "start_time": "2022-03-25T22:54:19.867Z"
   },
   {
    "duration": 6,
    "start_time": "2022-03-25T22:54:20.915Z"
   },
   {
    "duration": 14,
    "start_time": "2022-03-25T22:54:21.257Z"
   },
   {
    "duration": 15,
    "start_time": "2022-03-25T22:54:21.789Z"
   },
   {
    "duration": 7,
    "start_time": "2022-03-25T22:54:23.203Z"
   },
   {
    "duration": 19,
    "start_time": "2022-03-25T22:54:23.883Z"
   },
   {
    "duration": 4,
    "start_time": "2022-03-25T22:54:24.064Z"
   },
   {
    "duration": 9,
    "start_time": "2022-03-25T22:54:25.279Z"
   },
   {
    "duration": 15,
    "start_time": "2022-03-25T22:54:25.817Z"
   },
   {
    "duration": 11,
    "start_time": "2022-03-25T22:54:26.133Z"
   },
   {
    "duration": 12,
    "start_time": "2022-03-25T22:54:28.356Z"
   },
   {
    "duration": 46,
    "start_time": "2022-03-25T22:54:28.722Z"
   },
   {
    "duration": 4,
    "start_time": "2022-03-25T22:54:29.808Z"
   },
   {
    "duration": 11,
    "start_time": "2022-03-25T22:54:30.001Z"
   },
   {
    "duration": 5,
    "start_time": "2022-03-25T22:54:30.932Z"
   },
   {
    "duration": 8,
    "start_time": "2022-03-25T22:54:31.315Z"
   },
   {
    "duration": 8,
    "start_time": "2022-03-25T22:54:32.467Z"
   },
   {
    "duration": 4,
    "start_time": "2022-03-25T22:54:33.020Z"
   },
   {
    "duration": 4,
    "start_time": "2022-03-25T22:54:34.286Z"
   },
   {
    "duration": 17,
    "start_time": "2022-03-25T22:54:34.918Z"
   },
   {
    "duration": 8,
    "start_time": "2022-03-25T22:54:35.460Z"
   },
   {
    "duration": 16,
    "start_time": "2022-03-25T22:54:36.383Z"
   },
   {
    "duration": 7,
    "start_time": "2022-03-25T22:54:36.568Z"
   },
   {
    "duration": 8,
    "start_time": "2022-03-25T22:54:37.192Z"
   },
   {
    "duration": 7,
    "start_time": "2022-03-25T22:54:39.367Z"
   },
   {
    "duration": 4,
    "start_time": "2022-03-25T22:54:40.953Z"
   },
   {
    "duration": 39,
    "start_time": "2022-03-25T22:54:41.871Z"
   },
   {
    "duration": 6,
    "start_time": "2022-03-25T22:54:43.116Z"
   },
   {
    "duration": 7,
    "start_time": "2022-03-25T22:54:43.677Z"
   },
   {
    "duration": 6,
    "start_time": "2022-03-25T22:54:44.152Z"
   },
   {
    "duration": 7,
    "start_time": "2022-03-25T22:54:45.439Z"
   },
   {
    "duration": 21,
    "start_time": "2022-03-25T22:54:48.796Z"
   },
   {
    "duration": 6,
    "start_time": "2022-03-25T22:54:48.976Z"
   },
   {
    "duration": 12,
    "start_time": "2022-03-25T22:54:50.261Z"
   },
   {
    "duration": 20,
    "start_time": "2022-03-25T22:54:50.425Z"
   },
   {
    "duration": 14,
    "start_time": "2022-03-25T22:54:50.599Z"
   },
   {
    "duration": 6,
    "start_time": "2022-03-25T22:54:50.789Z"
   },
   {
    "duration": 49,
    "start_time": "2022-03-25T22:54:52.019Z"
   },
   {
    "duration": 3,
    "start_time": "2022-03-25T22:54:53.725Z"
   },
   {
    "duration": 8,
    "start_time": "2022-03-25T22:54:55.355Z"
   },
   {
    "duration": 5,
    "start_time": "2022-03-25T22:55:00.992Z"
   },
   {
    "duration": 6,
    "start_time": "2022-03-25T22:55:02.525Z"
   },
   {
    "duration": 17,
    "start_time": "2022-03-25T22:55:02.696Z"
   },
   {
    "duration": 7,
    "start_time": "2022-03-25T22:55:03.167Z"
   },
   {
    "duration": 20,
    "start_time": "2022-03-25T22:55:04.182Z"
   },
   {
    "duration": 4,
    "start_time": "2022-03-25T22:55:04.363Z"
   },
   {
    "duration": 19,
    "start_time": "2022-03-25T22:55:04.807Z"
   },
   {
    "duration": 34,
    "start_time": "2022-03-25T22:55:05.326Z"
   },
   {
    "duration": 452,
    "start_time": "2022-03-25T22:55:06.361Z"
   },
   {
    "duration": 340,
    "start_time": "2022-03-25T22:55:08.131Z"
   },
   {
    "duration": 533,
    "start_time": "2022-03-25T22:55:12.453Z"
   },
   {
    "duration": 14,
    "start_time": "2022-03-25T22:55:15.291Z"
   },
   {
    "duration": 244,
    "start_time": "2022-03-25T22:55:16.048Z"
   },
   {
    "duration": 2,
    "start_time": "2022-03-25T22:55:25.354Z"
   },
   {
    "duration": 10,
    "start_time": "2022-03-25T22:55:26.792Z"
   },
   {
    "duration": 206,
    "start_time": "2022-03-25T22:55:41.855Z"
   },
   {
    "duration": 22,
    "start_time": "2022-03-25T22:55:54.770Z"
   },
   {
    "duration": 236,
    "start_time": "2022-03-25T23:01:50.823Z"
   },
   {
    "duration": 214,
    "start_time": "2022-03-25T23:02:17.348Z"
   },
   {
    "duration": 365,
    "start_time": "2022-03-25T23:02:32.964Z"
   },
   {
    "duration": 344,
    "start_time": "2022-03-25T23:02:50.803Z"
   },
   {
    "duration": 3,
    "start_time": "2022-03-25T23:03:00.141Z"
   },
   {
    "duration": 3,
    "start_time": "2022-03-25T23:04:05.456Z"
   },
   {
    "duration": 10,
    "start_time": "2022-03-25T23:06:39.906Z"
   },
   {
    "duration": 2715,
    "start_time": "2022-03-25T23:06:55.886Z"
   },
   {
    "duration": 10,
    "start_time": "2022-03-25T23:07:20.582Z"
   },
   {
    "duration": 62,
    "start_time": "2022-03-25T23:09:39.329Z"
   },
   {
    "duration": 4,
    "start_time": "2022-03-25T23:13:56.652Z"
   },
   {
    "duration": 8,
    "start_time": "2022-03-25T23:13:58.478Z"
   },
   {
    "duration": 10,
    "start_time": "2022-03-25T23:14:00.845Z"
   },
   {
    "duration": 2,
    "start_time": "2022-03-25T23:14:03.174Z"
   },
   {
    "duration": 61,
    "start_time": "2022-03-25T23:14:03.307Z"
   },
   {
    "duration": 650,
    "start_time": "2022-03-25T23:16:24.426Z"
   },
   {
    "duration": 162,
    "start_time": "2022-03-25T23:16:25.077Z"
   },
   {
    "duration": 5,
    "start_time": "2022-03-25T23:16:25.241Z"
   },
   {
    "duration": 15,
    "start_time": "2022-03-25T23:16:25.249Z"
   },
   {
    "duration": 37,
    "start_time": "2022-03-25T23:16:25.265Z"
   },
   {
    "duration": 8,
    "start_time": "2022-03-25T23:16:25.304Z"
   },
   {
    "duration": 16,
    "start_time": "2022-03-25T23:16:25.314Z"
   },
   {
    "duration": 4,
    "start_time": "2022-03-25T23:16:25.331Z"
   },
   {
    "duration": 9,
    "start_time": "2022-03-25T23:16:25.337Z"
   },
   {
    "duration": 8,
    "start_time": "2022-03-25T23:16:25.348Z"
   },
   {
    "duration": 47,
    "start_time": "2022-03-25T23:16:25.357Z"
   },
   {
    "duration": 14,
    "start_time": "2022-03-25T23:16:25.405Z"
   },
   {
    "duration": 48,
    "start_time": "2022-03-25T23:16:25.420Z"
   },
   {
    "duration": 4,
    "start_time": "2022-03-25T23:16:25.469Z"
   },
   {
    "duration": 35,
    "start_time": "2022-03-25T23:16:25.475Z"
   },
   {
    "duration": 5,
    "start_time": "2022-03-25T23:16:25.511Z"
   },
   {
    "duration": 7,
    "start_time": "2022-03-25T23:16:25.517Z"
   },
   {
    "duration": 8,
    "start_time": "2022-03-25T23:16:25.525Z"
   },
   {
    "duration": 5,
    "start_time": "2022-03-25T23:16:25.534Z"
   },
   {
    "duration": 8,
    "start_time": "2022-03-25T23:16:25.540Z"
   },
   {
    "duration": 19,
    "start_time": "2022-03-25T23:16:25.549Z"
   },
   {
    "duration": 31,
    "start_time": "2022-03-25T23:16:25.570Z"
   },
   {
    "duration": 16,
    "start_time": "2022-03-25T23:16:25.602Z"
   },
   {
    "duration": 6,
    "start_time": "2022-03-25T23:16:25.619Z"
   },
   {
    "duration": 9,
    "start_time": "2022-03-25T23:16:25.626Z"
   },
   {
    "duration": 8,
    "start_time": "2022-03-25T23:16:25.636Z"
   },
   {
    "duration": 9,
    "start_time": "2022-03-25T23:16:25.645Z"
   },
   {
    "duration": 63,
    "start_time": "2022-03-25T23:16:25.657Z"
   },
   {
    "duration": 7,
    "start_time": "2022-03-25T23:16:25.721Z"
   },
   {
    "duration": 10,
    "start_time": "2022-03-25T23:16:25.729Z"
   },
   {
    "duration": 12,
    "start_time": "2022-03-25T23:16:25.741Z"
   },
   {
    "duration": 6,
    "start_time": "2022-03-25T23:16:25.755Z"
   },
   {
    "duration": 22,
    "start_time": "2022-03-25T23:16:25.763Z"
   },
   {
    "duration": 19,
    "start_time": "2022-03-25T23:16:25.786Z"
   },
   {
    "duration": 13,
    "start_time": "2022-03-25T23:16:25.807Z"
   },
   {
    "duration": 18,
    "start_time": "2022-03-25T23:16:25.821Z"
   },
   {
    "duration": 11,
    "start_time": "2022-03-25T23:16:25.841Z"
   },
   {
    "duration": 6,
    "start_time": "2022-03-25T23:16:25.853Z"
   },
   {
    "duration": 72,
    "start_time": "2022-03-25T23:16:25.860Z"
   },
   {
    "duration": 7,
    "start_time": "2022-03-25T23:16:25.934Z"
   },
   {
    "duration": 9,
    "start_time": "2022-03-25T23:16:25.943Z"
   },
   {
    "duration": 5,
    "start_time": "2022-03-25T23:16:25.954Z"
   },
   {
    "duration": 11,
    "start_time": "2022-03-25T23:16:25.961Z"
   },
   {
    "duration": 43,
    "start_time": "2022-03-25T23:16:25.974Z"
   },
   {
    "duration": 7,
    "start_time": "2022-03-25T23:16:26.019Z"
   },
   {
    "duration": 20,
    "start_time": "2022-03-25T23:16:26.027Z"
   },
   {
    "duration": 4,
    "start_time": "2022-03-25T23:16:26.049Z"
   },
   {
    "duration": 24,
    "start_time": "2022-03-25T23:16:26.054Z"
   },
   {
    "duration": 33,
    "start_time": "2022-03-25T23:16:26.102Z"
   },
   {
    "duration": 481,
    "start_time": "2022-03-25T23:16:26.137Z"
   },
   {
    "duration": 404,
    "start_time": "2022-03-25T23:16:26.620Z"
   },
   {
    "duration": 541,
    "start_time": "2022-03-25T23:16:27.026Z"
   },
   {
    "duration": 15,
    "start_time": "2022-03-25T23:16:27.569Z"
   },
   {
    "duration": 181,
    "start_time": "2022-03-25T23:16:27.585Z"
   },
   {
    "duration": 3,
    "start_time": "2022-03-25T23:16:27.768Z"
   },
   {
    "duration": 12,
    "start_time": "2022-03-25T23:16:27.772Z"
   },
   {
    "duration": 35,
    "start_time": "2022-03-25T23:16:27.786Z"
   },
   {
    "duration": 4,
    "start_time": "2022-03-25T23:16:27.823Z"
   },
   {
    "duration": 4179,
    "start_time": "2022-03-25T23:16:27.829Z"
   },
   {
    "duration": 8,
    "start_time": "2022-03-25T23:16:32.010Z"
   },
   {
    "duration": 3,
    "start_time": "2022-03-25T23:16:32.020Z"
   },
   {
    "duration": 20,
    "start_time": "2022-03-25T23:16:32.024Z"
   },
   {
    "duration": 13,
    "start_time": "2022-03-25T23:16:32.046Z"
   },
   {
    "duration": 9,
    "start_time": "2022-03-25T23:16:32.060Z"
   },
   {
    "duration": 5,
    "start_time": "2022-03-25T23:16:32.102Z"
   },
   {
    "duration": 16,
    "start_time": "2022-03-25T23:16:32.109Z"
   },
   {
    "duration": 237,
    "start_time": "2022-03-25T23:16:32.127Z"
   },
   {
    "duration": 44,
    "start_time": "2022-03-25T23:16:32.366Z"
   },
   {
    "duration": 3,
    "start_time": "2022-03-25T23:16:32.412Z"
   },
   {
    "duration": 7,
    "start_time": "2022-03-25T23:16:32.417Z"
   },
   {
    "duration": 8,
    "start_time": "2022-03-25T23:16:32.425Z"
   },
   {
    "duration": 5,
    "start_time": "2022-03-25T23:16:32.435Z"
   },
   {
    "duration": 188,
    "start_time": "2022-03-25T23:16:32.442Z"
   },
   {
    "duration": 181,
    "start_time": "2022-03-25T23:16:32.632Z"
   },
   {
    "duration": 157,
    "start_time": "2022-03-25T23:16:32.814Z"
   },
   {
    "duration": 8,
    "start_time": "2022-03-25T23:16:32.972Z"
   },
   {
    "duration": 11,
    "start_time": "2022-03-25T23:16:32.981Z"
   },
   {
    "duration": 105,
    "start_time": "2022-03-25T23:16:33.000Z"
   },
   {
    "duration": 149,
    "start_time": "2022-03-25T23:16:33.107Z"
   },
   {
    "duration": 149,
    "start_time": "2022-03-25T23:16:33.258Z"
   },
   {
    "duration": 6,
    "start_time": "2022-03-25T23:18:07.627Z"
   },
   {
    "duration": 6,
    "start_time": "2022-03-25T23:19:56.774Z"
   },
   {
    "duration": 6,
    "start_time": "2022-03-25T23:20:24.693Z"
   },
   {
    "duration": 24,
    "start_time": "2022-03-25T23:21:12.759Z"
   },
   {
    "duration": 6,
    "start_time": "2022-03-25T23:23:20.184Z"
   },
   {
    "duration": 9,
    "start_time": "2022-03-25T23:23:20.888Z"
   },
   {
    "duration": 20,
    "start_time": "2022-03-25T23:23:24.551Z"
   },
   {
    "duration": 5,
    "start_time": "2022-03-25T23:23:33.464Z"
   },
   {
    "duration": 8855,
    "start_time": "2022-03-25T23:25:00.623Z"
   },
   {
    "duration": 20,
    "start_time": "2022-03-25T23:25:17.984Z"
   },
   {
    "duration": 15,
    "start_time": "2022-03-25T23:25:39.090Z"
   },
   {
    "duration": 9,
    "start_time": "2022-03-25T23:25:46.829Z"
   },
   {
    "duration": 219,
    "start_time": "2022-03-25T23:33:09.546Z"
   },
   {
    "duration": 145,
    "start_time": "2022-03-25T23:33:19.765Z"
   },
   {
    "duration": 8,
    "start_time": "2022-03-25T23:33:36.888Z"
   },
   {
    "duration": 4,
    "start_time": "2022-03-25T23:33:37.640Z"
   },
   {
    "duration": 148,
    "start_time": "2022-03-25T23:33:38.437Z"
   },
   {
    "duration": 8,
    "start_time": "2022-03-25T23:38:30.120Z"
   },
   {
    "duration": 8,
    "start_time": "2022-03-25T23:39:25.104Z"
   },
   {
    "duration": 138,
    "start_time": "2022-03-25T23:41:52.029Z"
   },
   {
    "duration": 3154,
    "start_time": "2022-03-25T23:43:04.501Z"
   },
   {
    "duration": 196,
    "start_time": "2022-03-25T23:43:30.916Z"
   },
   {
    "duration": 200,
    "start_time": "2022-03-25T23:44:08.101Z"
   },
   {
    "duration": 3124,
    "start_time": "2022-03-25T23:44:25.739Z"
   },
   {
    "duration": 3073,
    "start_time": "2022-03-25T23:44:48.040Z"
   },
   {
    "duration": 3105,
    "start_time": "2022-03-25T23:45:22.094Z"
   },
   {
    "duration": 233,
    "start_time": "2022-03-25T23:52:46.698Z"
   },
   {
    "duration": 166,
    "start_time": "2022-03-25T23:56:23.596Z"
   },
   {
    "duration": 20,
    "start_time": "2022-03-26T00:00:52.628Z"
   },
   {
    "duration": 164,
    "start_time": "2022-03-26T00:01:19.457Z"
   },
   {
    "duration": 162,
    "start_time": "2022-03-26T00:01:47.269Z"
   },
   {
    "duration": 167,
    "start_time": "2022-03-26T00:02:12.140Z"
   },
   {
    "duration": 18,
    "start_time": "2022-03-26T00:07:58.798Z"
   },
   {
    "duration": 20,
    "start_time": "2022-03-26T00:08:48.334Z"
   },
   {
    "duration": 163,
    "start_time": "2022-03-26T00:09:17.825Z"
   },
   {
    "duration": 669,
    "start_time": "2022-03-26T00:13:40.858Z"
   },
   {
    "duration": 151,
    "start_time": "2022-03-26T00:13:41.529Z"
   },
   {
    "duration": 4,
    "start_time": "2022-03-26T00:13:41.681Z"
   },
   {
    "duration": 20,
    "start_time": "2022-03-26T00:13:41.687Z"
   },
   {
    "duration": 17,
    "start_time": "2022-03-26T00:13:41.709Z"
   },
   {
    "duration": 7,
    "start_time": "2022-03-26T00:13:41.728Z"
   },
   {
    "duration": 27,
    "start_time": "2022-03-26T00:13:41.737Z"
   },
   {
    "duration": 15,
    "start_time": "2022-03-26T00:13:41.765Z"
   },
   {
    "duration": 17,
    "start_time": "2022-03-26T00:13:41.781Z"
   },
   {
    "duration": 19,
    "start_time": "2022-03-26T00:13:41.801Z"
   },
   {
    "duration": 19,
    "start_time": "2022-03-26T00:13:41.821Z"
   },
   {
    "duration": 16,
    "start_time": "2022-03-26T00:13:41.842Z"
   },
   {
    "duration": 53,
    "start_time": "2022-03-26T00:13:41.859Z"
   },
   {
    "duration": 4,
    "start_time": "2022-03-26T00:13:41.914Z"
   },
   {
    "duration": 18,
    "start_time": "2022-03-26T00:13:41.920Z"
   },
   {
    "duration": 19,
    "start_time": "2022-03-26T00:13:41.939Z"
   },
   {
    "duration": 20,
    "start_time": "2022-03-26T00:13:41.960Z"
   },
   {
    "duration": 23,
    "start_time": "2022-03-26T00:13:41.981Z"
   },
   {
    "duration": 38,
    "start_time": "2022-03-26T00:13:42.005Z"
   },
   {
    "duration": 10,
    "start_time": "2022-03-26T00:13:42.045Z"
   },
   {
    "duration": 25,
    "start_time": "2022-03-26T00:13:42.056Z"
   },
   {
    "duration": 11,
    "start_time": "2022-03-26T00:13:42.083Z"
   },
   {
    "duration": 24,
    "start_time": "2022-03-26T00:13:42.095Z"
   },
   {
    "duration": 6,
    "start_time": "2022-03-26T00:13:42.121Z"
   },
   {
    "duration": 25,
    "start_time": "2022-03-26T00:13:42.129Z"
   },
   {
    "duration": 17,
    "start_time": "2022-03-26T00:13:42.156Z"
   },
   {
    "duration": 13,
    "start_time": "2022-03-26T00:13:42.174Z"
   },
   {
    "duration": 48,
    "start_time": "2022-03-26T00:13:42.192Z"
   },
   {
    "duration": 6,
    "start_time": "2022-03-26T00:13:42.242Z"
   },
   {
    "duration": 13,
    "start_time": "2022-03-26T00:13:42.249Z"
   },
   {
    "duration": 22,
    "start_time": "2022-03-26T00:13:42.263Z"
   },
   {
    "duration": 22,
    "start_time": "2022-03-26T00:13:42.286Z"
   },
   {
    "duration": 36,
    "start_time": "2022-03-26T00:13:42.309Z"
   },
   {
    "duration": 13,
    "start_time": "2022-03-26T00:13:42.347Z"
   },
   {
    "duration": 34,
    "start_time": "2022-03-26T00:13:42.361Z"
   },
   {
    "duration": 21,
    "start_time": "2022-03-26T00:13:42.397Z"
   },
   {
    "duration": 11,
    "start_time": "2022-03-26T00:13:42.420Z"
   },
   {
    "duration": 17,
    "start_time": "2022-03-26T00:13:42.433Z"
   },
   {
    "duration": 51,
    "start_time": "2022-03-26T00:13:42.452Z"
   },
   {
    "duration": 21,
    "start_time": "2022-03-26T00:13:42.505Z"
   },
   {
    "duration": 29,
    "start_time": "2022-03-26T00:13:42.527Z"
   },
   {
    "duration": 6,
    "start_time": "2022-03-26T00:13:42.558Z"
   },
   {
    "duration": 31,
    "start_time": "2022-03-26T00:13:42.566Z"
   },
   {
    "duration": 35,
    "start_time": "2022-03-26T00:13:42.600Z"
   },
   {
    "duration": 7,
    "start_time": "2022-03-26T00:13:42.637Z"
   },
   {
    "duration": 34,
    "start_time": "2022-03-26T00:13:42.646Z"
   },
   {
    "duration": 4,
    "start_time": "2022-03-26T00:13:42.682Z"
   },
   {
    "duration": 26,
    "start_time": "2022-03-26T00:13:42.687Z"
   },
   {
    "duration": 35,
    "start_time": "2022-03-26T00:13:42.715Z"
   },
   {
    "duration": 465,
    "start_time": "2022-03-26T00:13:42.752Z"
   },
   {
    "duration": 383,
    "start_time": "2022-03-26T00:13:43.218Z"
   },
   {
    "duration": 503,
    "start_time": "2022-03-26T00:13:43.602Z"
   },
   {
    "duration": 13,
    "start_time": "2022-03-26T00:13:44.107Z"
   },
   {
    "duration": 170,
    "start_time": "2022-03-26T00:13:44.121Z"
   },
   {
    "duration": 8,
    "start_time": "2022-03-26T00:13:44.293Z"
   },
   {
    "duration": 21,
    "start_time": "2022-03-26T00:13:44.303Z"
   },
   {
    "duration": 38,
    "start_time": "2022-03-26T00:13:44.326Z"
   },
   {
    "duration": 4,
    "start_time": "2022-03-26T00:13:44.366Z"
   },
   {
    "duration": 4157,
    "start_time": "2022-03-26T00:13:44.372Z"
   },
   {
    "duration": 8,
    "start_time": "2022-03-26T00:13:48.531Z"
   },
   {
    "duration": 40,
    "start_time": "2022-03-26T00:13:48.541Z"
   },
   {
    "duration": 8173,
    "start_time": "2022-03-26T00:13:48.583Z"
   },
   {
    "duration": 18,
    "start_time": "2022-03-26T00:13:56.757Z"
   },
   {
    "duration": 25,
    "start_time": "2022-03-26T00:13:56.777Z"
   },
   {
    "duration": 8,
    "start_time": "2022-03-26T00:13:56.803Z"
   },
   {
    "duration": 5,
    "start_time": "2022-03-26T00:13:56.812Z"
   },
   {
    "duration": 4,
    "start_time": "2022-03-26T00:13:56.819Z"
   },
   {
    "duration": 277,
    "start_time": "2022-03-26T00:13:56.824Z"
   },
   {
    "duration": 28,
    "start_time": "2022-03-26T00:13:57.102Z"
   },
   {
    "duration": 3,
    "start_time": "2022-03-26T00:13:57.132Z"
   },
   {
    "duration": 8,
    "start_time": "2022-03-26T00:13:57.137Z"
   },
   {
    "duration": 10,
    "start_time": "2022-03-26T00:13:57.147Z"
   },
   {
    "duration": 7,
    "start_time": "2022-03-26T00:13:57.158Z"
   },
   {
    "duration": 188,
    "start_time": "2022-03-26T00:13:57.166Z"
   },
   {
    "duration": 170,
    "start_time": "2022-03-26T00:13:57.356Z"
   },
   {
    "duration": 175,
    "start_time": "2022-03-26T00:13:57.528Z"
   },
   {
    "duration": 146,
    "start_time": "2022-03-26T00:13:57.705Z"
   }
  ],
  "kernelspec": {
   "display_name": "Python 3 (ipykernel)",
   "language": "python",
   "name": "python3"
  },
  "language_info": {
   "codemirror_mode": {
    "name": "ipython",
    "version": 3
   },
   "file_extension": ".py",
   "mimetype": "text/x-python",
   "name": "python",
   "nbconvert_exporter": "python",
   "pygments_lexer": "ipython3",
   "version": "3.9.5"
  },
  "toc": {
   "base_numbering": 1,
   "nav_menu": {},
   "number_sections": true,
   "sideBar": true,
   "skip_h1_title": true,
   "title_cell": "Table of Contents",
   "title_sidebar": "Contents",
   "toc_cell": false,
   "toc_position": {},
   "toc_section_display": true,
   "toc_window_display": false
  }
 },
 "nbformat": 4,
 "nbformat_minor": 2
}
